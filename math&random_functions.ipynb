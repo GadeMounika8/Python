{
 "cells": [
  {
   "cell_type": "markdown",
   "id": "b2d572f8",
   "metadata": {},
   "source": [
    "# Pre-Defined Math Functions & Constants:"
   ]
  },
  {
   "cell_type": "markdown",
   "id": "30b0d927",
   "metadata": {},
   "source": [
    "# Built-In Math Functions:-"
   ]
  },
  {
   "cell_type": "markdown",
   "id": "8d7031b2",
   "metadata": {},
   "source": [
    "--> In order to use these Built-In Math Functions, we need to import math module in jupyter notebook.\n",
    "\n",
    "--> We can not use these Math Functions, unless we import math module. Otherwise we will get an error."
   ]
  },
  {
   "cell_type": "markdown",
   "id": "4af87b72",
   "metadata": {},
   "source": [
    "1. ceil(x)\n",
    "\n",
    "2. floor(x)\n",
    "\n",
    "3. fmod(x,y)\n",
    "\n",
    "4. exp(x)\n",
    "\n",
    "5. factorial()\n",
    "\n",
    "6. sqrt(x)\n",
    "\n",
    "7. pow(x,y)\n",
    "\n",
    "8. gcd(x,y)\n",
    "\n",
    "9. copysign(x,y)\n",
    "\n",
    "10. fabs(x)\n",
    "\n",
    "11. fsum(iterable)\n",
    "\n",
    "12. sin(x)\n",
    "\n",
    "13. cos(x)\n",
    "\n",
    "14. tan(x)\n"
   ]
  },
  {
   "cell_type": "markdown",
   "id": "f61f92d4",
   "metadata": {},
   "source": [
    "# Mathemaical Constants:"
   ]
  },
  {
   "cell_type": "markdown",
   "id": "382f041f",
   "metadata": {},
   "source": [
    "--> In order to use these mathematical constants, we need to import math package."
   ]
  },
  {
   "cell_type": "markdown",
   "id": "3eb89f94",
   "metadata": {},
   "source": [
    "1. pi\n",
    "\n",
    "2. e"
   ]
  },
  {
   "cell_type": "markdown",
   "id": "61f234fb",
   "metadata": {},
   "source": [
    "# Random Functions:"
   ]
  },
  {
   "cell_type": "markdown",
   "id": "4643b135",
   "metadata": {},
   "source": [
    "--> In order to implement Random Numbers, we need to import random Package."
   ]
  },
  {
   "cell_type": "markdown",
   "id": "7410aae2",
   "metadata": {},
   "source": [
    "1. choice(seq)\n",
    "\n",
    "2. randrange(start, stop, step)\n",
    "\n",
    "3. random()\n",
    "\n",
    "4. shuffle(list)\n",
    "\n",
    "5. uniform(x,y)\n",
    "\n",
    "6. rand int(a, b)\n",
    "\n",
    "7. get randbits(k)\n"
   ]
  }
 ],
 "metadata": {
  "kernelspec": {
   "display_name": "Python 3 (ipykernel)",
   "language": "python",
   "name": "python3"
  },
  "language_info": {
   "codemirror_mode": {
    "name": "ipython",
    "version": 3
   },
   "file_extension": ".py",
   "mimetype": "text/x-python",
   "name": "python",
   "nbconvert_exporter": "python",
   "pygments_lexer": "ipython3",
   "version": "3.9.13"
  }
 },
 "nbformat": 4,
 "nbformat_minor": 5
}
