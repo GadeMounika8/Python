{
 "cells": [
  {
   "cell_type": "markdown",
   "id": "b3599367",
   "metadata": {},
   "source": [
    "# Strings:"
   ]
  },
  {
   "cell_type": "markdown",
   "id": "91a1f277",
   "metadata": {},
   "source": [
    "--> Strings are nothing but, the order of characters (or) sequence of characters are enclosed in single|double quotes.\n",
    "\n",
    "--> Strings are Immmutable."
   ]
  },
  {
   "cell_type": "markdown",
   "id": "22f97a24",
   "metadata": {},
   "source": [
    "# Creating Strings:"
   ]
  },
  {
   "cell_type": "code",
   "execution_count": 2,
   "id": "0be2f8a8",
   "metadata": {},
   "outputs": [
    {
     "name": "stdout",
     "output_type": "stream",
     "text": [
      "All is Well\n",
      "<class 'str'>\n"
     ]
    }
   ],
   "source": [
    "s = \"All is Well\"\n",
    "print(s)\n",
    "print(type(s))"
   ]
  },
  {
   "cell_type": "markdown",
   "id": "d4c4e835",
   "metadata": {},
   "source": [
    "# Accessing the Elements from the String:"
   ]
  },
  {
   "cell_type": "markdown",
   "id": "287f5a73",
   "metadata": {},
   "source": [
    "# Positive Indexing:"
   ]
  },
  {
   "cell_type": "code",
   "execution_count": 12,
   "id": "29b47702",
   "metadata": {},
   "outputs": [
    {
     "data": {
      "text/plain": [
       "'All is Well'"
      ]
     },
     "execution_count": 12,
     "metadata": {},
     "output_type": "execute_result"
    }
   ],
   "source": [
    "s"
   ]
  },
  {
   "cell_type": "code",
   "execution_count": 13,
   "id": "f786bb50",
   "metadata": {},
   "outputs": [
    {
     "name": "stdout",
     "output_type": "stream",
     "text": [
      "A\n"
     ]
    }
   ],
   "source": [
    "print(s[0])"
   ]
  },
  {
   "cell_type": "code",
   "execution_count": 14,
   "id": "efa37916",
   "metadata": {},
   "outputs": [
    {
     "name": "stdout",
     "output_type": "stream",
     "text": [
      "l\n"
     ]
    }
   ],
   "source": [
    "print(s[2])"
   ]
  },
  {
   "cell_type": "code",
   "execution_count": 15,
   "id": "05cc8c64",
   "metadata": {},
   "outputs": [
    {
     "name": "stdout",
     "output_type": "stream",
     "text": [
      " \n"
     ]
    }
   ],
   "source": [
    "print(s[6])"
   ]
  },
  {
   "cell_type": "code",
   "execution_count": 16,
   "id": "4cf38c9f",
   "metadata": {},
   "outputs": [
    {
     "name": "stdout",
     "output_type": "stream",
     "text": [
      "e\n"
     ]
    }
   ],
   "source": [
    "print(s[8])"
   ]
  },
  {
   "cell_type": "markdown",
   "id": "46f31ce9",
   "metadata": {},
   "source": [
    "# Negative Indexing:"
   ]
  },
  {
   "cell_type": "code",
   "execution_count": 3,
   "id": "75c37e9e",
   "metadata": {},
   "outputs": [
    {
     "name": "stdout",
     "output_type": "stream",
     "text": [
      "l\n"
     ]
    }
   ],
   "source": [
    "print(s[-1])"
   ]
  },
  {
   "cell_type": "code",
   "execution_count": 4,
   "id": "82175e96",
   "metadata": {},
   "outputs": [
    {
     "name": "stdout",
     "output_type": "stream",
     "text": [
      " \n"
     ]
    }
   ],
   "source": [
    "print(s[-5])"
   ]
  },
  {
   "cell_type": "code",
   "execution_count": 6,
   "id": "a1457860",
   "metadata": {},
   "outputs": [
    {
     "name": "stdout",
     "output_type": "stream",
     "text": [
      "l\n"
     ]
    }
   ],
   "source": [
    "print(s[-9])"
   ]
  },
  {
   "cell_type": "code",
   "execution_count": 7,
   "id": "6241ac67",
   "metadata": {},
   "outputs": [
    {
     "name": "stdout",
     "output_type": "stream",
     "text": [
      "W\n"
     ]
    }
   ],
   "source": [
    "print(s[-4])"
   ]
  },
  {
   "cell_type": "markdown",
   "id": "4ce42bb8",
   "metadata": {},
   "source": [
    "   or"
   ]
  },
  {
   "cell_type": "code",
   "execution_count": 10,
   "id": "0c55f33e",
   "metadata": {},
   "outputs": [
    {
     "name": "stdout",
     "output_type": "stream",
     "text": [
      "W\n"
     ]
    }
   ],
   "source": [
    "print(s[7])"
   ]
  },
  {
   "cell_type": "code",
   "execution_count": 13,
   "id": "92cd6dd8",
   "metadata": {},
   "outputs": [
    {
     "name": "stdout",
     "output_type": "stream",
     "text": [
      "i\n"
     ]
    }
   ],
   "source": [
    "print(s[-7])"
   ]
  },
  {
   "cell_type": "markdown",
   "id": "d92891d3",
   "metadata": {},
   "source": [
    "# Slicing:"
   ]
  },
  {
   "cell_type": "code",
   "execution_count": 8,
   "id": "9883a64e",
   "metadata": {},
   "outputs": [
    {
     "name": "stdout",
     "output_type": "stream",
     "text": [
      "All is Well\n"
     ]
    }
   ],
   "source": [
    "s = \"All is Well\"\n",
    "print(s[0:])"
   ]
  },
  {
   "cell_type": "markdown",
   "id": "f0c0220e",
   "metadata": {},
   "source": [
    "       or"
   ]
  },
  {
   "cell_type": "code",
   "execution_count": 9,
   "id": "ee36b60a",
   "metadata": {},
   "outputs": [
    {
     "name": "stdout",
     "output_type": "stream",
     "text": [
      "All is Well\n"
     ]
    }
   ],
   "source": [
    "s = \"All is Well\"\n",
    "print(s[:])"
   ]
  },
  {
   "cell_type": "markdown",
   "id": "9695fac4",
   "metadata": {},
   "source": [
    "      or"
   ]
  },
  {
   "cell_type": "code",
   "execution_count": 10,
   "id": "3199a2b4",
   "metadata": {},
   "outputs": [
    {
     "name": "stdout",
     "output_type": "stream",
     "text": [
      "All is Well\n"
     ]
    }
   ],
   "source": [
    "s = \"All is Well\"\n",
    "print(s[:len(s)])"
   ]
  },
  {
   "cell_type": "markdown",
   "id": "65420e1b",
   "metadata": {},
   "source": [
    "      or"
   ]
  },
  {
   "cell_type": "code",
   "execution_count": 11,
   "id": "aaef94dd",
   "metadata": {},
   "outputs": [
    {
     "name": "stdout",
     "output_type": "stream",
     "text": [
      "All is Well\n"
     ]
    }
   ],
   "source": [
    "s = \"All is Well\"\n",
    "print(s[0:len(s)])"
   ]
  },
  {
   "cell_type": "code",
   "execution_count": 17,
   "id": "17ef6881",
   "metadata": {},
   "outputs": [
    {
     "name": "stdout",
     "output_type": "stream",
     "text": [
      "All\n"
     ]
    }
   ],
   "source": [
    "s = \"All is Well\"\n",
    "print(s[0:3])"
   ]
  },
  {
   "cell_type": "code",
   "execution_count": 18,
   "id": "aa43db1d",
   "metadata": {},
   "outputs": [
    {
     "name": "stdout",
     "output_type": "stream",
     "text": [
      "Well\n"
     ]
    }
   ],
   "source": [
    "s = \"All is Well\"\n",
    "print(s[7:11])"
   ]
  },
  {
   "cell_type": "code",
   "execution_count": 19,
   "id": "f066b136",
   "metadata": {},
   "outputs": [
    {
     "name": "stdout",
     "output_type": "stream",
     "text": [
      "is Well\n"
     ]
    }
   ],
   "source": [
    "s = \"All is Well\"\n",
    "print(s[4:11])"
   ]
  },
  {
   "cell_type": "code",
   "execution_count": 20,
   "id": "e84f9c72",
   "metadata": {},
   "outputs": [
    {
     "name": "stdout",
     "output_type": "stream",
     "text": [
      "i\n"
     ]
    }
   ],
   "source": [
    "s = \"All is Well\"\n",
    "print(s[4:5])"
   ]
  },
  {
   "cell_type": "code",
   "execution_count": 14,
   "id": "1dea78ba",
   "metadata": {},
   "outputs": [
    {
     "name": "stdout",
     "output_type": "stream",
     "text": [
      "All is Well\n"
     ]
    }
   ],
   "source": [
    "s = \"All is Well\"\n",
    "print(s)"
   ]
  },
  {
   "cell_type": "code",
   "execution_count": 15,
   "id": "eb6ec222",
   "metadata": {},
   "outputs": [
    {
     "name": "stdout",
     "output_type": "stream",
     "text": [
      "Ali el\n"
     ]
    }
   ],
   "source": [
    "print(s[::2])"
   ]
  },
  {
   "cell_type": "code",
   "execution_count": 17,
   "id": "42ee2366",
   "metadata": {},
   "outputs": [
    {
     "name": "stdout",
     "output_type": "stream",
     "text": [
      "l s\n"
     ]
    }
   ],
   "source": [
    "print(s[1:6:2])"
   ]
  },
  {
   "cell_type": "code",
   "execution_count": 18,
   "id": "f6f30cef",
   "metadata": {},
   "outputs": [
    {
     "name": "stdout",
     "output_type": "stream",
     "text": [
      "All is Well\n"
     ]
    }
   ],
   "source": [
    "s = \"All is Well\"\n",
    "print(s)"
   ]
  },
  {
   "cell_type": "code",
   "execution_count": 19,
   "id": "d743203e",
   "metadata": {},
   "outputs": [
    {
     "name": "stdout",
     "output_type": "stream",
     "text": [
      "lleW si llA\n"
     ]
    }
   ],
   "source": [
    "print(s[::-1])"
   ]
  },
  {
   "cell_type": "code",
   "execution_count": 20,
   "id": "54166660",
   "metadata": {},
   "outputs": [
    {
     "name": "stdout",
     "output_type": "stream",
     "text": [
      "le ilA\n"
     ]
    }
   ],
   "source": [
    "print(s[::-2])"
   ]
  },
  {
   "cell_type": "code",
   "execution_count": 22,
   "id": "a883f7fb",
   "metadata": {},
   "outputs": [
    {
     "name": "stdout",
     "output_type": "stream",
     "text": [
      " l\n"
     ]
    }
   ],
   "source": [
    "print(s[-8::-2])"
   ]
  },
  {
   "cell_type": "code",
   "execution_count": 25,
   "id": "ab9dd7eb",
   "metadata": {},
   "outputs": [
    {
     "name": "stdout",
     "output_type": "stream",
     "text": [
      "le\n"
     ]
    }
   ],
   "source": [
    "print(s[:-4:-2])"
   ]
  },
  {
   "cell_type": "code",
   "execution_count": 30,
   "id": "d223d300",
   "metadata": {},
   "outputs": [
    {
     "name": "stdout",
     "output_type": "stream",
     "text": [
      "ll is W\n"
     ]
    }
   ],
   "source": [
    "print(s[-10:-3])"
   ]
  },
  {
   "cell_type": "markdown",
   "id": "8701210b",
   "metadata": {},
   "source": [
    "# Reassigning the new elements to the Existing String:"
   ]
  },
  {
   "cell_type": "markdown",
   "id": "b73b52e1",
   "metadata": {},
   "source": [
    "--> reassignment is not possible because String is Immutable."
   ]
  },
  {
   "cell_type": "code",
   "execution_count": 55,
   "id": "20581c79",
   "metadata": {},
   "outputs": [
    {
     "ename": "TypeError",
     "evalue": "'str' object does not support item assignment",
     "output_type": "error",
     "traceback": [
      "\u001b[1;31m---------------------------------------------------------------------------\u001b[0m",
      "\u001b[1;31mTypeError\u001b[0m                                 Traceback (most recent call last)",
      "\u001b[1;32m~\\AppData\\Local\\Temp\\ipykernel_25256\\2789973862.py\u001b[0m in \u001b[0;36m<module>\u001b[1;34m\u001b[0m\n\u001b[0;32m      1\u001b[0m \u001b[0ms\u001b[0m \u001b[1;33m=\u001b[0m \u001b[1;34m\"All is Well\"\u001b[0m\u001b[1;33m\u001b[0m\u001b[1;33m\u001b[0m\u001b[0m\n\u001b[1;32m----> 2\u001b[1;33m \u001b[0ms\u001b[0m\u001b[1;33m[\u001b[0m\u001b[1;36m0\u001b[0m\u001b[1;33m]\u001b[0m \u001b[1;33m=\u001b[0m \u001b[1;34m'a'\u001b[0m\u001b[1;33m\u001b[0m\u001b[1;33m\u001b[0m\u001b[0m\n\u001b[0m\u001b[0;32m      3\u001b[0m \u001b[0mprint\u001b[0m\u001b[1;33m(\u001b[0m\u001b[0ms\u001b[0m\u001b[1;33m)\u001b[0m\u001b[1;33m\u001b[0m\u001b[1;33m\u001b[0m\u001b[0m\n",
      "\u001b[1;31mTypeError\u001b[0m: 'str' object does not support item assignment"
     ]
    }
   ],
   "source": [
    "s = \"All is Well\"\n",
    "s[0] = 'a'\n",
    "print(s)"
   ]
  },
  {
   "cell_type": "markdown",
   "id": "2e651249",
   "metadata": {},
   "source": [
    "# Basic Operations:"
   ]
  },
  {
   "cell_type": "markdown",
   "id": "e4823d86",
   "metadata": {},
   "source": [
    "--> +, *, len, min, max, membership operator, Iterations. "
   ]
  },
  {
   "cell_type": "markdown",
   "id": "8805815b",
   "metadata": {},
   "source": [
    "# concatenation (+):"
   ]
  },
  {
   "cell_type": "code",
   "execution_count": 23,
   "id": "c92b5db6",
   "metadata": {},
   "outputs": [
    {
     "name": "stdout",
     "output_type": "stream",
     "text": [
      "God is Great\n"
     ]
    }
   ],
   "source": [
    "S1 = 'God'\n",
    "S2 = 'is Great'\n",
    "S = S1 + ' '+ S2\n",
    "print(S)"
   ]
  },
  {
   "cell_type": "markdown",
   "id": "18048012",
   "metadata": {},
   "source": [
    "      or"
   ]
  },
  {
   "cell_type": "code",
   "execution_count": 24,
   "id": "4731cdd5",
   "metadata": {},
   "outputs": [
    {
     "name": "stdout",
     "output_type": "stream",
     "text": [
      "God is Great\n"
     ]
    }
   ],
   "source": [
    "S1 = 'God '\n",
    "S2 = 'is Great'\n",
    "S = S1 + S2\n",
    "print(S)"
   ]
  },
  {
   "cell_type": "markdown",
   "id": "77564c91",
   "metadata": {},
   "source": [
    "     or"
   ]
  },
  {
   "cell_type": "code",
   "execution_count": 25,
   "id": "6dd0aa59",
   "metadata": {},
   "outputs": [
    {
     "name": "stdout",
     "output_type": "stream",
     "text": [
      "God is Great\n"
     ]
    }
   ],
   "source": [
    "S1 = 'God'\n",
    "S2 = ' is Great'\n",
    "S = S1 + S2\n",
    "print(S)"
   ]
  },
  {
   "cell_type": "markdown",
   "id": "f449a7d2",
   "metadata": {},
   "source": [
    "# Repetition (*):"
   ]
  },
  {
   "cell_type": "code",
   "execution_count": 28,
   "id": "d82fa1fb",
   "metadata": {},
   "outputs": [
    {
     "name": "stdout",
     "output_type": "stream",
     "text": [
      "GodGodGod\n"
     ]
    }
   ],
   "source": [
    "S1 = 'God'\n",
    "S = S1 * 3\n",
    "print(S)"
   ]
  },
  {
   "cell_type": "markdown",
   "id": "f1e59e9c",
   "metadata": {},
   "source": [
    "    or"
   ]
  },
  {
   "cell_type": "code",
   "execution_count": 29,
   "id": "d1302cbd",
   "metadata": {},
   "outputs": [
    {
     "name": "stdout",
     "output_type": "stream",
     "text": [
      "GodGodGod\n"
     ]
    }
   ],
   "source": [
    "S1 = 'God'\n",
    "S2 = 3\n",
    "S = S1 * S2\n",
    "print(S)"
   ]
  },
  {
   "cell_type": "markdown",
   "id": "86545b6a",
   "metadata": {},
   "source": [
    "# len():"
   ]
  },
  {
   "cell_type": "code",
   "execution_count": 30,
   "id": "17c779ec",
   "metadata": {},
   "outputs": [
    {
     "name": "stdout",
     "output_type": "stream",
     "text": [
      "22\n"
     ]
    }
   ],
   "source": [
    "S3 = 'Everything is Possible'\n",
    "print(len(S3))"
   ]
  },
  {
   "cell_type": "markdown",
   "id": "33f50889",
   "metadata": {},
   "source": [
    "# min():"
   ]
  },
  {
   "cell_type": "code",
   "execution_count": 41,
   "id": "d3eace24",
   "metadata": {},
   "outputs": [
    {
     "name": "stdout",
     "output_type": "stream",
     "text": [
      " \n"
     ]
    }
   ],
   "source": [
    "S3 = 'Everything is Possible'\n",
    "print(min(S3))"
   ]
  },
  {
   "cell_type": "markdown",
   "id": "1d02e0db",
   "metadata": {},
   "source": [
    "# max():"
   ]
  },
  {
   "cell_type": "code",
   "execution_count": 38,
   "id": "f5f6c089",
   "metadata": {},
   "outputs": [
    {
     "name": "stdout",
     "output_type": "stream",
     "text": [
      "y\n"
     ]
    }
   ],
   "source": [
    "S3 = 'Everything is Possible'\n",
    "print(max(S3))"
   ]
  },
  {
   "cell_type": "code",
   "execution_count": 42,
   "id": "d41368aa",
   "metadata": {},
   "outputs": [
    {
     "name": "stdout",
     "output_type": "stream",
     "text": [
      "True\n"
     ]
    }
   ],
   "source": [
    "S3 = 'Everything is Possible'\n",
    "print('P' in S3)"
   ]
  },
  {
   "cell_type": "code",
   "execution_count": 43,
   "id": "74990044",
   "metadata": {},
   "outputs": [
    {
     "name": "stdout",
     "output_type": "stream",
     "text": [
      "False\n"
     ]
    }
   ],
   "source": [
    "S3 = 'Everything is Possible'\n",
    "print('p' in S3)"
   ]
  },
  {
   "cell_type": "code",
   "execution_count": 44,
   "id": "713d95fe",
   "metadata": {},
   "outputs": [
    {
     "name": "stdout",
     "output_type": "stream",
     "text": [
      "False\n"
     ]
    }
   ],
   "source": [
    "S3 = 'Everything is Possible'\n",
    "print('O' in S3)"
   ]
  },
  {
   "cell_type": "code",
   "execution_count": 45,
   "id": "c5f97379",
   "metadata": {},
   "outputs": [
    {
     "name": "stdout",
     "output_type": "stream",
     "text": [
      "True\n"
     ]
    }
   ],
   "source": [
    "S3 = 'Everything is Possible'\n",
    "print('v' in S3)"
   ]
  },
  {
   "cell_type": "code",
   "execution_count": 46,
   "id": "f145468a",
   "metadata": {},
   "outputs": [
    {
     "name": "stdout",
     "output_type": "stream",
     "text": [
      "True\n"
     ]
    }
   ],
   "source": [
    "S3 = 'Everything is Possible'\n",
    "print('is' in S3)"
   ]
  },
  {
   "cell_type": "code",
   "execution_count": 47,
   "id": "7a4081cc",
   "metadata": {},
   "outputs": [
    {
     "name": "stdout",
     "output_type": "stream",
     "text": [
      "True\n"
     ]
    }
   ],
   "source": [
    "S3 = 'Everything is Possible'\n",
    "print('Possible' in S3)"
   ]
  },
  {
   "cell_type": "code",
   "execution_count": 48,
   "id": "4360ba2e",
   "metadata": {},
   "outputs": [
    {
     "name": "stdout",
     "output_type": "stream",
     "text": [
      "False\n"
     ]
    }
   ],
   "source": [
    "S3 = 'Everything is Possible'\n",
    "print('possible' in S3)"
   ]
  },
  {
   "cell_type": "code",
   "execution_count": 49,
   "id": "7073aba3",
   "metadata": {},
   "outputs": [
    {
     "name": "stdout",
     "output_type": "stream",
     "text": [
      "True\n"
     ]
    }
   ],
   "source": [
    "S3 = 'Everything is Possible'\n",
    "print('thing' in S3)"
   ]
  },
  {
   "cell_type": "markdown",
   "id": "7488468e",
   "metadata": {},
   "source": [
    "# Iterative Statement:"
   ]
  },
  {
   "cell_type": "code",
   "execution_count": 50,
   "id": "ec9a34da",
   "metadata": {},
   "outputs": [
    {
     "name": "stdout",
     "output_type": "stream",
     "text": [
      "E\n",
      "v\n",
      "e\n",
      "r\n",
      "y\n",
      "t\n",
      "h\n",
      "i\n",
      "n\n",
      "g\n",
      " \n",
      "i\n",
      "s\n",
      " \n",
      "P\n",
      "o\n",
      "s\n",
      "s\n",
      "i\n",
      "b\n",
      "l\n",
      "e\n"
     ]
    }
   ],
   "source": [
    "S3 = 'Everything is Possible'\n",
    "for char in S3:\n",
    "    print(char)"
   ]
  },
  {
   "cell_type": "markdown",
   "id": "abb20e34",
   "metadata": {},
   "source": [
    "# Built-In-Methods:"
   ]
  },
  {
   "cell_type": "markdown",
   "id": "5301f9a8",
   "metadata": {},
   "source": [
    "1. capitalize()\n",
    "\n",
    "2. center()\n",
    "\n",
    "3. count()\n",
    "\n",
    "4. endswith()\n",
    "\n",
    "5. startswith()\n",
    "\n",
    "6. index()\n",
    "\n",
    "7. rindex()\n",
    "\n",
    "8. find()\n",
    "\n",
    "9.  rfind()\n",
    "\n",
    "10. ljust()\n",
    "\n",
    "11. rjust()\n",
    "\n",
    "12. strip()\n",
    "\n",
    "13. lstrip()\n",
    "\n",
    "14. rstrip()\n",
    "\n",
    "15. replace()\n",
    "\n",
    "16. split()\n",
    "\n",
    "17. swapcase()\n",
    "\n",
    "18. zfill()\n",
    "\n",
    "19. title()\n",
    "\n",
    "20. istitle()\n",
    "\n",
    "21. lower()\n",
    "\n",
    "22. islower()\n",
    "\n",
    "23. upper()\n",
    "\n",
    "24. isupper()\n",
    "\n",
    "25. isalnum()\n",
    "\n",
    "26. isalpha()\n",
    "\n",
    "27. isdigit()\n",
    "\n",
    "28. isspace()"
   ]
  },
  {
   "cell_type": "markdown",
   "id": "7286686a",
   "metadata": {},
   "source": [
    "# capitalize():"
   ]
  },
  {
   "cell_type": "code",
   "execution_count": 1,
   "id": "5b30249e",
   "metadata": {},
   "outputs": [],
   "source": [
    "S = 'Silence is the Powerful Tool for Every Problem'"
   ]
  },
  {
   "cell_type": "code",
   "execution_count": 2,
   "id": "ee766f06",
   "metadata": {},
   "outputs": [
    {
     "data": {
      "text/plain": [
       "'Silence is the powerful tool for every problem'"
      ]
     },
     "execution_count": 2,
     "metadata": {},
     "output_type": "execute_result"
    }
   ],
   "source": [
    "S.capitalize()"
   ]
  },
  {
   "cell_type": "markdown",
   "id": "333c14e0",
   "metadata": {},
   "source": [
    "# center():"
   ]
  },
  {
   "cell_type": "code",
   "execution_count": 6,
   "id": "2a808a75",
   "metadata": {},
   "outputs": [
    {
     "data": {
      "text/plain": [
       "'  Silence is the Powerful Tool for Every Problem  '"
      ]
     },
     "execution_count": 6,
     "metadata": {},
     "output_type": "execute_result"
    }
   ],
   "source": [
    "S.center(50,\" \")"
   ]
  },
  {
   "cell_type": "code",
   "execution_count": 8,
   "id": "ac3ed514",
   "metadata": {},
   "outputs": [
    {
     "data": {
      "text/plain": [
       "'####Silence is the Powerful Tool for Every Problem###'"
      ]
     },
     "execution_count": 8,
     "metadata": {},
     "output_type": "execute_result"
    }
   ],
   "source": [
    "S.center(53,\"#\")"
   ]
  },
  {
   "cell_type": "markdown",
   "id": "7ecd82c3",
   "metadata": {},
   "source": [
    "# count():"
   ]
  },
  {
   "cell_type": "code",
   "execution_count": 9,
   "id": "8fce5969",
   "metadata": {},
   "outputs": [
    {
     "data": {
      "text/plain": [
       "2"
      ]
     },
     "execution_count": 9,
     "metadata": {},
     "output_type": "execute_result"
    }
   ],
   "source": [
    "S.count('i')"
   ]
  },
  {
   "cell_type": "code",
   "execution_count": 10,
   "id": "a3859465",
   "metadata": {},
   "outputs": [
    {
     "data": {
      "text/plain": [
       "6"
      ]
     },
     "execution_count": 10,
     "metadata": {},
     "output_type": "execute_result"
    }
   ],
   "source": [
    "S.count('e')"
   ]
  },
  {
   "cell_type": "code",
   "execution_count": 11,
   "id": "de5866cf",
   "metadata": {},
   "outputs": [
    {
     "data": {
      "text/plain": [
       "3"
      ]
     },
     "execution_count": 11,
     "metadata": {},
     "output_type": "execute_result"
    }
   ],
   "source": [
    "S.count('e', 15)"
   ]
  },
  {
   "cell_type": "markdown",
   "id": "decb5ddc",
   "metadata": {},
   "source": [
    "    or"
   ]
  },
  {
   "cell_type": "code",
   "execution_count": 12,
   "id": "872b57fd",
   "metadata": {},
   "outputs": [
    {
     "data": {
      "text/plain": [
       "3"
      ]
     },
     "execution_count": 12,
     "metadata": {},
     "output_type": "execute_result"
    }
   ],
   "source": [
    "S.count('e',15,len(S))"
   ]
  },
  {
   "cell_type": "code",
   "execution_count": 13,
   "id": "1a809258",
   "metadata": {},
   "outputs": [
    {
     "data": {
      "text/plain": [
       "1"
      ]
     },
     "execution_count": 13,
     "metadata": {},
     "output_type": "execute_result"
    }
   ],
   "source": [
    "S.count('is')"
   ]
  },
  {
   "cell_type": "code",
   "execution_count": 14,
   "id": "0fc7f55b",
   "metadata": {},
   "outputs": [
    {
     "data": {
      "text/plain": [
       "1"
      ]
     },
     "execution_count": 14,
     "metadata": {},
     "output_type": "execute_result"
    }
   ],
   "source": [
    "S.count('Si')"
   ]
  },
  {
   "cell_type": "code",
   "execution_count": 15,
   "id": "12a2cd91",
   "metadata": {},
   "outputs": [
    {
     "data": {
      "text/plain": [
       "0"
      ]
     },
     "execution_count": 15,
     "metadata": {},
     "output_type": "execute_result"
    }
   ],
   "source": [
    "S.count('si')"
   ]
  },
  {
   "cell_type": "markdown",
   "id": "fb03a966",
   "metadata": {},
   "source": [
    "# startswith():"
   ]
  },
  {
   "cell_type": "code",
   "execution_count": 16,
   "id": "c54fdd73",
   "metadata": {},
   "outputs": [
    {
     "data": {
      "text/plain": [
       "True"
      ]
     },
     "execution_count": 16,
     "metadata": {},
     "output_type": "execute_result"
    }
   ],
   "source": [
    "S.startswith('Si')"
   ]
  },
  {
   "cell_type": "code",
   "execution_count": 21,
   "id": "cea60855",
   "metadata": {},
   "outputs": [
    {
     "data": {
      "text/plain": [
       "True"
      ]
     },
     "execution_count": 21,
     "metadata": {},
     "output_type": "execute_result"
    }
   ],
   "source": [
    "S.startswith('Silence')"
   ]
  },
  {
   "cell_type": "code",
   "execution_count": 17,
   "id": "f574eedd",
   "metadata": {},
   "outputs": [
    {
     "data": {
      "text/plain": [
       "False"
      ]
     },
     "execution_count": 17,
     "metadata": {},
     "output_type": "execute_result"
    }
   ],
   "source": [
    "S.startswith('si')"
   ]
  },
  {
   "cell_type": "code",
   "execution_count": 23,
   "id": "8cc127b7",
   "metadata": {},
   "outputs": [
    {
     "data": {
      "text/plain": [
       "True"
      ]
     },
     "execution_count": 23,
     "metadata": {},
     "output_type": "execute_result"
    }
   ],
   "source": [
    "S.startswith(\"Si\",0,len(S))"
   ]
  },
  {
   "cell_type": "code",
   "execution_count": 24,
   "id": "26b61926",
   "metadata": {},
   "outputs": [
    {
     "data": {
      "text/plain": [
       "False"
      ]
     },
     "execution_count": 24,
     "metadata": {},
     "output_type": "execute_result"
    }
   ],
   "source": [
    "S.startswith(\"Si\",7,len(S))"
   ]
  },
  {
   "cell_type": "code",
   "execution_count": 25,
   "id": "4291c370",
   "metadata": {},
   "outputs": [
    {
     "data": {
      "text/plain": [
       "True"
      ]
     },
     "execution_count": 25,
     "metadata": {},
     "output_type": "execute_result"
    }
   ],
   "source": [
    "S.startswith(\"Powerful\", 15 , len(S))"
   ]
  },
  {
   "cell_type": "markdown",
   "id": "fe660d3e",
   "metadata": {},
   "source": [
    "        or"
   ]
  },
  {
   "cell_type": "code",
   "execution_count": 27,
   "id": "a2c217ee",
   "metadata": {},
   "outputs": [
    {
     "data": {
      "text/plain": [
       "True"
      ]
     },
     "execution_count": 27,
     "metadata": {},
     "output_type": "execute_result"
    }
   ],
   "source": [
    "S.startswith(\"Powerful\", 15 , 23)"
   ]
  },
  {
   "cell_type": "code",
   "execution_count": 28,
   "id": "ddf0a893",
   "metadata": {},
   "outputs": [
    {
     "data": {
      "text/plain": [
       "False"
      ]
     },
     "execution_count": 28,
     "metadata": {},
     "output_type": "execute_result"
    }
   ],
   "source": [
    "S.startswith(\"Powerful\", 15 , 22)"
   ]
  },
  {
   "cell_type": "markdown",
   "id": "4abbf0c6",
   "metadata": {},
   "source": [
    "# endswith():"
   ]
  },
  {
   "cell_type": "code",
   "execution_count": 29,
   "id": "f616754a",
   "metadata": {},
   "outputs": [
    {
     "data": {
      "text/plain": [
       "True"
      ]
     },
     "execution_count": 29,
     "metadata": {},
     "output_type": "execute_result"
    }
   ],
   "source": [
    "S.endswith(\"Problem\", 39, len(S))"
   ]
  },
  {
   "cell_type": "markdown",
   "id": "1e4dd612",
   "metadata": {},
   "source": [
    "        or"
   ]
  },
  {
   "cell_type": "code",
   "execution_count": 30,
   "id": "38b5fa85",
   "metadata": {},
   "outputs": [
    {
     "data": {
      "text/plain": [
       "True"
      ]
     },
     "execution_count": 30,
     "metadata": {},
     "output_type": "execute_result"
    }
   ],
   "source": [
    "S.endswith(\"Problem\", 39)"
   ]
  },
  {
   "cell_type": "markdown",
   "id": "0c053e6f",
   "metadata": {},
   "source": [
    "    or"
   ]
  },
  {
   "cell_type": "code",
   "execution_count": 31,
   "id": "ac450148",
   "metadata": {},
   "outputs": [
    {
     "data": {
      "text/plain": [
       "True"
      ]
     },
     "execution_count": 31,
     "metadata": {},
     "output_type": "execute_result"
    }
   ],
   "source": [
    "S.endswith(\"Problem\", 39, 46)"
   ]
  },
  {
   "cell_type": "code",
   "execution_count": 32,
   "id": "5b404a66",
   "metadata": {},
   "outputs": [
    {
     "data": {
      "text/plain": [
       "False"
      ]
     },
     "execution_count": 32,
     "metadata": {},
     "output_type": "execute_result"
    }
   ],
   "source": [
    "S.endswith(\"Problem\", 39, 45)"
   ]
  },
  {
   "cell_type": "code",
   "execution_count": 19,
   "id": "3d468fe0",
   "metadata": {},
   "outputs": [
    {
     "data": {
      "text/plain": [
       "True"
      ]
     },
     "execution_count": 19,
     "metadata": {},
     "output_type": "execute_result"
    }
   ],
   "source": [
    "S.endswith('Problem')"
   ]
  },
  {
   "cell_type": "code",
   "execution_count": 20,
   "id": "2d6e0f87",
   "metadata": {},
   "outputs": [
    {
     "data": {
      "text/plain": [
       "True"
      ]
     },
     "execution_count": 20,
     "metadata": {},
     "output_type": "execute_result"
    }
   ],
   "source": [
    "S.endswith('lem')"
   ]
  },
  {
   "cell_type": "code",
   "execution_count": 22,
   "id": "42ad2890",
   "metadata": {},
   "outputs": [
    {
     "data": {
      "text/plain": [
       "False"
      ]
     },
     "execution_count": 22,
     "metadata": {},
     "output_type": "execute_result"
    }
   ],
   "source": [
    "S.endswith('ing')"
   ]
  },
  {
   "cell_type": "markdown",
   "id": "4f208828",
   "metadata": {},
   "source": [
    "# find():"
   ]
  },
  {
   "cell_type": "code",
   "execution_count": 33,
   "id": "fdcdb6af",
   "metadata": {},
   "outputs": [
    {
     "data": {
      "text/plain": [
       "3"
      ]
     },
     "execution_count": 33,
     "metadata": {},
     "output_type": "execute_result"
    }
   ],
   "source": [
    "S.find('e')"
   ]
  },
  {
   "cell_type": "code",
   "execution_count": 37,
   "id": "990eae06",
   "metadata": {},
   "outputs": [
    {
     "data": {
      "text/plain": [
       "1"
      ]
     },
     "execution_count": 37,
     "metadata": {},
     "output_type": "execute_result"
    }
   ],
   "source": [
    "S.find('i')"
   ]
  },
  {
   "cell_type": "markdown",
   "id": "ddc9cf4b",
   "metadata": {},
   "source": [
    "# rfind():"
   ]
  },
  {
   "cell_type": "code",
   "execution_count": 34,
   "id": "b2c8efba",
   "metadata": {},
   "outputs": [
    {
     "data": {
      "text/plain": [
       "44"
      ]
     },
     "execution_count": 34,
     "metadata": {},
     "output_type": "execute_result"
    }
   ],
   "source": [
    "S.rfind('e')"
   ]
  },
  {
   "cell_type": "code",
   "execution_count": 36,
   "id": "c98a2097",
   "metadata": {},
   "outputs": [
    {
     "data": {
      "text/plain": [
       "8"
      ]
     },
     "execution_count": 36,
     "metadata": {},
     "output_type": "execute_result"
    }
   ],
   "source": [
    "S.rfind('i')"
   ]
  },
  {
   "cell_type": "markdown",
   "id": "e291f95d",
   "metadata": {},
   "source": [
    "# index():"
   ]
  },
  {
   "cell_type": "code",
   "execution_count": 38,
   "id": "2b2805f1",
   "metadata": {},
   "outputs": [
    {
     "data": {
      "text/plain": [
       "1"
      ]
     },
     "execution_count": 38,
     "metadata": {},
     "output_type": "execute_result"
    }
   ],
   "source": [
    "S.index('i')"
   ]
  },
  {
   "cell_type": "code",
   "execution_count": 39,
   "id": "11b8e9ef",
   "metadata": {},
   "outputs": [
    {
     "data": {
      "text/plain": [
       "3"
      ]
     },
     "execution_count": 39,
     "metadata": {},
     "output_type": "execute_result"
    }
   ],
   "source": [
    "S.index('e')"
   ]
  },
  {
   "cell_type": "code",
   "execution_count": 40,
   "id": "e1416f0a",
   "metadata": {},
   "outputs": [
    {
     "data": {
      "text/plain": [
       "15"
      ]
     },
     "execution_count": 40,
     "metadata": {},
     "output_type": "execute_result"
    }
   ],
   "source": [
    "S.index('P')"
   ]
  },
  {
   "cell_type": "code",
   "execution_count": 41,
   "id": "7c06a9c6",
   "metadata": {},
   "outputs": [
    {
     "data": {
      "text/plain": [
       "0"
      ]
     },
     "execution_count": 41,
     "metadata": {},
     "output_type": "execute_result"
    }
   ],
   "source": [
    "S.index('S')"
   ]
  },
  {
   "cell_type": "code",
   "execution_count": 42,
   "id": "4887fe54",
   "metadata": {},
   "outputs": [
    {
     "data": {
      "text/plain": [
       "4"
      ]
     },
     "execution_count": 42,
     "metadata": {},
     "output_type": "execute_result"
    }
   ],
   "source": [
    "S.index('n')"
   ]
  },
  {
   "cell_type": "code",
   "execution_count": 43,
   "id": "9d1f219b",
   "metadata": {},
   "outputs": [
    {
     "data": {
      "text/plain": [
       "17"
      ]
     },
     "execution_count": 43,
     "metadata": {},
     "output_type": "execute_result"
    }
   ],
   "source": [
    "S.index('w')"
   ]
  },
  {
   "cell_type": "code",
   "execution_count": 44,
   "id": "b66cc413",
   "metadata": {},
   "outputs": [
    {
     "data": {
      "text/plain": [
       "42"
      ]
     },
     "execution_count": 44,
     "metadata": {},
     "output_type": "execute_result"
    }
   ],
   "source": [
    "S.index('b')"
   ]
  },
  {
   "cell_type": "code",
   "execution_count": 45,
   "id": "f6c2ae76",
   "metadata": {},
   "outputs": [
    {
     "ename": "ValueError",
     "evalue": "substring not found",
     "output_type": "error",
     "traceback": [
      "\u001b[1;31m---------------------------------------------------------------------------\u001b[0m",
      "\u001b[1;31mValueError\u001b[0m                                Traceback (most recent call last)",
      "\u001b[1;32m~\\AppData\\Local\\Temp\\ipykernel_21836\\3641327850.py\u001b[0m in \u001b[0;36m<module>\u001b[1;34m\u001b[0m\n\u001b[1;32m----> 1\u001b[1;33m \u001b[0mS\u001b[0m\u001b[1;33m.\u001b[0m\u001b[0mindex\u001b[0m\u001b[1;33m(\u001b[0m\u001b[1;34m'B'\u001b[0m\u001b[1;33m)\u001b[0m\u001b[1;33m\u001b[0m\u001b[1;33m\u001b[0m\u001b[0m\n\u001b[0m",
      "\u001b[1;31mValueError\u001b[0m: substring not found"
     ]
    }
   ],
   "source": [
    "S.index('B')"
   ]
  },
  {
   "cell_type": "markdown",
   "id": "e360224d",
   "metadata": {},
   "source": [
    "# isalnum():"
   ]
  },
  {
   "cell_type": "code",
   "execution_count": 46,
   "id": "1b054418",
   "metadata": {},
   "outputs": [],
   "source": [
    "S1 = 'abc6789RS'"
   ]
  },
  {
   "cell_type": "code",
   "execution_count": 47,
   "id": "c160843a",
   "metadata": {},
   "outputs": [
    {
     "data": {
      "text/plain": [
       "True"
      ]
     },
     "execution_count": 47,
     "metadata": {},
     "output_type": "execute_result"
    }
   ],
   "source": [
    "S1.isalnum()"
   ]
  },
  {
   "cell_type": "markdown",
   "id": "c5e747d2",
   "metadata": {},
   "source": [
    "# isalpha():"
   ]
  },
  {
   "cell_type": "code",
   "execution_count": 48,
   "id": "04b96e9a",
   "metadata": {},
   "outputs": [
    {
     "data": {
      "text/plain": [
       "False"
      ]
     },
     "execution_count": 48,
     "metadata": {},
     "output_type": "execute_result"
    }
   ],
   "source": [
    "S1.isalpha()"
   ]
  },
  {
   "cell_type": "markdown",
   "id": "0dc053a1",
   "metadata": {},
   "source": [
    "# isdigit():"
   ]
  },
  {
   "cell_type": "code",
   "execution_count": 61,
   "id": "35ea24c8",
   "metadata": {},
   "outputs": [
    {
     "data": {
      "text/plain": [
       "False"
      ]
     },
     "execution_count": 61,
     "metadata": {},
     "output_type": "execute_result"
    }
   ],
   "source": [
    "S1.isdigit()"
   ]
  },
  {
   "cell_type": "markdown",
   "id": "c906e4fa",
   "metadata": {},
   "source": [
    "# islower():"
   ]
  },
  {
   "cell_type": "code",
   "execution_count": 66,
   "id": "27af16d4",
   "metadata": {},
   "outputs": [
    {
     "data": {
      "text/plain": [
       "False"
      ]
     },
     "execution_count": 66,
     "metadata": {},
     "output_type": "execute_result"
    }
   ],
   "source": [
    "S1.islower()"
   ]
  },
  {
   "cell_type": "markdown",
   "id": "849ff749",
   "metadata": {},
   "source": [
    "# isupper():"
   ]
  },
  {
   "cell_type": "code",
   "execution_count": 74,
   "id": "b8f84c27",
   "metadata": {},
   "outputs": [
    {
     "data": {
      "text/plain": [
       "False"
      ]
     },
     "execution_count": 74,
     "metadata": {},
     "output_type": "execute_result"
    }
   ],
   "source": [
    "S1.isupper()"
   ]
  },
  {
   "cell_type": "markdown",
   "id": "e110a33e",
   "metadata": {},
   "source": [
    "# isalpha():"
   ]
  },
  {
   "cell_type": "code",
   "execution_count": 49,
   "id": "fe217fb1",
   "metadata": {},
   "outputs": [],
   "source": [
    "S2 = 'abcxyz'"
   ]
  },
  {
   "cell_type": "code",
   "execution_count": 50,
   "id": "9e757ec7",
   "metadata": {},
   "outputs": [
    {
     "data": {
      "text/plain": [
       "True"
      ]
     },
     "execution_count": 50,
     "metadata": {},
     "output_type": "execute_result"
    }
   ],
   "source": [
    "S2.isalpha()"
   ]
  },
  {
   "cell_type": "markdown",
   "id": "b7e3b0a2",
   "metadata": {},
   "source": [
    "# isalnum():"
   ]
  },
  {
   "cell_type": "code",
   "execution_count": 51,
   "id": "f5539d6a",
   "metadata": {},
   "outputs": [
    {
     "data": {
      "text/plain": [
       "True"
      ]
     },
     "execution_count": 51,
     "metadata": {},
     "output_type": "execute_result"
    }
   ],
   "source": [
    "S2.isalnum()"
   ]
  },
  {
   "cell_type": "markdown",
   "id": "3ef4a677",
   "metadata": {},
   "source": [
    "# isdigit():"
   ]
  },
  {
   "cell_type": "code",
   "execution_count": 60,
   "id": "d6cc14e9",
   "metadata": {},
   "outputs": [
    {
     "data": {
      "text/plain": [
       "False"
      ]
     },
     "execution_count": 60,
     "metadata": {},
     "output_type": "execute_result"
    }
   ],
   "source": [
    "S2.isdigit()"
   ]
  },
  {
   "cell_type": "markdown",
   "id": "151b5397",
   "metadata": {},
   "source": [
    "# islower():"
   ]
  },
  {
   "cell_type": "code",
   "execution_count": 67,
   "id": "fa9cddcf",
   "metadata": {},
   "outputs": [
    {
     "data": {
      "text/plain": [
       "True"
      ]
     },
     "execution_count": 67,
     "metadata": {},
     "output_type": "execute_result"
    }
   ],
   "source": [
    "S2.islower()"
   ]
  },
  {
   "cell_type": "markdown",
   "id": "0c3e0d97",
   "metadata": {},
   "source": [
    "# isalnum():"
   ]
  },
  {
   "cell_type": "code",
   "execution_count": 52,
   "id": "60e8e2a9",
   "metadata": {},
   "outputs": [],
   "source": [
    "S3 = '123456789'"
   ]
  },
  {
   "cell_type": "code",
   "execution_count": 53,
   "id": "5456ac2f",
   "metadata": {},
   "outputs": [
    {
     "data": {
      "text/plain": [
       "True"
      ]
     },
     "execution_count": 53,
     "metadata": {},
     "output_type": "execute_result"
    }
   ],
   "source": [
    "S3.isalnum()"
   ]
  },
  {
   "cell_type": "markdown",
   "id": "8454709a",
   "metadata": {},
   "source": [
    "# isalpha():"
   ]
  },
  {
   "cell_type": "code",
   "execution_count": 54,
   "id": "23a779a2",
   "metadata": {},
   "outputs": [
    {
     "data": {
      "text/plain": [
       "False"
      ]
     },
     "execution_count": 54,
     "metadata": {},
     "output_type": "execute_result"
    }
   ],
   "source": [
    "S3.isalpha()"
   ]
  },
  {
   "cell_type": "markdown",
   "id": "42df2251",
   "metadata": {},
   "source": [
    "# isdigit():"
   ]
  },
  {
   "cell_type": "code",
   "execution_count": 59,
   "id": "36d1f1be",
   "metadata": {},
   "outputs": [
    {
     "data": {
      "text/plain": [
       "True"
      ]
     },
     "execution_count": 59,
     "metadata": {},
     "output_type": "execute_result"
    }
   ],
   "source": [
    "S3.isdigit()"
   ]
  },
  {
   "cell_type": "markdown",
   "id": "65485c34",
   "metadata": {},
   "source": [
    "# islower():"
   ]
  },
  {
   "cell_type": "code",
   "execution_count": 68,
   "id": "378971c4",
   "metadata": {},
   "outputs": [
    {
     "data": {
      "text/plain": [
       "False"
      ]
     },
     "execution_count": 68,
     "metadata": {},
     "output_type": "execute_result"
    }
   ],
   "source": [
    "S3.islower()"
   ]
  },
  {
   "cell_type": "markdown",
   "id": "2f64cc03",
   "metadata": {},
   "source": [
    "# isupper():"
   ]
  },
  {
   "cell_type": "code",
   "execution_count": 72,
   "id": "3cfdfba3",
   "metadata": {},
   "outputs": [
    {
     "data": {
      "text/plain": [
       "False"
      ]
     },
     "execution_count": 72,
     "metadata": {},
     "output_type": "execute_result"
    }
   ],
   "source": [
    "S3.isupper()"
   ]
  },
  {
   "cell_type": "markdown",
   "id": "76e6c87b",
   "metadata": {},
   "source": [
    "# isalpha():"
   ]
  },
  {
   "cell_type": "code",
   "execution_count": 55,
   "id": "e51eab9e",
   "metadata": {},
   "outputs": [],
   "source": [
    "S4 = '234$@#avbXYZ'"
   ]
  },
  {
   "cell_type": "code",
   "execution_count": 56,
   "id": "8ad67f56",
   "metadata": {},
   "outputs": [
    {
     "data": {
      "text/plain": [
       "False"
      ]
     },
     "execution_count": 56,
     "metadata": {},
     "output_type": "execute_result"
    }
   ],
   "source": [
    "S4.isalpha()"
   ]
  },
  {
   "cell_type": "markdown",
   "id": "a039652a",
   "metadata": {},
   "source": [
    "# isalnum():"
   ]
  },
  {
   "cell_type": "code",
   "execution_count": 57,
   "id": "6aceb522",
   "metadata": {},
   "outputs": [
    {
     "data": {
      "text/plain": [
       "False"
      ]
     },
     "execution_count": 57,
     "metadata": {},
     "output_type": "execute_result"
    }
   ],
   "source": [
    "S4.isalnum()"
   ]
  },
  {
   "cell_type": "markdown",
   "id": "dc7810f2",
   "metadata": {},
   "source": [
    "# isdigit():"
   ]
  },
  {
   "cell_type": "code",
   "execution_count": 58,
   "id": "281a4665",
   "metadata": {},
   "outputs": [
    {
     "data": {
      "text/plain": [
       "False"
      ]
     },
     "execution_count": 58,
     "metadata": {},
     "output_type": "execute_result"
    }
   ],
   "source": [
    "S4.isdigit()"
   ]
  },
  {
   "cell_type": "markdown",
   "id": "390fded0",
   "metadata": {},
   "source": [
    "# islower():"
   ]
  },
  {
   "cell_type": "code",
   "execution_count": 69,
   "id": "f330a8d5",
   "metadata": {},
   "outputs": [
    {
     "data": {
      "text/plain": [
       "False"
      ]
     },
     "execution_count": 69,
     "metadata": {},
     "output_type": "execute_result"
    }
   ],
   "source": [
    "S4.islower()"
   ]
  },
  {
   "cell_type": "markdown",
   "id": "26853ab6",
   "metadata": {},
   "source": [
    "# isupper():"
   ]
  },
  {
   "cell_type": "code",
   "execution_count": 73,
   "id": "38b85429",
   "metadata": {},
   "outputs": [
    {
     "data": {
      "text/plain": [
       "False"
      ]
     },
     "execution_count": 73,
     "metadata": {},
     "output_type": "execute_result"
    }
   ],
   "source": [
    "S4.isupper()"
   ]
  },
  {
   "cell_type": "markdown",
   "id": "a785fe77",
   "metadata": {},
   "source": [
    "# isspace():"
   ]
  },
  {
   "cell_type": "code",
   "execution_count": 62,
   "id": "86fa9644",
   "metadata": {},
   "outputs": [],
   "source": [
    "S5 = ' '"
   ]
  },
  {
   "cell_type": "code",
   "execution_count": 63,
   "id": "f5d62466",
   "metadata": {},
   "outputs": [
    {
     "data": {
      "text/plain": [
       "True"
      ]
     },
     "execution_count": 63,
     "metadata": {},
     "output_type": "execute_result"
    }
   ],
   "source": [
    "S5.isspace()"
   ]
  },
  {
   "cell_type": "code",
   "execution_count": 64,
   "id": "48126b13",
   "metadata": {},
   "outputs": [],
   "source": [
    "S6 = '123 abc'"
   ]
  },
  {
   "cell_type": "code",
   "execution_count": 65,
   "id": "acd72563",
   "metadata": {},
   "outputs": [
    {
     "data": {
      "text/plain": [
       "False"
      ]
     },
     "execution_count": 65,
     "metadata": {},
     "output_type": "execute_result"
    }
   ],
   "source": [
    "S6.isspace()"
   ]
  },
  {
   "cell_type": "markdown",
   "id": "42a5299e",
   "metadata": {},
   "source": [
    "# islower():"
   ]
  },
  {
   "cell_type": "code",
   "execution_count": 70,
   "id": "a68a3430",
   "metadata": {},
   "outputs": [
    {
     "data": {
      "text/plain": [
       "True"
      ]
     },
     "execution_count": 70,
     "metadata": {},
     "output_type": "execute_result"
    }
   ],
   "source": [
    "S6.islower()"
   ]
  },
  {
   "cell_type": "markdown",
   "id": "e9e1b337",
   "metadata": {},
   "source": [
    "# isupper():"
   ]
  },
  {
   "cell_type": "code",
   "execution_count": 71,
   "id": "73f16e2f",
   "metadata": {},
   "outputs": [
    {
     "data": {
      "text/plain": [
       "False"
      ]
     },
     "execution_count": 71,
     "metadata": {},
     "output_type": "execute_result"
    }
   ],
   "source": [
    "S6.isupper()"
   ]
  },
  {
   "cell_type": "code",
   "execution_count": 75,
   "id": "5fa5d8ec",
   "metadata": {},
   "outputs": [],
   "source": [
    "S7 = \" MY GOD\""
   ]
  },
  {
   "cell_type": "code",
   "execution_count": 76,
   "id": "8ccc7a8c",
   "metadata": {},
   "outputs": [
    {
     "data": {
      "text/plain": [
       "True"
      ]
     },
     "execution_count": 76,
     "metadata": {},
     "output_type": "execute_result"
    }
   ],
   "source": [
    "S7.isupper()"
   ]
  },
  {
   "cell_type": "markdown",
   "id": "5488df11",
   "metadata": {},
   "source": [
    "# islower():"
   ]
  },
  {
   "cell_type": "code",
   "execution_count": 77,
   "id": "eab0a1d2",
   "metadata": {},
   "outputs": [
    {
     "data": {
      "text/plain": [
       "False"
      ]
     },
     "execution_count": 77,
     "metadata": {},
     "output_type": "execute_result"
    }
   ],
   "source": [
    "S7.islower()"
   ]
  },
  {
   "cell_type": "code",
   "execution_count": 78,
   "id": "c458ba46",
   "metadata": {},
   "outputs": [],
   "source": [
    "S8 = 'ABCxyz'"
   ]
  },
  {
   "cell_type": "code",
   "execution_count": 79,
   "id": "13d57625",
   "metadata": {},
   "outputs": [
    {
     "data": {
      "text/plain": [
       "False"
      ]
     },
     "execution_count": 79,
     "metadata": {},
     "output_type": "execute_result"
    }
   ],
   "source": [
    "S8.islower()"
   ]
  },
  {
   "cell_type": "markdown",
   "id": "b82695ee",
   "metadata": {},
   "source": [
    "# isupper():"
   ]
  },
  {
   "cell_type": "code",
   "execution_count": 80,
   "id": "368eeddb",
   "metadata": {},
   "outputs": [
    {
     "data": {
      "text/plain": [
       "False"
      ]
     },
     "execution_count": 80,
     "metadata": {},
     "output_type": "execute_result"
    }
   ],
   "source": [
    "S8.isupper()"
   ]
  },
  {
   "cell_type": "markdown",
   "id": "4869c08f",
   "metadata": {},
   "source": [
    "# isalpha():"
   ]
  },
  {
   "cell_type": "code",
   "execution_count": 81,
   "id": "6b5dedc0",
   "metadata": {},
   "outputs": [
    {
     "data": {
      "text/plain": [
       "True"
      ]
     },
     "execution_count": 81,
     "metadata": {},
     "output_type": "execute_result"
    }
   ],
   "source": [
    "S8.isalpha()"
   ]
  },
  {
   "cell_type": "markdown",
   "id": "6e3c677f",
   "metadata": {},
   "source": [
    "# isalnum():"
   ]
  },
  {
   "cell_type": "code",
   "execution_count": 82,
   "id": "444066b7",
   "metadata": {},
   "outputs": [
    {
     "data": {
      "text/plain": [
       "True"
      ]
     },
     "execution_count": 82,
     "metadata": {},
     "output_type": "execute_result"
    }
   ],
   "source": [
    "S8.isalnum()"
   ]
  },
  {
   "cell_type": "markdown",
   "id": "d5d62d4b",
   "metadata": {},
   "source": [
    "# isdigit():"
   ]
  },
  {
   "cell_type": "code",
   "execution_count": 83,
   "id": "6dfc49dd",
   "metadata": {},
   "outputs": [
    {
     "data": {
      "text/plain": [
       "False"
      ]
     },
     "execution_count": 83,
     "metadata": {},
     "output_type": "execute_result"
    }
   ],
   "source": [
    "S8.isdigit()"
   ]
  },
  {
   "cell_type": "markdown",
   "id": "416bfd5b",
   "metadata": {},
   "source": [
    "# title():"
   ]
  },
  {
   "cell_type": "code",
   "execution_count": 85,
   "id": "05be1d64",
   "metadata": {},
   "outputs": [],
   "source": [
    "S9 = 'smile is the Real Beauty for every Person'"
   ]
  },
  {
   "cell_type": "code",
   "execution_count": 86,
   "id": "bbdd6492",
   "metadata": {},
   "outputs": [
    {
     "data": {
      "text/plain": [
       "'Smile Is The Real Beauty For Every Person'"
      ]
     },
     "execution_count": 86,
     "metadata": {},
     "output_type": "execute_result"
    }
   ],
   "source": [
    "S9.title()"
   ]
  },
  {
   "cell_type": "markdown",
   "id": "dd3f20c1",
   "metadata": {},
   "source": [
    "# istitle():"
   ]
  },
  {
   "cell_type": "code",
   "execution_count": 87,
   "id": "56b5cae4",
   "metadata": {},
   "outputs": [
    {
     "data": {
      "text/plain": [
       "False"
      ]
     },
     "execution_count": 87,
     "metadata": {},
     "output_type": "execute_result"
    }
   ],
   "source": [
    "S9.istitle()"
   ]
  },
  {
   "cell_type": "markdown",
   "id": "6e1324b9",
   "metadata": {},
   "source": [
    "# upper():"
   ]
  },
  {
   "cell_type": "code",
   "execution_count": 88,
   "id": "b29e3861",
   "metadata": {},
   "outputs": [
    {
     "data": {
      "text/plain": [
       "'SMILE IS THE REAL BEAUTY FOR EVERY PERSON'"
      ]
     },
     "execution_count": 88,
     "metadata": {},
     "output_type": "execute_result"
    }
   ],
   "source": [
    "S9.upper()"
   ]
  },
  {
   "cell_type": "markdown",
   "id": "aae486ea",
   "metadata": {},
   "source": [
    "# lower():"
   ]
  },
  {
   "cell_type": "code",
   "execution_count": 89,
   "id": "aa657784",
   "metadata": {},
   "outputs": [
    {
     "data": {
      "text/plain": [
       "'smile is the real beauty for every person'"
      ]
     },
     "execution_count": 89,
     "metadata": {},
     "output_type": "execute_result"
    }
   ],
   "source": [
    "S9.lower()"
   ]
  },
  {
   "cell_type": "markdown",
   "id": "b32d1623",
   "metadata": {},
   "source": [
    "# ljust():"
   ]
  },
  {
   "cell_type": "code",
   "execution_count": 90,
   "id": "e99d0c35",
   "metadata": {},
   "outputs": [],
   "source": [
    "S10 = 'cuteness'"
   ]
  },
  {
   "cell_type": "code",
   "execution_count": 92,
   "id": "4f639ed5",
   "metadata": {},
   "outputs": [
    {
     "data": {
      "text/plain": [
       "'cuteness  '"
      ]
     },
     "execution_count": 92,
     "metadata": {},
     "output_type": "execute_result"
    }
   ],
   "source": [
    "S10.ljust(10)"
   ]
  },
  {
   "cell_type": "markdown",
   "id": "bf5d51e1",
   "metadata": {},
   "source": [
    "    or"
   ]
  },
  {
   "cell_type": "code",
   "execution_count": 95,
   "id": "02896d79",
   "metadata": {},
   "outputs": [
    {
     "data": {
      "text/plain": [
       "'cuteness  '"
      ]
     },
     "execution_count": 95,
     "metadata": {},
     "output_type": "execute_result"
    }
   ],
   "source": [
    "S10.ljust(10, \" \")"
   ]
  },
  {
   "cell_type": "markdown",
   "id": "7a3a5f9f",
   "metadata": {},
   "source": [
    "# rjust():"
   ]
  },
  {
   "cell_type": "code",
   "execution_count": 96,
   "id": "0af04f28",
   "metadata": {},
   "outputs": [
    {
     "data": {
      "text/plain": [
       "'  cuteness'"
      ]
     },
     "execution_count": 96,
     "metadata": {},
     "output_type": "execute_result"
    }
   ],
   "source": [
    "S10.rjust(10)"
   ]
  },
  {
   "cell_type": "markdown",
   "id": "89f2310c",
   "metadata": {},
   "source": [
    "     or"
   ]
  },
  {
   "cell_type": "code",
   "execution_count": 97,
   "id": "48389c7b",
   "metadata": {},
   "outputs": [
    {
     "data": {
      "text/plain": [
       "'  cuteness'"
      ]
     },
     "execution_count": 97,
     "metadata": {},
     "output_type": "execute_result"
    }
   ],
   "source": [
    "S10.rjust(10, \" \")"
   ]
  },
  {
   "cell_type": "markdown",
   "id": "003c31b6",
   "metadata": {},
   "source": [
    "# lstrip():"
   ]
  },
  {
   "cell_type": "code",
   "execution_count": 98,
   "id": "255d3d45",
   "metadata": {},
   "outputs": [],
   "source": [
    "S11 = ' she is a Dancer   '"
   ]
  },
  {
   "cell_type": "code",
   "execution_count": 99,
   "id": "2f871c82",
   "metadata": {},
   "outputs": [
    {
     "data": {
      "text/plain": [
       "'she is a Dancer   '"
      ]
     },
     "execution_count": 99,
     "metadata": {},
     "output_type": "execute_result"
    }
   ],
   "source": [
    "S11.lstrip()"
   ]
  },
  {
   "cell_type": "markdown",
   "id": "7e78bd41",
   "metadata": {},
   "source": [
    "# rstrip():"
   ]
  },
  {
   "cell_type": "code",
   "execution_count": 100,
   "id": "a269b7d6",
   "metadata": {},
   "outputs": [
    {
     "data": {
      "text/plain": [
       "' she is a Dancer'"
      ]
     },
     "execution_count": 100,
     "metadata": {},
     "output_type": "execute_result"
    }
   ],
   "source": [
    "S11.rstrip()"
   ]
  },
  {
   "cell_type": "code",
   "execution_count": 101,
   "id": "e2bf8a11",
   "metadata": {},
   "outputs": [
    {
     "data": {
      "text/plain": [
       "' she is a Dancer   '"
      ]
     },
     "execution_count": 101,
     "metadata": {},
     "output_type": "execute_result"
    }
   ],
   "source": [
    "S11"
   ]
  },
  {
   "cell_type": "markdown",
   "id": "bc3c56db",
   "metadata": {},
   "source": [
    "# strip():"
   ]
  },
  {
   "cell_type": "code",
   "execution_count": 102,
   "id": "2f5dedcc",
   "metadata": {},
   "outputs": [
    {
     "data": {
      "text/plain": [
       "'she is a Dancer'"
      ]
     },
     "execution_count": 102,
     "metadata": {},
     "output_type": "execute_result"
    }
   ],
   "source": [
    "S11.strip()"
   ]
  },
  {
   "cell_type": "code",
   "execution_count": 103,
   "id": "9d9e2320",
   "metadata": {},
   "outputs": [
    {
     "data": {
      "text/plain": [
       "' she is a Dancer   '"
      ]
     },
     "execution_count": 103,
     "metadata": {},
     "output_type": "execute_result"
    }
   ],
   "source": [
    "S11"
   ]
  },
  {
   "cell_type": "markdown",
   "id": "fa6f4f99",
   "metadata": {},
   "source": [
    "# replace():"
   ]
  },
  {
   "cell_type": "code",
   "execution_count": 104,
   "id": "808bf98b",
   "metadata": {},
   "outputs": [
    {
     "data": {
      "text/plain": [
       "'  he i  a Dancer   '"
      ]
     },
     "execution_count": 104,
     "metadata": {},
     "output_type": "execute_result"
    }
   ],
   "source": [
    "S11.replace('s',\" \")"
   ]
  },
  {
   "cell_type": "code",
   "execution_count": 105,
   "id": "b9302f8e",
   "metadata": {},
   "outputs": [
    {
     "data": {
      "text/plain": [
       "' he is a Dancer   '"
      ]
     },
     "execution_count": 105,
     "metadata": {},
     "output_type": "execute_result"
    }
   ],
   "source": [
    "S11.replace('she', 'he')"
   ]
  },
  {
   "cell_type": "code",
   "execution_count": 106,
   "id": "9a78cfbe",
   "metadata": {},
   "outputs": [],
   "source": [
    "S12 = 'Data Science'"
   ]
  },
  {
   "cell_type": "code",
   "execution_count": 107,
   "id": "1111c704",
   "metadata": {},
   "outputs": [
    {
     "data": {
      "text/plain": [
       "'DAta Science'"
      ]
     },
     "execution_count": 107,
     "metadata": {},
     "output_type": "execute_result"
    }
   ],
   "source": [
    "S12.replace('a','A', 1)"
   ]
  },
  {
   "cell_type": "code",
   "execution_count": 108,
   "id": "f83adfcb",
   "metadata": {},
   "outputs": [
    {
     "data": {
      "text/plain": [
       "'DAtA Science'"
      ]
     },
     "execution_count": 108,
     "metadata": {},
     "output_type": "execute_result"
    }
   ],
   "source": [
    "S12.replace('a','A', 2)"
   ]
  },
  {
   "cell_type": "code",
   "execution_count": 109,
   "id": "f951d486",
   "metadata": {},
   "outputs": [
    {
     "data": {
      "text/plain": [
       "'Data Science'"
      ]
     },
     "execution_count": 109,
     "metadata": {},
     "output_type": "execute_result"
    }
   ],
   "source": [
    "S12"
   ]
  },
  {
   "cell_type": "code",
   "execution_count": 110,
   "id": "3ac5a7ce",
   "metadata": {},
   "outputs": [
    {
     "data": {
      "text/plain": [
       "' she is a Dancer   '"
      ]
     },
     "execution_count": 110,
     "metadata": {},
     "output_type": "execute_result"
    }
   ],
   "source": [
    "S11"
   ]
  },
  {
   "cell_type": "markdown",
   "id": "13c11ea0",
   "metadata": {},
   "source": [
    "# split():"
   ]
  },
  {
   "cell_type": "code",
   "execution_count": 111,
   "id": "7814653b",
   "metadata": {},
   "outputs": [
    {
     "data": {
      "text/plain": [
       "['she', 'is', 'a', 'Dancer']"
      ]
     },
     "execution_count": 111,
     "metadata": {},
     "output_type": "execute_result"
    }
   ],
   "source": [
    "S11.split()"
   ]
  },
  {
   "cell_type": "code",
   "execution_count": 115,
   "id": "32bde33c",
   "metadata": {},
   "outputs": [
    {
     "data": {
      "text/plain": [
       "['', 'she', 'is', 'a', 'Dancer', '', '', '']"
      ]
     },
     "execution_count": 115,
     "metadata": {},
     "output_type": "execute_result"
    }
   ],
   "source": [
    "S11.split(\" \")"
   ]
  },
  {
   "cell_type": "code",
   "execution_count": 116,
   "id": "369864d1",
   "metadata": {},
   "outputs": [
    {
     "data": {
      "text/plain": [
       "['', 'she', 'is a Dancer   ']"
      ]
     },
     "execution_count": 116,
     "metadata": {},
     "output_type": "execute_result"
    }
   ],
   "source": [
    "S11.split(\" \",2)"
   ]
  },
  {
   "cell_type": "code",
   "execution_count": 117,
   "id": "93b2697d",
   "metadata": {},
   "outputs": [
    {
     "data": {
      "text/plain": [
       "['', 'she is a Dancer   ']"
      ]
     },
     "execution_count": 117,
     "metadata": {},
     "output_type": "execute_result"
    }
   ],
   "source": [
    "S11.split(\" \",1)"
   ]
  },
  {
   "cell_type": "code",
   "execution_count": 118,
   "id": "d146d339",
   "metadata": {},
   "outputs": [
    {
     "data": {
      "text/plain": [
       "[' ', 'he i', ' a Dancer   ']"
      ]
     },
     "execution_count": 118,
     "metadata": {},
     "output_type": "execute_result"
    }
   ],
   "source": [
    "S11.split(\"s\")"
   ]
  },
  {
   "cell_type": "code",
   "execution_count": 119,
   "id": "719f1716",
   "metadata": {},
   "outputs": [
    {
     "data": {
      "text/plain": [
       "[' sh', ' is a Danc', 'r   ']"
      ]
     },
     "execution_count": 119,
     "metadata": {},
     "output_type": "execute_result"
    }
   ],
   "source": [
    "S11.split(\"e\")"
   ]
  },
  {
   "cell_type": "code",
   "execution_count": 120,
   "id": "86e1601c",
   "metadata": {},
   "outputs": [],
   "source": [
    "S12 = 'Hello'"
   ]
  },
  {
   "cell_type": "markdown",
   "id": "62db10e3",
   "metadata": {},
   "source": [
    "# swapcase():"
   ]
  },
  {
   "cell_type": "code",
   "execution_count": 121,
   "id": "2f827d09",
   "metadata": {},
   "outputs": [
    {
     "data": {
      "text/plain": [
       "'hELLO'"
      ]
     },
     "execution_count": 121,
     "metadata": {},
     "output_type": "execute_result"
    }
   ],
   "source": [
    "S12.swapcase()"
   ]
  },
  {
   "cell_type": "markdown",
   "id": "4aef0352",
   "metadata": {},
   "source": [
    "# zfill():"
   ]
  },
  {
   "cell_type": "code",
   "execution_count": 123,
   "id": "cbb087c7",
   "metadata": {},
   "outputs": [
    {
     "data": {
      "text/plain": [
       "'000Hello'"
      ]
     },
     "execution_count": 123,
     "metadata": {},
     "output_type": "execute_result"
    }
   ],
   "source": [
    "S12.zfill(8)"
   ]
  }
 ],
 "metadata": {
  "kernelspec": {
   "display_name": "Python 3 (ipykernel)",
   "language": "python",
   "name": "python3"
  },
  "language_info": {
   "codemirror_mode": {
    "name": "ipython",
    "version": 3
   },
   "file_extension": ".py",
   "mimetype": "text/x-python",
   "name": "python",
   "nbconvert_exporter": "python",
   "pygments_lexer": "ipython3",
   "version": "3.9.13"
  }
 },
 "nbformat": 4,
 "nbformat_minor": 5
}
