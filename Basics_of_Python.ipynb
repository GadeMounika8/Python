{
 "cells": [
  {
   "cell_type": "markdown",
   "id": "272b9941",
   "metadata": {},
   "source": [
    "# Features of Python:"
   ]
  },
  {
   "cell_type": "markdown",
   "id": "31bd2e37",
   "metadata": {},
   "source": [
    "--> Simple to Learn\n",
    "\n",
    "--> High Level Language\n",
    "\n",
    "--> Object Oriented Language\n",
    "\n",
    "--> Platform Independent\n",
    "\n",
    "--> Simple Syntax\n",
    "\n",
    "--> It has so many Standard Libraries\n",
    "\n",
    "--> No Type Declarations (Dynamic Memory Allocation)\n",
    "\n",
    "--> Interpreted Language\n",
    "\n",
    "--> Open Source Language\n",
    "\n",
    "--> Length of the code is small\n",
    "\n",
    "--> No complication and linking"
   ]
  },
  {
   "cell_type": "markdown",
   "id": "ab0da9d2",
   "metadata": {},
   "source": [
    "# Applications of Python:"
   ]
  },
  {
   "cell_type": "markdown",
   "id": "48911b5b",
   "metadata": {},
   "source": [
    "--> Data Science\n",
    "\n",
    "--> Data mining\n",
    "\n",
    "--> Desktop Applications\n",
    "\n",
    "--> Mobile Applications\n",
    "\n",
    "--> Software Development\n",
    "\n",
    "--> Artificial Intelligence\n",
    "\n",
    "--> Web Applications\n",
    "\n",
    "--> Machine Learning\n",
    "\n",
    "--> Image Processing Applications\n",
    "\n",
    "--> Business Applications \n",
    "\n",
    "--> Games and 3D Graphics\n",
    "\n",
    "--> GUI\n",
    "\n",
    "--> Accessing the Database"
   ]
  },
  {
   "cell_type": "markdown",
   "id": "adc58d3d",
   "metadata": {},
   "source": [
    "# Variables & Identifiers:-"
   ]
  },
  {
   "cell_type": "markdown",
   "id": "ebf0d28a",
   "metadata": {},
   "source": [
    "--> Variable is nothing but an alternative name given to memory Location by Programmer.\n",
    "\n",
    "--> According to name variable, value of that Variable may varies.\n",
    "\n",
    "--> Variable is not constant. If Variable is constant, then the Value in that Variable can not change.\n",
    "\n",
    "--> For a Variable, It can be Possible to assign a value and also reassign the value to the same variable(i.e., update).\n",
    "\n",
    "--> Identifier is used to identify the elements.\n",
    "\n",
    "--> Variables, Objects, Classes, functions are the examples of Identifiers.\n",
    "\n",
    "--> for everything we are giving names to identify,\n",
    "\n",
    "--> By using that names we identify the particular Object, Class, Functions, Variables, Modules, Constants.\n",
    "\n",
    "--> For any Identifier, We should follow some set of rules while giving a name to Particular identifier."
   ]
  },
  {
   "cell_type": "markdown",
   "id": "98e779c4",
   "metadata": {},
   "source": [
    "# Rules for Variables and Identifiers:-"
   ]
  },
  {
   "cell_type": "markdown",
   "id": "174e5ed2",
   "metadata": {},
   "source": [
    "1. variable name should not match with keywords.\n",
    "\n",
    "2. variable name should start with character (or) Underscore(_).\n",
    "\n",
    "3. variable name can have alphanumeric (characters + Digits) and Underscore (A-Z, a-z, 0-9 and _).\n",
    "\n",
    "4. variable name is case-sensitive"
   ]
  },
  {
   "cell_type": "markdown",
   "id": "42cd8918",
   "metadata": {},
   "source": [
    "# Keywords:-"
   ]
  },
  {
   "cell_type": "markdown",
   "id": "56ae7377",
   "metadata": {},
   "source": [
    "--> Keywords are nothong but Reserved Words which has predefined function."
   ]
  },
  {
   "cell_type": "markdown",
   "id": "99a225f9",
   "metadata": {},
   "source": [
    "1. pass     2. break      3.continue\n",
    "\n",
    "4. del      5. def        6. class\n",
    "\n",
    "7. finally  8. for        9. while\n",
    "\n",
    "10. if      11. elif      12. else \n",
    "\n",
    "13. is      14. in        15. with\n",
    "\n",
    "16. try     17. except    18. import\n",
    "\n",
    "19. raise   20. yeild     21. lambda\n",
    "\n",
    "22. assert  23. global    24. local\n",
    "\n",
    "25. or      26. and       27. not\n",
    "\n",
    "28. print   29. return    30. exce\n",
    "\n",
    "31. True    32. False  \n",
    "\n"
   ]
  },
  {
   "cell_type": "markdown",
   "id": "6357a5e7",
   "metadata": {},
   "source": [
    "# Operators:-"
   ]
  },
  {
   "cell_type": "markdown",
   "id": "cc67ad5a",
   "metadata": {},
   "source": [
    "1. Arithmetic Operators --> +, -, *, %, /, //, **\n",
    "\n",
    "2. Relational Operators --> <, >, <=, >=, ==, !=\n",
    "\n",
    "3. Assignment Operators --> =, +=, -=, *=, /=, %=, //=,etc\n",
    "\n",
    "4. Bitwise Operators --> &, |, ^, ~, <<, >>\n",
    "\n",
    "5. Logical Operators --> and,or, not\n",
    "\n",
    "6. Membership Operators --> in, not in\n",
    "\n",
    "7. Identity Operators --> is, is not"
   ]
  },
  {
   "cell_type": "markdown",
   "id": "7766e208",
   "metadata": {},
   "source": [
    "# Data Types:-"
   ]
  },
  {
   "cell_type": "markdown",
   "id": "f8302ae7",
   "metadata": {},
   "source": [
    "--> Python is a Dynamic Programming Language.\n",
    "\n",
    "--> So that, we do not need to declare the variable with data type.\n",
    "\n",
    "--> Generally, every data is having datatype.\n",
    "\n",
    "--> in C language and other some languages, the datatype should be declared before variable name.\n",
    "\n",
    "--> Python has some Built-In Datatypes:"
   ]
  },
  {
   "cell_type": "markdown",
   "id": "311efec1",
   "metadata": {},
   "source": [
    "1. Numbers\n",
    "  \n",
    "    i. int\n",
    "    \n",
    "    ii. float\n",
    "    \n",
    "    iii. complex\n",
    "    \n",
    "\n",
    "    2. Strings\n",
    "\n",
    "    i. Characters\n",
    "    \n",
    "    ii. Strings\n",
    "    \n",
    "3. List\n",
    "\n",
    "4. Tuple\n",
    "\n",
    "5. Set\n",
    "\n",
    "6. Dictionary"
   ]
  },
  {
   "cell_type": "markdown",
   "id": "63b137ce",
   "metadata": {},
   "source": [
    "# Control Structure:"
   ]
  },
  {
   "cell_type": "markdown",
   "id": "9e7b742c",
   "metadata": {},
   "source": [
    "--> Control flow of Python Programming is regulated by using Conditional Statements, loops, etc.,"
   ]
  },
  {
   "cell_type": "markdown",
   "id": "8bd11326",
   "metadata": {},
   "source": [
    "# Types of Control Structure:-"
   ]
  },
  {
   "cell_type": "markdown",
   "id": "c87453cd",
   "metadata": {},
   "source": [
    "1. Sequencial Excecution --> default mode(i.e., it Executes line by line)\n",
    "\n",
    "2. Decision Statements --> Selection Statements - Used for Decisions & Branching\n",
    "\n",
    "3. Iterative Statements --> Repetition - Used for Looping (i.e., repeating a piece of code Multiple Times)\n",
    "\n",
    "4. Jumping Statements --> continue, pass & break"
   ]
  },
  {
   "cell_type": "markdown",
   "id": "3dc5bfbf",
   "metadata": {},
   "source": [
    "# 2. Decision Control Statement:"
   ]
  },
  {
   "cell_type": "markdown",
   "id": "356dcaad",
   "metadata": {},
   "source": [
    "1. if\n",
    "\n",
    "2. if-else\n",
    "\n",
    "3. if-elif-else\n",
    "\n",
    "4. Nested if"
   ]
  },
  {
   "cell_type": "markdown",
   "id": "80f1dc4a",
   "metadata": {},
   "source": [
    "# 3. Iterative Control Statements:"
   ]
  },
  {
   "cell_type": "markdown",
   "id": "4475349e",
   "metadata": {},
   "source": [
    "# --> we should remember three Points before running a loop:-\n",
    "    \n",
    "            i. Loop Variable Initialization\n",
    "        \n",
    "            ii. Condition for termination\n",
    "            \n",
    "            iii. Updation of Loop Variable"
   ]
  },
  {
   "cell_type": "markdown",
   "id": "78ad6161",
   "metadata": {},
   "source": [
    "# Types of Iterative Control Statements:"
   ]
  },
  {
   "cell_type": "markdown",
   "id": "1976355e",
   "metadata": {},
   "source": [
    "1. while loop\n",
    "\n",
    "2. for loop"
   ]
  },
  {
   "cell_type": "markdown",
   "id": "d0c55a47",
   "metadata": {},
   "source": [
    "# 1. while Loop:-"
   ]
  },
  {
   "cell_type": "markdown",
   "id": "e2eec2ff",
   "metadata": {},
   "source": [
    "--> Python while loop is used to execute a block of statements repeatedly until a given condition is satisfied (or) True and when the condition becomes false, the line immediately after the loop in the program is executed.\n",
    "\n",
    "--> while loop falls under the category of indefinite iteration."
   ]
  },
  {
   "cell_type": "markdown",
   "id": "6e751026",
   "metadata": {},
   "source": [
    "# 2. For Loop:-"
   ]
  },
  {
   "cell_type": "markdown",
   "id": "ce507c2c",
   "metadata": {},
   "source": [
    "--> A Python for loop runs a block of code until the loop has iterated over every item in an iterable.\n",
    "\n",
    "--> for loop helps us to reduce repetition in your code."
   ]
  },
  {
   "cell_type": "markdown",
   "id": "8d31e02f",
   "metadata": {},
   "source": [
    "--> for loop can be executed in two ways:-"
   ]
  },
  {
   "cell_type": "markdown",
   "id": "1c87dcaf",
   "metadata": {},
   "source": [
    "i. Using sequence           \n",
    "\n",
    "ii. range function"
   ]
  },
  {
   "cell_type": "markdown",
   "id": "dcc479d8",
   "metadata": {},
   "source": [
    "# 4. Jumping Statements:"
   ]
  },
  {
   "cell_type": "markdown",
   "id": "4c554d32",
   "metadata": {},
   "source": [
    "i. continue\n",
    "\n",
    "ii. pass\n",
    "\n",
    "iii. break\n",
    "    "
   ]
  },
  {
   "cell_type": "markdown",
   "id": "a90786e4",
   "metadata": {},
   "source": [
    "# 1. continue:-"
   ]
  },
  {
   "cell_type": "markdown",
   "id": "808f469a",
   "metadata": {},
   "source": [
    "--> continue statement instructs a loop to continue to the next iteration.\n",
    "\n",
    "--> continue statement is a loop control statement that forces to execute the next iteration of the loop while skipping the rest of the code inside the loop for the current iteration only."
   ]
  },
  {
   "cell_type": "markdown",
   "id": "39c9ae5f",
   "metadata": {},
   "source": [
    "# 2. pass:-"
   ]
  },
  {
   "cell_type": "markdown",
   "id": "3a20ba54",
   "metadata": {},
   "source": [
    "--> pass statement is a null statement.\n",
    "\n",
    "--> The pass statement is generally used as a placeholder i.e., when the user does not know what code to write.\n",
    "\n",
    "Note:- The difference between pass and comment is that comment is ignored by the interpreter whereas pass is not ignored.\n",
    "\n"
   ]
  },
  {
   "cell_type": "markdown",
   "id": "9a5b16e5",
   "metadata": {},
   "source": [
    "# 3. break:-"
   ]
  },
  {
   "cell_type": "markdown",
   "id": "e65ca4a0",
   "metadata": {},
   "source": [
    " --> The Python break statement stops the loop in which the statement is placed.\n",
    "\n",
    "--> It terminates the current loop & resumes execution at the next statement."
   ]
  }
 ],
 "metadata": {
  "kernelspec": {
   "display_name": "Python 3 (ipykernel)",
   "language": "python",
   "name": "python3"
  },
  "language_info": {
   "codemirror_mode": {
    "name": "ipython",
    "version": 3
   },
   "file_extension": ".py",
   "mimetype": "text/x-python",
   "name": "python",
   "nbconvert_exporter": "python",
   "pygments_lexer": "ipython3",
   "version": "3.9.13"
  }
 },
 "nbformat": 4,
 "nbformat_minor": 5
}
