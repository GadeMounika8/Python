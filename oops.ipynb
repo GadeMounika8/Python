{
 "cells": [
  {
   "cell_type": "markdown",
   "id": "76ef0703",
   "metadata": {},
   "source": [
    "# OOPS Concept in Python"
   ]
  },
  {
   "cell_type": "markdown",
   "id": "73aa1016",
   "metadata": {},
   "source": [
    "--> The main concepts of Object Oriented Programming in Python are:\n",
    "    \n",
    "           1. Class\n",
    "           2. Object\n",
    "           3. Abstraction\n",
    "           4. Encapsulation\n",
    "           5. Inheritance\n",
    "           6. Polymorphism"
   ]
  },
  {
   "cell_type": "markdown",
   "id": "b39d1644",
   "metadata": {},
   "source": [
    "# 1. Class:"
   ]
  },
  {
   "cell_type": "markdown",
   "id": "e5173932",
   "metadata": {},
   "source": [
    "--> Class is a Blue Print which is followed by Objects.\n",
    "\n",
    "--> Class can be defined as Logical Structure with behavior.\n",
    "\n",
    "--> A Class can have multiple Objects (or) instances.\n",
    "\n",
    "--> A Class can have Attributes(data) & functions(function) i.e., Class Members\n"
   ]
  },
  {
   "cell_type": "markdown",
   "id": "3eddd769",
   "metadata": {},
   "source": [
    "--> We have to create Object to access Class Members.\n",
    "\n",
    "--> Class represents a Block of Code(i.e., data & functions)"
   ]
  },
  {
   "cell_type": "markdown",
   "id": "f5a61e0a",
   "metadata": {},
   "source": [
    "# 2. Object:"
   ]
  },
  {
   "cell_type": "markdown",
   "id": "89306926",
   "metadata": {},
   "source": [
    "--> Object is a Instance of a Class(i.e., reference to a Class).\n",
    "\n",
    "--> Class Attributes & Functions are accessed by Object only.\n",
    "\n",
    "--> We can not access Class Members directly through Class Name."
   ]
  },
  {
   "cell_type": "markdown",
   "id": "6ff990fb",
   "metadata": {},
   "source": [
    "# Abstraction:"
   ]
  },
  {
   "cell_type": "markdown",
   "id": "fa57d371",
   "metadata": {},
   "source": [
    "--> Abstraction is nothing but the Implementation details can be Hidden.\n",
    "\n",
    "--> Showing Essential Details."
   ]
  },
  {
   "cell_type": "markdown",
   "id": "d0f38ff7",
   "metadata": {},
   "source": [
    "# Encapsulation:"
   ]
  },
  {
   "cell_type": "markdown",
   "id": "ee676085",
   "metadata": {},
   "source": [
    "--> Binding Data & Function into an Single Entity."
   ]
  },
  {
   "cell_type": "markdown",
   "id": "e76f88b7",
   "metadata": {},
   "source": [
    "--> There are three types of Access Specifiers:\n",
    "    \n",
    "        1. Public\n",
    "        2. Private\n",
    "        3. Protected"
   ]
  },
  {
   "cell_type": "markdown",
   "id": "5fc2d3f2",
   "metadata": {},
   "source": [
    "# 1. Public:"
   ]
  },
  {
   "cell_type": "markdown",
   "id": "c05ad3b5",
   "metadata": {},
   "source": [
    "--> The Data & Function available in one Class can be accessed in any Class by any Function."
   ]
  },
  {
   "cell_type": "markdown",
   "id": "9f6bcee0",
   "metadata": {},
   "source": [
    "# 2. Protected:"
   ]
  },
  {
   "cell_type": "markdown",
   "id": "c303a92c",
   "metadata": {},
   "source": [
    "--> It can be accessed by only Class (or) Class Inherited."
   ]
  },
  {
   "cell_type": "markdown",
   "id": "44daebb2",
   "metadata": {},
   "source": [
    "3. Private:"
   ]
  },
  {
   "cell_type": "markdown",
   "id": "df713ff6",
   "metadata": {},
   "source": [
    "# 3. Private:"
   ]
  },
  {
   "cell_type": "markdown",
   "id": "8f7170af",
   "metadata": {},
   "source": [
    "--> Accessed only by that Particular Class."
   ]
  },
  {
   "cell_type": "markdown",
   "id": "abeb5b81",
   "metadata": {},
   "source": [
    "# Inheritance:"
   ]
  },
  {
   "cell_type": "markdown",
   "id": "ea76f559",
   "metadata": {},
   "source": [
    "--> Base Class (or) Parent Class.\n",
    "\n",
    "--> Derived Class (or) Child Class.\n",
    "\n",
    "--> Derived Class inherits the Properties of Base Class.\n",
    "\n",
    "--> Inheritance deals with the Class whereas Polymorphism deals with the Methods."
   ]
  },
  {
   "cell_type": "markdown",
   "id": "a3c44327",
   "metadata": {},
   "source": [
    "# Polymorphism:"
   ]
  },
  {
   "cell_type": "markdown",
   "id": "578c18f2",
   "metadata": {},
   "source": [
    "--> Implementing same method in different context.\n",
    "\n",
    "--> Methods with same name implementing in different way."
   ]
  },
  {
   "cell_type": "markdown",
   "id": "5fad684b",
   "metadata": {},
   "source": [
    "--> self is a first parameter (or) argument we should pass into the user defined function Defination in class. If you do not use self parameter, definitely you will get an error.\n",
    "\n",
    "--> self is an implicit Instance (or) reference of same class & it is mandatory parameter."
   ]
  },
  {
   "cell_type": "markdown",
   "id": "fa9ec3b2",
   "metadata": {},
   "source": [
    "--> Variables which are declared inside the class & outside the function, but not inside the functions, those variables is known as Instance Variables.\n",
    "\n",
    "--> Instance Variables can be accessed by object name (or) class name."
   ]
  },
  {
   "cell_type": "markdown",
   "id": "8406fa93",
   "metadata": {},
   "source": [
    "--> The Variables which are declared inside the function is called as Local Variables & directly access these Variables."
   ]
  },
  {
   "cell_type": "markdown",
   "id": "3c402945",
   "metadata": {},
   "source": [
    "--> The main difference between Instance Variables & Local Variables is:\n",
    "    \n",
    "    * Instance Variables are declared inside the class and outside the function whereas Local Variables are declared inside the functions only.\n",
    "    \n",
    "    * We can access Instance Variables with the help of object name (or) class name whereas Local variables can be accessed directly with variable name."
   ]
  },
  {
   "cell_type": "markdown",
   "id": "96057f97",
   "metadata": {},
   "source": [
    "# Inheritance:"
   ]
  },
  {
   "cell_type": "markdown",
   "id": "129dc547",
   "metadata": {},
   "source": [
    "# --> Inheritance is nothing but acquiring the Properties.\n",
    "\n",
    "--> In Inheritance, Base Classes & Derived Class;es are present.\n",
    "\n",
    "--> Base Class is having Variables & Methods.\n",
    "\n",
    "--> Derived Class is also having Variables & Methods.\n",
    "\n",
    "--> We should create an Object for Base Class to access Variables & Methods of Base Class.\n",
    "\n",
    "--> We should create an Object for Derived Class to access Variables & Methods of Derived Class.\n",
    "\n",
    "--> If Derived Class is inherited by the Base Class then the Derived Class is acquired the properties of Base Class."
   ]
  },
  {
   "cell_type": "markdown",
   "id": "6718ba55",
   "metadata": {},
   "source": [
    "# Types of Inheritance:\n",
    "    \n",
    "    1. Single Inheritance\n",
    "    \n",
    "    2. Multi Inheritance\n",
    "    \n",
    "    3. Hierarchical Inheritace\n",
    "    \n",
    "    4. Multiple Inheritance"
   ]
  },
  {
   "cell_type": "markdown",
   "id": "cba6d732",
   "metadata": {},
   "source": [
    "# 1. Single inheritance:"
   ]
  },
  {
   "cell_type": "markdown",
   "id": "8e0b39dd",
   "metadata": {},
   "source": [
    "--> In Single Inheritance, Base Class & Derived Class is Present."
   ]
  },
  {
   "cell_type": "markdown",
   "id": "0b15b192",
   "metadata": {},
   "source": [
    "--> In Single inheritance, Derived (or) Child Class is acquiring the Properties from Base Class (or) Parent Class. "
   ]
  },
  {
   "cell_type": "markdown",
   "id": "d29d4ec8",
   "metadata": {},
   "source": [
    "--> We have to pass the Base (or) Parent Class name as a Parameter to the Derived (or) Child Class."
   ]
  },
  {
   "cell_type": "markdown",
   "id": "473c1978",
   "metadata": {},
   "source": [
    "# 2. Multi-Level Inheritance:"
   ]
  },
  {
   "cell_type": "markdown",
   "id": "4db3ab86",
   "metadata": {},
   "source": [
    "--> In Multi-Level Inheritance, Grand Parent, Parent & Child classes are Present.\n",
    "\n",
    "--> Child Class acquires the Properties of Parent class & again Parent class acquires the Properties of Grand Parent Class."
   ]
  },
  {
   "cell_type": "markdown",
   "id": "8c15aa90",
   "metadata": {},
   "source": [
    "# 3. Hierarchical Inheritance:"
   ]
  },
  {
   "cell_type": "markdown",
   "id": "cc416135",
   "metadata": {},
   "source": [
    "--> In Hierarchical Inheritance, One Base Class & Multiple Derived Classes are Present.\n",
    "\n",
    "--> Multiple Child Classes can be acquired the Properties of Single Base Class."
   ]
  },
  {
   "cell_type": "markdown",
   "id": "2d5b08f1",
   "metadata": {},
   "source": [
    "# 4. Multiple Inheritance:"
   ]
  },
  {
   "cell_type": "markdown",
   "id": "a3394374",
   "metadata": {},
   "source": [
    "--> Multiple Inheritance is nothing but a Derived Class is acquiring the Properties from multiple parents (or) Base classes."
   ]
  },
  {
   "cell_type": "markdown",
   "id": "86dd81c5",
   "metadata": {},
   "source": [
    "--> Acquiring the Properties means Accessing the Variables & Methods."
   ]
  },
  {
   "cell_type": "markdown",
   "id": "9ac49608",
   "metadata": {},
   "source": [
    "# Encapsulation:"
   ]
  },
  {
   "cell_type": "code",
   "execution_count": null,
   "id": "e816c60a",
   "metadata": {},
   "outputs": [],
   "source": []
  },
  {
   "cell_type": "code",
   "execution_count": null,
   "id": "b3d789e8",
   "metadata": {},
   "outputs": [],
   "source": []
  },
  {
   "cell_type": "code",
   "execution_count": null,
   "id": "35336ce1",
   "metadata": {},
   "outputs": [],
   "source": []
  },
  {
   "cell_type": "markdown",
   "id": "d7804b7e",
   "metadata": {},
   "source": [
    "# Abstraction:"
   ]
  },
  {
   "cell_type": "markdown",
   "id": "fd3ff9a9",
   "metadata": {},
   "source": [
    "--> Abstraction Class which has Abstract Methods.\n",
    "\n",
    "--> Abstract Method is a Method with declaration but not the definition."
   ]
  },
  {
   "cell_type": "markdown",
   "id": "d2cbf551",
   "metadata": {},
   "source": [
    "--> Concrete Class means the Class which does not have any Abstract Methods.\n",
    "\n",
    "--> Object can not be instantiated (or) created for Abstract class.\n",
    "\n",
    "--> Object can be instantiated (or) created for concrete class. \n",
    "\n",
    "--> Abstract Class can be converted into concrete class by inheriting the Properties from Abstract Class.\n",
    "\n",
    "--> that means Implementing / Defining all the abstract methods available in abstract class."
   ]
  },
  {
   "cell_type": "markdown",
   "id": "f81570b1",
   "metadata": {},
   "source": [
    "--> First, import ABC & abstractmethod classes from module abc.\n",
    "\n",
    "--> ABC - Abstract Base Class is to maintain the classes of an abstract.\n",
    "\n",
    "--> abstractmethod is used as a decorator. Whatever the method we are writing as an abstract method we have to decorate that method with the help of abstractmethod"
   ]
  },
  {
   "cell_type": "markdown",
   "id": "29cd2955",
   "metadata": {},
   "source": [
    "# Polymorphism:"
   ]
  },
  {
   "cell_type": "markdown",
   "id": "14c84f8b",
   "metadata": {},
   "source": [
    "--> Implementing something in Different Ways.\n",
    "\n",
    "--> We can be achieved the Polymorphism by two ways:\n",
    "    \n",
    "      i. Overloading\n",
    "        \n",
    "      ii. Overriding"
   ]
  },
  {
   "cell_type": "markdown",
   "id": "e358ab32",
   "metadata": {},
   "source": [
    "# 1.Overloading:"
   ]
  },
  {
   "cell_type": "markdown",
   "id": "fe190fcd",
   "metadata": {},
   "source": [
    "i. Operator Overloading\n",
    "\n",
    "ii. Method Overloading"
   ]
  },
  {
   "cell_type": "markdown",
   "id": "ddc66218",
   "metadata": {},
   "source": [
    "# i. Operator Overloading:"
   ]
  },
  {
   "cell_type": "markdown",
   "id": "e131959d",
   "metadata": {},
   "source": [
    "--> + arithmetic operator canbe used for cancatenation of Strings and Addition of Numbers."
   ]
  },
  {
   "cell_type": "markdown",
   "id": "f58464c9",
   "metadata": {},
   "source": [
    "# ii. Method Overloading:"
   ]
  },
  {
   "cell_type": "markdown",
   "id": "7ab4e757",
   "metadata": {},
   "source": [
    "--> Method name should be Same.\n",
    "\n",
    "--> Arguments must be different."
   ]
  },
  {
   "cell_type": "markdown",
   "id": "35584701",
   "metadata": {},
   "source": [
    "# 2. Method Overriding (Polymorphism):"
   ]
  },
  {
   "cell_type": "markdown",
   "id": "13c5cafc",
   "metadata": {},
   "source": [
    "--> Method name should be Same.\n",
    "\n",
    "--> Number of Arguments should be Same."
   ]
  },
  {
   "cell_type": "code",
   "execution_count": null,
   "id": "201e479d",
   "metadata": {},
   "outputs": [],
   "source": []
  }
 ],
 "metadata": {
  "kernelspec": {
   "display_name": "Python 3 (ipykernel)",
   "language": "python",
   "name": "python3"
  },
  "language_info": {
   "codemirror_mode": {
    "name": "ipython",
    "version": 3
   },
   "file_extension": ".py",
   "mimetype": "text/x-python",
   "name": "python",
   "nbconvert_exporter": "python",
   "pygments_lexer": "ipython3",
   "version": "3.9.13"
  }
 },
 "nbformat": 4,
 "nbformat_minor": 5
}
