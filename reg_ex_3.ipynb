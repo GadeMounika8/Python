{
 "cells": [
  {
   "cell_type": "markdown",
   "id": "d4e6f7d9",
   "metadata": {},
   "source": [
    "# Regular Expressions:"
   ]
  },
  {
   "cell_type": "code",
   "execution_count": 1,
   "id": "798bc96d",
   "metadata": {},
   "outputs": [],
   "source": [
    "import re"
   ]
  },
  {
   "cell_type": "code",
   "execution_count": 36,
   "id": "114a89d5",
   "metadata": {},
   "outputs": [],
   "source": [
    "a = \"A Good Laugh heals a lot of hurts\"\n",
    "b = \"A dark chacolate is a type of chacolates\"\n",
    "c = \"gademou1239@gmail.com\"\n",
    "d = \"hht,thh,hhh,ttt,hth,tht,tth,hth\"\n"
   ]
  },
  {
   "cell_type": "code",
   "execution_count": 16,
   "id": "2a90919b",
   "metadata": {},
   "outputs": [
    {
     "name": "stdout",
     "output_type": "stream",
     "text": [
      "None\n"
     ]
    }
   ],
   "source": [
    "a = \"A Good Laugh heals a lot of hurts\"\n",
    "str = re.search(r\"\\.\",a)\n",
    "print(str)"
   ]
  },
  {
   "cell_type": "code",
   "execution_count": 37,
   "id": "6af1f92b",
   "metadata": {},
   "outputs": [
    {
     "name": "stdout",
     "output_type": "stream",
     "text": [
      "None\n"
     ]
    }
   ],
   "source": [
    "b = \"A dark chacolate is a type of chacolates\"\n",
    "str = re.search(r\"\\.\",b)\n",
    "print(str)"
   ]
  },
  {
   "cell_type": "code",
   "execution_count": 18,
   "id": "163009d4",
   "metadata": {},
   "outputs": [
    {
     "name": "stdout",
     "output_type": "stream",
     "text": [
      "<re.Match object; span=(17, 18), match='.'>\n"
     ]
    }
   ],
   "source": [
    "c = \"gademou1239@gmail.com\"\n",
    "str = re.search(r\"\\.\",c)\n",
    "print(str)"
   ]
  },
  {
   "cell_type": "code",
   "execution_count": 21,
   "id": "59e1e5ec",
   "metadata": {},
   "outputs": [
    {
     "name": "stdout",
     "output_type": "stream",
     "text": [
      "None\n"
     ]
    }
   ],
   "source": [
    "d = \"hht,thh,hhh,ttt,hth,tht,tth,hth\" \n",
    "str = re.search(r\"\\.\",d)\n",
    "print(str)"
   ]
  },
  {
   "cell_type": "code",
   "execution_count": 19,
   "id": "b5691eed",
   "metadata": {},
   "outputs": [
    {
     "name": "stdout",
     "output_type": "stream",
     "text": [
      "<re.Match object; span=(11, 12), match='@'>\n"
     ]
    }
   ],
   "source": [
    "c = \"gademou1239@gmail.com\"\n",
    "str = re.search(r\"[@]\",c)\n",
    "print(str)"
   ]
  },
  {
   "cell_type": "code",
   "execution_count": 20,
   "id": "d63ba69c",
   "metadata": {},
   "outputs": [
    {
     "name": "stdout",
     "output_type": "stream",
     "text": [
      "<re.Match object; span=(18, 19), match='c'>\n"
     ]
    }
   ],
   "source": [
    "c = \"gademou1239@gmail.com\"\n",
    "str = re.search(r\"[c]\",c)\n",
    "print(str)"
   ]
  },
  {
   "cell_type": "code",
   "execution_count": 38,
   "id": "c74c33a1",
   "metadata": {},
   "outputs": [
    {
     "name": "stdout",
     "output_type": "stream",
     "text": [
      "<re.Match object; span=(7, 8), match='c'>\n"
     ]
    }
   ],
   "source": [
    "b = \"A dark chacolate is a type of chacolates\"\n",
    "str = re.search(r\"[c]\",b)\n",
    "print(str)"
   ]
  },
  {
   "cell_type": "code",
   "execution_count": 23,
   "id": "aa24c47a",
   "metadata": {},
   "outputs": [
    {
     "name": "stdout",
     "output_type": "stream",
     "text": [
      "<re.Match object; span=(8, 9), match='a'>\n"
     ]
    }
   ],
   "source": [
    "a = \"A Good Laugh heals a lot of hurts\"\n",
    "str = re.search(r\"[a]\",a)\n",
    "print(str)"
   ]
  },
  {
   "cell_type": "code",
   "execution_count": 25,
   "id": "3e5ac5d0",
   "metadata": {},
   "outputs": [
    {
     "name": "stdout",
     "output_type": "stream",
     "text": [
      "None\n"
     ]
    }
   ],
   "source": [
    "a = \"A Good Laugh heals a lot of hurts\"\n",
    "str = re.search(r\"^a\",a)\n",
    "print(str)"
   ]
  },
  {
   "cell_type": "code",
   "execution_count": 26,
   "id": "150df3bf",
   "metadata": {},
   "outputs": [
    {
     "name": "stdout",
     "output_type": "stream",
     "text": [
      "<re.Match object; span=(0, 1), match='A'>\n"
     ]
    }
   ],
   "source": [
    "a = \"A Good Laugh heals a lot of hurts\"\n",
    "str = re.search(r\"^A\",a)\n",
    "print(str)"
   ]
  },
  {
   "cell_type": "code",
   "execution_count": 27,
   "id": "effad3f7",
   "metadata": {},
   "outputs": [
    {
     "name": "stdout",
     "output_type": "stream",
     "text": [
      "<re.Match object; span=(0, 2), match='A '>\n"
     ]
    }
   ],
   "source": [
    "a = \"A Good Laugh heals a lot of hurts\"\n",
    "str = re.search(r\"^A \",a)\n",
    "print(str)"
   ]
  },
  {
   "cell_type": "code",
   "execution_count": 28,
   "id": "f2f434c0",
   "metadata": {},
   "outputs": [
    {
     "name": "stdout",
     "output_type": "stream",
     "text": [
      "<re.Match object; span=(0, 6), match='A Good'>\n"
     ]
    }
   ],
   "source": [
    "a = \"A Good Laugh heals a lot of hurts\"\n",
    "str = re.search(r\"^A Good\",a)\n",
    "print(str)"
   ]
  },
  {
   "cell_type": "code",
   "execution_count": 29,
   "id": "919dd8c7",
   "metadata": {},
   "outputs": [
    {
     "name": "stdout",
     "output_type": "stream",
     "text": [
      "<re.Match object; span=(0, 2), match='ga'>\n"
     ]
    }
   ],
   "source": [
    "c = \"gademou1239@gmail.com\"\n",
    "str = re.search(r\"ga\",c)\n",
    "print(str)"
   ]
  },
  {
   "cell_type": "code",
   "execution_count": 30,
   "id": "503b5633",
   "metadata": {},
   "outputs": [
    {
     "name": "stdout",
     "output_type": "stream",
     "text": [
      "<re.Match object; span=(0, 4), match='gade'>\n"
     ]
    }
   ],
   "source": [
    "c = \"gademou1239@gmail.com\"\n",
    "str = re.search(r\"^gade\",c)\n",
    "print(str)"
   ]
  },
  {
   "cell_type": "code",
   "execution_count": 31,
   "id": "73b31494",
   "metadata": {},
   "outputs": [
    {
     "name": "stdout",
     "output_type": "stream",
     "text": [
      "<re.Match object; span=(18, 21), match='com'>\n"
     ]
    }
   ],
   "source": [
    "c = \"gademou1239@gmail.com\"\n",
    "str = re.search(r\"com$\",c)\n",
    "print(str)"
   ]
  },
  {
   "cell_type": "code",
   "execution_count": 32,
   "id": "b14e094e",
   "metadata": {},
   "outputs": [
    {
     "name": "stdout",
     "output_type": "stream",
     "text": [
      "None\n"
     ]
    }
   ],
   "source": [
    "c = \"gademou1239@gmail.com\"\n",
    "str = re.search(r\"mail$\",c)\n",
    "print(str)"
   ]
  },
  {
   "cell_type": "code",
   "execution_count": 40,
   "id": "797c8525",
   "metadata": {},
   "outputs": [
    {
     "name": "stdout",
     "output_type": "stream",
     "text": [
      "['cha', 'cha']\n"
     ]
    }
   ],
   "source": [
    "b = \"A dark chacolate is a type of chacolates\"\n",
    "str = re.findall(r\"c.a\",b)\n",
    "print(str)"
   ]
  },
  {
   "cell_type": "code",
   "execution_count": 42,
   "id": "fcafe955",
   "metadata": {},
   "outputs": [
    {
     "name": "stdout",
     "output_type": "stream",
     "text": [
      "['is', 'of']\n"
     ]
    }
   ],
   "source": [
    "b = \"A dark chacolate is a type of chacolates\"\n",
    "str = re.findall(r\"is|of\",b)\n",
    "print(str)"
   ]
  },
  {
   "cell_type": "code",
   "execution_count": 44,
   "id": "9e4bb277",
   "metadata": {},
   "outputs": [
    {
     "name": "stdout",
     "output_type": "stream",
     "text": [
      "['dark', 'chacolates']\n"
     ]
    }
   ],
   "source": [
    "b = \"A dark chacolate is a type of chacolates\"\n",
    "str = re.findall(r\"dark|chacolates\",b)\n",
    "print(str)"
   ]
  },
  {
   "cell_type": "code",
   "execution_count": 45,
   "id": "acbcf02a",
   "metadata": {},
   "outputs": [
    {
     "name": "stdout",
     "output_type": "stream",
     "text": [
      "['dark', 'chacolate', 'chacolate']\n"
     ]
    }
   ],
   "source": [
    "b = \"A dark chacolate is a type of chacolates\"\n",
    "str = re.findall(r\"dark|chacolate\",b)\n",
    "print(str)"
   ]
  },
  {
   "cell_type": "code",
   "execution_count": 46,
   "id": "4aeb0764",
   "metadata": {},
   "outputs": [
    {
     "name": "stdout",
     "output_type": "stream",
     "text": [
      "['dark', 'late', 'late']\n"
     ]
    }
   ],
   "source": [
    "b = \"A dark chacolate is a type of chacolates\"\n",
    "str = re.findall(r\"dark|late\",b)\n",
    "print(str)"
   ]
  },
  {
   "cell_type": "code",
   "execution_count": 47,
   "id": "73974ccb",
   "metadata": {},
   "outputs": [
    {
     "name": "stdout",
     "output_type": "stream",
     "text": [
      "<re.Match object; span=(2, 6), match='dark'>\n"
     ]
    }
   ],
   "source": [
    "b = \"A dark chacolate is a type of chacolates\"\n",
    "str = re.search(r\"dark|late\",b)\n",
    "print(str)"
   ]
  },
  {
   "cell_type": "code",
   "execution_count": 2,
   "id": "3ae890a2",
   "metadata": {},
   "outputs": [],
   "source": [
    "import re"
   ]
  },
  {
   "cell_type": "code",
   "execution_count": 3,
   "id": "1d38aded",
   "metadata": {},
   "outputs": [
    {
     "name": "stdout",
     "output_type": "stream",
     "text": [
      "['cha', 'cha']\n"
     ]
    }
   ],
   "source": [
    "p = \"A dark chacolate is a type of chacolates.cocoa powder is rich in theobromine.coa is a financial,organization tool\"\n",
    "str = re.findall(r\"ch?a\",p)\n",
    "print(str)"
   ]
  },
  {
   "cell_type": "code",
   "execution_count": 5,
   "id": "1d5751d9",
   "metadata": {},
   "outputs": [
    {
     "name": "stdout",
     "output_type": "stream",
     "text": [
      "['cha', 'cha', 'cha']\n"
     ]
    }
   ],
   "source": [
    "p = \"A dark chacolate is a type of chacolates.cocoa powder is rich in theobromine.coa is a financial,organization tool.channel\"\n",
    "str = re.findall(r\"ch*a\",p)\n",
    "print(str)"
   ]
  },
  {
   "cell_type": "code",
   "execution_count": 6,
   "id": "9fea8446",
   "metadata": {},
   "outputs": [
    {
     "name": "stdout",
     "output_type": "stream",
     "text": [
      "<re.Match object; span=(0, 3), match='hht'>\n"
     ]
    }
   ],
   "source": [
    "d = \"hht,thh,hhh,ttt,hth,tht,tth,hth\" \n",
    "str = re.search(r\"h+t\",d)\n",
    "print(str)"
   ]
  },
  {
   "cell_type": "code",
   "execution_count": 7,
   "id": "e27b49bd",
   "metadata": {},
   "outputs": [
    {
     "name": "stdout",
     "output_type": "stream",
     "text": [
      "['hht', 'ht', 'ht', 'ht']\n"
     ]
    }
   ],
   "source": [
    "d = \"hht,thh,hhh,ttt,hth,tht,tth,hth\" \n",
    "str = re.findall(r\"h+t\",d)\n",
    "print(str)"
   ]
  },
  {
   "cell_type": "code",
   "execution_count": 8,
   "id": "7c618ef9",
   "metadata": {},
   "outputs": [
    {
     "name": "stdout",
     "output_type": "stream",
     "text": [
      "['ttt', 'tt']\n"
     ]
    }
   ],
   "source": [
    "d = \"hht,thh,hhh,ttt,hth,tht,tth,hth\" \n",
    "str = re.findall(r\"t{2,4}\",d)\n",
    "print(str)"
   ]
  },
  {
   "cell_type": "code",
   "execution_count": 9,
   "id": "e5b129d4",
   "metadata": {},
   "outputs": [
    {
     "name": "stdout",
     "output_type": "stream",
     "text": [
      "['t', 't', 'tt', 't', 't', 't', 't', 'tt', 't']\n"
     ]
    }
   ],
   "source": [
    "d = \"hht,thh,hhh,ttt,hth,tht,tth,hth\" \n",
    "str = re.findall(r\"t{1,2}\",d)\n",
    "print(str)"
   ]
  },
  {
   "cell_type": "code",
   "execution_count": 10,
   "id": "48a2c4cf",
   "metadata": {},
   "outputs": [
    {
     "name": "stdout",
     "output_type": "stream",
     "text": [
      "['t', 't', 'ttt', 't', 't', 't', 'tt', 't']\n"
     ]
    }
   ],
   "source": [
    "d = \"hht,thh,hhh,ttt,hth,tht,tth,hth\" \n",
    "str = re.findall(r\"t{1,4}\",d)\n",
    "print(str)"
   ]
  },
  {
   "cell_type": "code",
   "execution_count": 11,
   "id": "6618ded4",
   "metadata": {},
   "outputs": [
    {
     "name": "stdout",
     "output_type": "stream",
     "text": [
      "['t', 't', 'ttt', 't', 't', 't', 'tt', 't']\n"
     ]
    }
   ],
   "source": [
    "d = \"hht,thh,hhh,ttt,hth,tht,tth,hth\" \n",
    "str = re.findall(r\"t{1,3}\",d)\n",
    "print(str)"
   ]
  },
  {
   "cell_type": "code",
   "execution_count": 12,
   "id": "b9840d76",
   "metadata": {},
   "outputs": [
    {
     "name": "stdout",
     "output_type": "stream",
     "text": [
      "['hh', 'hh', 'hhh', 'h', 'h', 'h', 'h', 'h', 'h']\n"
     ]
    }
   ],
   "source": [
    "d = \"hht,thh,hhh,ttt,hth,tht,tth,hth\" \n",
    "str = re.findall(r\"h{1,3}\",d)\n",
    "print(str)"
   ]
  },
  {
   "cell_type": "code",
   "execution_count": 16,
   "id": "7b3f46ea",
   "metadata": {},
   "outputs": [
    {
     "name": "stdout",
     "output_type": "stream",
     "text": [
      "['ht', 'ht', 'ht', 'ht']\n"
     ]
    }
   ],
   "source": [
    "d = \"hht,thh,hhh,ttt,hth,tht,tth,hth\" \n",
    "str = re.findall(r\"ht\",d)\n",
    "print(str)"
   ]
  },
  {
   "cell_type": "code",
   "execution_count": 17,
   "id": "2ba40a56",
   "metadata": {},
   "outputs": [
    {
     "name": "stdout",
     "output_type": "stream",
     "text": [
      "['h', 't', 'h', 'h', 't', 'h']\n"
     ]
    }
   ],
   "source": [
    "d = \"hht,thh,hhh,ttt,hth,tht,tth,hth\" \n",
    "str = re.findall(r\"(h|t)t\",d)\n",
    "print(str)"
   ]
  },
  {
   "cell_type": "code",
   "execution_count": 18,
   "id": "57182b40",
   "metadata": {},
   "outputs": [
    {
     "name": "stdout",
     "output_type": "stream",
     "text": [
      "['tt']\n"
     ]
    }
   ],
   "source": [
    "d = \"hht,thh,hhh,ttt,hth,tht,tth,hth\" \n",
    "str = re.findall(r\"(ht|tt)t\",d)\n",
    "print(str)"
   ]
  },
  {
   "cell_type": "code",
   "execution_count": 4,
   "id": "2e4e4a77",
   "metadata": {},
   "outputs": [],
   "source": [
    "import re"
   ]
  },
  {
   "cell_type": "code",
   "execution_count": 5,
   "id": "ef3300f2",
   "metadata": {},
   "outputs": [
    {
     "name": "stdout",
     "output_type": "stream",
     "text": [
      "<re.Match object; span=(0, 4), match='para'>\n"
     ]
    }
   ],
   "source": [
    "str = \"parameshwara\"\n",
    "match = re.search(r'\\Apara',str)\n",
    "print(match)                  "
   ]
  },
  {
   "cell_type": "code",
   "execution_count": 6,
   "id": "865415f3",
   "metadata": {},
   "outputs": [
    {
     "name": "stdout",
     "output_type": "stream",
     "text": [
      "None\n"
     ]
    }
   ],
   "source": [
    "str = \"parameshwara\"\n",
    "match = re.search(r'\\Ashiva',str)\n",
    "print(match)   "
   ]
  },
  {
   "cell_type": "code",
   "execution_count": 7,
   "id": "21e0f126",
   "metadata": {},
   "outputs": [
    {
     "name": "stdout",
     "output_type": "stream",
     "text": [
      "<re.Match object; span=(0, 1), match='p'>\n"
     ]
    }
   ],
   "source": [
    "str = \"parameshwara\"\n",
    "match = re.search(r'\\Ap',str)\n",
    "print(match)       "
   ]
  },
  {
   "cell_type": "code",
   "execution_count": 8,
   "id": "3f076254",
   "metadata": {},
   "outputs": [
    {
     "name": "stdout",
     "output_type": "stream",
     "text": [
      "<re.Match object; span=(0, 1), match='p'>\n"
     ]
    }
   ],
   "source": [
    "str = \"parameshwara\"\n",
    "match = re.search(r'\\bp',str)\n",
    "print(match) "
   ]
  },
  {
   "cell_type": "code",
   "execution_count": 10,
   "id": "e21db2db",
   "metadata": {},
   "outputs": [
    {
     "name": "stdout",
     "output_type": "stream",
     "text": [
      "None\n"
     ]
    }
   ],
   "source": [
    "str = \"parameshwara\"\n",
    "match = re.search(r'\\ba',str)\n",
    "print(match) "
   ]
  },
  {
   "cell_type": "code",
   "execution_count": 11,
   "id": "ee922412",
   "metadata": {},
   "outputs": [
    {
     "name": "stdout",
     "output_type": "stream",
     "text": [
      "None\n"
     ]
    }
   ],
   "source": [
    "str = \"parameshwara\"\n",
    "match = re.search(r'ha\\B',str)\n",
    "print(match)"
   ]
  },
  {
   "cell_type": "code",
   "execution_count": 12,
   "id": "150ee5d6",
   "metadata": {},
   "outputs": [
    {
     "name": "stdout",
     "output_type": "stream",
     "text": [
      "<re.Match object; span=(0, 2), match='pa'>\n"
     ]
    }
   ],
   "source": [
    "str = \"parameshwara\"\n",
    "match = re.search(r'pa\\B',str)\n",
    "print(match)"
   ]
  },
  {
   "cell_type": "code",
   "execution_count": 13,
   "id": "b3a7dd22",
   "metadata": {},
   "outputs": [
    {
     "name": "stdout",
     "output_type": "stream",
     "text": [
      "<re.Match object; span=(2, 4), match='ra'>\n"
     ]
    }
   ],
   "source": [
    "str = \"parameshwara\"\n",
    "match = re.search(r'\\Bra',str)\n",
    "print(match)"
   ]
  },
  {
   "cell_type": "code",
   "execution_count": 18,
   "id": "78c9b0e0",
   "metadata": {},
   "outputs": [
    {
     "name": "stdout",
     "output_type": "stream",
     "text": [
      "<re.Match object; span=(12, 13), match='9'>\n"
     ]
    }
   ],
   "source": [
    "str = \"parameshwara999\"\n",
    "match = re.search(r'\\B9',str)\n",
    "print(match)"
   ]
  },
  {
   "cell_type": "code",
   "execution_count": 19,
   "id": "5a7b4578",
   "metadata": {},
   "outputs": [
    {
     "name": "stdout",
     "output_type": "stream",
     "text": [
      "<re.Match object; span=(12, 13), match='9'>\n"
     ]
    }
   ],
   "source": [
    "str = \"parameshwara999\"\n",
    "match = re.search(r'\\d',str)\n",
    "print(match)"
   ]
  },
  {
   "cell_type": "code",
   "execution_count": 20,
   "id": "ba4daea6",
   "metadata": {},
   "outputs": [
    {
     "name": "stdout",
     "output_type": "stream",
     "text": [
      "['9', '9', '9']\n"
     ]
    }
   ],
   "source": [
    "str1 = \"parameshwara999\"\n",
    "match = re.findall(r'\\d',str1)\n",
    "print(match)"
   ]
  },
  {
   "cell_type": "code",
   "execution_count": 22,
   "id": "afc3c098",
   "metadata": {},
   "outputs": [
    {
     "name": "stdout",
     "output_type": "stream",
     "text": [
      "['p', 'a', 'r', 'a', 'm', 'e', 's', 'h', 'w', 'a', 'r', 'a', '@', 'g', 'm', 'a', 'i', 'l', '.', 'c', 'o', 'm']\n"
     ]
    }
   ],
   "source": [
    "str1 = \"parameshwara999@gmail.com\"\n",
    "match = re.findall(r'\\D',str1)\n",
    "print(match)"
   ]
  },
  {
   "cell_type": "code",
   "execution_count": 23,
   "id": "87259b75",
   "metadata": {},
   "outputs": [
    {
     "name": "stdout",
     "output_type": "stream",
     "text": [
      "['p', 'a', 'r', 'a', 'm', 'e', 's', 'h', 'w', 'a', 'r', 'a', ' ', ' ', '@', 'g', ' ', '.']\n"
     ]
    }
   ],
   "source": [
    "str2 = \"parameshwara 999 @g .345\"\n",
    "match = re.findall(r'\\D',str2)\n",
    "print(match)"
   ]
  },
  {
   "cell_type": "code",
   "execution_count": 24,
   "id": "c8ec865c",
   "metadata": {},
   "outputs": [
    {
     "name": "stdout",
     "output_type": "stream",
     "text": [
      "['p', 'a', 'r', 'a', 'm', 'e', 's', 'h', 'w', 'a', 'r', 'a', '9', '9', '9', '@', 'g', '.', '3', '4', '5']\n"
     ]
    }
   ],
   "source": [
    "str2 = \"parameshwara 999 @g .345\"\n",
    "match = re.findall(r'\\S',str2)\n",
    "print(match)"
   ]
  },
  {
   "cell_type": "code",
   "execution_count": 25,
   "id": "5ba9c839",
   "metadata": {},
   "outputs": [
    {
     "name": "stdout",
     "output_type": "stream",
     "text": [
      "[' ', ' ', ' ']\n"
     ]
    }
   ],
   "source": [
    "str2 = \"parameshwara 999 @g .345\"\n",
    "match = re.findall(r'\\s',str2)\n",
    "print(match)"
   ]
  },
  {
   "cell_type": "code",
   "execution_count": 26,
   "id": "3f183011",
   "metadata": {},
   "outputs": [
    {
     "name": "stdout",
     "output_type": "stream",
     "text": [
      "['p', 'a', 'r', 'a', 'm', 'e', 's', 'h', 'w', 'a', 'r', 'a', '9', '9', '9', 'g', '3', '4', '5']\n"
     ]
    }
   ],
   "source": [
    "str2 = \"parameshwara 999 @g .345\"\n",
    "match = re.findall(r'\\w',str2)\n",
    "print(match)"
   ]
  },
  {
   "cell_type": "code",
   "execution_count": 27,
   "id": "04db33bc",
   "metadata": {},
   "outputs": [
    {
     "name": "stdout",
     "output_type": "stream",
     "text": [
      "[' ', ' ', '@', ' ', '.']\n"
     ]
    }
   ],
   "source": [
    "str2 = \"parameshwara 999 @g .345\"\n",
    "match = re.findall(r'\\W',str2)\n",
    "print(match)"
   ]
  },
  {
   "cell_type": "code",
   "execution_count": 31,
   "id": "f709b87c",
   "metadata": {},
   "outputs": [
    {
     "name": "stdout",
     "output_type": "stream",
     "text": [
      "['5']\n"
     ]
    }
   ],
   "source": [
    "str2 = \"parameshwara 999 @g .345\"\n",
    "match = re.findall(r'5\\Z',str2)\n",
    "print(match)"
   ]
  },
  {
   "cell_type": "code",
   "execution_count": 32,
   "id": "80085081",
   "metadata": {},
   "outputs": [
    {
     "name": "stdout",
     "output_type": "stream",
     "text": [
      "['345']\n"
     ]
    }
   ],
   "source": [
    "str2 = \"parameshwara 999 @g .345\"\n",
    "match = re.findall(r'345\\Z',str2)\n",
    "print(match)"
   ]
  },
  {
   "cell_type": "code",
   "execution_count": 33,
   "id": "56320f38",
   "metadata": {},
   "outputs": [
    {
     "name": "stdout",
     "output_type": "stream",
     "text": [
      "<re.Match object; span=(21, 24), match='345'>\n"
     ]
    }
   ],
   "source": [
    "str2 = \"parameshwara 999 @g .345\"\n",
    "match = re.search(r'345\\Z',str2)\n",
    "print(match)"
   ]
  },
  {
   "cell_type": "code",
   "execution_count": 34,
   "id": "c9ee22e2",
   "metadata": {},
   "outputs": [
    {
     "name": "stdout",
     "output_type": "stream",
     "text": [
      "[]\n"
     ]
    }
   ],
   "source": [
    "str2 = \"parameshwara 999 @g .345\"\n",
    "match = re.findall(r'9\\Z',str2)\n",
    "print(match)"
   ]
  },
  {
   "cell_type": "code",
   "execution_count": 36,
   "id": "409b1ab2",
   "metadata": {},
   "outputs": [
    {
     "name": "stdout",
     "output_type": "stream",
     "text": [
      "None\n"
     ]
    }
   ],
   "source": [
    "str2 = \"parameshwara 999 @g .345\"\n",
    "match = re.search(r'9\\Z',str2)\n",
    "print(match)"
   ]
  },
  {
   "cell_type": "code",
   "execution_count": 38,
   "id": "14008229",
   "metadata": {},
   "outputs": [
    {
     "name": "stdout",
     "output_type": "stream",
     "text": [
      "['a', 'r', 'a', 'a', 'r', 'a']\n"
     ]
    }
   ],
   "source": [
    "str2 = \"parameshwara 999 @g .345\"\n",
    "match = re.findall(r'[ra]',str2)\n",
    "print(match)"
   ]
  },
  {
   "cell_type": "code",
   "execution_count": 39,
   "id": "34098bdc",
   "metadata": {},
   "outputs": [
    {
     "name": "stdout",
     "output_type": "stream",
     "text": [
      "['p', 'm', 'e', 's', 'h', 'w', ' ', '9', '9', '9', ' ', '@', 'g', ' ', '.', '3', '4', '5']\n"
     ]
    }
   ],
   "source": [
    "str2 = \"parameshwara 999 @g .345\"\n",
    "match = re.findall(r'[^ra]',str2)\n",
    "print(match)"
   ]
  },
  {
   "cell_type": "code",
   "execution_count": 41,
   "id": "5b9b0939",
   "metadata": {},
   "outputs": [
    {
     "name": "stdout",
     "output_type": "stream",
     "text": [
      "['p', 'a', 'r', 'a', 'm', 'e', 's', 'h', 'w', 'a', 'r', 'a', 'g']\n"
     ]
    }
   ],
   "source": [
    "str2 = \"parameshwara 999 @g .345\"\n",
    "match = re.findall(r'[a-w]',str2)\n",
    "print(match)"
   ]
  },
  {
   "cell_type": "code",
   "execution_count": 42,
   "id": "9088a249",
   "metadata": {},
   "outputs": [
    {
     "name": "stdout",
     "output_type": "stream",
     "text": [
      "['9', '9', '9', '3', '4', '5']\n"
     ]
    }
   ],
   "source": [
    "str2 = \"parameshwara 999 @g .345\"\n",
    "match = re.findall(r'[3459]',str2)\n",
    "print(match)"
   ]
  },
  {
   "cell_type": "markdown",
   "id": "06e1d7e7",
   "metadata": {},
   "source": [
    "   or"
   ]
  },
  {
   "cell_type": "code",
   "execution_count": 43,
   "id": "bd270b09",
   "metadata": {},
   "outputs": [
    {
     "name": "stdout",
     "output_type": "stream",
     "text": [
      "['9', '9', '9', '3', '4', '5']\n"
     ]
    }
   ],
   "source": [
    "str2 = \"parameshwara 999 @g .345\"\n",
    "match = re.findall(r'[0-9]',str2)\n",
    "print(match)"
   ]
  },
  {
   "cell_type": "markdown",
   "id": "f28b50e9",
   "metadata": {},
   "source": [
    "   or"
   ]
  },
  {
   "cell_type": "code",
   "execution_count": 44,
   "id": "23637cfa",
   "metadata": {},
   "outputs": [
    {
     "name": "stdout",
     "output_type": "stream",
     "text": [
      "['9', '9', '9', '3', '4', '5']\n"
     ]
    }
   ],
   "source": [
    "str2 = \"parameshwara 999 @g .345\"\n",
    "match = re.findall(r'\\d',str2)\n",
    "print(match)"
   ]
  },
  {
   "cell_type": "code",
   "execution_count": 60,
   "id": "6e8f9ab0",
   "metadata": {},
   "outputs": [],
   "source": [
    "import re"
   ]
  },
  {
   "cell_type": "code",
   "execution_count": 45,
   "id": "e316650d",
   "metadata": {},
   "outputs": [
    {
     "name": "stdout",
     "output_type": "stream",
     "text": [
      "['9', '9', '9', '3', '4', '5', '1', '3', '9']\n"
     ]
    }
   ],
   "source": [
    "str3 = \"parameshwara 999 @g .345#^$HII139,hey\"\n",
    "match = re.findall(r'\\d',str3)\n",
    "print(match)"
   ]
  },
  {
   "cell_type": "code",
   "execution_count": 46,
   "id": "14e05e2a",
   "metadata": {},
   "outputs": [
    {
     "name": "stdout",
     "output_type": "stream",
     "text": [
      "['99', '34', '13']\n"
     ]
    }
   ],
   "source": [
    "str3 = \"parameshwara 999 @g .345#^$HII139,hey\"\n",
    "match = re.findall(r'[0-9][0-9]',str3)\n",
    "print(match)"
   ]
  },
  {
   "cell_type": "code",
   "execution_count": 47,
   "id": "1705fb13",
   "metadata": {},
   "outputs": [
    {
     "name": "stdout",
     "output_type": "stream",
     "text": [
      "['34', '13']\n"
     ]
    }
   ],
   "source": [
    "str3 = \"parameshwara 999 @g .345#^$HII139,hey\"\n",
    "match = re.findall(r'[0-9][0-6]',str3)\n",
    "print(match)"
   ]
  },
  {
   "cell_type": "code",
   "execution_count": 48,
   "id": "44d1ddfc",
   "metadata": {},
   "outputs": [
    {
     "name": "stdout",
     "output_type": "stream",
     "text": [
      "['34', '13']\n"
     ]
    }
   ],
   "source": [
    "str3 = \"parameshwara 999 @g .345#^$HII139,hey\"\n",
    "match = re.findall(r'[0-5][0-6]',str3)\n",
    "print(match)"
   ]
  },
  {
   "cell_type": "code",
   "execution_count": 50,
   "id": "5a5ebfe9",
   "metadata": {},
   "outputs": [
    {
     "name": "stdout",
     "output_type": "stream",
     "text": [
      "['13']\n"
     ]
    }
   ],
   "source": [
    "str3 = \"parameshwara 999 @g .345#^$HII139,hey\"\n",
    "match = re.findall(r'[0-8][0-3]',str3)\n",
    "print(match)"
   ]
  },
  {
   "cell_type": "code",
   "execution_count": 52,
   "id": "7c7ec22f",
   "metadata": {},
   "outputs": [
    {
     "name": "stdout",
     "output_type": "stream",
     "text": [
      "['p', 'a', 'r', 'a', 'm', 'e', 's', 'h', 'w', 'a', 'r', 'a', 'g', 'H', 'I', 'I', 'h', 'e', 'y']\n"
     ]
    }
   ],
   "source": [
    "str3 = \"parameshwara 999 @g .345#^$HII139,hey\"\n",
    "match = re.findall(r'[a-zA-Z]',str3)\n",
    "print(match)"
   ]
  },
  {
   "cell_type": "code",
   "execution_count": 53,
   "id": "ddfa4b6c",
   "metadata": {},
   "outputs": [
    {
     "name": "stdout",
     "output_type": "stream",
     "text": [
      "['$']\n"
     ]
    }
   ],
   "source": [
    "str3 = \"parameshwara 999 @g .345#^$HII139,hey\"\n",
    "match = re.findall(r'[$]',str3)\n",
    "print(match)"
   ]
  },
  {
   "cell_type": "code",
   "execution_count": 54,
   "id": "5e495c17",
   "metadata": {},
   "outputs": [
    {
     "name": "stdout",
     "output_type": "stream",
     "text": [
      "['@']\n"
     ]
    }
   ],
   "source": [
    "str3 = \"parameshwara 999 @g .345#^$HII139,hey\"\n",
    "match = re.findall(r'[@]',str3)\n",
    "print(match)"
   ]
  },
  {
   "cell_type": "code",
   "execution_count": 55,
   "id": "580a431d",
   "metadata": {},
   "outputs": [
    {
     "name": "stdout",
     "output_type": "stream",
     "text": [
      "['#']\n"
     ]
    }
   ],
   "source": [
    "str3 = \"parameshwara 999 @g .345#^$HII139,hey\"\n",
    "match = re.findall(r'[#]',str3)\n",
    "print(match)"
   ]
  },
  {
   "cell_type": "code",
   "execution_count": 56,
   "id": "17fd383d",
   "metadata": {},
   "outputs": [
    {
     "name": "stdout",
     "output_type": "stream",
     "text": [
      "['#']\n"
     ]
    }
   ],
   "source": [
    "str3 = \"parameshwara 999 @g .345#^$HII139,hey\"\n",
    "match = re.findall(r'#',str3)\n",
    "print(match)"
   ]
  },
  {
   "cell_type": "code",
   "execution_count": 61,
   "id": "b142c0cc",
   "metadata": {},
   "outputs": [],
   "source": [
    "import re"
   ]
  },
  {
   "cell_type": "code",
   "execution_count": 62,
   "id": "403a182c",
   "metadata": {},
   "outputs": [],
   "source": [
    "x = \"\"\"We wrote Math Exam. \n",
    "In that, Sandya scored 86 marks.\n",
    "Manisha scored 94 marks.\n",
    "Anvitha scored 79 marks\"\"\""
   ]
  },
  {
   "cell_type": "code",
   "execution_count": 63,
   "id": "fd310702",
   "metadata": {},
   "outputs": [
    {
     "name": "stdout",
     "output_type": "stream",
     "text": [
      "['8', '6', '9', '4', '7', '9']\n"
     ]
    }
   ],
   "source": [
    "print(re.findall(\"\\d\",x))"
   ]
  },
  {
   "cell_type": "code",
   "execution_count": 64,
   "id": "024bfa75",
   "metadata": {},
   "outputs": [
    {
     "name": "stdout",
     "output_type": "stream",
     "text": [
      "['86', '94', '79']\n"
     ]
    }
   ],
   "source": [
    "print(re.findall(\"\\d+\",x))"
   ]
  },
  {
   "cell_type": "code",
   "execution_count": 65,
   "id": "02702595",
   "metadata": {},
   "outputs": [
    {
     "name": "stdout",
     "output_type": "stream",
     "text": [
      "['We', 'Ma', 'Ex', 'In', 'Sa', 'Ma', 'An']\n"
     ]
    }
   ],
   "source": [
    "print(re.findall(\"[A-Z][a-z]\",x))"
   ]
  },
  {
   "cell_type": "code",
   "execution_count": 66,
   "id": "6ce2c2b2",
   "metadata": {},
   "outputs": [
    {
     "name": "stdout",
     "output_type": "stream",
     "text": [
      "['We', 'Math', 'Exam', 'In', 'Sandya', 'Manisha', 'Anvitha']\n"
     ]
    }
   ],
   "source": [
    "print(re.findall(\"[A-Z][a-z]*\",x))"
   ]
  },
  {
   "cell_type": "code",
   "execution_count": 67,
   "id": "b5792217",
   "metadata": {},
   "outputs": [
    {
     "name": "stdout",
     "output_type": "stream",
     "text": [
      "['We', 'Math', 'Exam', 'In', 'Sandya', 'Manisha', 'Anvitha']\n"
     ]
    }
   ],
   "source": [
    "print(re.findall(\"[A-Z][a-z]+\",x))"
   ]
  },
  {
   "cell_type": "code",
   "execution_count": 68,
   "id": "6e273388",
   "metadata": {},
   "outputs": [
    {
     "name": "stdout",
     "output_type": "stream",
     "text": [
      "['We', 'wrote', 'Math', 'Exam', 'In', 'that', 'Sandya', 'scored', 'marks', 'Manisha', 'scored', 'marks', 'Anvitha', 'scored', 'marks']\n"
     ]
    }
   ],
   "source": [
    "print(re.findall(\"[A-Za-z]+\",x))"
   ]
  },
  {
   "cell_type": "code",
   "execution_count": 71,
   "id": "49e05490",
   "metadata": {},
   "outputs": [
    {
     "name": "stdout",
     "output_type": "stream",
     "text": [
      "['8', '6', '9', '4', '7', '9']\n"
     ]
    }
   ],
   "source": [
    "print(re.findall(\"[0-9]\",x))"
   ]
  },
  {
   "cell_type": "code",
   "execution_count": 72,
   "id": "5a45fcdc",
   "metadata": {},
   "outputs": [
    {
     "name": "stdout",
     "output_type": "stream",
     "text": [
      "['86', '94', '79']\n"
     ]
    }
   ],
   "source": [
    "print(re.findall(\"[0-9][0-9]\",x))"
   ]
  },
  {
   "cell_type": "code",
   "execution_count": 75,
   "id": "d5c681d6",
   "metadata": {},
   "outputs": [
    {
     "name": "stdout",
     "output_type": "stream",
     "text": [
      "['8', '6', '9', '4', '7', '9']\n"
     ]
    }
   ],
   "source": [
    "y = re.compile(\"[0-9]\")\n",
    "print(re.findall(y,x))"
   ]
  },
  {
   "cell_type": "code",
   "execution_count": 77,
   "id": "b55b251e",
   "metadata": {},
   "outputs": [
    {
     "name": "stdout",
     "output_type": "stream",
     "text": [
      "['W', 'e', 'w', 'r', 'o', 't', 'e', 'M', 'a', 't', 'h', 'E', 'x', 'a', 'm', 'I', 'n', 't', 'h', 'a', 't', 'S', 'a', 'n', 'd', 'y', 'a', 's', 'c', 'o', 'r', 'e', 'd', 'm', 'a', 'r', 'k', 's', 'M', 'a', 'n', 'i', 's', 'h', 'a', 's', 'c', 'o', 'r', 'e', 'd', 'm', 'a', 'r', 'k', 's', 'A', 'n', 'v', 'i', 't', 'h', 'a', 's', 'c', 'o', 'r', 'e', 'd', 'm', 'a', 'r', 'k', 's']\n"
     ]
    }
   ],
   "source": [
    "y = re.compile(\"[a-zA-Z]\")\n",
    "print(re.findall(y,x))"
   ]
  },
  {
   "cell_type": "code",
   "execution_count": 78,
   "id": "f5db6659",
   "metadata": {},
   "outputs": [
    {
     "name": "stdout",
     "output_type": "stream",
     "text": [
      "['We', '', 'wrote', '', 'Math', '', 'Exam', '', '', '', 'In', '', 'that', '', '', 'Sandya', '', 'scored', '', '', '', '', 'marks', '', '', 'Manisha', '', 'scored', '', '', '', '', 'marks', '', '', 'Anvitha', '', 'scored', '', '', '', '', 'marks', '']\n"
     ]
    }
   ],
   "source": [
    "y = re.compile(\"[a-zA-Z]*\")\n",
    "print(re.findall(y,x))"
   ]
  },
  {
   "cell_type": "code",
   "execution_count": 79,
   "id": "d828c0b5",
   "metadata": {},
   "outputs": [
    {
     "name": "stdout",
     "output_type": "stream",
     "text": [
      "['We', 'wrote', 'Math', 'Exam', 'In', 'that', 'Sandya', 'scored', 'marks', 'Manisha', 'scored', 'marks', 'Anvitha', 'scored', 'marks']\n"
     ]
    }
   ],
   "source": [
    "y = re.compile(\"[a-zA-Z]+\")\n",
    "print(re.findall(y,x))"
   ]
  },
  {
   "cell_type": "code",
   "execution_count": 80,
   "id": "53989357",
   "metadata": {},
   "outputs": [
    {
     "name": "stdout",
     "output_type": "stream",
     "text": [
      "['8', '6', '9', '4', '7', '9']\n"
     ]
    }
   ],
   "source": [
    "y = re.compile(\"\\d\")\n",
    "print(re.findall(y,x))"
   ]
  },
  {
   "cell_type": "code",
   "execution_count": 81,
   "id": "5f848461",
   "metadata": {},
   "outputs": [
    {
     "name": "stdout",
     "output_type": "stream",
     "text": [
      "['86', '94', '79']\n"
     ]
    }
   ],
   "source": [
    "y = re.compile(\"\\d+\")\n",
    "print(re.findall(y,x))"
   ]
  },
  {
   "cell_type": "code",
   "execution_count": 82,
   "id": "78d0cc07",
   "metadata": {},
   "outputs": [
    {
     "name": "stdout",
     "output_type": "stream",
     "text": [
      "['', '', '', '', '', '', '', '', '', '', '', '', '', '', '', '', '', '', '', '', '', '', '', '', '', '', '', '', '', '', '', '', '', '', '', '', '', '', '', '', '', '', '', '', '86', '', '', '', '', '', '', '', '', '', '', '', '', '', '', '', '', '', '', '', '', '', '', '', '94', '', '', '', '', '', '', '', '', '', '', '', '', '', '', '', '', '', '', '', '', '', '', '', '79', '', '', '', '', '', '', '']\n"
     ]
    }
   ],
   "source": [
    "y = re.compile(\"\\d*\")\n",
    "print(re.findall(y,x))"
   ]
  },
  {
   "cell_type": "code",
   "execution_count": 83,
   "id": "badc4157",
   "metadata": {},
   "outputs": [
    {
     "name": "stdout",
     "output_type": "stream",
     "text": [
      "['We wrote Math Exam. \\nIn that, Sandya scored ', ' marks.\\nManisha scored ', ' marks.\\nAnvitha scored ', ' marks']\n"
     ]
    }
   ],
   "source": [
    "print(re.split(\"\\d+\",x))"
   ]
  },
  {
   "cell_type": "code",
   "execution_count": 84,
   "id": "1e4d4fd6",
   "metadata": {},
   "outputs": [],
   "source": [
    "import re"
   ]
  },
  {
   "cell_type": "code",
   "execution_count": 86,
   "id": "00dc504d",
   "metadata": {},
   "outputs": [
    {
     "name": "stdout",
     "output_type": "stream",
     "text": [
      "['coffee day', '']\n"
     ]
    }
   ],
   "source": [
    "n = \"coffee day9\"\n",
    "print(re.split(\"\\d\",n))"
   ]
  },
  {
   "cell_type": "code",
   "execution_count": 87,
   "id": "d99f9a13",
   "metadata": {},
   "outputs": [
    {
     "name": "stdout",
     "output_type": "stream",
     "text": [
      "['coffee ', '9']\n"
     ]
    }
   ],
   "source": [
    "n = \"coffee day9\"\n",
    "print(re.split(\"day\",n))"
   ]
  },
  {
   "cell_type": "code",
   "execution_count": 88,
   "id": "27342744",
   "metadata": {},
   "outputs": [],
   "source": [
    "import re"
   ]
  },
  {
   "cell_type": "code",
   "execution_count": 89,
   "id": "50c556f9",
   "metadata": {},
   "outputs": [],
   "source": [
    "x = \"\"\"We wrote Math Exam. \n",
    "In that, Sandya scored 86 marks.\n",
    "Manisha scored 94 marks.\n",
    "Anvitha scored 79 marks\"\"\""
   ]
  },
  {
   "cell_type": "code",
   "execution_count": 90,
   "id": "c6b1f530",
   "metadata": {},
   "outputs": [
    {
     "name": "stdout",
     "output_type": "stream",
     "text": [
      "WewroteMathExam.Inthat,Sandyascored86marks.Manishascored94marks.Anvithascored79marks\n"
     ]
    }
   ],
   "source": [
    "print(re.sub(\"\\s+\",\"\",x))"
   ]
  },
  {
   "cell_type": "code",
   "execution_count": 91,
   "id": "aa9c6dab",
   "metadata": {},
   "outputs": [
    {
     "name": "stdout",
     "output_type": "stream",
     "text": [
      "coffeeday9\n"
     ]
    }
   ],
   "source": [
    "print(re.sub(\"\\s+\",\"\",n))"
   ]
  },
  {
   "cell_type": "code",
   "execution_count": 92,
   "id": "8615b1cc",
   "metadata": {},
   "outputs": [
    {
     "name": "stdout",
     "output_type": "stream",
     "text": [
      "('WewroteMathExam.Inthat,Sandyascored86marks.Manishascored94marks.Anvithascored79marks', 17)\n"
     ]
    }
   ],
   "source": [
    "print(re.subn(\"\\s+\",\"\",x))"
   ]
  },
  {
   "cell_type": "code",
   "execution_count": 94,
   "id": "04353c0b",
   "metadata": {},
   "outputs": [
    {
     "name": "stdout",
     "output_type": "stream",
     "text": [
      "We\\ wrote\\ Math\\ Exam\\.\\ \\\n",
      "In\\ that,\\ Sandya\\ scored\\ 86\\ marks\\.\\\n",
      "Manisha\\ scored\\ 94\\ marks\\.\\\n",
      "Anvitha\\ scored\\ 79\\ marks\n"
     ]
    }
   ],
   "source": [
    "print(re.escape(x))"
   ]
  },
  {
   "cell_type": "code",
   "execution_count": 96,
   "id": "235e201e",
   "metadata": {},
   "outputs": [
    {
     "name": "stdout",
     "output_type": "stream",
     "text": [
      "['86', '94', '79']\n"
     ]
    }
   ],
   "source": [
    "print(re.findall(\"\\d+\",x))"
   ]
  },
  {
   "cell_type": "code",
   "execution_count": 97,
   "id": "a67c0ca7",
   "metadata": {},
   "outputs": [
    {
     "name": "stdout",
     "output_type": "stream",
     "text": [
      "<re.Match object; span=(44, 46), match='86'>\n"
     ]
    }
   ],
   "source": [
    "print(re.search(\"\\d+\",x))"
   ]
  },
  {
   "cell_type": "markdown",
   "id": "24de50fa",
   "metadata": {},
   "source": [
    "# Match object in regex:"
   ]
  },
  {
   "cell_type": "code",
   "execution_count": 98,
   "id": "0c789a7b",
   "metadata": {},
   "outputs": [],
   "source": [
    "x = \"\"\"We wrote Math Exam. \n",
    "In that, Sandya scored 86 marks.\n",
    "Manisha scored 94 marks.\n",
    "Anvitha scored 79 marks\"\"\""
   ]
  },
  {
   "cell_type": "code",
   "execution_count": 99,
   "id": "62409d9d",
   "metadata": {},
   "outputs": [
    {
     "name": "stdout",
     "output_type": "stream",
     "text": [
      "<re.Match object; span=(44, 46), match='86'>\n"
     ]
    }
   ],
   "source": [
    "match = re.search(\"\\d+\",x)\n",
    "print(match)"
   ]
  },
  {
   "cell_type": "code",
   "execution_count": 100,
   "id": "4d3f1cb4",
   "metadata": {},
   "outputs": [
    {
     "name": "stdout",
     "output_type": "stream",
     "text": [
      "re.compile('\\\\d+')\n"
     ]
    }
   ],
   "source": [
    "print(match.re)"
   ]
  },
  {
   "cell_type": "code",
   "execution_count": 101,
   "id": "ed9352bf",
   "metadata": {},
   "outputs": [
    {
     "name": "stdout",
     "output_type": "stream",
     "text": [
      "We wrote Math Exam. \n",
      "In that, Sandya scored 86 marks.\n",
      "Manisha scored 94 marks.\n",
      "Anvitha scored 79 marks\n"
     ]
    }
   ],
   "source": [
    "print(match.string)"
   ]
  },
  {
   "cell_type": "code",
   "execution_count": 102,
   "id": "c41a06c3",
   "metadata": {},
   "outputs": [
    {
     "name": "stdout",
     "output_type": "stream",
     "text": [
      "44\n"
     ]
    }
   ],
   "source": [
    "print(match.start())"
   ]
  },
  {
   "cell_type": "code",
   "execution_count": 103,
   "id": "256f3d66",
   "metadata": {},
   "outputs": [
    {
     "name": "stdout",
     "output_type": "stream",
     "text": [
      "46\n"
     ]
    }
   ],
   "source": [
    "print(match.end())"
   ]
  },
  {
   "cell_type": "code",
   "execution_count": 104,
   "id": "a496e741",
   "metadata": {},
   "outputs": [
    {
     "name": "stdout",
     "output_type": "stream",
     "text": [
      "(44, 46)\n"
     ]
    }
   ],
   "source": [
    "print(match.span())"
   ]
  },
  {
   "cell_type": "code",
   "execution_count": 105,
   "id": "98db16eb",
   "metadata": {},
   "outputs": [
    {
     "name": "stdout",
     "output_type": "stream",
     "text": [
      "86\n"
     ]
    }
   ],
   "source": [
    "print(match.group())"
   ]
  },
  {
   "cell_type": "code",
   "execution_count": 107,
   "id": "d1ca15a0",
   "metadata": {},
   "outputs": [
    {
     "name": "stdout",
     "output_type": "stream",
     "text": [
      "<re.Match object; span=(0, 2), match='Sa'>\n"
     ]
    }
   ],
   "source": [
    "a = \"Sandya scored 86 marks\"\n",
    "match = re.search(\"\\w{2}\",a)\n",
    "print(match)"
   ]
  },
  {
   "cell_type": "code",
   "execution_count": 108,
   "id": "db8db516",
   "metadata": {},
   "outputs": [
    {
     "name": "stdout",
     "output_type": "stream",
     "text": [
      "<re.Match object; span=(4, 8), match='ya s'>\n"
     ]
    }
   ],
   "source": [
    "a = \"Sandya scored 86 marks\"\n",
    "match = re.search(\"\\w{2} s\",a)\n",
    "print(match)"
   ]
  },
  {
   "cell_type": "code",
   "execution_count": 109,
   "id": "d9b027b1",
   "metadata": {},
   "outputs": [
    {
     "name": "stdout",
     "output_type": "stream",
     "text": [
      "None\n"
     ]
    }
   ],
   "source": [
    "a = \"Sandya scored 86 marks\"\n",
    "match = re.search(\"\\w{2} S\",a)\n",
    "print(match)"
   ]
  },
  {
   "cell_type": "code",
   "execution_count": 113,
   "id": "b86078a9",
   "metadata": {},
   "outputs": [
    {
     "name": "stdout",
     "output_type": "stream",
     "text": [
      "<re.Match object; span=(0, 1), match='S'>\n"
     ]
    }
   ],
   "source": [
    "a = \"Sandya scored 86 marks\"\n",
    "match = re.search(\"S\",a)\n",
    "print(match)"
   ]
  },
  {
   "cell_type": "code",
   "execution_count": 114,
   "id": "adead65b",
   "metadata": {},
   "outputs": [
    {
     "name": "stdout",
     "output_type": "stream",
     "text": [
      "<re.Match object; span=(0, 1), match='S'>\n"
     ]
    }
   ],
   "source": [
    "a = \"Sandya scored 86 marks\"\n",
    "match = re.search(\"^S\",a)\n",
    "print(match)"
   ]
  },
  {
   "cell_type": "code",
   "execution_count": 116,
   "id": "e1dfcc96",
   "metadata": {},
   "outputs": [
    {
     "name": "stdout",
     "output_type": "stream",
     "text": [
      "<re.Match object; span=(4, 8), match='ya s'>\n"
     ]
    }
   ],
   "source": [
    "a = \"Sandya scored 86 marks\"\n",
    "match = re.search(\"\\w{2} s\",a)\n",
    "print(match)"
   ]
  },
  {
   "cell_type": "code",
   "execution_count": 117,
   "id": "d862fc04",
   "metadata": {},
   "outputs": [
    {
     "name": "stdout",
     "output_type": "stream",
     "text": [
      "re.compile('\\\\w{2} s')\n"
     ]
    }
   ],
   "source": [
    "print(match.re)"
   ]
  },
  {
   "cell_type": "code",
   "execution_count": 118,
   "id": "6edbe538",
   "metadata": {},
   "outputs": [
    {
     "name": "stdout",
     "output_type": "stream",
     "text": [
      "Sandya scored 86 marks\n"
     ]
    }
   ],
   "source": [
    "print(match.string)"
   ]
  },
  {
   "cell_type": "code",
   "execution_count": 119,
   "id": "bf536944",
   "metadata": {},
   "outputs": [
    {
     "name": "stdout",
     "output_type": "stream",
     "text": [
      "4\n"
     ]
    }
   ],
   "source": [
    "print(match.start())"
   ]
  },
  {
   "cell_type": "code",
   "execution_count": 120,
   "id": "590d4b75",
   "metadata": {},
   "outputs": [
    {
     "name": "stdout",
     "output_type": "stream",
     "text": [
      "8\n"
     ]
    }
   ],
   "source": [
    "print(match.end())"
   ]
  },
  {
   "cell_type": "code",
   "execution_count": 121,
   "id": "d9477c7c",
   "metadata": {},
   "outputs": [
    {
     "name": "stdout",
     "output_type": "stream",
     "text": [
      "(4, 8)\n"
     ]
    }
   ],
   "source": [
    "print(match.span())"
   ]
  },
  {
   "cell_type": "markdown",
   "id": "d22e0c30",
   "metadata": {},
   "source": [
    "# Phone number web scraping using Regex:"
   ]
  },
  {
   "cell_type": "code",
   "execution_count": 1,
   "id": "b7c6a0eb",
   "metadata": {},
   "outputs": [],
   "source": [
    "import re"
   ]
  },
  {
   "cell_type": "code",
   "execution_count": 2,
   "id": "cb0d1367",
   "metadata": {},
   "outputs": [
    {
     "name": "stdout",
     "output_type": "stream",
     "text": [
      "it is correct phone number\n"
     ]
    }
   ],
   "source": [
    "phone_num = \"444-333-8435\"\n",
    "if re.search(\"\\d{3}-\\d{3}-\\d{4}\",phone_num):\n",
    "    print(\"it is correct phone number\")\n",
    "else:\n",
    "    print(\"it is not correct phone number\")"
   ]
  },
  {
   "cell_type": "code",
   "execution_count": 3,
   "id": "db10bcd9",
   "metadata": {},
   "outputs": [
    {
     "name": "stdout",
     "output_type": "stream",
     "text": [
      "it is not correct phone number\n"
     ]
    }
   ],
   "source": [
    "phone_num = \"444-333-845\"\n",
    "if re.search(\"\\d{3}-\\d{3}-\\d{4}\",phone_num):\n",
    "    print(\"it is correct phone number\")\n",
    "else:\n",
    "    print(\"it is not correct phone number\")"
   ]
  },
  {
   "cell_type": "code",
   "execution_count": 4,
   "id": "f8084f55",
   "metadata": {},
   "outputs": [
    {
     "name": "stdout",
     "output_type": "stream",
     "text": [
      "it is not correct phone number\n"
     ]
    }
   ],
   "source": [
    "phone_num = \"444-3333-8453\"\n",
    "if re.search(\"\\d{3}-\\d{3}-\\d{4}\",phone_num):\n",
    "    print(\"it is correct phone number\")\n",
    "else:\n",
    "    print(\"it is not correct phone number\")"
   ]
  }
 ],
 "metadata": {
  "kernelspec": {
   "display_name": "Python 3 (ipykernel)",
   "language": "python",
   "name": "python3"
  },
  "language_info": {
   "codemirror_mode": {
    "name": "ipython",
    "version": 3
   },
   "file_extension": ".py",
   "mimetype": "text/x-python",
   "name": "python",
   "nbconvert_exporter": "python",
   "pygments_lexer": "ipython3",
   "version": "3.9.13"
  }
 },
 "nbformat": 4,
 "nbformat_minor": 5
}
