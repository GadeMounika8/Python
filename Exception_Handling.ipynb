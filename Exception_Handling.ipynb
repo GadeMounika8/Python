{
 "cells": [
  {
   "cell_type": "markdown",
   "id": "b8dd950e",
   "metadata": {},
   "source": [
    "# Exception_Handling"
   ]
  },
  {
   "cell_type": "markdown",
   "id": "c648806a",
   "metadata": {},
   "source": [
    "# Types of Errors:"
   ]
  },
  {
   "cell_type": "markdown",
   "id": "120a808e",
   "metadata": {},
   "source": [
    "--> There are three types of Errors:\n",
    "    \n",
    "    1. Syntax (Compiler Error)\n",
    "    2. Logical Error\n",
    "    3. Run-Time Error"
   ]
  },
  {
   "cell_type": "markdown",
   "id": "f8dec514",
   "metadata": {},
   "source": [
    "# 1. Syntax Error:"
   ]
  },
  {
   "cell_type": "markdown",
   "id": "be29be0c",
   "metadata": {},
   "source": [
    "--> These Errors are displayed on Screen.\n",
    "\n",
    "--> These Errors are identified by the compiler itself."
   ]
  },
  {
   "cell_type": "markdown",
   "id": "946c2cdb",
   "metadata": {},
   "source": [
    "# 2. Logical Error:"
   ]
  },
  {
   "cell_type": "markdown",
   "id": "ff04cdc9",
   "metadata": {},
   "source": [
    "--> Rhese Errors are very difficult to identify & these errors caused by the user & not visible on Screen."
   ]
  },
  {
   "cell_type": "markdown",
   "id": "a36952fa",
   "metadata": {},
   "source": [
    "# 3. Run-Time Error (or) Exception:"
   ]
  },
  {
   "cell_type": "markdown",
   "id": "056c75da",
   "metadata": {},
   "source": [
    "--> During execution time, run-Time Errors occur.\n",
    "\n",
    "--> Run-Time Errors are displayed on screen.\n",
    "\n",
    "--> Once the exception raised, the program will terminate automatically."
   ]
  },
  {
   "cell_type": "markdown",
   "id": "965a8c46",
   "metadata": {},
   "source": [
    "--> Exception means which disturbs the normalflow of execution.\n",
    "\n",
    "--> We can handle these exceptions by using except block, if exceptions raised.\n",
    "\n",
    "--> In Exception handling in Python, We use Four Types of blocks:\n",
    "    \n",
    "       1. try\n",
    "       2. except\n",
    "       3. else\n",
    "       4. finally\n",
    "    \n",
    "--> else block and finally block both are optional\n",
    "        "
   ]
  },
  {
   "cell_type": "markdown",
   "id": "aca0282f",
   "metadata": {},
   "source": [
    "# 1. try:"
   ]
  },
  {
   "cell_type": "markdown",
   "id": "d6d91495",
   "metadata": {},
   "source": [
    "--> We need to write all the Statements (or) instructions in try block from which we are expecting the exceptions.\n",
    "\n",
    "--> In try block only, we are getting exceptions.\n",
    "\n",
    "--> If exceptions will occur, then Except block is going to be executed."
   ]
  },
  {
   "cell_type": "markdown",
   "id": "15765665",
   "metadata": {},
   "source": [
    "# 2. except:"
   ]
  },
  {
   "cell_type": "markdown",
   "id": "51a3f38c",
   "metadata": {},
   "source": [
    "--> exceptions raised in try block will be handled by this except block."
   ]
  },
  {
   "cell_type": "markdown",
   "id": "fff6d4fb",
   "metadata": {},
   "source": [
    "# 3. else:"
   ]
  },
  {
   "cell_type": "markdown",
   "id": "89f5746b",
   "metadata": {},
   "source": [
    "--> If there are no exceptions raised, then else block will be getting executed."
   ]
  },
  {
   "cell_type": "markdown",
   "id": "52736c1c",
   "metadata": {},
   "source": [
    "# 4. finally:"
   ]
  },
  {
   "cell_type": "markdown",
   "id": "1e6bcc04",
   "metadata": {},
   "source": [
    "--> Irrespective of exceptions, means always this finally block is executed.\n",
    "\n",
    "--> In both except & else block, only one block is excecuted at a time.\n",
    "\n",
    "--> This means if any exception raised then except block will get executed, otherwise else block will get executed."
   ]
  },
  {
   "cell_type": "markdown",
   "id": "cc26aa5e",
   "metadata": {},
   "source": [
    "--> In Python, errors are considered as an exceptions.\n",
    "\n",
    "--> Exception is a base class for all the exceptions."
   ]
  },
  {
   "cell_type": "markdown",
   "id": "762fbf4b",
   "metadata": {},
   "source": [
    "# Errors:"
   ]
  },
  {
   "cell_type": "markdown",
   "id": "7f5a5f9c",
   "metadata": {},
   "source": [
    "# AttributeError:"
   ]
  },
  {
   "cell_type": "markdown",
   "id": "23d270b3",
   "metadata": {},
   "source": [
    "--> Raised id object accessing a member which is not available."
   ]
  },
  {
   "cell_type": "markdown",
   "id": "70da46d5",
   "metadata": {},
   "source": [
    "# FileNotFoundError:"
   ]
  },
  {
   "cell_type": "markdown",
   "id": "7eae238a",
   "metadata": {},
   "source": [
    "--> Raised if file is not available"
   ]
  },
  {
   "cell_type": "markdown",
   "id": "75cc2ff7",
   "metadata": {},
   "source": [
    "# IndexError:"
   ]
  },
  {
   "cell_type": "markdown",
   "id": "0de34040",
   "metadata": {},
   "source": [
    "--> Raised if index to sequence is out of bound."
   ]
  },
  {
   "cell_type": "markdown",
   "id": "1d29f325",
   "metadata": {},
   "source": [
    "# KeyError:"
   ]
  },
  {
   "cell_type": "markdown",
   "id": "f8fab525",
   "metadata": {},
   "source": [
    "--> Raised if non-existent key requested for set or dictionary."
   ]
  },
  {
   "cell_type": "markdown",
   "id": "0ee30879",
   "metadata": {},
   "source": [
    "# NameError:"
   ]
  },
  {
   "cell_type": "markdown",
   "id": "fc1b54e3",
   "metadata": {},
   "source": [
    "--> Raised if non-existent identifier used."
   ]
  },
  {
   "cell_type": "markdown",
   "id": "b1dc8c3e",
   "metadata": {},
   "source": [
    "# TypeError:"
   ]
  },
  {
   "cell_type": "markdown",
   "id": "a1723c42",
   "metadata": {},
   "source": [
    "--> Raised when wrong type of parameter is sent to a function."
   ]
  },
  {
   "cell_type": "markdown",
   "id": "f110ae46",
   "metadata": {},
   "source": [
    "# ValueError:"
   ]
  },
  {
   "cell_type": "markdown",
   "id": "b637a63c",
   "metadata": {},
   "source": [
    "--> Raised when parameter has invalid value."
   ]
  },
  {
   "cell_type": "markdown",
   "id": "37d5a403",
   "metadata": {},
   "source": [
    "# ZeroDivisionError:"
   ]
  },
  {
   "cell_type": "markdown",
   "id": "35c4b1b8",
   "metadata": {},
   "source": [
    "--> Raised when division is done by Zero."
   ]
  },
  {
   "cell_type": "markdown",
   "id": "c55d5a71",
   "metadata": {},
   "source": [
    "# How can we handle Multiple Exceptions in Python?"
   ]
  },
  {
   "cell_type": "markdown",
   "id": "0d425201",
   "metadata": {},
   "source": [
    "--> We can use Multiple Except blocks to handle multiple Exceptions.\n",
    "\n",
    "         or\n",
    "    \n",
    "--> we can use single except block with multiple exception names to handle multiple exceptions."
   ]
  },
  {
   "cell_type": "markdown",
   "id": "7692e95a",
   "metadata": {},
   "source": [
    "# Raising Exception in Python:"
   ]
  },
  {
   "cell_type": "markdown",
   "id": "d6ac2523",
   "metadata": {},
   "source": [
    "--> We can use raising Exception in order to validate Inputs."
   ]
  },
  {
   "cell_type": "code",
   "execution_count": null,
   "id": "7a71f02c",
   "metadata": {},
   "outputs": [],
   "source": []
  }
 ],
 "metadata": {
  "kernelspec": {
   "display_name": "Python 3 (ipykernel)",
   "language": "python",
   "name": "python3"
  },
  "language_info": {
   "codemirror_mode": {
    "name": "ipython",
    "version": 3
   },
   "file_extension": ".py",
   "mimetype": "text/x-python",
   "name": "python",
   "nbconvert_exporter": "python",
   "pygments_lexer": "ipython3",
   "version": "3.9.13"
  }
 },
 "nbformat": 4,
 "nbformat_minor": 5
}
