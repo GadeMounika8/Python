{
 "cells": [
  {
   "cell_type": "markdown",
   "id": "f151b089",
   "metadata": {},
   "source": [
    "# Regular Expressions:"
   ]
  },
  {
   "cell_type": "code",
   "execution_count": 9,
   "id": "2dd4c9c6",
   "metadata": {},
   "outputs": [],
   "source": [
    "import re"
   ]
  },
  {
   "cell_type": "code",
   "execution_count": 10,
   "id": "a8e12d3f",
   "metadata": {},
   "outputs": [],
   "source": [
    "persons_weight1 = \"\"\"Anil weight is 76 and anvitha weight is 55 \n",
    "Sunil weight is 84 and mohit weight is 69\"\"\""
   ]
  },
  {
   "cell_type": "code",
   "execution_count": 11,
   "id": "75982716",
   "metadata": {},
   "outputs": [
    {
     "name": "stdout",
     "output_type": "stream",
     "text": [
      "Anil weight is 76 and anvitha weight is 55 \n",
      "Sunil weight is 84 and mohit weight is 69\n"
     ]
    }
   ],
   "source": [
    "print(persons_weight1)"
   ]
  },
  {
   "cell_type": "code",
   "execution_count": 14,
   "id": "c1e23943",
   "metadata": {},
   "outputs": [
    {
     "name": "stdout",
     "output_type": "stream",
     "text": [
      "['Anil', 'Sunil']\n"
     ]
    }
   ],
   "source": [
    "persons_name1 = re.findall(r'[A-Z][a-z]*',persons_weight1)\n",
    "print(persons_name1)"
   ]
  },
  {
   "cell_type": "code",
   "execution_count": 15,
   "id": "7501fb72",
   "metadata": {},
   "outputs": [],
   "source": [
    "persons_weight = \"\"\"Anil weight is 76 and Anvitha weight is 55 \n",
    "Sunil weight is 84 and Mohit weight is 69\"\"\""
   ]
  },
  {
   "cell_type": "code",
   "execution_count": 16,
   "id": "bd40a2f4",
   "metadata": {},
   "outputs": [
    {
     "name": "stdout",
     "output_type": "stream",
     "text": [
      "Anil weight is 76 and Anvitha weight is 55 \n",
      "Sunil weight is 84 and Mohit weight is 69\n"
     ]
    }
   ],
   "source": [
    "print(persons_weight)"
   ]
  },
  {
   "cell_type": "code",
   "execution_count": 17,
   "id": "417b594e",
   "metadata": {},
   "outputs": [
    {
     "name": "stdout",
     "output_type": "stream",
     "text": [
      "['Anil', 'Anvitha', 'Sunil', 'Mohit']\n"
     ]
    }
   ],
   "source": [
    "persons_name = re.findall(r'[A-Z][a-z]*',persons_weight)\n",
    "print(persons_name)"
   ]
  },
  {
   "cell_type": "code",
   "execution_count": 18,
   "id": "c35be314",
   "metadata": {},
   "outputs": [
    {
     "name": "stdout",
     "output_type": "stream",
     "text": [
      "['76', '55', '84', '69']\n"
     ]
    }
   ],
   "source": [
    "weight = re.findall(r'\\d{2}',persons_weight)\n",
    "print(weight)"
   ]
  },
  {
   "cell_type": "code",
   "execution_count": 24,
   "id": "0d1d4382",
   "metadata": {},
   "outputs": [
    {
     "name": "stdout",
     "output_type": "stream",
     "text": [
      "item found\n",
      "['Lakshmi', 'Lakshmi']\n",
      "Lakshmi\n",
      "Lakshmi\n"
     ]
    }
   ],
   "source": [
    "str = 'Her name is Lakshmi and Lakshmi is a good human being'\n",
    "if re.search(\"Lakshmi\",str):\n",
    "    print('item found')\n",
    "    match = re.findall('Lakshmi',str)\n",
    "    print(match)\n",
    "    for i in match:\n",
    "        print(i)"
   ]
  },
  {
   "cell_type": "code",
   "execution_count": 26,
   "id": "2ad53883",
   "metadata": {},
   "outputs": [
    {
     "name": "stdout",
     "output_type": "stream",
     "text": [
      "(12, 19)\n",
      "(24, 31)\n"
     ]
    }
   ],
   "source": [
    "for i in re.finditer(\"Lakshmi\",str):\n",
    "    index = i.span()\n",
    "    print(index)"
   ]
  },
  {
   "cell_type": "code",
   "execution_count": 28,
   "id": "0830aeae",
   "metadata": {},
   "outputs": [
    {
     "name": "stdout",
     "output_type": "stream",
     "text": [
      "['cat', 'mat', 'rat', 'eat', 'bat']\n"
     ]
    }
   ],
   "source": [
    "str1 = \"cat cut mat rat eat bat\"\n",
    "match = re.findall('[cmreb]at',str1)\n",
    "print(match)"
   ]
  },
  {
   "cell_type": "code",
   "execution_count": 32,
   "id": "75373e3e",
   "metadata": {},
   "outputs": [
    {
     "name": "stdout",
     "output_type": "stream",
     "text": [
      "['cat']\n"
     ]
    }
   ],
   "source": [
    "str1 = \"cat cut mat rat eat bat\"\n",
    "match = re.findall('[^mreb]at',str1)\n",
    "print(match)"
   ]
  },
  {
   "cell_type": "code",
   "execution_count": 33,
   "id": "31e1e9af",
   "metadata": {},
   "outputs": [
    {
     "name": "stdout",
     "output_type": "stream",
     "text": [
      "[]\n"
     ]
    }
   ],
   "source": [
    "str1 = \"cat cut mat rat eat bat\"\n",
    "match = re.findall('[^cmreb]at',str1)\n",
    "print(match)"
   ]
  },
  {
   "cell_type": "code",
   "execution_count": 34,
   "id": "decc75f7",
   "metadata": {},
   "outputs": [
    {
     "name": "stdout",
     "output_type": "stream",
     "text": [
      "['bat']\n"
     ]
    }
   ],
   "source": [
    "str1 = \"cat cut mat rat eat bat\"\n",
    "match = re.findall('[^c-r]at',str1)\n",
    "print(match)"
   ]
  },
  {
   "cell_type": "code",
   "execution_count": 35,
   "id": "356980c8",
   "metadata": {},
   "outputs": [
    {
     "name": "stdout",
     "output_type": "stream",
     "text": [
      "['cat', 'mat', 'rat', 'eat', 'bat']\n"
     ]
    }
   ],
   "source": [
    "str1 = \"cat cut mat rat eat bat\"\n",
    "match = re.findall('[b-r]at',str1)\n",
    "print(match)"
   ]
  },
  {
   "cell_type": "code",
   "execution_count": 43,
   "id": "53d51b95",
   "metadata": {},
   "outputs": [
    {
     "name": "stdout",
     "output_type": "stream",
     "text": [
      "re.compile('[e]at')\n"
     ]
    }
   ],
   "source": [
    "a = re.compile('[e]at')\n",
    "print(a)"
   ]
  },
  {
   "cell_type": "code",
   "execution_count": 46,
   "id": "4fcc374d",
   "metadata": {},
   "outputs": [
    {
     "name": "stdout",
     "output_type": "stream",
     "text": [
      "cat cut mat rat sat bat\n"
     ]
    }
   ],
   "source": [
    "str2 = a.sub('sat',str1)\n",
    "print(str2)"
   ]
  },
  {
   "cell_type": "code",
   "execution_count": 47,
   "id": "ab3bb543",
   "metadata": {},
   "outputs": [
    {
     "name": "stdout",
     "output_type": "stream",
     "text": [
      "cat cut mat rat tiger bat\n"
     ]
    }
   ],
   "source": [
    "str2 = a.sub('tiger',str1)\n",
    "print(str2)"
   ]
  },
  {
   "cell_type": "code",
   "execution_count": 48,
   "id": "6efa48b4",
   "metadata": {},
   "outputs": [
    {
     "name": "stdout",
     "output_type": "stream",
     "text": [
      "cat cut mat rat Anaconda bat\n"
     ]
    }
   ],
   "source": [
    "str2 = a.sub('Anaconda',str1)\n",
    "print(str2)"
   ]
  },
  {
   "cell_type": "code",
   "execution_count": 51,
   "id": "ac08338c",
   "metadata": {},
   "outputs": [],
   "source": [
    "str3 = '''good morning,\n",
    "hello this yash.\n",
    "Iam from India.\n",
    "Nice to meet you'''"
   ]
  },
  {
   "cell_type": "code",
   "execution_count": 52,
   "id": "8e66c17a",
   "metadata": {},
   "outputs": [
    {
     "name": "stdout",
     "output_type": "stream",
     "text": [
      "good morning,\n",
      "hello this yash.\n",
      "Iam from India.\n",
      "Nice to meet you\n"
     ]
    }
   ],
   "source": [
    "print(str3)"
   ]
  },
  {
   "cell_type": "code",
   "execution_count": 60,
   "id": "1b2a16a5",
   "metadata": {},
   "outputs": [
    {
     "name": "stdout",
     "output_type": "stream",
     "text": [
      "re.compile('\\n')\n"
     ]
    }
   ],
   "source": [
    "b =re.compile('\\n')\n",
    "print(b)"
   ]
  },
  {
   "cell_type": "code",
   "execution_count": 62,
   "id": "0bbeb7b6",
   "metadata": {},
   "outputs": [
    {
     "name": "stdout",
     "output_type": "stream",
     "text": [
      "good morning,hello this yash.Iam from India.Nice to meet you\n"
     ]
    }
   ],
   "source": [
    "str4 = b.sub('',str3)\n",
    "print(str4)"
   ]
  },
  {
   "cell_type": "code",
   "execution_count": 66,
   "id": "cbc381f5",
   "metadata": {},
   "outputs": [
    {
     "name": "stdout",
     "output_type": "stream",
     "text": [
      "no:of digits 10\n",
      "no:of 5digits 2\n",
      "no:of alphabets 0\n"
     ]
    }
   ],
   "source": [
    "c = '1657843659'\n",
    "print(\"no:of digits\",len(re.findall('\\d',c)))\n",
    "print(\"no:of 5digits\",len(re.findall('\\d{5}',c)))\n",
    "print(\"no:of alphabets\",len(re.findall('\\D',c)))"
   ]
  },
  {
   "cell_type": "code",
   "execution_count": 75,
   "id": "ef7dc195",
   "metadata": {},
   "outputs": [
    {
     "name": "stdout",
     "output_type": "stream",
     "text": [
      "no:of digits 11\n",
      "no:of 9 digits 1\n",
      "no:of alphabets 6\n"
     ]
    }
   ],
   "source": [
    " d= 'Hii16578436593Bye'\n",
    "print(\"no:of digits\",len(re.findall('\\d',d)))\n",
    "print(\"no:of 9 digits\",len(re.findall('\\d{9}',d)))\n",
    "print(\"no:of alphabets\",len(re.findall('\\D',d)))"
   ]
  }
 ],
 "metadata": {
  "kernelspec": {
   "display_name": "Python 3 (ipykernel)",
   "language": "python",
   "name": "python3"
  },
  "language_info": {
   "codemirror_mode": {
    "name": "ipython",
    "version": 3
   },
   "file_extension": ".py",
   "mimetype": "text/x-python",
   "name": "python",
   "nbconvert_exporter": "python",
   "pygments_lexer": "ipython3",
   "version": "3.9.13"
  }
 },
 "nbformat": 4,
 "nbformat_minor": 5
}
