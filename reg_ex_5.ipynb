{
 "cells": [
  {
   "cell_type": "code",
   "execution_count": 1,
   "id": "5829cb35",
   "metadata": {},
   "outputs": [],
   "source": [
    "import re"
   ]
  },
  {
   "cell_type": "code",
   "execution_count": 2,
   "id": "afda224a",
   "metadata": {},
   "outputs": [],
   "source": [
    "a = \"My name is Gade Mounika,My age is 22\""
   ]
  },
  {
   "cell_type": "code",
   "execution_count": 3,
   "id": "fdbc3dd4",
   "metadata": {},
   "outputs": [
    {
     "name": "stdout",
     "output_type": "stream",
     "text": [
      "My name is Gade Mounika,My age is 22\n"
     ]
    }
   ],
   "source": [
    "print(a)"
   ]
  },
  {
   "cell_type": "markdown",
   "id": "b32e4631",
   "metadata": {},
   "source": [
    "# Functions in RegEx:"
   ]
  },
  {
   "cell_type": "markdown",
   "id": "7447b614",
   "metadata": {},
   "source": [
    "1. match()\n",
    "2. search()\n",
    "3. findall()\n",
    "4. split()\n",
    "5. sub()"
   ]
  },
  {
   "cell_type": "markdown",
   "id": "d1d051b7",
   "metadata": {},
   "source": [
    "# 1. match():"
   ]
  },
  {
   "cell_type": "code",
   "execution_count": 178,
   "id": "08fa580a",
   "metadata": {},
   "outputs": [],
   "source": [
    "import re"
   ]
  },
  {
   "cell_type": "code",
   "execution_count": 179,
   "id": "c6b13940",
   "metadata": {},
   "outputs": [],
   "source": [
    "a = \"My name is Gade Mounika,My age is 22\""
   ]
  },
  {
   "cell_type": "code",
   "execution_count": 180,
   "id": "56cc4737",
   "metadata": {},
   "outputs": [
    {
     "name": "stdout",
     "output_type": "stream",
     "text": [
      "<re.Match object; span=(0, 2), match='My'>\n"
     ]
    }
   ],
   "source": [
    "b = re.match(\"My\",a)\n",
    "print(b)"
   ]
  },
  {
   "cell_type": "code",
   "execution_count": 177,
   "id": "ecba0c81",
   "metadata": {},
   "outputs": [
    {
     "name": "stdout",
     "output_type": "stream",
     "text": [
      "None\n"
     ]
    }
   ],
   "source": [
    "b = re.match(\"name\",a)\n",
    "print(b)"
   ]
  },
  {
   "cell_type": "markdown",
   "id": "f700c238",
   "metadata": {},
   "source": [
    "# 2. search():"
   ]
  },
  {
   "cell_type": "code",
   "execution_count": 2,
   "id": "b253184b",
   "metadata": {},
   "outputs": [],
   "source": [
    "import re"
   ]
  },
  {
   "cell_type": "code",
   "execution_count": 3,
   "id": "e61472db",
   "metadata": {},
   "outputs": [],
   "source": [
    "a = \"My name is Gade Mounika,My age is 22\""
   ]
  },
  {
   "cell_type": "code",
   "execution_count": 5,
   "id": "cf7e6dfc",
   "metadata": {},
   "outputs": [
    {
     "name": "stdout",
     "output_type": "stream",
     "text": [
      "<re.Match object; span=(3, 7), match='name'>\n"
     ]
    }
   ],
   "source": [
    "c = re.search(\"name\",a)\n",
    "print(c)"
   ]
  },
  {
   "cell_type": "code",
   "execution_count": 6,
   "id": "5c8139bd",
   "metadata": {},
   "outputs": [
    {
     "name": "stdout",
     "output_type": "stream",
     "text": [
      "None\n"
     ]
    }
   ],
   "source": [
    "c = re.search(\"my\",a)\n",
    "print(c)"
   ]
  },
  {
   "cell_type": "code",
   "execution_count": 7,
   "id": "88dce598",
   "metadata": {},
   "outputs": [
    {
     "name": "stdout",
     "output_type": "stream",
     "text": [
      "<re.Match object; span=(0, 2), match='My'>\n"
     ]
    }
   ],
   "source": [
    "c = re.search(\"My\",a)\n",
    "print(c)"
   ]
  },
  {
   "cell_type": "code",
   "execution_count": 8,
   "id": "9a30989e",
   "metadata": {},
   "outputs": [
    {
     "name": "stdout",
     "output_type": "stream",
     "text": [
      "<re.Match object; span=(27, 30), match='age'>\n"
     ]
    }
   ],
   "source": [
    "c = re.search(\"age\",a)\n",
    "print(c)"
   ]
  },
  {
   "cell_type": "markdown",
   "id": "c6994d4c",
   "metadata": {},
   "source": [
    "# 3. findall():"
   ]
  },
  {
   "cell_type": "code",
   "execution_count": 9,
   "id": "071376f3",
   "metadata": {},
   "outputs": [],
   "source": [
    "import re"
   ]
  },
  {
   "cell_type": "code",
   "execution_count": 10,
   "id": "59f34a93",
   "metadata": {},
   "outputs": [],
   "source": [
    "a = \"My name is Gade Mounika,My age is 22\""
   ]
  },
  {
   "cell_type": "code",
   "execution_count": 11,
   "id": "48a0b4d7",
   "metadata": {},
   "outputs": [
    {
     "name": "stdout",
     "output_type": "stream",
     "text": [
      "['My', 'My']\n"
     ]
    }
   ],
   "source": [
    "d = re.findall(\"My\",a)\n",
    "print(d)"
   ]
  },
  {
   "cell_type": "code",
   "execution_count": 12,
   "id": "0dd0f4fc",
   "metadata": {},
   "outputs": [
    {
     "name": "stdout",
     "output_type": "stream",
     "text": [
      "[]\n"
     ]
    }
   ],
   "source": [
    "d = re.findall(\"from\",a)\n",
    "print(d)"
   ]
  },
  {
   "cell_type": "code",
   "execution_count": 13,
   "id": "7d98cb09",
   "metadata": {},
   "outputs": [
    {
     "name": "stdout",
     "output_type": "stream",
     "text": [
      "['22']\n"
     ]
    }
   ],
   "source": [
    "d = re.findall(\"22\",a)\n",
    "print(d)"
   ]
  },
  {
   "cell_type": "markdown",
   "id": "67d3b4d5",
   "metadata": {},
   "source": [
    "# 4. split():"
   ]
  },
  {
   "cell_type": "code",
   "execution_count": 14,
   "id": "8a2056ea",
   "metadata": {},
   "outputs": [],
   "source": [
    "import re"
   ]
  },
  {
   "cell_type": "code",
   "execution_count": 15,
   "id": "b87f66ab",
   "metadata": {},
   "outputs": [],
   "source": [
    "a = \"My name is Gade Mounika,My age is 22\""
   ]
  },
  {
   "cell_type": "code",
   "execution_count": 17,
   "id": "86eec9a5",
   "metadata": {},
   "outputs": [
    {
     "name": "stdout",
     "output_type": "stream",
     "text": [
      "['My name is ', ' Mounika,My age is 22']\n"
     ]
    }
   ],
   "source": [
    "p = re.split(\"Gade\",a)\n",
    "print(p)"
   ]
  },
  {
   "cell_type": "code",
   "execution_count": 18,
   "id": "938eeb9f",
   "metadata": {},
   "outputs": [
    {
     "name": "stdout",
     "output_type": "stream",
     "text": [
      "['My name is Gade Mounika,My age is 22']\n"
     ]
    }
   ],
   "source": [
    "q = re.split(\"Anvitha\",a)\n",
    "print(q)"
   ]
  },
  {
   "cell_type": "markdown",
   "id": "29c35ac3",
   "metadata": {},
   "source": [
    "# 5. sub():"
   ]
  },
  {
   "cell_type": "code",
   "execution_count": null,
   "id": "fd0ca467",
   "metadata": {},
   "outputs": [],
   "source": [
    "import re"
   ]
  },
  {
   "cell_type": "code",
   "execution_count": null,
   "id": "e449a265",
   "metadata": {},
   "outputs": [],
   "source": [
    "a = \"My name is Gade Mounika,My age is 22\""
   ]
  },
  {
   "cell_type": "code",
   "execution_count": 19,
   "id": "9d46f523",
   "metadata": {},
   "outputs": [
    {
     "name": "stdout",
     "output_type": "stream",
     "text": [
      "My name is Gade Mouni,My age is 22\n"
     ]
    }
   ],
   "source": [
    "x = re.sub(\"Mounika\",\"Mouni\",a)\n",
    "print(x)"
   ]
  },
  {
   "cell_type": "code",
   "execution_count": 22,
   "id": "696cfcdf",
   "metadata": {},
   "outputs": [
    {
     "name": "stdout",
     "output_type": "stream",
     "text": [
      "Iam Gade Mounika,My age is 22\n"
     ]
    }
   ],
   "source": [
    "x = re.sub(\"My name is\",\"Iam\",a)\n",
    "print(x)"
   ]
  },
  {
   "cell_type": "code",
   "execution_count": 23,
   "id": "7dc23134",
   "metadata": {},
   "outputs": [
    {
     "data": {
      "text/plain": [
       "'My name is Gade Mounika,My age is 22'"
      ]
     },
     "execution_count": 23,
     "metadata": {},
     "output_type": "execute_result"
    }
   ],
   "source": [
    "a"
   ]
  },
  {
   "cell_type": "markdown",
   "id": "7b145861",
   "metadata": {},
   "source": [
    "# Special Sequences:"
   ]
  },
  {
   "cell_type": "markdown",
   "id": "d05a3c40",
   "metadata": {},
   "source": [
    "--> Special sequences do not match for the actual character in the string instead it tells the specific location in the search string where the match must occur.\n",
    "\n",
    "--> It makes it easier to write commonly used patterns."
   ]
  },
  {
   "cell_type": "markdown",
   "id": "9a6ecbd6",
   "metadata": {},
   "source": [
    "1. \\d  --> If given string having digits(0-9)  (or)  Matches any decimal digit,this is equivalent to the set class[0-9].\n",
    "\n",
    "2. \\D  --> If given string does not have digits  (or)  Matches any non-digit character, this is equivalent to the set class[^0-9].\n",
    "\n",
    "3. \\w  --> If given string having word characters(a-zA-Z,0-9)  (or)  Matches any alphanumeric character,this is equivalent to the class[a-zA-Z0-9]\n",
    "\n",
    "4. \\W  --> If given string does not have word characters  (or)  Matches any non - alphanumeric character.\n",
    "\n",
    "5. \\s  --> If given string having spaces  (or)  Matches any whitespace character.\n",
    "\n",
    "6. \\S  --> If given string does not have spaces  (or)  Matches any non-whitespace character.\n",
    "\n",
    "7. \\z  --> If given string ends with specified characters  (or)  Matches if the string ends with the given regex.\n",
    "\n",
    "8. \\A  --> Matches if the string begins with the given character.\n",
    "\n",
    "9. \\b  --> Matches if the word begins or ends with the given character.\\b(string) will check for the beginning of the word and (string)\\b will check for the ending of the word.\n",
    "\n",
    "10. \\B --> It is the opposite of the \\b i.e., the string should not start or end with the given regex."
   ]
  },
  {
   "cell_type": "code",
   "execution_count": 24,
   "id": "ff1d1ed5",
   "metadata": {},
   "outputs": [],
   "source": [
    "import re"
   ]
  },
  {
   "cell_type": "code",
   "execution_count": 40,
   "id": "15a7ebfd",
   "metadata": {},
   "outputs": [],
   "source": [
    "a = \"My name is Gade Mounika, My age is 22\""
   ]
  },
  {
   "cell_type": "code",
   "execution_count": 42,
   "id": "65e452ad",
   "metadata": {},
   "outputs": [
    {
     "name": "stdout",
     "output_type": "stream",
     "text": [
      "[]\n"
     ]
    }
   ],
   "source": [
    "b = re.findall(\"\\Aname\",a)\n",
    "print(b)"
   ]
  },
  {
   "cell_type": "code",
   "execution_count": 43,
   "id": "3105dc73",
   "metadata": {},
   "outputs": [
    {
     "name": "stdout",
     "output_type": "stream",
     "text": [
      "['My']\n"
     ]
    }
   ],
   "source": [
    "b = re.findall(\"\\AMy\",a)\n",
    "print(b)"
   ]
  },
  {
   "cell_type": "code",
   "execution_count": 44,
   "id": "25f4fdd7",
   "metadata": {},
   "outputs": [
    {
     "name": "stdout",
     "output_type": "stream",
     "text": [
      "['M']\n"
     ]
    }
   ],
   "source": [
    "b = re.findall(\"\\AM\",a)\n",
    "print(b)"
   ]
  },
  {
   "cell_type": "code",
   "execution_count": 45,
   "id": "2a7b1d6e",
   "metadata": {},
   "outputs": [
    {
     "name": "stdout",
     "output_type": "stream",
     "text": [
      "['22']\n"
     ]
    }
   ],
   "source": [
    "b = re.findall(\"22\\Z\",a)\n",
    "print(b)"
   ]
  },
  {
   "cell_type": "code",
   "execution_count": 46,
   "id": "f08f0234",
   "metadata": {},
   "outputs": [
    {
     "name": "stdout",
     "output_type": "stream",
     "text": [
      "['22']\n"
     ]
    }
   ],
   "source": [
    "b = re.findall(\"..\\Z\",a)\n",
    "print(b)"
   ]
  },
  {
   "cell_type": "code",
   "execution_count": 47,
   "id": "7a994491",
   "metadata": {},
   "outputs": [
    {
     "name": "stdout",
     "output_type": "stream",
     "text": [
      "['2']\n"
     ]
    }
   ],
   "source": [
    "b = re.findall(\".\\Z\",a)\n",
    "print(b)"
   ]
  },
  {
   "cell_type": "code",
   "execution_count": 48,
   "id": "e2c02836",
   "metadata": {},
   "outputs": [
    {
     "name": "stdout",
     "output_type": "stream",
     "text": [
      "['']\n"
     ]
    }
   ],
   "source": [
    "b = re.findall(\"\\Z\",a)\n",
    "print(b)"
   ]
  },
  {
   "cell_type": "code",
   "execution_count": 49,
   "id": "61b71e22",
   "metadata": {},
   "outputs": [
    {
     "name": "stdout",
     "output_type": "stream",
     "text": [
      "[]\n"
     ]
    }
   ],
   "source": [
    "b = re.findall(\"iam\\Z\",a)\n",
    "print(b)"
   ]
  },
  {
   "cell_type": "code",
   "execution_count": 50,
   "id": "e6283654",
   "metadata": {},
   "outputs": [
    {
     "name": "stdout",
     "output_type": "stream",
     "text": [
      "[' ', ' ', ' ', ' ', ' ', ' ', ' ', ' ']\n"
     ]
    }
   ],
   "source": [
    "b = re.findall(\"\\s\",a)\n",
    "print(b)"
   ]
  },
  {
   "cell_type": "code",
   "execution_count": 51,
   "id": "f2619c9b",
   "metadata": {},
   "outputs": [
    {
     "name": "stdout",
     "output_type": "stream",
     "text": [
      "['M', 'y', 'n', 'a', 'm', 'e', 'i', 's', 'G', 'a', 'd', 'e', 'M', 'o', 'u', 'n', 'i', 'k', 'a', ',', 'M', 'y', 'a', 'g', 'e', 'i', 's', '2', '2']\n"
     ]
    }
   ],
   "source": [
    "b = re.findall(\"\\S\",a)\n",
    "print(b)"
   ]
  },
  {
   "cell_type": "code",
   "execution_count": 52,
   "id": "4d393c6b",
   "metadata": {},
   "outputs": [
    {
     "name": "stdout",
     "output_type": "stream",
     "text": [
      "['2', '2']\n"
     ]
    }
   ],
   "source": [
    "b = re.findall(\"\\d\",a)\n",
    "print(b)"
   ]
  },
  {
   "cell_type": "code",
   "execution_count": 53,
   "id": "7726d4ad",
   "metadata": {},
   "outputs": [
    {
     "name": "stdout",
     "output_type": "stream",
     "text": [
      "['M', 'y', ' ', 'n', 'a', 'm', 'e', ' ', 'i', 's', ' ', 'G', 'a', 'd', 'e', ' ', 'M', 'o', 'u', 'n', 'i', 'k', 'a', ',', ' ', 'M', 'y', ' ', 'a', 'g', 'e', ' ', 'i', 's', ' ']\n"
     ]
    }
   ],
   "source": [
    "b = re.findall(\"\\D\",a)\n",
    "print(b)"
   ]
  },
  {
   "cell_type": "code",
   "execution_count": 54,
   "id": "718fffe5",
   "metadata": {},
   "outputs": [
    {
     "name": "stdout",
     "output_type": "stream",
     "text": [
      "['M', 'y', 'n', 'a', 'm', 'e', 'i', 's', 'G', 'a', 'd', 'e', 'M', 'o', 'u', 'n', 'i', 'k', 'a', 'M', 'y', 'a', 'g', 'e', 'i', 's', '2', '2']\n"
     ]
    }
   ],
   "source": [
    "b = re.findall(\"\\w\",a)\n",
    "print(b)"
   ]
  },
  {
   "cell_type": "code",
   "execution_count": 55,
   "id": "628369c3",
   "metadata": {},
   "outputs": [
    {
     "name": "stdout",
     "output_type": "stream",
     "text": [
      "[' ', ' ', ' ', ' ', ',', ' ', ' ', ' ', ' ']\n"
     ]
    }
   ],
   "source": [
    "b = re.findall(\"\\W\",a)\n",
    "print(b)"
   ]
  },
  {
   "cell_type": "code",
   "execution_count": 58,
   "id": "e1ef6fa0",
   "metadata": {},
   "outputs": [
    {
     "name": "stdout",
     "output_type": "stream",
     "text": [
      "['name']\n"
     ]
    }
   ],
   "source": [
    "b = re.findall(r\"\\bname\",a)\n",
    "print(b)"
   ]
  },
  {
   "cell_type": "code",
   "execution_count": 59,
   "id": "8156949e",
   "metadata": {},
   "outputs": [
    {
     "name": "stdout",
     "output_type": "stream",
     "text": [
      "['My', 'My']\n"
     ]
    }
   ],
   "source": [
    "b = re.findall(r\"\\bMy\",a)\n",
    "print(b)"
   ]
  },
  {
   "cell_type": "code",
   "execution_count": 60,
   "id": "8bd219a4",
   "metadata": {},
   "outputs": [
    {
     "name": "stdout",
     "output_type": "stream",
     "text": [
      "['age']\n"
     ]
    }
   ],
   "source": [
    "b = re.findall(r\"\\bage\",a)\n",
    "print(b)"
   ]
  },
  {
   "cell_type": "code",
   "execution_count": 61,
   "id": "b787e5c1",
   "metadata": {},
   "outputs": [
    {
     "name": "stdout",
     "output_type": "stream",
     "text": [
      "['ka']\n"
     ]
    }
   ],
   "source": [
    "b = re.findall(r\"ka\\b\",a)\n",
    "print(b)"
   ]
  },
  {
   "cell_type": "code",
   "execution_count": 62,
   "id": "eb9c126e",
   "metadata": {},
   "outputs": [
    {
     "name": "stdout",
     "output_type": "stream",
     "text": [
      "['de']\n"
     ]
    }
   ],
   "source": [
    "b = re.findall(r\"de\\b\",a)\n",
    "print(b)"
   ]
  },
  {
   "cell_type": "code",
   "execution_count": 63,
   "id": "ebd94834",
   "metadata": {},
   "outputs": [
    {
     "name": "stdout",
     "output_type": "stream",
     "text": [
      "['ge']\n"
     ]
    }
   ],
   "source": [
    "b = re.findall(r\"ge\\b\",a)\n",
    "print(b)"
   ]
  },
  {
   "cell_type": "code",
   "execution_count": 64,
   "id": "eac77bf1",
   "metadata": {},
   "outputs": [
    {
     "name": "stdout",
     "output_type": "stream",
     "text": [
      "[]\n"
     ]
    }
   ],
   "source": [
    "b = re.findall(r\"am\\b\",a)\n",
    "print(b)"
   ]
  },
  {
   "cell_type": "code",
   "execution_count": 65,
   "id": "ce6ae916",
   "metadata": {},
   "outputs": [
    {
     "name": "stdout",
     "output_type": "stream",
     "text": [
      "['ka']\n"
     ]
    }
   ],
   "source": [
    "b = re.findall(r\"\\Bka\",a)\n",
    "print(b)"
   ]
  },
  {
   "cell_type": "code",
   "execution_count": 66,
   "id": "0fabd29e",
   "metadata": {},
   "outputs": [
    {
     "name": "stdout",
     "output_type": "stream",
     "text": [
      "['ge']\n"
     ]
    }
   ],
   "source": [
    "b = re.findall(r\"\\Bge\",a)\n",
    "print(b)"
   ]
  },
  {
   "cell_type": "code",
   "execution_count": 67,
   "id": "3bd4dd2c",
   "metadata": {},
   "outputs": [
    {
     "name": "stdout",
     "output_type": "stream",
     "text": [
      "['de']\n"
     ]
    }
   ],
   "source": [
    "b = re.findall(r\"\\Bde\",a)\n",
    "print(b)"
   ]
  },
  {
   "cell_type": "code",
   "execution_count": 68,
   "id": "e4175f35",
   "metadata": {},
   "outputs": [
    {
     "name": "stdout",
     "output_type": "stream",
     "text": [
      "['am']\n"
     ]
    }
   ],
   "source": [
    "b = re.findall(r\"\\Bam\",a)\n",
    "print(b)"
   ]
  },
  {
   "cell_type": "code",
   "execution_count": 69,
   "id": "a9806cd2",
   "metadata": {},
   "outputs": [
    {
     "name": "stdout",
     "output_type": "stream",
     "text": [
      "[]\n"
     ]
    }
   ],
   "source": [
    "b = re.findall(r\"\\Bag\",a)\n",
    "print(b)"
   ]
  },
  {
   "cell_type": "code",
   "execution_count": 70,
   "id": "906da95c",
   "metadata": {},
   "outputs": [
    {
     "name": "stdout",
     "output_type": "stream",
     "text": [
      "[]\n"
     ]
    }
   ],
   "source": [
    "b = re.findall(r\"\\Bage\",a)\n",
    "print(b)"
   ]
  },
  {
   "cell_type": "code",
   "execution_count": 71,
   "id": "40cc9abb",
   "metadata": {},
   "outputs": [
    {
     "name": "stdout",
     "output_type": "stream",
     "text": [
      "[]\n"
     ]
    }
   ],
   "source": [
    "b = re.findall(r\"de\\B\",a)\n",
    "print(b)"
   ]
  },
  {
   "cell_type": "code",
   "execution_count": 78,
   "id": "7c0d3691",
   "metadata": {},
   "outputs": [
    {
     "name": "stdout",
     "output_type": "stream",
     "text": [
      "['ag']\n"
     ]
    }
   ],
   "source": [
    "b = re.findall(r\"ag\\B\",a)\n",
    "print(b)"
   ]
  },
  {
   "cell_type": "code",
   "execution_count": 73,
   "id": "00dfd5fa",
   "metadata": {},
   "outputs": [
    {
     "name": "stdout",
     "output_type": "stream",
     "text": [
      "[]\n"
     ]
    }
   ],
   "source": [
    "b = re.findall(r\"My\\B\",a)\n",
    "print(b)"
   ]
  },
  {
   "cell_type": "code",
   "execution_count": 74,
   "id": "240992fe",
   "metadata": {},
   "outputs": [
    {
     "name": "stdout",
     "output_type": "stream",
     "text": [
      "['Ga']\n"
     ]
    }
   ],
   "source": [
    "b = re.findall(r\"Ga\\B\",a)\n",
    "print(b)"
   ]
  },
  {
   "cell_type": "code",
   "execution_count": 75,
   "id": "b1e059ef",
   "metadata": {},
   "outputs": [
    {
     "name": "stdout",
     "output_type": "stream",
     "text": [
      "['Mou']\n"
     ]
    }
   ],
   "source": [
    "b = re.findall(r\"Mou\\B\",a)\n",
    "print(b)"
   ]
  },
  {
   "cell_type": "code",
   "execution_count": 79,
   "id": "b2715568",
   "metadata": {},
   "outputs": [
    {
     "name": "stdout",
     "output_type": "stream",
     "text": [
      "[]\n"
     ]
    }
   ],
   "source": [
    "b = re.findall(r\"age\\B\",a)\n",
    "print(b)"
   ]
  },
  {
   "cell_type": "code",
   "execution_count": 80,
   "id": "223b2462",
   "metadata": {},
   "outputs": [
    {
     "name": "stdout",
     "output_type": "stream",
     "text": [
      "[]\n"
     ]
    }
   ],
   "source": [
    "b = re.findall(r\"ge\\B\",a)\n",
    "print(b)"
   ]
  },
  {
   "cell_type": "markdown",
   "id": "6ecfc1e3",
   "metadata": {},
   "source": [
    "# Meta Characters:"
   ]
  },
  {
   "cell_type": "markdown",
   "id": "6abe5330",
   "metadata": {},
   "source": [
    "--> reg Ex is mainly used for pattern matching."
   ]
  },
  {
   "cell_type": "markdown",
   "id": "ff47ecef",
   "metadata": {},
   "source": [
    "1. []  - Square Brackets --> returns a match if contains pattern/characters specified in [].\n",
    "\n",
    "2. ^  - caret --> returns a match if string starts with given pattern.\n",
    "\n",
    "3. $  - Doller --> Ends with \n",
    "\n",
    "4. .  - Dot --> matches any character except new line. \n",
    "\n",
    "5. \\*  - star --> Zero or more occurences of given pattern.\n",
    "\n",
    "6. \\+  - plus --> One or more occurences.\n",
    "\n",
    "7. {}  - flower braces --> Contains specified no:of occurences (or) Indicate the no:of occurences of a preceding regex to match.\n",
    "    \n",
    "8. /  - escape character --> Special sequences (or) used to drop the special meaning of character following it.\n",
    "\n",
    "9. () - group --> Enclose a group of Regex.\n"
   ]
  },
  {
   "cell_type": "code",
   "execution_count": 81,
   "id": "8b0fe5cc",
   "metadata": {},
   "outputs": [],
   "source": [
    "import re"
   ]
  },
  {
   "cell_type": "code",
   "execution_count": 82,
   "id": "a911eb12",
   "metadata": {},
   "outputs": [],
   "source": [
    "a = \"My name is Gade Mounika, My age is 22\""
   ]
  },
  {
   "cell_type": "code",
   "execution_count": 83,
   "id": "34f4f2b6",
   "metadata": {},
   "outputs": [
    {
     "name": "stdout",
     "output_type": "stream",
     "text": [
      "['a', 'a', 'a', 'a']\n"
     ]
    }
   ],
   "source": [
    "c = re.findall(\"[abc]\",a)\n",
    "print(c)"
   ]
  },
  {
   "cell_type": "code",
   "execution_count": 84,
   "id": "53028479",
   "metadata": {},
   "outputs": [
    {
     "name": "stdout",
     "output_type": "stream",
     "text": [
      "[]\n"
     ]
    }
   ],
   "source": [
    "c = re.findall(\"[ABC]\",a)\n",
    "print(c)"
   ]
  },
  {
   "cell_type": "code",
   "execution_count": 85,
   "id": "57683e0d",
   "metadata": {},
   "outputs": [
    {
     "name": "stdout",
     "output_type": "stream",
     "text": [
      "['M', 'G', 'M', 'M']\n"
     ]
    }
   ],
   "source": [
    "c = re.findall(\"[A-Z]\",a)\n",
    "print(c)"
   ]
  },
  {
   "cell_type": "code",
   "execution_count": 86,
   "id": "301e925e",
   "metadata": {},
   "outputs": [
    {
     "name": "stdout",
     "output_type": "stream",
     "text": [
      "['y', 'n', 'a', 'm', 'e', 'i', 's', 'a', 'd', 'e', 'o', 'u', 'n', 'i', 'k', 'a', 'y', 'a', 'g', 'e', 'i', 's']\n"
     ]
    }
   ],
   "source": [
    "c = re.findall(\"[a-z]\",a)\n",
    "print(c)"
   ]
  },
  {
   "cell_type": "code",
   "execution_count": 87,
   "id": "6f1c3af4",
   "metadata": {},
   "outputs": [
    {
     "name": "stdout",
     "output_type": "stream",
     "text": [
      "['2', '2']\n"
     ]
    }
   ],
   "source": [
    "c = re.findall(\"[0-9]\",a)\n",
    "print(c)"
   ]
  },
  {
   "cell_type": "code",
   "execution_count": 88,
   "id": "f841c5e7",
   "metadata": {},
   "outputs": [
    {
     "name": "stdout",
     "output_type": "stream",
     "text": [
      "['M', ' ', ' ', ' ', 'G', ' ', 'M', ',', ' ', 'M', ' ', ' ', ' ', '2', '2']\n"
     ]
    }
   ],
   "source": [
    "c = re.findall(\"[^a-z]\",a)\n",
    "print(c)"
   ]
  },
  {
   "cell_type": "code",
   "execution_count": 89,
   "id": "db1e124e",
   "metadata": {},
   "outputs": [
    {
     "name": "stdout",
     "output_type": "stream",
     "text": [
      "['y', ' ', 'n', 'a', 'm', 'e', ' ', 'i', 's', ' ', 'a', 'd', 'e', ' ', 'o', 'u', 'n', 'i', 'k', 'a', ',', ' ', 'y', ' ', 'a', 'g', 'e', ' ', 'i', 's', ' ', '2', '2']\n"
     ]
    }
   ],
   "source": [
    "c = re.findall(\"[^A-Z]\",a)\n",
    "print(c)"
   ]
  },
  {
   "cell_type": "code",
   "execution_count": 90,
   "id": "c8c6bf62",
   "metadata": {},
   "outputs": [
    {
     "name": "stdout",
     "output_type": "stream",
     "text": [
      "['M', 'y', ' ', 'n', 'a', 'm', 'e', ' ', 'i', 's', ' ', 'G', 'a', 'd', 'e', ' ', 'M', 'o', 'u', 'n', 'i', 'k', 'a', ',', ' ', 'M', 'y', ' ', 'a', 'g', 'e', ' ', 'i', 's', ' ']\n"
     ]
    }
   ],
   "source": [
    "c = re.findall(\"[^0-9]\",a)\n",
    "print(c)"
   ]
  },
  {
   "cell_type": "code",
   "execution_count": 91,
   "id": "b07a47f7",
   "metadata": {},
   "outputs": [
    {
     "name": "stdout",
     "output_type": "stream",
     "text": [
      "['My']\n"
     ]
    }
   ],
   "source": [
    "c = re.findall(\"^My\",a)\n",
    "print(c)"
   ]
  },
  {
   "cell_type": "code",
   "execution_count": 93,
   "id": "c80cd247",
   "metadata": {},
   "outputs": [
    {
     "name": "stdout",
     "output_type": "stream",
     "text": [
      "[]\n"
     ]
    }
   ],
   "source": [
    "c = re.findall(\"^name\",a)\n",
    "print(c)"
   ]
  },
  {
   "cell_type": "code",
   "execution_count": 96,
   "id": "051c4c3f",
   "metadata": {},
   "outputs": [
    {
     "name": "stdout",
     "output_type": "stream",
     "text": [
      "[]\n"
     ]
    }
   ],
   "source": [
    "c = re.findall(\"26$\",a)\n",
    "print(c)"
   ]
  },
  {
   "cell_type": "code",
   "execution_count": 97,
   "id": "8e8fd079",
   "metadata": {},
   "outputs": [
    {
     "name": "stdout",
     "output_type": "stream",
     "text": [
      "['22']\n"
     ]
    }
   ],
   "source": [
    "c = re.findall(\"22$\",a)\n",
    "print(c)"
   ]
  },
  {
   "cell_type": "code",
   "execution_count": 98,
   "id": "c00cf161",
   "metadata": {},
   "outputs": [
    {
     "name": "stdout",
     "output_type": "stream",
     "text": [
      "['2']\n"
     ]
    }
   ],
   "source": [
    "c = re.findall(\"2$\",a)\n",
    "print(c)"
   ]
  },
  {
   "cell_type": "code",
   "execution_count": 99,
   "id": "51ccbf25",
   "metadata": {},
   "outputs": [
    {
     "name": "stdout",
     "output_type": "stream",
     "text": [
      "['ame', 'ade', 'age']\n"
     ]
    }
   ],
   "source": [
    "c = re.findall(\"a.e\",a)\n",
    "print(c)"
   ]
  },
  {
   "cell_type": "code",
   "execution_count": 100,
   "id": "86c10811",
   "metadata": {},
   "outputs": [
    {
     "name": "stdout",
     "output_type": "stream",
     "text": [
      "['My', 'Mo', 'My']\n"
     ]
    }
   ],
   "source": [
    "c = re.findall(\"M.\",a)\n",
    "print(c)"
   ]
  },
  {
   "cell_type": "code",
   "execution_count": 102,
   "id": "3a4e29ae",
   "metadata": {},
   "outputs": [
    {
     "name": "stdout",
     "output_type": "stream",
     "text": [
      "['My name', 'Mounika', 'My age ']\n"
     ]
    }
   ],
   "source": [
    "c = re.findall(\"M......\",a)\n",
    "print(c)"
   ]
  },
  {
   "cell_type": "code",
   "execution_count": 103,
   "id": "dd97a443",
   "metadata": {},
   "outputs": [
    {
     "name": "stdout",
     "output_type": "stream",
     "text": [
      "['name']\n"
     ]
    }
   ],
   "source": [
    "c = re.findall(\"n.m.\",a)\n",
    "print(c)"
   ]
  },
  {
   "cell_type": "code",
   "execution_count": 104,
   "id": "2cdb21e6",
   "metadata": {},
   "outputs": [
    {
     "name": "stdout",
     "output_type": "stream",
     "text": [
      "['My', 'is', 'My', 'is']\n"
     ]
    }
   ],
   "source": [
    "c = re.findall(\"My|is\",a)\n",
    "print(c)"
   ]
  },
  {
   "cell_type": "code",
   "execution_count": 105,
   "id": "4b34d44f",
   "metadata": {},
   "outputs": [
    {
     "name": "stdout",
     "output_type": "stream",
     "text": [
      "['name', 'age']\n"
     ]
    }
   ],
   "source": [
    "c = re.findall(\"name|age\",a)\n",
    "print(c)"
   ]
  },
  {
   "cell_type": "code",
   "execution_count": 106,
   "id": "8dd06e4a",
   "metadata": {},
   "outputs": [
    {
     "name": "stdout",
     "output_type": "stream",
     "text": [
      "['Gade', 'Mouni']\n"
     ]
    }
   ],
   "source": [
    "c = re.findall(\"Gade|Mouni\",a)\n",
    "print(c)"
   ]
  },
  {
   "cell_type": "code",
   "execution_count": 107,
   "id": "0e50a9ea",
   "metadata": {},
   "outputs": [
    {
     "name": "stdout",
     "output_type": "stream",
     "text": [
      "['Gade']\n"
     ]
    }
   ],
   "source": [
    "c = re.findall(\"Gade|mouni\",a)\n",
    "print(c)"
   ]
  },
  {
   "cell_type": "code",
   "execution_count": 108,
   "id": "e6399b74",
   "metadata": {},
   "outputs": [],
   "source": [
    "import re"
   ]
  },
  {
   "cell_type": "code",
   "execution_count": 128,
   "id": "9ad9580f",
   "metadata": {},
   "outputs": [],
   "source": [
    "a = \"my name is Sai\""
   ]
  },
  {
   "cell_type": "code",
   "execution_count": 121,
   "id": "743aab8e",
   "metadata": {},
   "outputs": [
    {
     "name": "stdout",
     "output_type": "stream",
     "text": [
      "['Sai']\n"
     ]
    }
   ],
   "source": [
    "d = re.findall(\"Sa?i\",a)\n",
    "print(d)"
   ]
  },
  {
   "cell_type": "code",
   "execution_count": 124,
   "id": "4b13b61a",
   "metadata": {},
   "outputs": [],
   "source": [
    "b = \"my name is Si\""
   ]
  },
  {
   "cell_type": "code",
   "execution_count": 125,
   "id": "6832d051",
   "metadata": {},
   "outputs": [
    {
     "name": "stdout",
     "output_type": "stream",
     "text": [
      "['Si']\n"
     ]
    }
   ],
   "source": [
    "d = re.findall(\"Sa?i\",b)\n",
    "print(d)"
   ]
  },
  {
   "cell_type": "code",
   "execution_count": 129,
   "id": "be729d68",
   "metadata": {},
   "outputs": [
    {
     "name": "stdout",
     "output_type": "stream",
     "text": [
      "[]\n"
     ]
    }
   ],
   "source": [
    "d = re.findall(\"Saaai\",a)\n",
    "print(d)"
   ]
  },
  {
   "cell_type": "code",
   "execution_count": 130,
   "id": "4f09f70a",
   "metadata": {},
   "outputs": [
    {
     "name": "stdout",
     "output_type": "stream",
     "text": [
      "['Sai']\n"
     ]
    }
   ],
   "source": [
    "d = re.findall(\"Sa+i\",a)\n",
    "print(d)"
   ]
  },
  {
   "cell_type": "code",
   "execution_count": 131,
   "id": "07cec2ff",
   "metadata": {},
   "outputs": [],
   "source": [
    "c = \"my name is Saaai\""
   ]
  },
  {
   "cell_type": "code",
   "execution_count": 132,
   "id": "7c48fcbe",
   "metadata": {},
   "outputs": [
    {
     "name": "stdout",
     "output_type": "stream",
     "text": [
      "['Saaai']\n"
     ]
    }
   ],
   "source": [
    "d = re.findall(\"Sa+i\",c)\n",
    "print(d)"
   ]
  },
  {
   "cell_type": "code",
   "execution_count": 133,
   "id": "47877794",
   "metadata": {},
   "outputs": [
    {
     "name": "stdout",
     "output_type": "stream",
     "text": [
      "['Sai']\n"
     ]
    }
   ],
   "source": [
    "d = re.findall(\"Sa*i\",a)\n",
    "print(d)"
   ]
  },
  {
   "cell_type": "code",
   "execution_count": 134,
   "id": "f499d8ca",
   "metadata": {},
   "outputs": [
    {
     "name": "stdout",
     "output_type": "stream",
     "text": [
      "['Saaai']\n"
     ]
    }
   ],
   "source": [
    "d = re.findall(\"Sa*i\",c)\n",
    "print(d)"
   ]
  },
  {
   "cell_type": "code",
   "execution_count": 135,
   "id": "71b1415e",
   "metadata": {},
   "outputs": [],
   "source": [
    "import re"
   ]
  },
  {
   "cell_type": "code",
   "execution_count": 136,
   "id": "3feecf3f",
   "metadata": {},
   "outputs": [],
   "source": [
    "a = \"My name is Gade Mounika,My age is 22\""
   ]
  },
  {
   "cell_type": "code",
   "execution_count": 138,
   "id": "c420905d",
   "metadata": {},
   "outputs": [
    {
     "name": "stdout",
     "output_type": "stream",
     "text": [
      "['My', 'M', 'My']\n"
     ]
    }
   ],
   "source": [
    "p = re.findall('My{0,2}',a)\n",
    "print(p)"
   ]
  },
  {
   "cell_type": "code",
   "execution_count": 139,
   "id": "d6a1b6b5",
   "metadata": {},
   "outputs": [
    {
     "name": "stdout",
     "output_type": "stream",
     "text": [
      "['My', 'My']\n"
     ]
    }
   ],
   "source": [
    "p = re.findall('My{1,2}',a)\n",
    "print(p)"
   ]
  },
  {
   "cell_type": "code",
   "execution_count": 140,
   "id": "7824bcc5",
   "metadata": {},
   "outputs": [
    {
     "name": "stdout",
     "output_type": "stream",
     "text": [
      "[]\n"
     ]
    }
   ],
   "source": [
    "p = re.findall('My{2}',a)\n",
    "print(p)"
   ]
  },
  {
   "cell_type": "code",
   "execution_count": 141,
   "id": "a2831826",
   "metadata": {},
   "outputs": [
    {
     "name": "stdout",
     "output_type": "stream",
     "text": [
      "[]\n"
     ]
    }
   ],
   "source": [
    "p = re.findall('My{2,8}',a)\n",
    "print(p)"
   ]
  },
  {
   "cell_type": "markdown",
   "id": "e80519e5",
   "metadata": {},
   "source": [
    "# 1. Write a program to remove all white spaces from the given string?"
   ]
  },
  {
   "cell_type": "code",
   "execution_count": 142,
   "id": "92318096",
   "metadata": {},
   "outputs": [],
   "source": [
    "import re"
   ]
  },
  {
   "cell_type": "code",
   "execution_count": 149,
   "id": "87ebccc7",
   "metadata": {},
   "outputs": [],
   "source": [
    "a = \"A Good laugh heals a lot of Hurts\""
   ]
  },
  {
   "cell_type": "code",
   "execution_count": 150,
   "id": "22542809",
   "metadata": {},
   "outputs": [
    {
     "name": "stdout",
     "output_type": "stream",
     "text": [
      "AGoodlaughhealsalotofHurts\n"
     ]
    }
   ],
   "source": [
    "b = re.sub(\"\\s+\",\"\",a)\n",
    "print(b)"
   ]
  },
  {
   "cell_type": "markdown",
   "id": "9dc502c2",
   "metadata": {},
   "source": [
    "# 2. write a program to replace all spaces with @?"
   ]
  },
  {
   "cell_type": "code",
   "execution_count": 151,
   "id": "6b226dc7",
   "metadata": {},
   "outputs": [
    {
     "name": "stdout",
     "output_type": "stream",
     "text": [
      "A@Good@laugh@heals@a@lot@of@Hurts\n"
     ]
    }
   ],
   "source": [
    "b = re.sub(\"\\s+\",\"@\",a)\n",
    "print(b)"
   ]
  },
  {
   "cell_type": "code",
   "execution_count": 152,
   "id": "1b5bccd8",
   "metadata": {},
   "outputs": [],
   "source": [
    "a = \"A Good laugh heals a lot of Hurts.,\""
   ]
  },
  {
   "cell_type": "code",
   "execution_count": 153,
   "id": "e9f90d50",
   "metadata": {},
   "outputs": [
    {
     "name": "stdout",
     "output_type": "stream",
     "text": [
      "A@Good@laugh@heals@a@lot@of@Hurts@@\n"
     ]
    }
   ],
   "source": [
    "b = re.sub(\"[ .,]\",\"@\",a)\n",
    "print(b)"
   ]
  },
  {
   "cell_type": "markdown",
   "id": "e9c1df69",
   "metadata": {},
   "source": [
    "# 3. write a program to seperate the numbers from the given text,display this numbers in separate line."
   ]
  },
  {
   "cell_type": "code",
   "execution_count": 154,
   "id": "7727e899",
   "metadata": {},
   "outputs": [],
   "source": [
    "a = \"My age is 22, my phone number is 7856498768\""
   ]
  },
  {
   "cell_type": "code",
   "execution_count": 155,
   "id": "6ae9760a",
   "metadata": {},
   "outputs": [],
   "source": [
    "b = re.findall(\"\\d+\",a)"
   ]
  },
  {
   "cell_type": "code",
   "execution_count": 156,
   "id": "4fe28205",
   "metadata": {},
   "outputs": [
    {
     "name": "stdout",
     "output_type": "stream",
     "text": [
      "['22', '7856498768']\n"
     ]
    }
   ],
   "source": [
    "print(b)"
   ]
  },
  {
   "cell_type": "code",
   "execution_count": 157,
   "id": "5e3d2d8f",
   "metadata": {},
   "outputs": [
    {
     "name": "stdout",
     "output_type": "stream",
     "text": [
      "22\n",
      "7856498768\n"
     ]
    }
   ],
   "source": [
    "for i in b:\n",
    "    print(i)"
   ]
  },
  {
   "cell_type": "markdown",
   "id": "c61e1cf9",
   "metadata": {},
   "source": [
    "# 4. write a python program to remove vowels in given string?"
   ]
  },
  {
   "cell_type": "code",
   "execution_count": 158,
   "id": "4ac369ed",
   "metadata": {},
   "outputs": [],
   "source": [
    "c = \"Iam from Anantapur.I listen to Music, read books. and I am very fond of dancing,singing.\""
   ]
  },
  {
   "cell_type": "code",
   "execution_count": 159,
   "id": "805d10f4",
   "metadata": {},
   "outputs": [
    {
     "name": "stdout",
     "output_type": "stream",
     "text": [
      "m frm nntpr. lstn t Msc, rd bks. nd  m vry fnd f dncng,sngng.\n"
     ]
    }
   ],
   "source": [
    "d = re.sub(\"[aeiouAEIOU]\",\"\",c)\n",
    "print(d)"
   ]
  },
  {
   "cell_type": "markdown",
   "id": "62e73ab4",
   "metadata": {},
   "source": [
    "# 5. write a program to what starts with l,d,s,M,b."
   ]
  },
  {
   "cell_type": "code",
   "execution_count": 161,
   "id": "20b4f799",
   "metadata": {},
   "outputs": [],
   "source": [
    "import re"
   ]
  },
  {
   "cell_type": "code",
   "execution_count": 172,
   "id": "889a11f3",
   "metadata": {},
   "outputs": [],
   "source": [
    "c = \"Iam from Anantapur.I listen to Music, read books. and Iam very fond of dancing,singing.\""
   ]
  },
  {
   "cell_type": "code",
   "execution_count": 167,
   "id": "6e945ad3",
   "metadata": {},
   "outputs": [
    {
     "name": "stdout",
     "output_type": "stream",
     "text": [
      "['listen', 'Music', 'books', 'dancing', 'singing']\n"
     ]
    }
   ],
   "source": [
    "d = re.findall(\"[ldsMb]\\w+\",c)\n",
    "print(d)"
   ]
  },
  {
   "cell_type": "markdown",
   "id": "a1e5d228",
   "metadata": {},
   "source": [
    "# 6. Write a program to what starts with Ia?"
   ]
  },
  {
   "cell_type": "code",
   "execution_count": 169,
   "id": "897a697e",
   "metadata": {},
   "outputs": [
    {
     "name": "stdout",
     "output_type": "stream",
     "text": [
      "['Iam', 'Iam']\n"
     ]
    }
   ],
   "source": [
    "d = re.findall(r\"\\bIa\\w+\",c)\n",
    "print(d)"
   ]
  }
 ],
 "metadata": {
  "kernelspec": {
   "display_name": "Python 3 (ipykernel)",
   "language": "python",
   "name": "python3"
  },
  "language_info": {
   "codemirror_mode": {
    "name": "ipython",
    "version": 3
   },
   "file_extension": ".py",
   "mimetype": "text/x-python",
   "name": "python",
   "nbconvert_exporter": "python",
   "pygments_lexer": "ipython3",
   "version": "3.9.13"
  }
 },
 "nbformat": 4,
 "nbformat_minor": 5
}
