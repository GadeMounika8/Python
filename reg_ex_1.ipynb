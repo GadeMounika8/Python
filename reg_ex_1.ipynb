{
 "cells": [
  {
   "cell_type": "markdown",
   "id": "5dd6e407",
   "metadata": {},
   "source": [
    "# Regular Expressions "
   ]
  },
  {
   "cell_type": "markdown",
   "id": "d2c83281",
   "metadata": {},
   "source": [
    "--> A regular expression is a special sequence of characters that uses a search pattern to find a string or set of strings.\n",
    "\n",
    "--> It can detect the presence or absence of a text by matching it with a particular pattern, and also can split a pattern into one or more sub patterns."
   ]
  },
  {
   "cell_type": "markdown",
   "id": "40bd86d2",
   "metadata": {},
   "source": [
    "--> Regex is a tool for matching patterns in a text or string that forms a search pattern."
   ]
  },
  {
   "cell_type": "markdown",
   "id": "5da347ff",
   "metadata": {},
   "source": [
    "--> Regular Expressions(RegEx) is a special sequence of characters that uses a search pattern to find a string or set of strings."
   ]
  },
  {
   "cell_type": "markdown",
   "id": "adb303f6",
   "metadata": {},
   "source": [
    "--> Regular expressions are nothing but sequence of characters used for pattern matching."
   ]
  },
  {
   "cell_type": "markdown",
   "id": "4748c97b",
   "metadata": {},
   "source": [
    "--> for string sequence of characters are used.\n",
    "\n",
    "--> for characters pattern is used."
   ]
  },
  {
   "cell_type": "markdown",
   "id": "d2158795",
   "metadata": {},
   "source": [
    "# Uses of Reg Ex:"
   ]
  },
  {
   "cell_type": "markdown",
   "id": "2b088f8a",
   "metadata": {},
   "source": [
    "--> Find a matching pattern in a string\n",
    "\n",
    "--> Phone number verification\n",
    "\n",
    "--> Mail verification\n",
    "\n",
    "--> Website - scraping - data"
   ]
  },
  {
   "cell_type": "markdown",
   "id": "32574702",
   "metadata": {},
   "source": [
    "# Re Module:"
   ]
  },
  {
   "cell_type": "markdown",
   "id": "c6d8f25a",
   "metadata": {},
   "source": [
    "-->  Python provides a re module whole primary function is to offer a search, where it takes a regular expression and a string.\n",
    "\n",
    "-->  Import re is used to import the re module."
   ]
  },
  {
   "cell_type": "markdown",
   "id": "bcb368c0",
   "metadata": {},
   "source": [
    "# Importing regular expressions module:"
   ]
  },
  {
   "cell_type": "code",
   "execution_count": 1,
   "id": "d799a991",
   "metadata": {},
   "outputs": [],
   "source": [
    "import re"
   ]
  },
  {
   "cell_type": "markdown",
   "id": "2dad068f",
   "metadata": {},
   "source": [
    "# Functions in RegEx:"
   ]
  },
  {
   "cell_type": "markdown",
   "id": "bcddf9c7",
   "metadata": {},
   "source": [
    "--> The re module offers a set of functions that allows us to search a string for a match."
   ]
  },
  {
   "cell_type": "markdown",
   "id": "504da3be",
   "metadata": {},
   "source": [
    "1. findall()\n",
    "\n",
    "2. search()\n",
    "\n",
    "3. split()\n",
    "\n",
    "4. sub()\n",
    "\n",
    "5. subn()\n",
    "\n",
    "6. match()\n",
    "\n",
    "7. compile()\n",
    "\n",
    "8. escape()\n"
   ]
  },
  {
   "cell_type": "markdown",
   "id": "79a9bdaa",
   "metadata": {},
   "source": [
    "# 1. re.findall():"
   ]
  },
  {
   "cell_type": "markdown",
   "id": "a83aed0d",
   "metadata": {},
   "source": [
    "--> findall() returns a list of all matches.\n",
    "\n",
    "--> Return all non-overlapping matches of pattern in string, as a list of strings.\n",
    "\n",
    "--> The string is scanned left-to-right, and matches are returned in the order found."
   ]
  },
  {
   "cell_type": "markdown",
   "id": "60327725",
   "metadata": {},
   "source": [
    "# syntax for findall():"
   ]
  },
  {
   "cell_type": "markdown",
   "id": "b1a7dca7",
   "metadata": {},
   "source": [
    "re.findall(\"pattern\",source_sring)"
   ]
  },
  {
   "cell_type": "markdown",
   "id": "db666708",
   "metadata": {},
   "source": [
    "# results:"
   ]
  },
  {
   "cell_type": "markdown",
   "id": "3ec72216",
   "metadata": {},
   "source": [
    "i.  list of matches  -  if match exist\n",
    "\n",
    "ii. empty list       -   if match does not exist"
   ]
  },
  {
   "cell_type": "markdown",
   "id": "50d48d0b",
   "metadata": {},
   "source": [
    "# 2. re.search():"
   ]
  },
  {
   "cell_type": "markdown",
   "id": "8ddf5d60",
   "metadata": {},
   "source": [
    "--> search() returns match object if there are any matches in the given string.\n",
    "\n",
    "--> This method either returns None(if the pattern does not match), or a re.\n",
    "\n",
    "--> This method stops after the first match, so this is best suited for testing a regular expression more than extracting data."
   ]
  },
  {
   "cell_type": "markdown",
   "id": "5f4c9ae4",
   "metadata": {},
   "source": [
    "# Syntax for search():"
   ]
  },
  {
   "cell_type": "markdown",
   "id": "e724cff5",
   "metadata": {},
   "source": [
    "re.search(\"pattern\",source_string)"
   ]
  },
  {
   "cell_type": "markdown",
   "id": "8e20da8f",
   "metadata": {},
   "source": [
    "# results:"
   ]
  },
  {
   "cell_type": "markdown",
   "id": "ec1d090b",
   "metadata": {},
   "source": [
    "i. match object  -  if exist(first occurence)\n",
    "\n",
    "ii. None  -  if does not exist"
   ]
  },
  {
   "cell_type": "markdown",
   "id": "557d4803",
   "metadata": {},
   "source": [
    "# 3. split():"
   ]
  },
  {
   "cell_type": "markdown",
   "id": "78b1f9d4",
   "metadata": {},
   "source": [
    "--> split() splits the string from the given pattern.\n",
    "\n",
    "--> Returns a list where the string has been split at each match.\n",
    "\n",
    "--> split string by the occurences of a character or a pattern,upon finding that pattern, the remaining characters from the string are returned as part of the resulting list. "
   ]
  },
  {
   "cell_type": "markdown",
   "id": "635ff7d7",
   "metadata": {},
   "source": [
    "# Syntax for split():"
   ]
  },
  {
   "cell_type": "markdown",
   "id": "beb0304a",
   "metadata": {},
   "source": [
    "re.split(\"delimeter/pattern\",source-string,maxsplit)\n",
    "\n",
    "--> maxsplit parameter is optional\n",
    "\n",
    "--> matches = splits i.e., if 5 matches then 5 splits"
   ]
  },
  {
   "cell_type": "markdown",
   "id": "a533d7d7",
   "metadata": {},
   "source": [
    "# 4. re.sub():"
   ]
  },
  {
   "cell_type": "markdown",
   "id": "445aafa9",
   "metadata": {},
   "source": [
    "--> sub() substitutes new string to old string.\n",
    "\n",
    "--> Replaces one or many matches with a string.\n",
    "\n",
    "--> The method returns a string where matched occurences are replaced with the content of replace variable."
   ]
  },
  {
   "cell_type": "markdown",
   "id": "b9fcf565",
   "metadata": {},
   "source": [
    "# Syntax for sub():"
   ]
  },
  {
   "cell_type": "markdown",
   "id": "335cd2c2",
   "metadata": {},
   "source": [
    "re.sub(\"old pattern\",\"new pattern\",source-string,no:of occurences)\n",
    "\n",
    "--> no:of occurences parameter is optional."
   ]
  },
  {
   "cell_type": "markdown",
   "id": "fb8590b1",
   "metadata": {},
   "source": [
    "# 5. re.subn():"
   ]
  },
  {
   "cell_type": "markdown",
   "id": "a134a044",
   "metadata": {},
   "source": [
    "--> subn() is similar to sub() in all ways, except in its way of providing output.\n",
    "\n",
    "--> It returns a tuple with a count of the total of replacement and the new string rather than just the string."
   ]
  },
  {
   "cell_type": "markdown",
   "id": "b51003e6",
   "metadata": {},
   "source": [
    "# 6. re.compile():"
   ]
  },
  {
   "cell_type": "markdown",
   "id": "a9de8402",
   "metadata": {},
   "source": [
    "--> Regular expressions are compiled into pattern objects, which have methods for various operations such as searching for pattern matches or performing string substitutions."
   ]
  },
  {
   "cell_type": "markdown",
   "id": "90ce7057",
   "metadata": {},
   "source": [
    "# 7. re.escape():"
   ]
  },
  {
   "cell_type": "markdown",
   "id": "e12a866a",
   "metadata": {},
   "source": [
    "--> returns string with all non-alphanumerics backslashed, this is useful if you want to match an arbitrary literal string that may have regular expression metacharacters in it."
   ]
  },
  {
   "cell_type": "markdown",
   "id": "38de4b10",
   "metadata": {},
   "source": [
    "# Match object in RegEx:"
   ]
  },
  {
   "cell_type": "markdown",
   "id": "49beb200",
   "metadata": {},
   "source": [
    "--> A match object contains all the information about the search and the result and if there is no match found then None will be returned."
   ]
  },
  {
   "cell_type": "markdown",
   "id": "caf5b05f",
   "metadata": {},
   "source": [
    "--> Match object has different methods in order to display the result.\n",
    "\n",
    "1. start()\n",
    "\n",
    "2. span()\n",
    "\n",
    "3. string()"
   ]
  },
  {
   "cell_type": "markdown",
   "id": "0e12107f",
   "metadata": {},
   "source": [
    "# 1. start():"
   ]
  },
  {
   "cell_type": "markdown",
   "id": "04b5915b",
   "metadata": {},
   "source": [
    "--> start() gives the position of occurence."
   ]
  },
  {
   "cell_type": "markdown",
   "id": "0bea4b1e",
   "metadata": {},
   "source": [
    "# 2. span():"
   ]
  },
  {
   "cell_type": "markdown",
   "id": "71fe0577",
   "metadata": {},
   "source": [
    "--> tuple of start and end positions of match."
   ]
  },
  {
   "cell_type": "markdown",
   "id": "0324a9d1",
   "metadata": {},
   "source": [
    "# 3. string():"
   ]
  },
  {
   "cell_type": "markdown",
   "id": "e274a81d",
   "metadata": {},
   "source": [
    "--> returns the actual string used for pattern matching."
   ]
  },
  {
   "cell_type": "markdown",
   "id": "42bb9adf",
   "metadata": {},
   "source": [
    "--> we have to call the functions with the re. such as re.findall(),re.search(),re.split(),re.sub(). "
   ]
  },
  {
   "cell_type": "markdown",
   "id": "e674c015",
   "metadata": {},
   "source": [
    "# summary of functions:"
   ]
  },
  {
   "cell_type": "markdown",
   "id": "315097db",
   "metadata": {},
   "source": [
    "1. findall() - list of occurences\n",
    "\n",
    "2. search() - Match object - start(),span(),string()\n",
    "\n",
    "3. split()\n",
    "\n",
    "4. sub()"
   ]
  },
  {
   "cell_type": "markdown",
   "id": "2a33e7e8",
   "metadata": {},
   "source": [
    "# Metacharacters:"
   ]
  },
  {
   "cell_type": "markdown",
   "id": "a8834acf",
   "metadata": {},
   "source": [
    "--> reg Ex is mainly used for pattern matching."
   ]
  },
  {
   "cell_type": "markdown",
   "id": "08a12dd1",
   "metadata": {},
   "source": [
    "1. []  - Square Brackets --> returns a match if contains pattern/characters specified in [].\n",
    "\n",
    "2. ^  - caret --> returns a match if string starts with given pattern.\n",
    "\n",
    "3. $  - Doller --> Ends with \n",
    "\n",
    "4. .  - Dot --> matches any character except new line. \n",
    "\n",
    "5. \\*  - star --> Zero or more occurences of given pattern.\n",
    "\n",
    "6. \\+  - plus --> One or more occurences.\n",
    "\n",
    "7. {}  - flower braces --> Contains specified no:of occurences (or) Indicate the no:of occurences of a preceding regex to match.\n",
    "    \n",
    "8. /  - escape character --> Special sequences (or) used to drop the special meaning of character following it.\n",
    "\n",
    "9. () - group --> Enclose a group of Regex.\n"
   ]
  },
  {
   "cell_type": "markdown",
   "id": "685808b1",
   "metadata": {},
   "source": [
    "# Special sequences in Reg Ex:"
   ]
  },
  {
   "cell_type": "markdown",
   "id": "af81e06c",
   "metadata": {},
   "source": [
    "--> Special sequences do not match for the actual character in the string instead it tells the specific location in the search string where the match must occur.\n",
    "\n",
    "--> It makes it easier to write commonly used patterns."
   ]
  },
  {
   "cell_type": "markdown",
   "id": "3726dff3",
   "metadata": {},
   "source": [
    "1. \\d  --> If given string having digits(0-9)  (or)  Matches any decimal digit,this is equivalent to the set class[0-9].\n",
    "\n",
    "2. \\D  --> If given string does not have digits  (or)  Matches any non-digit character, this is equivalent to the set class[^0-9].\n",
    "\n",
    "3. \\w  --> If given string having word characters(a-zA-Z,0-9)  (or)  Matches any alphanumeric character,this is equivalent to the class[a-zA-Z0-9]\n",
    "\n",
    "4. \\W  --> If given string does not have word characters  (or)  Matches any non - alphanumeric character.\n",
    "\n",
    "5. \\s  --> If given string having spaces  (or)  Matches any whitespace character.\n",
    "\n",
    "6. \\S  --> If given string does not have spaces  (or)  Matches any non-whitespace character.\n",
    "\n",
    "7. \\z  --> If given string ends with specified characters  (or)  Matches if the string ends with the given regex.\n",
    "\n",
    "8. \\A  --> Matches if the string begins with the given character.\n",
    "\n",
    "9. \\b  --> Matches if the word begins or ends with the given character.\\b(string) will check for the beginning of the word and (string)\\b will check for the ending of the word.\n",
    "\n",
    "10. \\B --> It is the opposite of the \\b i.e., the string should not start or end with the given regex."
   ]
  },
  {
   "cell_type": "markdown",
   "id": "83acef1c",
   "metadata": {},
   "source": [
    "# Sets:"
   ]
  },
  {
   "cell_type": "markdown",
   "id": "706ae954",
   "metadata": {},
   "source": [
    "--> A set is a set of characters inside a pair of square brackets[] with a special meaning."
   ]
  },
  {
   "cell_type": "markdown",
   "id": "28b7680f",
   "metadata": {},
   "source": [
    "1. [abc]  --> If string contains any one of specified characters.\n",
    "\n",
    "2. [a-z]  --> If string contains any character in between specified range.\n",
    "\n",
    "3. [^abc] --> If string contains characters except specified.\n",
    "\n",
    "4. [5678] --> If string contains any number among specified.\n",
    "\n",
    "5. [1-9]  --> If string contains any number in between specified range.\n",
    "\n",
    "6. [0-9][0-9] --> If string contains two digit numbers from 00 to 99."
   ]
  },
  {
   "cell_type": "markdown",
   "id": "37943047",
   "metadata": {},
   "source": [
    "1. [atx]  -  Returns a match where one of the specified characters(a,t, or x) are present.\n",
    "\n",
    "2. [a-h]  -  Returns a match for any lower case character,alphabetically between a and h.\n",
    "\n",
    "3. [^atx] -  Returns a match for any character except a,t, and x.\n",
    "\n",
    "4. [0123] -  Returns a match where any of the specified digits(0, 1,2, or 3) are present.\n",
    "\n",
    "5. [0-9]  -  Returns a match for any digit between 0 and 9.\n",
    "\n",
    "6. [0-7][0-9]  -  Returns a match for any two-digit numbers from 00 and 79.\n",
    "\n",
    "7. [a-zA-Z]    -  Returns a match for any character alphabetically between a and z,lowercase and uppercase.\n",
    "\n",
    "8. [+]         -  In sets,+,*,.,\\,(),$,{} has no special meaning, so[+] means:\n",
    "                       any + characters in the string."
   ]
  }
 ],
 "metadata": {
  "kernelspec": {
   "display_name": "Python 3 (ipykernel)",
   "language": "python",
   "name": "python3"
  },
  "language_info": {
   "codemirror_mode": {
    "name": "ipython",
    "version": 3
   },
   "file_extension": ".py",
   "mimetype": "text/x-python",
   "name": "python",
   "nbconvert_exporter": "python",
   "pygments_lexer": "ipython3",
   "version": "3.9.13"
  }
 },
 "nbformat": 4,
 "nbformat_minor": 5
}
