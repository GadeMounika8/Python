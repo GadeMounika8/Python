{
 "cells": [
  {
   "cell_type": "markdown",
   "id": "7e73ad03",
   "metadata": {},
   "source": [
    "# User Defined Functions"
   ]
  },
  {
   "cell_type": "markdown",
   "id": "e3008e33",
   "metadata": {},
   "source": [
    "--> Reusability of code.\n",
    "\n",
    "--> Easy debugging (i.e., identifying and rectifying errors easily)"
   ]
  },
  {
   "cell_type": "markdown",
   "id": "039e8e40",
   "metadata": {},
   "source": [
    "--> In Python, Function Definition and Function Call Present only. There is no Function Declaration in Python as like other languages such as C language."
   ]
  },
  {
   "cell_type": "markdown",
   "id": "5cc25c8b",
   "metadata": {},
   "source": [
    "# Function Defination:"
   ]
  },
  {
   "cell_type": "markdown",
   "id": "0aea5536",
   "metadata": {},
   "source": [
    "--> Function Defination starts at the beginning.\n",
    "\n",
    "--> Every Function should start with \"def\" keyword.\n",
    "\n",
    "--> Every Function should have name (not keyword name).\n",
    "\n",
    "--> Parameters/Arguments are the inputs given to the user defined functions (optional).\n",
    "\n",
    "--> Every Function name with|without arguments should end with (:)\n",
    "\n",
    "--> Every Function has value return (or) empty return.\n",
    "\n",
    "--> Function can return multiple values to the calling function by using tuples.\n",
    "\n",
    "--> Multi-value return can be done(tuples)."
   ]
  },
  {
   "cell_type": "markdown",
   "id": "14045409",
   "metadata": {},
   "source": [
    "# Function Call:"
   ]
  },
  {
   "cell_type": "markdown",
   "id": "d4093851",
   "metadata": {},
   "source": [
    "--> Function name followed by Parameters/Arguments.\n",
    "\n",
    "--> Function name in Function Call should be same as  Function name in Function Defination.\n",
    "\n",
    "--> Arguments/Parameters Passed in Function Defination should be equal to Arguments/Parameters Passed in Function Call."
   ]
  },
  {
   "cell_type": "markdown",
   "id": "98c038a6",
   "metadata": {},
   "source": [
    "# golabal & local variables:"
   ]
  },
  {
   "cell_type": "markdown",
   "id": "aa5222d7",
   "metadata": {},
   "source": [
    "--> The main difference between global & local variables is the scope.\n",
    "\n",
    "--> scope of Local Variable is used within the function where variables have been declared.\n",
    "\n",
    "--> scope of Global Variable is used in Entire Program."
   ]
  },
  {
   "cell_type": "markdown",
   "id": "103edeb4",
   "metadata": {},
   "source": [
    "Note: If Global & Local Variables have same name, First Preference is given to the Local variable."
   ]
  },
  {
   "cell_type": "markdown",
   "id": "9c8e631b",
   "metadata": {},
   "source": [
    "# Types of Arguments in Functions:"
   ]
  },
  {
   "cell_type": "markdown",
   "id": "41a5fb81",
   "metadata": {},
   "source": [
    "Arguments: Arguments are the inputs given to the Function.\n",
    "    \n",
    "--> Arguments are optional.\n",
    "\n",
    "--> There are four types of Arguments:\n",
    "    \n",
    "    1. Required Arguments\n",
    "    2. Keyword Arguments\n",
    "    3. Default Arguments\n",
    "    4. Variable Length Arguments"
   ]
  },
  {
   "cell_type": "markdown",
   "id": "43d57823",
   "metadata": {},
   "source": [
    "# 1. Required Arguments:"
   ]
  },
  {
   "cell_type": "markdown",
   "id": "c5e5d264",
   "metadata": {},
   "source": [
    "--> In Required Arguments, number of Arguments should be Same in both Function Call & Function Definition.\n",
    "\n",
    "--> Position (or) order should be followed."
   ]
  },
  {
   "cell_type": "markdown",
   "id": "d8b62c8b",
   "metadata": {},
   "source": [
    "# 2. Keyword Arguments:"
   ]
  },
  {
   "cell_type": "markdown",
   "id": "1aa08e72",
   "metadata": {},
   "source": [
    "--> Position (or) order is not required.\n",
    "\n",
    "--> Initialization will be done based on keyword (name)."
   ]
  },
  {
   "cell_type": "markdown",
   "id": "11a831b8",
   "metadata": {},
   "source": [
    "# 3. Default Arguments:"
   ]
  },
  {
   "cell_type": "markdown",
   "id": "642d4102",
   "metadata": {},
   "source": [
    "--> Number of Arguments need not be match with both Function call and Function Defination.\n",
    "\n",
    "--> Some of the Arguments will be consider as default Arguments."
   ]
  },
  {
   "cell_type": "markdown",
   "id": "ce31c727",
   "metadata": {},
   "source": [
    "# 4. Variable Length Arguments:"
   ]
  },
  {
   "cell_type": "markdown",
   "id": "64cafb4b",
   "metadata": {},
   "source": [
    "--> It is used when user do not know how many Arguments should be taken.\n",
    "\n",
    "--> We can pass as many number of arguments by using asterisk (*) symbol as prefix to the argument of Function Definition."
   ]
  },
  {
   "cell_type": "markdown",
   "id": "0e05dcd3",
   "metadata": {},
   "source": [
    "# Recursion:"
   ]
  },
  {
   "cell_type": "markdown",
   "id": "a61960d0",
   "metadata": {},
   "source": [
    "--> Recursion means Function calling itself.\n",
    "\n",
    "--> There are two cases:\n",
    "    \n",
    "    i. Base Case  -  terminating from Recursion\n",
    "    ii. Recursive Case  -  keep on calling Function itself\n",
    "    \n",
    "    \n",
    "--> Every Recursive function should terminate after some Recursive counts."
   ]
  },
  {
   "cell_type": "markdown",
   "id": "0da2f003",
   "metadata": {},
   "source": [
    "# Anonymous Functions(Lambda):"
   ]
  },
  {
   "cell_type": "markdown",
   "id": "be9fb50c",
   "metadata": {},
   "source": [
    "--> Anonymous Functions are also called as Lambda Functions.\n",
    "\n",
    "--> It is one-line Function.\n",
    "\n",
    "--> Lambda Function is not defined by 'def' keyword.\n",
    "\n",
    "--> It is defined by using 'Lambda' keyword.\n",
    "\n",
    "--> It has any number of Arguments.\n",
    "\n",
    "--> It returns expression but not value.\n",
    "\n",
    "--> It can not access global variables.\n",
    "\n",
    "--> Lambda Functions does not have any name. But, this function can be assigned to a variable.\n",
    "  \n",
    "         Syntax: \n",
    "            lambda arguments:expression"
   ]
  }
 ],
 "metadata": {
  "kernelspec": {
   "display_name": "Python 3 (ipykernel)",
   "language": "python",
   "name": "python3"
  },
  "language_info": {
   "codemirror_mode": {
    "name": "ipython",
    "version": 3
   },
   "file_extension": ".py",
   "mimetype": "text/x-python",
   "name": "python",
   "nbconvert_exporter": "python",
   "pygments_lexer": "ipython3",
   "version": "3.9.13"
  }
 },
 "nbformat": 4,
 "nbformat_minor": 5
}
