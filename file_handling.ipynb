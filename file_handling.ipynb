{
 "cells": [
  {
   "cell_type": "markdown",
   "id": "1c232090",
   "metadata": {},
   "source": [
    "# File Handling in Python:"
   ]
  },
  {
   "cell_type": "markdown",
   "id": "254cc626",
   "metadata": {},
   "source": [
    "--> In order to store the output (or) save the output in Files."
   ]
  },
  {
   "cell_type": "markdown",
   "id": "60efd5ce",
   "metadata": {},
   "source": [
    "Files: Collection of Data"
   ]
  },
  {
   "cell_type": "markdown",
   "id": "90c3f4cc",
   "metadata": {},
   "source": [
    "--> There are two types of Files:\n",
    "    \n",
    "       1. Text File\n",
    "       2. Binary File"
   ]
  },
  {
   "cell_type": "markdown",
   "id": "171cbad1",
   "metadata": {},
   "source": [
    "--> Before applying reading and writing operations on File, first we should create a File then Open a File in one mode (i.e., Access Mode) then we should Perform reading (or) writing operation on File. Finally, close the file after completion of operations on File."
   ]
  },
  {
   "cell_type": "markdown",
   "id": "0ddb95b7",
   "metadata": {},
   "source": [
    "# Open():"
   ]
  },
  {
   "cell_type": "markdown",
   "id": "8fdede67",
   "metadata": {},
   "source": [
    "--> open() takes two arguments."
   ]
  },
  {
   "cell_type": "markdown",
   "id": "b3a3364a",
   "metadata": {},
   "source": [
    "# Syntax:"
   ]
  },
  {
   "cell_type": "markdown",
   "id": "1ca96a41",
   "metadata": {},
   "source": [
    "file_object = open(\"filename.txt\", \"Access Mode\")"
   ]
  },
  {
   "cell_type": "markdown",
   "id": "78bc3d2b",
   "metadata": {},
   "source": [
    "--> file_object is like a file pointer which points to the content of file.\n",
    "\n",
    "--> file_object is used in read|write|close operations of a file."
   ]
  },
  {
   "cell_type": "markdown",
   "id": "7ee01a52",
   "metadata": {},
   "source": [
    "# What are the ways to open a file access mode?"
   ]
  },
  {
   "cell_type": "markdown",
   "id": "a6ff1456",
   "metadata": {},
   "source": [
    "# Accessing Modes:"
   ]
  },
  {
   "cell_type": "markdown",
   "id": "5d3f34d5",
   "metadata": {},
   "source": [
    "--> There are mainly three Access Modes in which the file can open.\n",
    "     \n",
    "    1. read mode\n",
    "    \n",
    "    2. write mode\n",
    "    \n",
    "    3. append mode\n",
    "    "
   ]
  },
  {
   "cell_type": "markdown",
   "id": "8a4c9119",
   "metadata": {},
   "source": [
    "# 1. read mode (r):"
   ]
  },
  {
   "cell_type": "markdown",
   "id": "67800ffe",
   "metadata": {},
   "source": [
    "--> In this read mode, file is opened for only reading the content.\n",
    "\n",
    "--> Immediately after opening the file in reading mode, the file object points at the beginning of the file.\n",
    "\n",
    "--> If you want to pen a file in read mode, file should exist.\n",
    "\n",
    "fp = open(\"filename.txt\", \"r\")"
   ]
  },
  {
   "cell_type": "markdown",
   "id": "5ef99440",
   "metadata": {},
   "source": [
    "# 2. write mode (w):"
   ]
  },
  {
   "cell_type": "markdown",
   "id": "4f4ec2bd",
   "metadata": {},
   "source": [
    "--> In this write mode, file is opened for only writing the content.\n",
    "\n",
    "--> File Pointer points at the beginning of the file.\n",
    "\n",
    "       * If the File exists, the file is opened and pointer points at beginning & data will overwritten.\n",
    "\n",
    "       * If the file does not exist then the new file will be created with given file name.\n",
    "        \n",
    "--> fp = (\"filename.txt\", \"w\")"
   ]
  },
  {
   "cell_type": "markdown",
   "id": "bacd8984",
   "metadata": {},
   "source": [
    "# 3. append mode (a):"
   ]
  },
  {
   "cell_type": "markdown",
   "id": "b1092f24",
   "metadata": {},
   "source": [
    "--> append mode is used to append & write the data.\n",
    "\n",
    "--> If file exist, file opens & file pointer points at the end of the content in file.\n",
    "\n",
    "--> If file is not exist, the new file will be created & file pointer Points at beginning.\n",
    "\n",
    "--> fp = (\"filename.txt\", \"a\")"
   ]
  },
  {
   "cell_type": "markdown",
   "id": "86c13430",
   "metadata": {},
   "source": [
    "# The following Modes are for Text Files:"
   ]
  },
  {
   "cell_type": "markdown",
   "id": "30621719",
   "metadata": {},
   "source": [
    "r - reading\n",
    "\n",
    "w - writing\n",
    "\n",
    "a - append|writing\n",
    "\n",
    "r+ - reading & writing\n",
    "\n",
    "w+ - reading & writing\n",
    "\n",
    "a+ - reading & appending"
   ]
  },
  {
   "cell_type": "markdown",
   "id": "b60b6d25",
   "metadata": {},
   "source": [
    "# The following Access Modes are for Binary Files Only:"
   ]
  },
  {
   "cell_type": "markdown",
   "id": "eb7f805a",
   "metadata": {},
   "source": [
    "rb - Reading\n",
    "\n",
    "wb - Writing\n",
    "\n",
    "ab - appending\n",
    "\n",
    "rb+ - Reading & writing\n",
    "\n",
    "wb+ - Reading & writing\n",
    "\n",
    "ab+ - Appending & Reading"
   ]
  },
  {
   "cell_type": "markdown",
   "id": "d683e8a5",
   "metadata": {},
   "source": [
    "Note: \n",
    "    \n",
    "    read mode - File Pointer at beginning\n",
    "    write mode - File Pointer at beginning\n",
    "    Append mode - File Pointer at the end of content"
   ]
  },
  {
   "cell_type": "markdown",
   "id": "f16f2a85",
   "metadata": {},
   "source": [
    "# Note:"
   ]
  },
  {
   "cell_type": "markdown",
   "id": "1a5d76ea",
   "metadata": {},
   "source": [
    "--> File creation will be done in modes:\n",
    "    \n",
    "    i. write mode\n",
    "    \n",
    "    ii. append mode\n",
    "    \n",
    "--> File can be opened by Access modes, after that read|write operations & finally, close the file by using filepointer (fp).\n",
    "\n",
    "--> file_object = open(\"filename.txt\", \"Accessing Mode\")\n",
    "\n",
    "            reading|writing operation\n",
    "    \n",
    "    file_object.close()"
   ]
  },
  {
   "cell_type": "markdown",
   "id": "1ef3a6b5",
   "metadata": {},
   "source": [
    "--> If you want to open two files, two file pointers will be needed. We can not use one file pointer for two files (i.e., one file for write operation & second file for read operation)."
   ]
  },
  {
   "cell_type": "markdown",
   "id": "fc139f56",
   "metadata": {},
   "source": [
    "For reading operation - File should be opened in read mode (\"r\").\n",
    "\n",
    "For writing operation - File should be opened in write|append modes ('w', 'a')."
   ]
  },
  {
   "cell_type": "markdown",
   "id": "07142165",
   "metadata": {},
   "source": [
    "# In write mode:"
   ]
  },
  {
   "cell_type": "markdown",
   "id": "c8789e6e",
   "metadata": {},
   "source": [
    "file exists - content will be overwritten.\n",
    "\n",
    "file dooes not exist - New file will be created."
   ]
  },
  {
   "cell_type": "markdown",
   "id": "bc0397c2",
   "metadata": {},
   "source": [
    "# In append mode:"
   ]
  },
  {
   "cell_type": "markdown",
   "id": "d7bd1e92",
   "metadata": {},
   "source": [
    "file exists - Pointer points at the end of content.\n",
    "\n",
    "file does not exist - New file will be created."
   ]
  },
  {
   "cell_type": "markdown",
   "id": "bf92899f",
   "metadata": {},
   "source": [
    "# write mode:"
   ]
  },
  {
   "cell_type": "markdown",
   "id": "4da4c9dd",
   "metadata": {},
   "source": [
    "# There are two methods to write a data into a file:"
   ]
  },
  {
   "cell_type": "markdown",
   "id": "486dc7ec",
   "metadata": {},
   "source": [
    "1. write() - writes the string (or) one line.\n",
    "\n",
    "2. writelines() - writes multiple lines of data into a file."
   ]
  },
  {
   "cell_type": "markdown",
   "id": "6bf5fc38",
   "metadata": {},
   "source": [
    "# read mode:"
   ]
  },
  {
   "cell_type": "markdown",
   "id": "cfecd0b0",
   "metadata": {},
   "source": [
    "1. read()\n",
    "\n",
    "2. readline()\n",
    "\n",
    "3. readlines()"
   ]
  }
 ],
 "metadata": {
  "kernelspec": {
   "display_name": "Python 3 (ipykernel)",
   "language": "python",
   "name": "python3"
  },
  "language_info": {
   "codemirror_mode": {
    "name": "ipython",
    "version": 3
   },
   "file_extension": ".py",
   "mimetype": "text/x-python",
   "name": "python",
   "nbconvert_exporter": "python",
   "pygments_lexer": "ipython3",
   "version": "3.9.13"
  }
 },
 "nbformat": 4,
 "nbformat_minor": 5
}
