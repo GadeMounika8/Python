{
 "cells": [
  {
   "cell_type": "markdown",
   "id": "c0dfe082",
   "metadata": {},
   "source": [
    "# List"
   ]
  },
  {
   "cell_type": "markdown",
   "id": "2f51c1be",
   "metadata": {},
   "source": [
    "--> List is a Built-In_Datatype.\n",
    "\n",
    "--> List containd heterogeneous data.\n",
    "\n",
    "--> List is a sequence of elements enclosed in a squared brackets with comma separated values.\n",
    "\n",
    "--> List is a Mutable datatype.\n"
   ]
  },
  {
   "cell_type": "markdown",
   "id": "2a4c9fad",
   "metadata": {},
   "source": [
    "# Creating the List:"
   ]
  },
  {
   "cell_type": "code",
   "execution_count": 1,
   "id": "0f8b8300",
   "metadata": {},
   "outputs": [
    {
     "name": "stdout",
     "output_type": "stream",
     "text": [
      "[]\n",
      "<class 'list'>\n"
     ]
    }
   ],
   "source": [
    "l = []\n",
    "print(l)\n",
    "print(type(l))"
   ]
  },
  {
   "cell_type": "markdown",
   "id": "c83c8273",
   "metadata": {},
   "source": [
    "                  or"
   ]
  },
  {
   "cell_type": "code",
   "execution_count": 2,
   "id": "d531d01d",
   "metadata": {},
   "outputs": [
    {
     "name": "stdout",
     "output_type": "stream",
     "text": [
      "[]\n",
      "<class 'list'>\n"
     ]
    }
   ],
   "source": [
    "l = list()\n",
    "print(l)\n",
    "print(type(l))"
   ]
  },
  {
   "cell_type": "code",
   "execution_count": 8,
   "id": "bd9d28a0",
   "metadata": {},
   "outputs": [
    {
     "name": "stdout",
     "output_type": "stream",
     "text": [
      "[1, 6, [1, 2, 3, 'John'], 8, 'Teddy', 2.0, True, {'age': 23}, (2, 6), {16, 19, 12}]\n",
      "<class 'list'>\n"
     ]
    }
   ],
   "source": [
    "l = [1, 6,[1,2,3,'John'] , 8, 'Teddy', 2.0, True, {'age':23}, (2,6), {12,16,19,16}]\n",
    "print(l)\n",
    "print(type(l))"
   ]
  },
  {
   "cell_type": "markdown",
   "id": "190fc769",
   "metadata": {},
   "source": [
    "# Accessing Elements from Lists:"
   ]
  },
  {
   "cell_type": "markdown",
   "id": "f7af3c88",
   "metadata": {},
   "source": [
    "# Positive Indexing:"
   ]
  },
  {
   "cell_type": "code",
   "execution_count": 1,
   "id": "e34e6d55",
   "metadata": {},
   "outputs": [
    {
     "name": "stdout",
     "output_type": "stream",
     "text": [
      "[10, 15, (3, 'Angel'), 27, 39, True, 'Mery', {1, 2, 3, 4}]\n"
     ]
    }
   ],
   "source": [
    "l1 = [10, 15, (3,'Angel'), 27, 39, True, 'Mery', {1,2,3,4,3}]\n",
    "print(l1)"
   ]
  },
  {
   "cell_type": "code",
   "execution_count": 13,
   "id": "9a906ea0",
   "metadata": {},
   "outputs": [
    {
     "name": "stdout",
     "output_type": "stream",
     "text": [
      "10\n"
     ]
    }
   ],
   "source": [
    "print(l1[0])"
   ]
  },
  {
   "cell_type": "code",
   "execution_count": 14,
   "id": "c217c822",
   "metadata": {},
   "outputs": [
    {
     "name": "stdout",
     "output_type": "stream",
     "text": [
      "(3, 'Angel')\n"
     ]
    }
   ],
   "source": [
    "print(l1[2])"
   ]
  },
  {
   "cell_type": "code",
   "execution_count": 15,
   "id": "3d1bf43d",
   "metadata": {},
   "outputs": [
    {
     "name": "stdout",
     "output_type": "stream",
     "text": [
      "Angel\n"
     ]
    }
   ],
   "source": [
    "print(l1[2][1])"
   ]
  },
  {
   "cell_type": "code",
   "execution_count": 16,
   "id": "d4614b2e",
   "metadata": {},
   "outputs": [
    {
     "name": "stdout",
     "output_type": "stream",
     "text": [
      "3\n"
     ]
    }
   ],
   "source": [
    "print(l1[2][0])"
   ]
  },
  {
   "cell_type": "code",
   "execution_count": 17,
   "id": "2a256ed2",
   "metadata": {},
   "outputs": [
    {
     "name": "stdout",
     "output_type": "stream",
     "text": [
      "True\n"
     ]
    }
   ],
   "source": [
    "print(l1[5])"
   ]
  },
  {
   "cell_type": "code",
   "execution_count": 19,
   "id": "e8d0a306",
   "metadata": {},
   "outputs": [
    {
     "name": "stdout",
     "output_type": "stream",
     "text": [
      "{1, 2, 3, 4}\n"
     ]
    }
   ],
   "source": [
    "print(l1[7])"
   ]
  },
  {
   "cell_type": "markdown",
   "id": "26b62f9b",
   "metadata": {},
   "source": [
    "# Negative Indexing:"
   ]
  },
  {
   "cell_type": "code",
   "execution_count": 2,
   "id": "b74e0f31",
   "metadata": {},
   "outputs": [
    {
     "name": "stdout",
     "output_type": "stream",
     "text": [
      "{1, 2, 3, 4}\n"
     ]
    }
   ],
   "source": [
    "print(l1[-1])"
   ]
  },
  {
   "cell_type": "code",
   "execution_count": 3,
   "id": "2192cb6c",
   "metadata": {},
   "outputs": [
    {
     "name": "stdout",
     "output_type": "stream",
     "text": [
      "True\n"
     ]
    }
   ],
   "source": [
    "print(l1[-3])"
   ]
  },
  {
   "cell_type": "code",
   "execution_count": 4,
   "id": "4cdfb76d",
   "metadata": {},
   "outputs": [
    {
     "name": "stdout",
     "output_type": "stream",
     "text": [
      "(3, 'Angel')\n"
     ]
    }
   ],
   "source": [
    "print(l1[-6])"
   ]
  },
  {
   "cell_type": "code",
   "execution_count": 5,
   "id": "9b7a9899",
   "metadata": {},
   "outputs": [
    {
     "name": "stdout",
     "output_type": "stream",
     "text": [
      "27\n"
     ]
    }
   ],
   "source": [
    "print(l1[-5])"
   ]
  },
  {
   "cell_type": "code",
   "execution_count": 7,
   "id": "6ba9a79b",
   "metadata": {},
   "outputs": [
    {
     "name": "stdout",
     "output_type": "stream",
     "text": [
      "3\n"
     ]
    }
   ],
   "source": [
    "print(l1[-6][0])"
   ]
  },
  {
   "cell_type": "code",
   "execution_count": 8,
   "id": "b9e00101",
   "metadata": {},
   "outputs": [
    {
     "name": "stdout",
     "output_type": "stream",
     "text": [
      "Angel\n"
     ]
    }
   ],
   "source": [
    "print(l1[-6][1])"
   ]
  },
  {
   "cell_type": "markdown",
   "id": "0999e3a9",
   "metadata": {},
   "source": [
    "      or"
   ]
  },
  {
   "cell_type": "code",
   "execution_count": 9,
   "id": "6e509932",
   "metadata": {},
   "outputs": [
    {
     "name": "stdout",
     "output_type": "stream",
     "text": [
      "Angel\n"
     ]
    }
   ],
   "source": [
    "print(l1[-6][-1])"
   ]
  },
  {
   "cell_type": "markdown",
   "id": "7aa8cccd",
   "metadata": {},
   "source": [
    "# Slicing:"
   ]
  },
  {
   "cell_type": "code",
   "execution_count": 21,
   "id": "43536389",
   "metadata": {},
   "outputs": [
    {
     "name": "stdout",
     "output_type": "stream",
     "text": [
      "[10, 15, (3, 'Angel'), 27, 39, True, 'Mery', {1, 2, 3, 4}]\n"
     ]
    }
   ],
   "source": [
    "print(l1[0:])"
   ]
  },
  {
   "cell_type": "markdown",
   "id": "1eb6b621",
   "metadata": {},
   "source": [
    "                   or"
   ]
  },
  {
   "cell_type": "code",
   "execution_count": 22,
   "id": "29e04a94",
   "metadata": {},
   "outputs": [
    {
     "name": "stdout",
     "output_type": "stream",
     "text": [
      "[10, 15, (3, 'Angel'), 27, 39, True, 'Mery', {1, 2, 3, 4}]\n"
     ]
    }
   ],
   "source": [
    "print(l1[0:len(l1)])"
   ]
  },
  {
   "cell_type": "markdown",
   "id": "56134ab8",
   "metadata": {},
   "source": [
    "                   or"
   ]
  },
  {
   "cell_type": "code",
   "execution_count": 23,
   "id": "66d48ce4",
   "metadata": {},
   "outputs": [
    {
     "name": "stdout",
     "output_type": "stream",
     "text": [
      "[10, 15, (3, 'Angel'), 27, 39, True, 'Mery', {1, 2, 3, 4}]\n"
     ]
    }
   ],
   "source": [
    "print(l1[:])"
   ]
  },
  {
   "cell_type": "code",
   "execution_count": 26,
   "id": "47880ded",
   "metadata": {},
   "outputs": [
    {
     "name": "stdout",
     "output_type": "stream",
     "text": [
      "[10, (3, 'Angel'), 39, 'Mery']\n"
     ]
    }
   ],
   "source": [
    "print(l1[::2])"
   ]
  },
  {
   "cell_type": "code",
   "execution_count": 29,
   "id": "08f86753",
   "metadata": {},
   "outputs": [
    {
     "name": "stdout",
     "output_type": "stream",
     "text": [
      "[10, 27, 'Mery']\n"
     ]
    }
   ],
   "source": [
    "print(l1[0::3])"
   ]
  },
  {
   "cell_type": "code",
   "execution_count": 24,
   "id": "7815c97b",
   "metadata": {},
   "outputs": [
    {
     "name": "stdout",
     "output_type": "stream",
     "text": [
      "[(3, 'Angel')]\n"
     ]
    }
   ],
   "source": [
    "print(l1[2:3])"
   ]
  },
  {
   "cell_type": "code",
   "execution_count": 25,
   "id": "c55c8a09",
   "metadata": {},
   "outputs": [
    {
     "name": "stdout",
     "output_type": "stream",
     "text": [
      "[39, True]\n"
     ]
    }
   ],
   "source": [
    "print(l1[4:6])"
   ]
  },
  {
   "cell_type": "code",
   "execution_count": 27,
   "id": "3fa825ab",
   "metadata": {},
   "outputs": [
    {
     "name": "stdout",
     "output_type": "stream",
     "text": [
      "[27, 39, True, 'Mery', {1, 2, 3, 4}]\n"
     ]
    }
   ],
   "source": [
    "print(l1[3:8])"
   ]
  },
  {
   "cell_type": "code",
   "execution_count": 28,
   "id": "ad8a736e",
   "metadata": {},
   "outputs": [
    {
     "name": "stdout",
     "output_type": "stream",
     "text": [
      "[True]\n"
     ]
    }
   ],
   "source": [
    "print(l1[5:6])"
   ]
  },
  {
   "cell_type": "code",
   "execution_count": 29,
   "id": "3ea589cb",
   "metadata": {},
   "outputs": [
    {
     "name": "stdout",
     "output_type": "stream",
     "text": [
      "[10, 15, (3, 'Angel')]\n"
     ]
    }
   ],
   "source": [
    "print(l1[0:3])"
   ]
  },
  {
   "cell_type": "code",
   "execution_count": 13,
   "id": "0f67a76b",
   "metadata": {},
   "outputs": [
    {
     "name": "stdout",
     "output_type": "stream",
     "text": [
      "[True, 'Mery']\n"
     ]
    }
   ],
   "source": [
    "print(l1[-3:-1])"
   ]
  },
  {
   "cell_type": "code",
   "execution_count": 14,
   "id": "944b3775",
   "metadata": {},
   "outputs": [
    {
     "name": "stdout",
     "output_type": "stream",
     "text": [
      "[15, (3, 'Angel'), 27, 39]\n"
     ]
    }
   ],
   "source": [
    "print(l1[-7:-3])"
   ]
  },
  {
   "cell_type": "code",
   "execution_count": 15,
   "id": "c05c0dad",
   "metadata": {},
   "outputs": [
    {
     "name": "stdout",
     "output_type": "stream",
     "text": [
      "[10, 15, (3, 'Angel'), 27, 39, True]\n"
     ]
    }
   ],
   "source": [
    "print(l1[-9:-2])"
   ]
  },
  {
   "cell_type": "code",
   "execution_count": 17,
   "id": "b30ee75c",
   "metadata": {},
   "outputs": [
    {
     "name": "stdout",
     "output_type": "stream",
     "text": [
      "[27, 39, True, 'Mery']\n"
     ]
    }
   ],
   "source": [
    "print(l1[-5:-1])"
   ]
  },
  {
   "cell_type": "code",
   "execution_count": 23,
   "id": "85d9b4ee",
   "metadata": {},
   "outputs": [
    {
     "name": "stdout",
     "output_type": "stream",
     "text": [
      "[15]\n"
     ]
    }
   ],
   "source": [
    "print(l1[-7:-6])"
   ]
  },
  {
   "cell_type": "code",
   "execution_count": 24,
   "id": "0784f639",
   "metadata": {},
   "outputs": [
    {
     "name": "stdout",
     "output_type": "stream",
     "text": [
      "[{1, 2, 3, 4}, True, 27, 15]\n"
     ]
    }
   ],
   "source": [
    "print(l1[::-2])"
   ]
  },
  {
   "cell_type": "code",
   "execution_count": 25,
   "id": "fe0cd8b5",
   "metadata": {},
   "outputs": [
    {
     "name": "stdout",
     "output_type": "stream",
     "text": [
      "[{1, 2, 3, 4}, 'Mery', True, 39, 27, (3, 'Angel'), 15, 10]\n"
     ]
    }
   ],
   "source": [
    "print(l1[::-1])"
   ]
  },
  {
   "cell_type": "markdown",
   "id": "4928fc90",
   "metadata": {},
   "source": [
    "# Reassigning List Elements:"
   ]
  },
  {
   "cell_type": "code",
   "execution_count": 33,
   "id": "7b99ce3e",
   "metadata": {},
   "outputs": [
    {
     "name": "stdout",
     "output_type": "stream",
     "text": [
      "[10, 20, (3, 'Angel'), 27, 39, True, 'Mery', {1, 2, 3, 4}]\n"
     ]
    }
   ],
   "source": [
    "l1[1] = 20\n",
    "print(l1)"
   ]
  },
  {
   "cell_type": "code",
   "execution_count": 34,
   "id": "77db16fc",
   "metadata": {},
   "outputs": [
    {
     "name": "stdout",
     "output_type": "stream",
     "text": [
      "[10, 20, (3, 'Angel'), 27, 39, False, 'Mery', {1, 2, 3, 4}]\n"
     ]
    }
   ],
   "source": [
    "l1[5] = False\n",
    "print(l1)"
   ]
  },
  {
   "cell_type": "code",
   "execution_count": 35,
   "id": "fe96c20f",
   "metadata": {},
   "outputs": [
    {
     "name": "stdout",
     "output_type": "stream",
     "text": [
      "[10, 20, (100, 200, 300), 27, 39, False, 'Mery', {1, 2, 3, 4}]\n"
     ]
    }
   ],
   "source": [
    "l1[2] = (100,200,300)\n",
    "print(l1)"
   ]
  },
  {
   "cell_type": "code",
   "execution_count": 36,
   "id": "84f8f2c4",
   "metadata": {},
   "outputs": [
    {
     "name": "stdout",
     "output_type": "stream",
     "text": [
      "[10, 20, (100, 200, 300), 27, 39, False, 'Mery', {'Name': ['book', 'Pen', 23, 8]}]\n"
     ]
    }
   ],
   "source": [
    "l1[7] = {'Name':['book', 'Pen', 23, 8]}\n",
    "print(l1)"
   ]
  },
  {
   "cell_type": "markdown",
   "id": "d7d8e925",
   "metadata": {},
   "source": [
    "# Deleting List Elements:"
   ]
  },
  {
   "cell_type": "code",
   "execution_count": 92,
   "id": "0c1d5b22",
   "metadata": {},
   "outputs": [],
   "source": [
    "X = [26,46,89,76,12]"
   ]
  },
  {
   "cell_type": "code",
   "execution_count": 93,
   "id": "e187bcc3",
   "metadata": {},
   "outputs": [],
   "source": [
    "del X[2]"
   ]
  },
  {
   "cell_type": "code",
   "execution_count": 94,
   "id": "118f29a7",
   "metadata": {},
   "outputs": [
    {
     "name": "stdout",
     "output_type": "stream",
     "text": [
      "[26, 46, 76, 12]\n"
     ]
    }
   ],
   "source": [
    "print(X)"
   ]
  },
  {
   "cell_type": "code",
   "execution_count": 95,
   "id": "6a1d6be2",
   "metadata": {},
   "outputs": [],
   "source": [
    "del X"
   ]
  },
  {
   "cell_type": "code",
   "execution_count": 96,
   "id": "bfc5fde0",
   "metadata": {},
   "outputs": [
    {
     "ename": "NameError",
     "evalue": "name 'X' is not defined",
     "output_type": "error",
     "traceback": [
      "\u001b[1;31m---------------------------------------------------------------------------\u001b[0m",
      "\u001b[1;31mNameError\u001b[0m                                 Traceback (most recent call last)",
      "\u001b[1;32m~\\AppData\\Local\\Temp\\ipykernel_23292\\1775643888.py\u001b[0m in \u001b[0;36m<module>\u001b[1;34m\u001b[0m\n\u001b[1;32m----> 1\u001b[1;33m \u001b[0mprint\u001b[0m\u001b[1;33m(\u001b[0m\u001b[0mX\u001b[0m\u001b[1;33m)\u001b[0m\u001b[1;33m\u001b[0m\u001b[1;33m\u001b[0m\u001b[0m\n\u001b[0m",
      "\u001b[1;31mNameError\u001b[0m: name 'X' is not defined"
     ]
    }
   ],
   "source": [
    "print(X)"
   ]
  },
  {
   "cell_type": "markdown",
   "id": "2ac4795a",
   "metadata": {},
   "source": [
    "# Multidimentional Lists:"
   ]
  },
  {
   "cell_type": "code",
   "execution_count": 37,
   "id": "f8f0adb7",
   "metadata": {},
   "outputs": [
    {
     "name": "stdout",
     "output_type": "stream",
     "text": [
      "[[10, 20, 'story'], [(2, 3), 'Andria', 80], [[10, 40, 80], 4, 3, 2, True]]\n",
      "<class 'list'>\n"
     ]
    }
   ],
   "source": [
    "l2 = [[10,20,'story'],[(2,3),'Andria',80],[[10,40,80],4,3,2,True]]\n",
    "print(l2)\n",
    "print(type(l2))"
   ]
  },
  {
   "cell_type": "code",
   "execution_count": 40,
   "id": "e44a8e9c",
   "metadata": {},
   "outputs": [
    {
     "name": "stdout",
     "output_type": "stream",
     "text": [
      "20\n"
     ]
    }
   ],
   "source": [
    "print(l2[0][1])"
   ]
  },
  {
   "cell_type": "code",
   "execution_count": 41,
   "id": "3f2c25f6",
   "metadata": {},
   "outputs": [
    {
     "name": "stdout",
     "output_type": "stream",
     "text": [
      "(2, 3)\n"
     ]
    }
   ],
   "source": [
    "print(l2[1][0])"
   ]
  },
  {
   "cell_type": "code",
   "execution_count": 42,
   "id": "735834bc",
   "metadata": {},
   "outputs": [
    {
     "name": "stdout",
     "output_type": "stream",
     "text": [
      "3\n"
     ]
    }
   ],
   "source": [
    "print(l2[1][0][1])"
   ]
  },
  {
   "cell_type": "code",
   "execution_count": 43,
   "id": "f4eccfcb",
   "metadata": {},
   "outputs": [
    {
     "name": "stdout",
     "output_type": "stream",
     "text": [
      "40\n"
     ]
    }
   ],
   "source": [
    "print(l2[2][0][1])"
   ]
  },
  {
   "cell_type": "code",
   "execution_count": 44,
   "id": "99ab546d",
   "metadata": {},
   "outputs": [
    {
     "name": "stdout",
     "output_type": "stream",
     "text": [
      "[10, 40, 80]\n"
     ]
    }
   ],
   "source": [
    "print(l2[2][0])"
   ]
  },
  {
   "cell_type": "code",
   "execution_count": 45,
   "id": "ec1a8959",
   "metadata": {},
   "outputs": [
    {
     "name": "stdout",
     "output_type": "stream",
     "text": [
      "True\n"
     ]
    }
   ],
   "source": [
    "print(l2[2][4])"
   ]
  },
  {
   "cell_type": "code",
   "execution_count": 48,
   "id": "e2de4b11",
   "metadata": {},
   "outputs": [
    {
     "name": "stdout",
     "output_type": "stream",
     "text": [
      "[10, 40, 80]\n"
     ]
    }
   ],
   "source": [
    "print(l2[2][0])"
   ]
  },
  {
   "cell_type": "code",
   "execution_count": 49,
   "id": "2b057e04",
   "metadata": {},
   "outputs": [
    {
     "name": "stdout",
     "output_type": "stream",
     "text": [
      "story\n"
     ]
    }
   ],
   "source": [
    "print(l2[0][2])"
   ]
  },
  {
   "cell_type": "code",
   "execution_count": 56,
   "id": "f373d858",
   "metadata": {},
   "outputs": [
    {
     "name": "stdout",
     "output_type": "stream",
     "text": [
      "[[[2, 50, 'doctor'], [(2, 3), 'Andria', 90]], [[30, 60, 90], [5, 4, 3, False]]]\n",
      "<class 'list'>\n"
     ]
    }
   ],
   "source": [
    "l3 = [[[2,50,'doctor'],[(2,3),'Andria',90]],[[30,60,90],[5,4,3,False]]]\n",
    "print(l3)\n",
    "print(type(l3))"
   ]
  },
  {
   "cell_type": "code",
   "execution_count": 60,
   "id": "bdd49b57",
   "metadata": {},
   "outputs": [
    {
     "name": "stdout",
     "output_type": "stream",
     "text": [
      "[(2, 3), 'Andria', 90]\n"
     ]
    }
   ],
   "source": [
    "print(l3[0][1])"
   ]
  },
  {
   "cell_type": "code",
   "execution_count": 61,
   "id": "11011334",
   "metadata": {},
   "outputs": [
    {
     "name": "stdout",
     "output_type": "stream",
     "text": [
      "90\n"
     ]
    }
   ],
   "source": [
    "print(l3[0][1][2])"
   ]
  },
  {
   "cell_type": "code",
   "execution_count": 62,
   "id": "42fdab0f",
   "metadata": {},
   "outputs": [
    {
     "name": "stdout",
     "output_type": "stream",
     "text": [
      "Andria\n"
     ]
    }
   ],
   "source": [
    "print(l3[0][1][1])"
   ]
  },
  {
   "cell_type": "code",
   "execution_count": 63,
   "id": "5c9683f0",
   "metadata": {},
   "outputs": [
    {
     "name": "stdout",
     "output_type": "stream",
     "text": [
      "(2, 3)\n"
     ]
    }
   ],
   "source": [
    "print(l3[0][1][0])"
   ]
  },
  {
   "cell_type": "code",
   "execution_count": 64,
   "id": "f920d077",
   "metadata": {},
   "outputs": [
    {
     "name": "stdout",
     "output_type": "stream",
     "text": [
      "3\n"
     ]
    }
   ],
   "source": [
    "print(l3[0][1][0][1])"
   ]
  },
  {
   "cell_type": "code",
   "execution_count": 65,
   "id": "723c315f",
   "metadata": {},
   "outputs": [
    {
     "name": "stdout",
     "output_type": "stream",
     "text": [
      "2\n"
     ]
    }
   ],
   "source": [
    "print(l3[0][1][0][0])"
   ]
  },
  {
   "cell_type": "code",
   "execution_count": 66,
   "id": "20979c6c",
   "metadata": {},
   "outputs": [
    {
     "name": "stdout",
     "output_type": "stream",
     "text": [
      "[5, 4, 3, False]\n"
     ]
    }
   ],
   "source": [
    "print(l3[1][1])"
   ]
  },
  {
   "cell_type": "code",
   "execution_count": 67,
   "id": "116d0d16",
   "metadata": {},
   "outputs": [
    {
     "name": "stdout",
     "output_type": "stream",
     "text": [
      "[2, 50, 'doctor']\n"
     ]
    }
   ],
   "source": [
    "print(l3[0][0])"
   ]
  },
  {
   "cell_type": "code",
   "execution_count": 68,
   "id": "40b83141",
   "metadata": {},
   "outputs": [
    {
     "name": "stdout",
     "output_type": "stream",
     "text": [
      "doctor\n"
     ]
    }
   ],
   "source": [
    "print(l3[0][0][2])"
   ]
  },
  {
   "cell_type": "code",
   "execution_count": 69,
   "id": "e28bfc95",
   "metadata": {},
   "outputs": [
    {
     "name": "stdout",
     "output_type": "stream",
     "text": [
      "50\n"
     ]
    }
   ],
   "source": [
    "print(l3[0][0][1])"
   ]
  },
  {
   "cell_type": "markdown",
   "id": "b89e4c83",
   "metadata": {},
   "source": [
    "# Basic Operations:\n",
    "    \n",
    "    +, *, len, min, max, sum, membership, iterations"
   ]
  },
  {
   "cell_type": "markdown",
   "id": "1146565b",
   "metadata": {},
   "source": [
    "# concatenation(+):"
   ]
  },
  {
   "cell_type": "code",
   "execution_count": 70,
   "id": "4343bc8f",
   "metadata": {},
   "outputs": [
    {
     "name": "stdout",
     "output_type": "stream",
     "text": [
      "[2, 4, 6, 8, 1, 3, 5, 7]\n"
     ]
    }
   ],
   "source": [
    "a = [2,4,6,8]\n",
    "b = [1,3,5,7]\n",
    "l4 = a + b\n",
    "print(l4)"
   ]
  },
  {
   "cell_type": "code",
   "execution_count": 71,
   "id": "a646bbdc",
   "metadata": {},
   "outputs": [
    {
     "name": "stdout",
     "output_type": "stream",
     "text": [
      "[2, 4, 6, 8, 'Jam', 1, 3, 5, 7, 'Phone']\n"
     ]
    }
   ],
   "source": [
    "c = [2,4,6,8,'Jam']\n",
    "d = [1,3,5,7,'Phone']\n",
    "l5 = c + d\n",
    "print(l5)"
   ]
  },
  {
   "cell_type": "code",
   "execution_count": 72,
   "id": "57d48c8b",
   "metadata": {},
   "outputs": [
    {
     "name": "stdout",
     "output_type": "stream",
     "text": [
      "[2, 4, 6, 8, 'Jam', {8, 2, 7}, 1, 3, 5, 7, 'Phone', (3, 4, 6, 'Tom')]\n"
     ]
    }
   ],
   "source": [
    "m = [2,4,6,8,'Jam',{2,7,8,2}]\n",
    "n = [1,3,5,7,'Phone',(3,4,6,'Tom')]\n",
    "l6 = m + n\n",
    "print(l6)"
   ]
  },
  {
   "cell_type": "markdown",
   "id": "768387f2",
   "metadata": {},
   "source": [
    "# Repetition(*):"
   ]
  },
  {
   "cell_type": "code",
   "execution_count": 77,
   "id": "ce8fc682",
   "metadata": {},
   "outputs": [
    {
     "name": "stdout",
     "output_type": "stream",
     "text": [
      "[2, 4, 6, 8, 2, 4, 6, 8, 2, 4, 6, 8]\n"
     ]
    }
   ],
   "source": [
    "a = [2,4,6,8]\n",
    "b = 3\n",
    "l4 = a * b\n",
    "print(l4)"
   ]
  },
  {
   "cell_type": "markdown",
   "id": "feaf2ac4",
   "metadata": {},
   "source": [
    "          or"
   ]
  },
  {
   "cell_type": "code",
   "execution_count": 78,
   "id": "8e435851",
   "metadata": {},
   "outputs": [
    {
     "name": "stdout",
     "output_type": "stream",
     "text": [
      "[2, 4, 6, 8, 2, 4, 6, 8, 2, 4, 6, 8]\n"
     ]
    }
   ],
   "source": [
    "a = [2,4,6,8]\n",
    "l4 = a * 3\n",
    "print(l4)"
   ]
  },
  {
   "cell_type": "markdown",
   "id": "6b16618b",
   "metadata": {},
   "source": [
    "# len:"
   ]
  },
  {
   "cell_type": "code",
   "execution_count": 82,
   "id": "29152686",
   "metadata": {},
   "outputs": [
    {
     "name": "stdout",
     "output_type": "stream",
     "text": [
      "10\n"
     ]
    }
   ],
   "source": [
    "x = [2,4,6,8,'Jam',1,3,5,7,'Phone']\n",
    "print(len(x))"
   ]
  },
  {
   "cell_type": "markdown",
   "id": "24e63389",
   "metadata": {},
   "source": [
    "# min:"
   ]
  },
  {
   "cell_type": "code",
   "execution_count": 83,
   "id": "f915a5a8",
   "metadata": {},
   "outputs": [
    {
     "name": "stdout",
     "output_type": "stream",
     "text": [
      "1\n"
     ]
    }
   ],
   "source": [
    "y = [2,4,6,8,1,3,5,7]\n",
    "print(min(y))"
   ]
  },
  {
   "cell_type": "markdown",
   "id": "33e8b408",
   "metadata": {},
   "source": [
    "# max():"
   ]
  },
  {
   "cell_type": "code",
   "execution_count": 84,
   "id": "61f742a6",
   "metadata": {},
   "outputs": [
    {
     "name": "stdout",
     "output_type": "stream",
     "text": [
      "100\n"
     ]
    }
   ],
   "source": [
    "z = [15,30,40,60,90,100]\n",
    "print(max(z))"
   ]
  },
  {
   "cell_type": "markdown",
   "id": "2b425d18",
   "metadata": {},
   "source": [
    "# sum():"
   ]
  },
  {
   "cell_type": "code",
   "execution_count": 85,
   "id": "5e2b297b",
   "metadata": {},
   "outputs": [
    {
     "name": "stdout",
     "output_type": "stream",
     "text": [
      "36\n"
     ]
    }
   ],
   "source": [
    "A = [2,4,6,8,1,3,5,7]\n",
    "print(sum(A))"
   ]
  },
  {
   "cell_type": "markdown",
   "id": "abdc4562",
   "metadata": {},
   "source": [
    "# Membership Operator:"
   ]
  },
  {
   "cell_type": "code",
   "execution_count": 86,
   "id": "ed6543c9",
   "metadata": {},
   "outputs": [
    {
     "name": "stdout",
     "output_type": "stream",
     "text": [
      "False\n"
     ]
    }
   ],
   "source": [
    "B = [2,4,6,8,1,3,5,7]\n",
    "print(9 in B)"
   ]
  },
  {
   "cell_type": "markdown",
   "id": "d8833aea",
   "metadata": {},
   "source": [
    "            or"
   ]
  },
  {
   "cell_type": "code",
   "execution_count": 88,
   "id": "355f3006",
   "metadata": {},
   "outputs": [
    {
     "name": "stdout",
     "output_type": "stream",
     "text": [
      "True\n",
      "[2, 4, 6, 8, 1, 3, 5, 7]\n"
     ]
    }
   ],
   "source": [
    "B = [2,4,6,8,1,3,5,7]\n",
    "C = 8 in B\n",
    "print(C)\n",
    "print(B)"
   ]
  },
  {
   "cell_type": "code",
   "execution_count": 91,
   "id": "70446514",
   "metadata": {},
   "outputs": [
    {
     "name": "stdout",
     "output_type": "stream",
     "text": [
      "True\n",
      "[2, 4, 6, 8, 1, 3, 5, 7, 'car', 'pen']\n"
     ]
    }
   ],
   "source": [
    "B = [2,4,6,8,1,3,5,7,'car','pen']\n",
    "C = 'car' in B\n",
    "print(C)\n",
    "print(B)"
   ]
  },
  {
   "cell_type": "code",
   "execution_count": 92,
   "id": "a9acf565",
   "metadata": {},
   "outputs": [
    {
     "name": "stdout",
     "output_type": "stream",
     "text": [
      "False\n",
      "[2, 4, 6, 8, 1, 3, 5, 7, 'car', 'pen']\n"
     ]
    }
   ],
   "source": [
    "B = [2,4,6,8,1,3,5,7,'car','pen']\n",
    "C = 'r' in B\n",
    "print(C)\n",
    "print(B)"
   ]
  },
  {
   "cell_type": "markdown",
   "id": "babe4cc7",
   "metadata": {},
   "source": [
    "# Iterations:"
   ]
  },
  {
   "cell_type": "code",
   "execution_count": 98,
   "id": "15d901e0",
   "metadata": {},
   "outputs": [
    {
     "name": "stdout",
     "output_type": "stream",
     "text": [
      "values:\n",
      "10\n",
      "40\n",
      "70\n",
      "90\n"
     ]
    }
   ],
   "source": [
    "D = [10,40,70,90]\n",
    "print('values:')\n",
    "for i in D:\n",
    "    print(i)\n"
   ]
  },
  {
   "cell_type": "markdown",
   "id": "f0e0d778",
   "metadata": {},
   "source": [
    "              or"
   ]
  },
  {
   "cell_type": "code",
   "execution_count": 100,
   "id": "91bf6bdb",
   "metadata": {},
   "outputs": [
    {
     "name": "stdout",
     "output_type": "stream",
     "text": [
      "values:\n",
      "10\n",
      "40\n",
      "70\n",
      "90\n"
     ]
    }
   ],
   "source": [
    "D = [10,40,70,90]\n",
    "print('values:')\n",
    "for i in range(len(D)):\n",
    "    print(D[i])"
   ]
  },
  {
   "cell_type": "markdown",
   "id": "e8d1284f",
   "metadata": {},
   "source": [
    "# List Comprehension:"
   ]
  },
  {
   "cell_type": "code",
   "execution_count": 85,
   "id": "2ff34acf",
   "metadata": {},
   "outputs": [
    {
     "name": "stdout",
     "output_type": "stream",
     "text": [
      "[0, 1, 2, 3, 4, 5]\n"
     ]
    }
   ],
   "source": [
    "m = [i for i in range(6)]\n",
    "print(m)"
   ]
  },
  {
   "cell_type": "code",
   "execution_count": 86,
   "id": "16d901c7",
   "metadata": {},
   "outputs": [
    {
     "name": "stdout",
     "output_type": "stream",
     "text": [
      "[0, 1, 4, 9, 16, 25]\n"
     ]
    }
   ],
   "source": [
    "m = [i * i for i in range(6)]\n",
    "print(m)"
   ]
  },
  {
   "cell_type": "code",
   "execution_count": 89,
   "id": "7f82301f",
   "metadata": {},
   "outputs": [
    {
     "name": "stdout",
     "output_type": "stream",
     "text": [
      "[0, 2, 4, 6, 8, 10, 12, 14]\n"
     ]
    }
   ],
   "source": [
    "m = [i for i in range(15) if i % 2 == 0]\n",
    "print(m)"
   ]
  },
  {
   "cell_type": "code",
   "execution_count": 91,
   "id": "5365ff47",
   "metadata": {},
   "outputs": [
    {
     "name": "stdout",
     "output_type": "stream",
     "text": [
      "[0, 8, 64, 216, 512, 1000, 1728, 2744]\n"
     ]
    }
   ],
   "source": [
    "m = [i ** 3 for i in range(15) if i % 2 == 0]\n",
    "print(m)"
   ]
  },
  {
   "cell_type": "markdown",
   "id": "13e8d192",
   "metadata": {},
   "source": [
    "# Built-In-Methods:"
   ]
  },
  {
   "cell_type": "markdown",
   "id": "db065e57",
   "metadata": {},
   "source": [
    "1. append() - It adds only one element to the list\n",
    "\n",
    "2. extend() - It adds the elements in the list\n",
    "\n",
    "3. insert() - It inserts the element to particular given index in the list\n",
    "\n",
    "4. remove() - It removes the first occurence element from the list\n",
    "\n",
    "5. pop() - It returns the deleted Particular element from the list if we mention the index number of that Element. Otherwise, it removes and prints last element in the list.\n",
    "\n",
    "6. sort() - Sort the elements in the list in ascending order or Descending order\n",
    "\n",
    "7. count() - Count the number of elementsin the list\n",
    "\n",
    "8. index() - It gives index number of that particular element mentioned in index()\n",
    "\n",
    "9. reverse() - It reverses all the elements in the list"
   ]
  },
  {
   "cell_type": "markdown",
   "id": "1d5b5a75",
   "metadata": {},
   "source": [
    "--> append(), extend() & insert() these methods are used to add the elements to the existing list.\n",
    "\n",
    "--> remove(), pop() are used to delete the elements from the list.\n",
    "\n",
    "--> count() is used to count the number of elements present in the list.\n",
    "\n",
    "--> sort() is used to sort the elements in the list in ascending or descending order.\n",
    "\n",
    "--> index() is used to find the position of the element in the list.\n",
    "\n",
    "--> reverse() is used to reverse the order of list elements in the list."
   ]
  },
  {
   "cell_type": "markdown",
   "id": "488b4776",
   "metadata": {},
   "source": [
    "# Creating the List:"
   ]
  },
  {
   "cell_type": "code",
   "execution_count": 15,
   "id": "6c34a0e7",
   "metadata": {},
   "outputs": [
    {
     "name": "stdout",
     "output_type": "stream",
     "text": [
      "\n"
     ]
    }
   ],
   "source": [
    "x = list()\n",
    "print()"
   ]
  },
  {
   "cell_type": "markdown",
   "id": "7f0d5db9",
   "metadata": {},
   "source": [
    "# append():"
   ]
  },
  {
   "cell_type": "code",
   "execution_count": 16,
   "id": "7ecec224",
   "metadata": {},
   "outputs": [],
   "source": [
    "x.append(3)"
   ]
  },
  {
   "cell_type": "code",
   "execution_count": 17,
   "id": "d121e8f5",
   "metadata": {},
   "outputs": [
    {
     "name": "stdout",
     "output_type": "stream",
     "text": [
      "[3]\n"
     ]
    }
   ],
   "source": [
    "print(x)"
   ]
  },
  {
   "cell_type": "code",
   "execution_count": 18,
   "id": "be3416fd",
   "metadata": {},
   "outputs": [],
   "source": [
    "x.append(8)"
   ]
  },
  {
   "cell_type": "code",
   "execution_count": 19,
   "id": "f5ce4f81",
   "metadata": {},
   "outputs": [
    {
     "name": "stdout",
     "output_type": "stream",
     "text": [
      "[3, 8]\n"
     ]
    }
   ],
   "source": [
    "print(x)"
   ]
  },
  {
   "cell_type": "code",
   "execution_count": 20,
   "id": "240741ce",
   "metadata": {},
   "outputs": [],
   "source": [
    "x.append([9,6])"
   ]
  },
  {
   "cell_type": "code",
   "execution_count": 21,
   "id": "de8fc9d7",
   "metadata": {},
   "outputs": [
    {
     "name": "stdout",
     "output_type": "stream",
     "text": [
      "[3, 8, [9, 6]]\n"
     ]
    }
   ],
   "source": [
    "print(x)"
   ]
  },
  {
   "cell_type": "markdown",
   "id": "31d03031",
   "metadata": {},
   "source": [
    "# extend():"
   ]
  },
  {
   "cell_type": "code",
   "execution_count": 22,
   "id": "eec0e579",
   "metadata": {},
   "outputs": [],
   "source": [
    "x.extend([10,13,19])"
   ]
  },
  {
   "cell_type": "code",
   "execution_count": 23,
   "id": "01596559",
   "metadata": {},
   "outputs": [
    {
     "name": "stdout",
     "output_type": "stream",
     "text": [
      "[3, 8, [9, 6], 10, 13, 19]\n"
     ]
    }
   ],
   "source": [
    "print(x)"
   ]
  },
  {
   "cell_type": "code",
   "execution_count": 29,
   "id": "b34e5462",
   "metadata": {},
   "outputs": [],
   "source": [
    "x.extend([20])"
   ]
  },
  {
   "cell_type": "code",
   "execution_count": 30,
   "id": "135c17ee",
   "metadata": {},
   "outputs": [
    {
     "name": "stdout",
     "output_type": "stream",
     "text": [
      "[3, 8, [9, 6], 10, 13, 19, 20]\n"
     ]
    }
   ],
   "source": [
    "print(x)"
   ]
  },
  {
   "cell_type": "markdown",
   "id": "218fba54",
   "metadata": {},
   "source": [
    "# insert():"
   ]
  },
  {
   "cell_type": "code",
   "execution_count": 31,
   "id": "fee0d4f0",
   "metadata": {},
   "outputs": [],
   "source": [
    "x.insert(3, 15)"
   ]
  },
  {
   "cell_type": "code",
   "execution_count": 32,
   "id": "6bcab588",
   "metadata": {},
   "outputs": [
    {
     "name": "stdout",
     "output_type": "stream",
     "text": [
      "[3, 8, [9, 6], 15, 10, 13, 19, 20]\n"
     ]
    }
   ],
   "source": [
    "print(x)"
   ]
  },
  {
   "cell_type": "code",
   "execution_count": 33,
   "id": "2f146bf0",
   "metadata": {},
   "outputs": [],
   "source": [
    "x.insert(7, 25)"
   ]
  },
  {
   "cell_type": "code",
   "execution_count": 34,
   "id": "10f08609",
   "metadata": {},
   "outputs": [
    {
     "name": "stdout",
     "output_type": "stream",
     "text": [
      "[3, 8, [9, 6], 15, 10, 13, 19, 25, 20]\n"
     ]
    }
   ],
   "source": [
    "print(x)"
   ]
  },
  {
   "cell_type": "code",
   "execution_count": 35,
   "id": "eadff953",
   "metadata": {},
   "outputs": [],
   "source": [
    "x.insert(9, 30)"
   ]
  },
  {
   "cell_type": "code",
   "execution_count": 36,
   "id": "6190e41a",
   "metadata": {},
   "outputs": [
    {
     "name": "stdout",
     "output_type": "stream",
     "text": [
      "[3, 8, [9, 6], 15, 10, 13, 19, 25, 20, 30]\n"
     ]
    }
   ],
   "source": [
    "print(x)"
   ]
  },
  {
   "cell_type": "code",
   "execution_count": 37,
   "id": "90007b47",
   "metadata": {},
   "outputs": [],
   "source": [
    "x.insert(11, 35)"
   ]
  },
  {
   "cell_type": "code",
   "execution_count": 38,
   "id": "c7c9d4a6",
   "metadata": {},
   "outputs": [
    {
     "name": "stdout",
     "output_type": "stream",
     "text": [
      "[3, 8, [9, 6], 15, 10, 13, 19, 25, 20, 30, 35]\n"
     ]
    }
   ],
   "source": [
    "print(x)"
   ]
  },
  {
   "cell_type": "code",
   "execution_count": 41,
   "id": "0525d992",
   "metadata": {},
   "outputs": [],
   "source": [
    "x.insert(12, 15)"
   ]
  },
  {
   "cell_type": "code",
   "execution_count": 42,
   "id": "35e7f7af",
   "metadata": {},
   "outputs": [
    {
     "name": "stdout",
     "output_type": "stream",
     "text": [
      "[3, 8, [9, 6], 15, 10, 13, 19, 25, 20, 30, 35, 15]\n"
     ]
    }
   ],
   "source": [
    "print(x)"
   ]
  },
  {
   "cell_type": "code",
   "execution_count": 45,
   "id": "352b4cea",
   "metadata": {},
   "outputs": [],
   "source": [
    "x.insert(13, 8)"
   ]
  },
  {
   "cell_type": "code",
   "execution_count": 51,
   "id": "48632579",
   "metadata": {},
   "outputs": [
    {
     "name": "stdout",
     "output_type": "stream",
     "text": [
      "[3, 8, [9, 6], 10, 13, 19, 25, 20, 30, 35, 8]\n"
     ]
    }
   ],
   "source": [
    "print(x)"
   ]
  },
  {
   "cell_type": "markdown",
   "id": "d6935c2f",
   "metadata": {},
   "source": [
    "# remove():"
   ]
  },
  {
   "cell_type": "code",
   "execution_count": 52,
   "id": "afa6f63d",
   "metadata": {},
   "outputs": [],
   "source": [
    "x.remove(8)"
   ]
  },
  {
   "cell_type": "code",
   "execution_count": 53,
   "id": "bce82ab7",
   "metadata": {},
   "outputs": [
    {
     "name": "stdout",
     "output_type": "stream",
     "text": [
      "[3, [9, 6], 10, 13, 19, 25, 20, 30, 35, 8]\n"
     ]
    }
   ],
   "source": [
    "print(x)"
   ]
  },
  {
   "cell_type": "markdown",
   "id": "8680d635",
   "metadata": {},
   "source": [
    "# pop():"
   ]
  },
  {
   "cell_type": "code",
   "execution_count": 54,
   "id": "717bb4ef",
   "metadata": {},
   "outputs": [
    {
     "data": {
      "text/plain": [
       "8"
      ]
     },
     "execution_count": 54,
     "metadata": {},
     "output_type": "execute_result"
    }
   ],
   "source": [
    "x.pop()"
   ]
  },
  {
   "cell_type": "code",
   "execution_count": 55,
   "id": "0fad3fb7",
   "metadata": {},
   "outputs": [
    {
     "name": "stdout",
     "output_type": "stream",
     "text": [
      "[3, [9, 6], 10, 13, 19, 25, 20, 30, 35]\n"
     ]
    }
   ],
   "source": [
    "print(x)"
   ]
  },
  {
   "cell_type": "code",
   "execution_count": 56,
   "id": "5af0effc",
   "metadata": {},
   "outputs": [
    {
     "data": {
      "text/plain": [
       "10"
      ]
     },
     "execution_count": 56,
     "metadata": {},
     "output_type": "execute_result"
    }
   ],
   "source": [
    "x.pop(2)"
   ]
  },
  {
   "cell_type": "code",
   "execution_count": 57,
   "id": "a9e0459e",
   "metadata": {},
   "outputs": [
    {
     "name": "stdout",
     "output_type": "stream",
     "text": [
      "[3, [9, 6], 13, 19, 25, 20, 30, 35]\n"
     ]
    }
   ],
   "source": [
    "print(x)"
   ]
  },
  {
   "cell_type": "markdown",
   "id": "7cf90a31",
   "metadata": {},
   "source": [
    "# sort():"
   ]
  },
  {
   "cell_type": "code",
   "execution_count": 72,
   "id": "3bc6c827",
   "metadata": {},
   "outputs": [
    {
     "name": "stdout",
     "output_type": "stream",
     "text": [
      "[28, 42, 56, 57, 83, 96]\n"
     ]
    }
   ],
   "source": [
    "y = [28,96,57,83,42,56]\n",
    "y.sort()\n",
    "print(y)"
   ]
  },
  {
   "cell_type": "code",
   "execution_count": 73,
   "id": "6a8db5ac",
   "metadata": {},
   "outputs": [
    {
     "name": "stdout",
     "output_type": "stream",
     "text": [
      "[28, 42, 56, 57, 83, 96]\n"
     ]
    }
   ],
   "source": [
    "y = [28,96,57,83,42,56]\n",
    "y.sort(reverse = False)\n",
    "print(y)"
   ]
  },
  {
   "cell_type": "code",
   "execution_count": 74,
   "id": "89a0e29a",
   "metadata": {},
   "outputs": [
    {
     "name": "stdout",
     "output_type": "stream",
     "text": [
      "[96, 83, 57, 56, 42, 28]\n"
     ]
    }
   ],
   "source": [
    "y = [28,96,57,83,42,56]\n",
    "y.sort(reverse = True)\n",
    "print(y)"
   ]
  },
  {
   "cell_type": "markdown",
   "id": "0b2d7b9b",
   "metadata": {},
   "source": [
    "# count():"
   ]
  },
  {
   "cell_type": "code",
   "execution_count": 75,
   "id": "571561b4",
   "metadata": {},
   "outputs": [
    {
     "data": {
      "text/plain": [
       "3"
      ]
     },
     "execution_count": 75,
     "metadata": {},
     "output_type": "execute_result"
    }
   ],
   "source": [
    "z = [34,78,98,56,34,78,98,34]\n",
    "z.count(34)"
   ]
  },
  {
   "cell_type": "markdown",
   "id": "58f9fb96",
   "metadata": {},
   "source": [
    "# pop():"
   ]
  },
  {
   "cell_type": "code",
   "execution_count": 77,
   "id": "ec2fb967",
   "metadata": {},
   "outputs": [
    {
     "data": {
      "text/plain": [
       "34"
      ]
     },
     "execution_count": 77,
     "metadata": {},
     "output_type": "execute_result"
    }
   ],
   "source": [
    "z = [34,78,98,56,34,78,98,34]\n",
    "z.pop()"
   ]
  },
  {
   "cell_type": "code",
   "execution_count": 78,
   "id": "43c12182",
   "metadata": {},
   "outputs": [
    {
     "name": "stdout",
     "output_type": "stream",
     "text": [
      "[34, 78, 98, 56, 34, 78, 98]\n"
     ]
    }
   ],
   "source": [
    "print(z)"
   ]
  },
  {
   "cell_type": "markdown",
   "id": "13bed633",
   "metadata": {},
   "source": [
    "# index():"
   ]
  },
  {
   "cell_type": "code",
   "execution_count": 79,
   "id": "48f8b5b8",
   "metadata": {},
   "outputs": [
    {
     "data": {
      "text/plain": [
       "0"
      ]
     },
     "execution_count": 79,
     "metadata": {},
     "output_type": "execute_result"
    }
   ],
   "source": [
    "z = [34,78,98,56,34,78,98,34]\n",
    "z.index(34)"
   ]
  },
  {
   "cell_type": "markdown",
   "id": "bf8d1307",
   "metadata": {},
   "source": [
    "# reverse():"
   ]
  },
  {
   "cell_type": "code",
   "execution_count": 83,
   "id": "dd5f19c4",
   "metadata": {},
   "outputs": [
    {
     "name": "stdout",
     "output_type": "stream",
     "text": [
      "[34, 98, 78, 34, 56, 98, 78, 34]\n"
     ]
    }
   ],
   "source": [
    "z =  [34,78,98,56,34,78,98,34]\n",
    "z. reverse()\n",
    "print(z)"
   ]
  }
 ],
 "metadata": {
  "kernelspec": {
   "display_name": "Python 3 (ipykernel)",
   "language": "python",
   "name": "python3"
  },
  "language_info": {
   "codemirror_mode": {
    "name": "ipython",
    "version": 3
   },
   "file_extension": ".py",
   "mimetype": "text/x-python",
   "name": "python",
   "nbconvert_exporter": "python",
   "pygments_lexer": "ipython3",
   "version": "3.9.13"
  }
 },
 "nbformat": 4,
 "nbformat_minor": 5
}
