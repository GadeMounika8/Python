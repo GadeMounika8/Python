{
 "cells": [
  {
   "cell_type": "markdown",
   "id": "c19dae39",
   "metadata": {},
   "source": [
    "# Dictionary"
   ]
  },
  {
   "cell_type": "markdown",
   "id": "f8185932",
   "metadata": {},
   "source": [
    "--> Group of (key, value) pairs separated with comma in curly brackets are called as Dictionary.\n",
    "\n",
    "--> Dictionary is Mutable.\n",
    "\n",
    "--> Keys can not have Duplicates, where as values can have Duplicates."
   ]
  },
  {
   "cell_type": "markdown",
   "id": "40e3506a",
   "metadata": {},
   "source": [
    "# Creating Dictionary:"
   ]
  },
  {
   "cell_type": "code",
   "execution_count": 1,
   "id": "77c401a2",
   "metadata": {},
   "outputs": [
    {
     "name": "stdout",
     "output_type": "stream",
     "text": [
      "{}\n",
      "<class 'dict'>\n"
     ]
    }
   ],
   "source": [
    "d = {}\n",
    "print(d)\n",
    "print(type(d))"
   ]
  },
  {
   "cell_type": "code",
   "execution_count": 2,
   "id": "c269a0b0",
   "metadata": {},
   "outputs": [
    {
     "name": "stdout",
     "output_type": "stream",
     "text": [
      "{'name': 'Jesica', 'Age': 23, 'Gender': 'F'}\n",
      "<class 'dict'>\n"
     ]
    }
   ],
   "source": [
    "dict = {'name':'Jesica', 'Age':23, 'Gender':'F'}\n",
    "print(dict)\n",
    "print(type(dict))"
   ]
  },
  {
   "cell_type": "markdown",
   "id": "53f71dc7",
   "metadata": {},
   "source": [
    "# Accessing items from Dictionary:"
   ]
  },
  {
   "cell_type": "code",
   "execution_count": 3,
   "id": "cdd0137a",
   "metadata": {},
   "outputs": [
    {
     "name": "stdout",
     "output_type": "stream",
     "text": [
      "23\n"
     ]
    }
   ],
   "source": [
    "dict = {'name':'Jesica', 'Age':23, 'Gender':'F'}\n",
    "print(dict['Age'])"
   ]
  },
  {
   "cell_type": "code",
   "execution_count": 4,
   "id": "39156912",
   "metadata": {},
   "outputs": [
    {
     "name": "stdout",
     "output_type": "stream",
     "text": [
      "Jesica\n"
     ]
    }
   ],
   "source": [
    "dict = {'name':'Jesica', 'Age':23, 'Gender':'F'}\n",
    "print(dict['name'])"
   ]
  },
  {
   "cell_type": "code",
   "execution_count": 6,
   "id": "119fc85c",
   "metadata": {},
   "outputs": [
    {
     "name": "stdout",
     "output_type": "stream",
     "text": [
      "F\n"
     ]
    }
   ],
   "source": [
    "dict = {'name':'Jesica', 'Age':23, 'Gender':'F'}\n",
    "print(dict['Gender'])"
   ]
  },
  {
   "cell_type": "markdown",
   "id": "dd93fa33",
   "metadata": {},
   "source": [
    "# Updating Dictionary:"
   ]
  },
  {
   "cell_type": "code",
   "execution_count": 7,
   "id": "a3469e62",
   "metadata": {},
   "outputs": [
    {
     "name": "stdout",
     "output_type": "stream",
     "text": [
      "{'name': 'Jesica', 'Age': 23, 'Gender': 'F', 'salary': 50000}\n"
     ]
    }
   ],
   "source": [
    "dict['salary'] = 50000\n",
    "print(dict)"
   ]
  },
  {
   "cell_type": "code",
   "execution_count": 9,
   "id": "2e4ec3f5",
   "metadata": {},
   "outputs": [
    {
     "name": "stdout",
     "output_type": "stream",
     "text": [
      "{'name': 'Jesica', 'Age': 23, 'Gender': 'F', 'salary': 50000, 'Performance': 'Good'}\n"
     ]
    }
   ],
   "source": [
    "dict['Performance'] = 'Good'\n",
    "print(dict)"
   ]
  },
  {
   "cell_type": "markdown",
   "id": "3ff28b4e",
   "metadata": {},
   "source": [
    "# Reassigning the values to the respective keys in a Dictionary:"
   ]
  },
  {
   "cell_type": "code",
   "execution_count": 10,
   "id": "81b9f6fa",
   "metadata": {},
   "outputs": [
    {
     "name": "stdout",
     "output_type": "stream",
     "text": [
      "{'name': 'Jesica', 'Age': 23, 'Gender': 'F', 'salary': 70000, 'Performance': 'Good'}\n"
     ]
    }
   ],
   "source": [
    "dict['salary'] = 70000\n",
    "print(dict)"
   ]
  },
  {
   "cell_type": "code",
   "execution_count": 12,
   "id": "88faaf36",
   "metadata": {},
   "outputs": [
    {
     "name": "stdout",
     "output_type": "stream",
     "text": [
      "{'name': 'Tom', 'Age': 23, 'Gender': 'F', 'salary': 70000, 'Performance': 'Good'}\n"
     ]
    }
   ],
   "source": [
    "dict['name'] = 'Tom'\n",
    "print(dict)"
   ]
  },
  {
   "cell_type": "code",
   "execution_count": 13,
   "id": "9e83639d",
   "metadata": {},
   "outputs": [
    {
     "name": "stdout",
     "output_type": "stream",
     "text": [
      "{'name': 'Tom', 'Age': 23, 'Gender': 'M', 'salary': 70000, 'Performance': 'Good'}\n"
     ]
    }
   ],
   "source": [
    "dict['Gender'] = 'M'\n",
    "print(dict)"
   ]
  },
  {
   "cell_type": "code",
   "execution_count": 14,
   "id": "83ee8dde",
   "metadata": {},
   "outputs": [
    {
     "name": "stdout",
     "output_type": "stream",
     "text": [
      "{'name': 'Tom', 'Age': 23, 'Gender': 'M', 'salary': 70000, 'Performance': 'Excellent'}\n"
     ]
    }
   ],
   "source": [
    "dict['Performance'] = 'Excellent'\n",
    "print(dict)"
   ]
  },
  {
   "cell_type": "code",
   "execution_count": 15,
   "id": "e84bce23",
   "metadata": {},
   "outputs": [
    {
     "name": "stdout",
     "output_type": "stream",
     "text": [
      "{'name': 'Tom', 'Age': 23, 'Gender': 'M', 'salary': 70000, 'Performance': 'Excellent', 'Salary': 100000}\n"
     ]
    }
   ],
   "source": [
    "dict['Salary'] = 100000\n",
    "print(dict)"
   ]
  },
  {
   "cell_type": "code",
   "execution_count": 16,
   "id": "8aabccd1",
   "metadata": {},
   "outputs": [
    {
     "name": "stdout",
     "output_type": "stream",
     "text": [
      "{'name': 'Tom', 'Age': 26, 'Gender': 'M', 'salary': 70000, 'Performance': 'Excellent', 'Salary': 100000}\n"
     ]
    }
   ],
   "source": [
    "dict['Age'] = 26\n",
    "print(dict)"
   ]
  },
  {
   "cell_type": "markdown",
   "id": "4213ea27",
   "metadata": {},
   "source": [
    "# Dictionary Comprehension:"
   ]
  },
  {
   "cell_type": "code",
   "execution_count": 26,
   "id": "b7f815c2",
   "metadata": {},
   "outputs": [
    {
     "name": "stdout",
     "output_type": "stream",
     "text": [
      "{0, 1, 2, 3, 4, 5, 6, 7, 8}\n"
     ]
    }
   ],
   "source": [
    "d1 = {i for i in range(9)}\n",
    "print(d1)"
   ]
  },
  {
   "cell_type": "code",
   "execution_count": 27,
   "id": "ff6efa14",
   "metadata": {},
   "outputs": [
    {
     "name": "stdout",
     "output_type": "stream",
     "text": [
      "{0, 2, 4, 6, 8, 10, 12, 14, 16}\n"
     ]
    }
   ],
   "source": [
    "d1 = {i* 2 for i in range(9)}\n",
    "print(d1)"
   ]
  },
  {
   "cell_type": "code",
   "execution_count": 28,
   "id": "f67d9a67",
   "metadata": {},
   "outputs": [
    {
     "name": "stdout",
     "output_type": "stream",
     "text": [
      "{0, 1, 64, 4, 36, 9, 16, 49, 25}\n"
     ]
    }
   ],
   "source": [
    "d1 = {i** 2 for i in range(9)}\n",
    "print(d1)"
   ]
  },
  {
   "cell_type": "code",
   "execution_count": 29,
   "id": "23dae3b1",
   "metadata": {},
   "outputs": [
    {
     "name": "stdout",
     "output_type": "stream",
     "text": [
      "{0, 1, 64, 512, 8, 343, 216, 729, 27, 125}\n"
     ]
    }
   ],
   "source": [
    "d1 = {i** 3 for i in range(10)}\n",
    "print(d1)"
   ]
  },
  {
   "cell_type": "code",
   "execution_count": 30,
   "id": "dbb712da",
   "metadata": {},
   "outputs": [
    {
     "name": "stdout",
     "output_type": "stream",
     "text": [
      "{0: 0, 1: 1, 2: 8, 3: 27, 4: 64, 5: 125, 6: 216, 7: 343, 8: 512, 9: 729}\n"
     ]
    }
   ],
   "source": [
    "d1 = {i:i** 3 for i in range(10)}\n",
    "print(d1)"
   ]
  },
  {
   "cell_type": "code",
   "execution_count": 33,
   "id": "d315c71e",
   "metadata": {},
   "outputs": [
    {
     "name": "stdout",
     "output_type": "stream",
     "text": [
      "{0: 0, 1: 1, 2: 4, 3: 9, 4: 16, 5: 25, 6: 36, 7: 49, 8: 64, 9: 81}\n"
     ]
    }
   ],
   "source": [
    "d1 = {i:i** 2 for i in range(10)}\n",
    "print(d1)"
   ]
  },
  {
   "cell_type": "code",
   "execution_count": 35,
   "id": "643bd51f",
   "metadata": {},
   "outputs": [
    {
     "name": "stdout",
     "output_type": "stream",
     "text": [
      "{0: 0, 2: 4, 4: 16, 6: 36, 8: 64}\n"
     ]
    }
   ],
   "source": [
    "d1 = {i:i** 2 for i in range(10) if i%2 == 0}\n",
    "print(d1)"
   ]
  },
  {
   "cell_type": "code",
   "execution_count": 36,
   "id": "31de19bd",
   "metadata": {},
   "outputs": [
    {
     "name": "stdout",
     "output_type": "stream",
     "text": [
      "{1: 1, 3: 9, 5: 25, 7: 49, 9: 81}\n"
     ]
    }
   ],
   "source": [
    "d1 = {i:i** 2 for i in range(10) if i%2 == 1}\n",
    "print(d1)"
   ]
  },
  {
   "cell_type": "markdown",
   "id": "e338e451",
   "metadata": {},
   "source": [
    "# Built-In-Methods:"
   ]
  },
  {
   "cell_type": "markdown",
   "id": "64208180",
   "metadata": {},
   "source": [
    "1. clear()\n",
    "\n",
    "2. copy()\n",
    "\n",
    "3. items()\n",
    "\n",
    "4. values()\n",
    "\n",
    "5. keys()\n",
    "\n",
    "6. update()\n",
    "\n",
    "7. pop()\n",
    "\n",
    "8. popitem()\n",
    "\n",
    "9. fromkeys()\n",
    "\n",
    "10. setdefault()\n",
    "\n",
    "11. get()"
   ]
  },
  {
   "cell_type": "markdown",
   "id": "2a705e6f",
   "metadata": {},
   "source": [
    "# items():"
   ]
  },
  {
   "cell_type": "code",
   "execution_count": 1,
   "id": "00811e8e",
   "metadata": {},
   "outputs": [],
   "source": [
    "dict = {'name':'Jesica', 'Age':23, 'Gender':'F'}"
   ]
  },
  {
   "cell_type": "code",
   "execution_count": 2,
   "id": "7ce06c38",
   "metadata": {},
   "outputs": [
    {
     "data": {
      "text/plain": [
       "dict_items([('name', 'Jesica'), ('Age', 23), ('Gender', 'F')])"
      ]
     },
     "execution_count": 2,
     "metadata": {},
     "output_type": "execute_result"
    }
   ],
   "source": [
    "dict.items()"
   ]
  },
  {
   "cell_type": "markdown",
   "id": "4fa94715",
   "metadata": {},
   "source": [
    "# keys():"
   ]
  },
  {
   "cell_type": "code",
   "execution_count": 3,
   "id": "3773e98d",
   "metadata": {},
   "outputs": [
    {
     "data": {
      "text/plain": [
       "dict_keys(['name', 'Age', 'Gender'])"
      ]
     },
     "execution_count": 3,
     "metadata": {},
     "output_type": "execute_result"
    }
   ],
   "source": [
    "dict.keys()"
   ]
  },
  {
   "cell_type": "markdown",
   "id": "d720b9a0",
   "metadata": {},
   "source": [
    "# values():"
   ]
  },
  {
   "cell_type": "code",
   "execution_count": 4,
   "id": "13a23bc2",
   "metadata": {},
   "outputs": [
    {
     "data": {
      "text/plain": [
       "dict_values(['Jesica', 23, 'F'])"
      ]
     },
     "execution_count": 4,
     "metadata": {},
     "output_type": "execute_result"
    }
   ],
   "source": [
    "dict.values()"
   ]
  },
  {
   "cell_type": "markdown",
   "id": "05a30c80",
   "metadata": {},
   "source": [
    "# copy():"
   ]
  },
  {
   "cell_type": "code",
   "execution_count": 5,
   "id": "7c2e6601",
   "metadata": {},
   "outputs": [],
   "source": [
    "Dict = dict.copy()"
   ]
  },
  {
   "cell_type": "code",
   "execution_count": 6,
   "id": "33df07ae",
   "metadata": {},
   "outputs": [
    {
     "name": "stdout",
     "output_type": "stream",
     "text": [
      "{'name': 'Jesica', 'Age': 23, 'Gender': 'F'}\n"
     ]
    }
   ],
   "source": [
    "print(Dict)"
   ]
  },
  {
   "cell_type": "markdown",
   "id": "b389a017",
   "metadata": {},
   "source": [
    "# update():"
   ]
  },
  {
   "cell_type": "code",
   "execution_count": 7,
   "id": "fdb370ac",
   "metadata": {},
   "outputs": [],
   "source": [
    "D = {'name':'kesavi', 'marks':89, 'Percentage':90}"
   ]
  },
  {
   "cell_type": "code",
   "execution_count": 8,
   "id": "da87199e",
   "metadata": {},
   "outputs": [],
   "source": [
    "d = {'Gender':'F', 'Age':15}"
   ]
  },
  {
   "cell_type": "code",
   "execution_count": 9,
   "id": "b54bd13e",
   "metadata": {},
   "outputs": [],
   "source": [
    "d.update(D)"
   ]
  },
  {
   "cell_type": "code",
   "execution_count": 10,
   "id": "2f38234c",
   "metadata": {},
   "outputs": [
    {
     "name": "stdout",
     "output_type": "stream",
     "text": [
      "{'Gender': 'F', 'Age': 15, 'name': 'kesavi', 'marks': 89, 'Percentage': 90}\n"
     ]
    }
   ],
   "source": [
    "print(d)"
   ]
  },
  {
   "cell_type": "code",
   "execution_count": 11,
   "id": "640112cf",
   "metadata": {},
   "outputs": [
    {
     "name": "stdout",
     "output_type": "stream",
     "text": [
      "{'name': 'kesavi', 'marks': 89, 'Percentage': 90}\n"
     ]
    }
   ],
   "source": [
    "print(D)"
   ]
  },
  {
   "cell_type": "markdown",
   "id": "564043f5",
   "metadata": {},
   "source": [
    "# clear():"
   ]
  },
  {
   "cell_type": "code",
   "execution_count": 12,
   "id": "3cc0cf35",
   "metadata": {},
   "outputs": [],
   "source": [
    "Dict.clear()"
   ]
  },
  {
   "cell_type": "code",
   "execution_count": 13,
   "id": "ef3b85ca",
   "metadata": {},
   "outputs": [
    {
     "name": "stdout",
     "output_type": "stream",
     "text": [
      "{}\n"
     ]
    }
   ],
   "source": [
    "print(Dict)"
   ]
  },
  {
   "cell_type": "markdown",
   "id": "b2a1948e",
   "metadata": {},
   "source": [
    "# pop():"
   ]
  },
  {
   "cell_type": "code",
   "execution_count": 17,
   "id": "6f8afe1f",
   "metadata": {},
   "outputs": [
    {
     "data": {
      "text/plain": [
       "89"
      ]
     },
     "execution_count": 17,
     "metadata": {},
     "output_type": "execute_result"
    }
   ],
   "source": [
    "D.pop('marks')"
   ]
  },
  {
   "cell_type": "code",
   "execution_count": 18,
   "id": "a46f80f6",
   "metadata": {},
   "outputs": [
    {
     "name": "stdout",
     "output_type": "stream",
     "text": [
      "{'name': 'kesavi', 'Percentage': 90}\n"
     ]
    }
   ],
   "source": [
    "print(D)"
   ]
  },
  {
   "cell_type": "markdown",
   "id": "7cd2e84c",
   "metadata": {},
   "source": [
    "# popitem():"
   ]
  },
  {
   "cell_type": "code",
   "execution_count": 21,
   "id": "ce906d9c",
   "metadata": {},
   "outputs": [
    {
     "data": {
      "text/plain": [
       "('Percentage', 90)"
      ]
     },
     "execution_count": 21,
     "metadata": {},
     "output_type": "execute_result"
    }
   ],
   "source": [
    "D.popitem()"
   ]
  },
  {
   "cell_type": "code",
   "execution_count": 22,
   "id": "f0b8a816",
   "metadata": {},
   "outputs": [
    {
     "name": "stdout",
     "output_type": "stream",
     "text": [
      "{'name': 'kesavi'}\n"
     ]
    }
   ],
   "source": [
    "print(D)"
   ]
  },
  {
   "cell_type": "code",
   "execution_count": 25,
   "id": "329b452c",
   "metadata": {},
   "outputs": [
    {
     "name": "stdout",
     "output_type": "stream",
     "text": [
      "{'Gender': 'F', 'Age': 15, 'name': 'kesavi', 'marks': 89, 'Percentage': 90}\n"
     ]
    }
   ],
   "source": [
    "print(d)"
   ]
  }
 ],
 "metadata": {
  "kernelspec": {
   "display_name": "Python 3 (ipykernel)",
   "language": "python",
   "name": "python3"
  },
  "language_info": {
   "codemirror_mode": {
    "name": "ipython",
    "version": 3
   },
   "file_extension": ".py",
   "mimetype": "text/x-python",
   "name": "python",
   "nbconvert_exporter": "python",
   "pygments_lexer": "ipython3",
   "version": "3.9.13"
  }
 },
 "nbformat": 4,
 "nbformat_minor": 5
}
