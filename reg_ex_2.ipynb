{
 "cells": [
  {
   "cell_type": "markdown",
   "id": "4e0794a5",
   "metadata": {},
   "source": [
    "# Functions in RegEx:"
   ]
  },
  {
   "cell_type": "markdown",
   "id": "92de40cf",
   "metadata": {},
   "source": [
    "--> The re module offers a set of functions that allows us to search a string for a match.\n",
    "\n",
    "1. findall()\n",
    "\n",
    "2. search()\n",
    "\n",
    "3. split()\n",
    "\n",
    "4. sub()\n"
   ]
  },
  {
   "cell_type": "code",
   "execution_count": 1,
   "id": "58000873",
   "metadata": {},
   "outputs": [],
   "source": [
    "import re"
   ]
  },
  {
   "cell_type": "code",
   "execution_count": 2,
   "id": "5f25c17c",
   "metadata": {},
   "outputs": [
    {
     "name": "stdout",
     "output_type": "stream",
     "text": [
      "['a', 'a', 'a']\n"
     ]
    }
   ],
   "source": [
    "str = \"My name is Gade Mounika\"\n",
    "x = re.findall(\"a\",str)\n",
    "print(x)"
   ]
  },
  {
   "cell_type": "code",
   "execution_count": 3,
   "id": "ce75e2e2",
   "metadata": {},
   "outputs": [
    {
     "name": "stdout",
     "output_type": "stream",
     "text": [
      "['i', 'i']\n"
     ]
    }
   ],
   "source": [
    "str = \"My name is Gade Mounika\"\n",
    "x = re.findall(\"i\",str)\n",
    "print(x)"
   ]
  },
  {
   "cell_type": "code",
   "execution_count": 4,
   "id": "b00b9309",
   "metadata": {},
   "outputs": [
    {
     "name": "stdout",
     "output_type": "stream",
     "text": [
      "['m']\n"
     ]
    }
   ],
   "source": [
    "str = \"My name is Gade Mounika\"\n",
    "x = re.findall(\"m\",str)\n",
    "print(x)"
   ]
  },
  {
   "cell_type": "code",
   "execution_count": 5,
   "id": "0e4aeac4",
   "metadata": {},
   "outputs": [
    {
     "name": "stdout",
     "output_type": "stream",
     "text": [
      "[]\n"
     ]
    }
   ],
   "source": [
    "str = \"My name is Gade Mounika\"\n",
    "x = re.findall(\"mou\",str)\n",
    "print(x)"
   ]
  },
  {
   "cell_type": "code",
   "execution_count": 6,
   "id": "1b89e7a2",
   "metadata": {},
   "outputs": [
    {
     "name": "stdout",
     "output_type": "stream",
     "text": [
      "['Mou']\n"
     ]
    }
   ],
   "source": [
    "str = \"My name is Gade Mounika\"\n",
    "x = re.findall(\"Mou\",str)\n",
    "print(x)"
   ]
  },
  {
   "cell_type": "code",
   "execution_count": 7,
   "id": "8280d925",
   "metadata": {},
   "outputs": [
    {
     "name": "stdout",
     "output_type": "stream",
     "text": [
      "[]\n"
     ]
    }
   ],
   "source": [
    "str = \"My name is Gade Mounika\"\n",
    "x = re.findall(\"yname\",str)\n",
    "print(x)"
   ]
  },
  {
   "cell_type": "code",
   "execution_count": 8,
   "id": "414f87d5",
   "metadata": {},
   "outputs": [
    {
     "name": "stdout",
     "output_type": "stream",
     "text": [
      "['Gade']\n"
     ]
    }
   ],
   "source": [
    "str = \"My name is Gade Mounika\"\n",
    "x = re.findall(\"Gade\",str)\n",
    "print(x)"
   ]
  },
  {
   "cell_type": "code",
   "execution_count": 9,
   "id": "c54e12c4",
   "metadata": {},
   "outputs": [
    {
     "name": "stdout",
     "output_type": "stream",
     "text": [
      "[]\n"
     ]
    }
   ],
   "source": [
    "str = \"My name is Gade Mounika\"\n",
    "x = re.findall(\"ab\",str)\n",
    "print(x)"
   ]
  },
  {
   "cell_type": "code",
   "execution_count": 10,
   "id": "91ae4dda",
   "metadata": {},
   "outputs": [
    {
     "name": "stdout",
     "output_type": "stream",
     "text": [
      "None\n"
     ]
    }
   ],
   "source": [
    "str = \"My name is Gade Mounika\"\n",
    "x = re.search(\"ab\",str)\n",
    "print(x)"
   ]
  },
  {
   "cell_type": "code",
   "execution_count": 11,
   "id": "0c2674c4",
   "metadata": {},
   "outputs": [
    {
     "name": "stdout",
     "output_type": "stream",
     "text": [
      "<re.Match object; span=(4, 5), match='a'>\n"
     ]
    }
   ],
   "source": [
    "str = \"My name is Gade Mounika\"\n",
    "x = re.search(\"a\",str)\n",
    "print(x)"
   ]
  },
  {
   "cell_type": "code",
   "execution_count": 12,
   "id": "2df4f402",
   "metadata": {},
   "outputs": [
    {
     "name": "stdout",
     "output_type": "stream",
     "text": [
      "<re.Match object; span=(0, 1), match='M'>\n"
     ]
    }
   ],
   "source": [
    "str = \"My name is Gade Mounika\"\n",
    "x = re.search(\"M\",str)\n",
    "print(x)"
   ]
  },
  {
   "cell_type": "code",
   "execution_count": 13,
   "id": "0caa1bc9",
   "metadata": {},
   "outputs": [
    {
     "name": "stdout",
     "output_type": "stream",
     "text": [
      "<re.Match object; span=(5, 6), match='m'>\n"
     ]
    }
   ],
   "source": [
    "str = \"My name is Gade Mounika\"\n",
    "x = re.search(\"m\",str)\n",
    "print(x)"
   ]
  },
  {
   "cell_type": "code",
   "execution_count": 14,
   "id": "da854815",
   "metadata": {},
   "outputs": [
    {
     "name": "stdout",
     "output_type": "stream",
     "text": [
      "5\n"
     ]
    }
   ],
   "source": [
    "str = \"My name is Gade Mounika\"\n",
    "x = re.search(\"m\",str)\n",
    "print(x.start())"
   ]
  },
  {
   "cell_type": "code",
   "execution_count": 15,
   "id": "f18da7af",
   "metadata": {},
   "outputs": [
    {
     "name": "stdout",
     "output_type": "stream",
     "text": [
      "(5, 6)\n"
     ]
    }
   ],
   "source": [
    "str = \"My name is Gade Mounika\"\n",
    "x = re.search(\"m\",str)\n",
    "print(x.span())"
   ]
  },
  {
   "cell_type": "markdown",
   "id": "353d880f",
   "metadata": {},
   "source": [
    "5 is included and 6 is excluded."
   ]
  },
  {
   "cell_type": "code",
   "execution_count": 16,
   "id": "2c73dc08",
   "metadata": {},
   "outputs": [
    {
     "name": "stdout",
     "output_type": "stream",
     "text": [
      "My name is Gade Mounika\n"
     ]
    }
   ],
   "source": [
    "str = \"My name is Gade Mounika\"\n",
    "x = re.search(\"m\",str)\n",
    "print(x.string)"
   ]
  },
  {
   "cell_type": "code",
   "execution_count": 18,
   "id": "ce6b10e6",
   "metadata": {},
   "outputs": [
    {
     "name": "stdout",
     "output_type": "stream",
     "text": [
      "['My name ', ' Gade Mounika']\n"
     ]
    }
   ],
   "source": [
    "str = \"My name is Gade Mounika\"\n",
    "x = re.split(\"is\",str)\n",
    "print(x)"
   ]
  },
  {
   "cell_type": "code",
   "execution_count": 19,
   "id": "e0bad872",
   "metadata": {},
   "outputs": [
    {
     "name": "stdout",
     "output_type": "stream",
     "text": [
      "['', ' name is Gade Mounika']\n"
     ]
    }
   ],
   "source": [
    "str = \"My name is Gade Mounika\"\n",
    "x = re.split(\"My\",str)\n",
    "print(x)"
   ]
  },
  {
   "cell_type": "code",
   "execution_count": 20,
   "id": "210ed1dc",
   "metadata": {},
   "outputs": [
    {
     "name": "stdout",
     "output_type": "stream",
     "text": [
      "['My name is ', ' Mounika']\n"
     ]
    }
   ],
   "source": [
    "str = \"My name is Gade Mounika\"\n",
    "x = re.split(\"Gade\",str)\n",
    "print(x)"
   ]
  },
  {
   "cell_type": "code",
   "execution_count": 21,
   "id": "e1ed0f8b",
   "metadata": {},
   "outputs": [
    {
     "name": "stdout",
     "output_type": "stream",
     "text": [
      "['My name is Gade Mounika']\n"
     ]
    }
   ],
   "source": [
    "str = \"My name is Gade Mounika\"\n",
    "x = re.split(\"gade\",str)\n",
    "print(x)"
   ]
  },
  {
   "cell_type": "code",
   "execution_count": 22,
   "id": "d3350683",
   "metadata": {},
   "outputs": [
    {
     "name": "stdout",
     "output_type": "stream",
     "text": [
      "['My name is Gade Mounika']\n"
     ]
    }
   ],
   "source": [
    "str = \"My name is Gade Mounika\"\n",
    "x = re.split(\"my\",str)\n",
    "print(x)"
   ]
  },
  {
   "cell_type": "code",
   "execution_count": 23,
   "id": "d2600c52",
   "metadata": {},
   "outputs": [
    {
     "name": "stdout",
     "output_type": "stream",
     "text": [
      "['My na', 'e is Gade Mounika']\n"
     ]
    }
   ],
   "source": [
    "str = \"My name is Gade Mounika\"\n",
    "x = re.split(\"m\",str)\n",
    "print(x)"
   ]
  },
  {
   "cell_type": "code",
   "execution_count": 24,
   "id": "0c2b5765",
   "metadata": {},
   "outputs": [
    {
     "name": "stdout",
     "output_type": "stream",
     "text": [
      "['My n', 'me is G', 'de Mounik', '']\n"
     ]
    }
   ],
   "source": [
    "str = \"My name is Gade Mounika\"\n",
    "x = re.split(\"a\",str)\n",
    "print(x)"
   ]
  },
  {
   "cell_type": "code",
   "execution_count": 25,
   "id": "bc98bb5d",
   "metadata": {},
   "outputs": [
    {
     "name": "stdout",
     "output_type": "stream",
     "text": [
      "['My', 'name', 'is', 'Gade', 'Mounika']\n"
     ]
    }
   ],
   "source": [
    "str = \"My name is Gade Mounika\"\n",
    "x = re.split(\" \",str)\n",
    "print(x)"
   ]
  },
  {
   "cell_type": "code",
   "execution_count": 26,
   "id": "6538b0e6",
   "metadata": {},
   "outputs": [
    {
     "name": "stdout",
     "output_type": "stream",
     "text": [
      "['', 'M', 'y', ' ', 'n', 'a', 'm', 'e', ' ', 'i', 's', ' ', 'G', 'a', 'd', 'e', ' ', 'M', 'o', 'u', 'n', 'i', 'k', 'a', '']\n"
     ]
    }
   ],
   "source": [
    "str = \"My name is Gade Mounika\"\n",
    "x = re.split(\"\",str)\n",
    "print(x)"
   ]
  },
  {
   "cell_type": "code",
   "execution_count": 27,
   "id": "b2f4c6db",
   "metadata": {},
   "outputs": [
    {
     "name": "stdout",
     "output_type": "stream",
     "text": [
      "['My', 'name is Gade Mounika']\n"
     ]
    }
   ],
   "source": [
    "str = \"My name is Gade Mounika\"\n",
    "x = re.split(\" \",str,1)\n",
    "print(x)"
   ]
  },
  {
   "cell_type": "code",
   "execution_count": 28,
   "id": "dc527c10",
   "metadata": {},
   "outputs": [
    {
     "name": "stdout",
     "output_type": "stream",
     "text": [
      "['My', 'name', 'is Gade Mounika']\n"
     ]
    }
   ],
   "source": [
    "str = \"My name is Gade Mounika\"\n",
    "x = re.split(\" \",str,2)\n",
    "print(x)"
   ]
  },
  {
   "cell_type": "code",
   "execution_count": 30,
   "id": "0b85c539",
   "metadata": {},
   "outputs": [
    {
     "name": "stdout",
     "output_type": "stream",
     "text": [
      "My name is gade Mounika\n"
     ]
    }
   ],
   "source": [
    "str = \"My name is Gade Mounika\"\n",
    "x = re.sub(\"G\",\"g\",str)\n",
    "print(x)"
   ]
  },
  {
   "cell_type": "code",
   "execution_count": 31,
   "id": "2aee936e",
   "metadata": {},
   "outputs": [
    {
     "name": "stdout",
     "output_type": "stream",
     "text": [
      "my name is Gade mounika\n"
     ]
    }
   ],
   "source": [
    "str = \"My name is Gade Mounika\"\n",
    "x = re.sub(\"M\",\"m\",str)\n",
    "print(x)"
   ]
  },
  {
   "cell_type": "code",
   "execution_count": 32,
   "id": "5fb912c5",
   "metadata": {},
   "outputs": [
    {
     "name": "stdout",
     "output_type": "stream",
     "text": [
      "my name is Gade Mounika\n"
     ]
    }
   ],
   "source": [
    "str = \"My name is Gade Mounika\"\n",
    "x = re.sub(\"M\",\"m\",str,1)\n",
    "print(x)"
   ]
  },
  {
   "cell_type": "code",
   "execution_count": 33,
   "id": "3fceb95c",
   "metadata": {},
   "outputs": [
    {
     "name": "stdout",
     "output_type": "stream",
     "text": [
      "my name is Gade mounika\n"
     ]
    }
   ],
   "source": [
    "str = \"My name is Gade Mounika\"\n",
    "x = re.sub(\"M\",\"m\",str,2)\n",
    "print(x)"
   ]
  },
  {
   "cell_type": "code",
   "execution_count": 34,
   "id": "348136e5",
   "metadata": {},
   "outputs": [
    {
     "name": "stdout",
     "output_type": "stream",
     "text": [
      "My name is Gade mounika\n"
     ]
    }
   ],
   "source": [
    "str = \"My name is Gade Mounika\"\n",
    "x = re.sub(\"Mounika\",\"mounika\",str)\n",
    "print(x)"
   ]
  },
  {
   "cell_type": "markdown",
   "id": "9959d968",
   "metadata": {},
   "source": [
    "# Meta Characters:"
   ]
  },
  {
   "cell_type": "markdown",
   "id": "621794e1",
   "metadata": {},
   "source": [
    "--> reg Ex is mainly used for pattern matching.\n",
    "\n",
    "1. [] - Square Brackets --> returns a match if contains pattern/characters specified in [].\n",
    "\n",
    "2. ^ - caret --> returns a match if string starts with given pattern.\n",
    "\n",
    "3. $ - Doller --> Ends with\n",
    "\n",
    "4. \\. - Dot --> matches any character except new line.\n",
    "\n",
    "5. \\* - star --> Zero or more occurences of given pattern.\n",
    "\n",
    "6. \\+ - plus --> One or more occurences.\n",
    "\n",
    "7. {} - flower braces --> Contains specified no:of occurences (or) Indicate the no:of occurences of a preceding regex to match.\n",
    "\n",
    "8. / - escape character --> Special sequences (or) used to drop the special meaning of character following it.\n",
    "\n",
    "9. () - group --> Enclose a group of Regex."
   ]
  },
  {
   "cell_type": "code",
   "execution_count": null,
   "id": "a93a783f",
   "metadata": {},
   "outputs": [],
   "source": [
    "import re"
   ]
  },
  {
   "cell_type": "code",
   "execution_count": 59,
   "id": "c5ac96bc",
   "metadata": {},
   "outputs": [],
   "source": [
    "str = \"My name is Gade Mounika.I am from Anantapur.I completed diploma from Govt Polytechnic college.Recently I have completed my Graduation from Sree Vidyanikethan Engineering College. Basically, Iam a self motivated and workholic. My Hobbies are listening to music,developing new skills.My age is 22\""
   ]
  },
  {
   "cell_type": "code",
   "execution_count": 36,
   "id": "11e9e72f",
   "metadata": {},
   "outputs": [
    {
     "name": "stdout",
     "output_type": "stream",
     "text": [
      "['a', 'a', 'a', 'a', 'a', 'a', 'a', 'a', 'a', 'a', 'a', 'a', 'a', 'a', 'a', 'a', 'a', 'a', 'a', 'a']\n"
     ]
    }
   ],
   "source": [
    "y = re.findall(\"[a]\",str)\n",
    "print(y)"
   ]
  },
  {
   "cell_type": "code",
   "execution_count": 37,
   "id": "688b8d59",
   "metadata": {},
   "outputs": [
    {
     "name": "stdout",
     "output_type": "stream",
     "text": [
      "['a', 'm', 'a', 'a', 'a', 'm', 'm', 'a', 'a', 'm', 'm', 'a', 'm', 'a', 'm', 'm', 'a', 'a', 'm', 'a', 'a', 'a', 'a', 'a', 'm', 'a', 'm', 'a', 'a', 'a', 'm', 'a']\n"
     ]
    }
   ],
   "source": [
    "y = re.findall(\"[am]\",str)\n",
    "print(y)"
   ]
  },
  {
   "cell_type": "code",
   "execution_count": 38,
   "id": "0e5711d3",
   "metadata": {},
   "outputs": [
    {
     "name": "stdout",
     "output_type": "stream",
     "text": [
      "['m', 'o', 'm', 'f', 'r', 'o', 'm', 'r', 'o', 'm', 'o', 'm', 'f', 'r', 'o', 'm', 'o', 'o', 'o', 'o', 'm', 'm', 'r', 'o', 'f', 'r', 'o', 'm', 'r', 'r', 'o', 'm', 'f', 'm', 'o', 'o', 'r', 'o', 'o', 'r', 'o', 'm', 'o']\n"
     ]
    }
   ],
   "source": [
    "y = re.findall(\"[from]\",str)\n",
    "print(y)"
   ]
  },
  {
   "cell_type": "code",
   "execution_count": 39,
   "id": "864b7477",
   "metadata": {},
   "outputs": [
    {
     "name": "stdout",
     "output_type": "stream",
     "text": [
      "['M', 'y', 'M', 'y', 'y', 'y', 'y', 'y', 'M', 'y', 'M', 'y']\n"
     ]
    }
   ],
   "source": [
    "y = re.findall(\"[My]\",str)\n",
    "print(y)"
   ]
  },
  {
   "cell_type": "code",
   "execution_count": 40,
   "id": "733ed4aa",
   "metadata": {},
   "outputs": [
    {
     "name": "stdout",
     "output_type": "stream",
     "text": [
      "['My']\n"
     ]
    }
   ],
   "source": [
    "y = re.findall(\"^My\",str)\n",
    "print(y)"
   ]
  },
  {
   "cell_type": "code",
   "execution_count": 41,
   "id": "241fbcc1",
   "metadata": {},
   "outputs": [
    {
     "name": "stdout",
     "output_type": "stream",
     "text": [
      "[]\n"
     ]
    }
   ],
   "source": [
    "y = re.findall(\"^I\",str)\n",
    "print(y)"
   ]
  },
  {
   "cell_type": "code",
   "execution_count": 42,
   "id": "d15b2d82",
   "metadata": {},
   "outputs": [
    {
     "name": "stdout",
     "output_type": "stream",
     "text": [
      "[]\n"
     ]
    }
   ],
   "source": [
    "y = re.findall(\"^name\",str)\n",
    "print(y)"
   ]
  },
  {
   "cell_type": "code",
   "execution_count": 43,
   "id": "70e19f26",
   "metadata": {},
   "outputs": [
    {
     "name": "stdout",
     "output_type": "stream",
     "text": [
      "['M', 'y', ' ', ' ', 'i', 's', ' ', 'G', 'd', ' ', 'M', 'o', 'u', 'i', 'k', '.', 'I', ' ', ' ', 'f', 'r', 'o', ' ', 'A', 't', 'p', 'u', 'r', '.', 'I', ' ', 'c', 'o', 'p', 'l', 't', 'd', ' ', 'd', 'i', 'p', 'l', 'o', ' ', 'f', 'r', 'o', ' ', 'G', 'o', 'v', 't', ' ', 'P', 'o', 'l', 'y', 't', 'c', 'h', 'i', 'c', ' ', 'c', 'o', 'l', 'l', 'g', '.', 'R', 'c', 't', 'l', 'y', ' ', 'I', ' ', 'h', 'v', ' ', 'c', 'o', 'p', 'l', 't', 'd', ' ', 'y', ' ', 'G', 'r', 'd', 'u', 't', 'i', 'o', ' ', 'f', 'r', 'o', ' ', 'S', 'r', ' ', 'V', 'i', 'd', 'y', 'i', 'k', 't', 'h', ' ', 'E', 'g', 'i', 'r', 'i', 'g', ' ', 'C', 'o', 'l', 'l', 'g', '.', ' ', 'B', 's', 'i', 'c', 'l', 'l', 'y', ',', ' ', 'I', ' ', ' ', 's', 'l', 'f', ' ', 'o', 't', 'i', 'v', 't', 'd', ' ', 'd', ' ', 'w', 'o', 'r', 'k', 'h', 'o', 'l', 'i', 'c', '.', ' ', 'M', 'y', ' ', 'H', 'o', 'b', 'b', 'i', 's', ' ', 'r', ' ', 'l', 'i', 's', 't', 'i', 'g', ' ', 't', 'o', ' ', 'u', 's', 'i', 'c', ',', 'd', 'v', 'l', 'o', 'p', 'i', 'g', ' ', 'w', ' ', 's', 'k', 'i', 'l', 'l', 's', '.', 'M', 'y', ' ', 'g', ' ', 'i', 's', ' ', '2', '2', '.']\n"
     ]
    }
   ],
   "source": [
    "y = re.findall(\"[^name]\",str)\n",
    "print(y)"
   ]
  },
  {
   "cell_type": "code",
   "execution_count": 45,
   "id": "2efd49c8",
   "metadata": {},
   "outputs": [
    {
     "name": "stdout",
     "output_type": "stream",
     "text": [
      "['y', ' ', 'n', 'a', 'm', 'e', ' ', 'i', 's', ' ', 'G', 'a', 'd', 'e', ' ', 'o', 'u', 'n', 'i', 'k', 'a', '.', 'I', ' ', 'a', 'm', ' ', 'f', 'r', 'o', 'm', ' ', 'A', 'n', 'a', 'n', 't', 'a', 'p', 'u', 'r', '.', 'I', ' ', 'c', 'o', 'm', 'p', 'l', 'e', 't', 'e', 'd', ' ', 'd', 'i', 'p', 'l', 'o', 'm', 'a', ' ', 'f', 'r', 'o', 'm', ' ', 'G', 'o', 'v', 't', ' ', 'P', 'o', 'l', 'y', 't', 'e', 'c', 'h', 'n', 'i', 'c', ' ', 'c', 'o', 'l', 'l', 'e', 'g', 'e', '.', 'R', 'e', 'c', 'e', 'n', 't', 'l', 'y', ' ', 'I', ' ', 'h', 'a', 'v', 'e', ' ', 'c', 'o', 'm', 'p', 'l', 'e', 't', 'e', 'd', ' ', 'm', 'y', ' ', 'G', 'r', 'a', 'd', 'u', 'a', 't', 'i', 'o', 'n', ' ', 'f', 'r', 'o', 'm', ' ', 'S', 'r', 'e', 'e', ' ', 'V', 'i', 'd', 'y', 'a', 'n', 'i', 'k', 'e', 't', 'h', 'a', 'n', ' ', 'E', 'n', 'g', 'i', 'n', 'e', 'e', 'r', 'i', 'n', 'g', ' ', 'C', 'o', 'l', 'l', 'e', 'g', 'e', '.', ' ', 'B', 'a', 's', 'i', 'c', 'a', 'l', 'l', 'y', ',', ' ', 'I', 'a', 'm', ' ', 'a', ' ', 's', 'e', 'l', 'f', ' ', 'm', 'o', 't', 'i', 'v', 'a', 't', 'e', 'd', ' ', 'a', 'n', 'd', ' ', 'w', 'o', 'r', 'k', 'h', 'o', 'l', 'i', 'c', '.', ' ', 'y', ' ', 'H', 'o', 'b', 'b', 'i', 'e', 's', ' ', 'a', 'r', 'e', ' ', 'l', 'i', 's', 't', 'e', 'n', 'i', 'n', 'g', ' ', 't', 'o', ' ', 'm', 'u', 's', 'i', 'c', ',', 'd', 'e', 'v', 'e', 'l', 'o', 'p', 'i', 'n', 'g', ' ', 'n', 'e', 'w', ' ', 's', 'k', 'i', 'l', 'l', 's', '.', 'y', ' ', 'a', 'g', 'e', ' ', 'i', 's', ' ', '2', '2', '.']\n"
     ]
    }
   ],
   "source": [
    "y = re.findall(\"[^M]\",str)\n",
    "print(y)"
   ]
  },
  {
   "cell_type": "code",
   "execution_count": 46,
   "id": "93cd48ad",
   "metadata": {},
   "outputs": [
    {
     "name": "stdout",
     "output_type": "stream",
     "text": [
      "['M', 'M', 'M', 'M']\n"
     ]
    }
   ],
   "source": [
    "y = re.findall(\"[M]\",str)\n",
    "print(y)"
   ]
  },
  {
   "cell_type": "code",
   "execution_count": 47,
   "id": "b527163d",
   "metadata": {},
   "outputs": [
    {
     "name": "stdout",
     "output_type": "stream",
     "text": [
      "['M', 'M', 'M', 'M']\n"
     ]
    }
   ],
   "source": [
    "y = re.findall(\"M\",str)\n",
    "print(y)"
   ]
  },
  {
   "cell_type": "code",
   "execution_count": 48,
   "id": "9d6c5ca5",
   "metadata": {},
   "outputs": [
    {
     "name": "stdout",
     "output_type": "stream",
     "text": [
      "['My', 'My', 'My']\n"
     ]
    }
   ],
   "source": [
    "y = re.findall(\"My\",str)\n",
    "print(y)"
   ]
  },
  {
   "cell_type": "code",
   "execution_count": 49,
   "id": "6a1b8fa3",
   "metadata": {},
   "outputs": [
    {
     "name": "stdout",
     "output_type": "stream",
     "text": [
      "['M', 'y', 'M', 'y', 'y', 'y', 'y', 'y', 'M', 'y', 'M', 'y']\n"
     ]
    }
   ],
   "source": [
    "y = re.findall(\"[My]\",str)\n",
    "print(y)"
   ]
  },
  {
   "cell_type": "code",
   "execution_count": 50,
   "id": "5a9b9053",
   "metadata": {},
   "outputs": [
    {
     "name": "stdout",
     "output_type": "stream",
     "text": [
      "['name']\n"
     ]
    }
   ],
   "source": [
    "y = re.findall(\"name\",str)\n",
    "print(y)"
   ]
  },
  {
   "cell_type": "code",
   "execution_count": 51,
   "id": "273f21f6",
   "metadata": {},
   "outputs": [
    {
     "name": "stdout",
     "output_type": "stream",
     "text": [
      "['n', 'a', 'm', 'e', 'a', 'e', 'n', 'a', 'a', 'm', 'm', 'n', 'a', 'n', 'a', 'm', 'e', 'e', 'm', 'a', 'm', 'e', 'n', 'e', 'e', 'e', 'e', 'n', 'a', 'e', 'm', 'e', 'e', 'm', 'a', 'a', 'n', 'm', 'e', 'e', 'a', 'n', 'e', 'a', 'n', 'n', 'n', 'e', 'e', 'n', 'e', 'e', 'a', 'a', 'a', 'm', 'a', 'e', 'm', 'a', 'e', 'a', 'n', 'e', 'a', 'e', 'e', 'n', 'n', 'm', 'e', 'e', 'n', 'n', 'e', 'a', 'e']\n"
     ]
    }
   ],
   "source": [
    "y = re.findall(\"[name]\",str)\n",
    "print(y)"
   ]
  },
  {
   "cell_type": "code",
   "execution_count": 52,
   "id": "a1ed3780",
   "metadata": {},
   "outputs": [
    {
     "name": "stdout",
     "output_type": "stream",
     "text": [
      "['M', 'y', ' ', ' ', 'i', 's', ' ', 'G', 'd', ' ', 'M', 'o', 'u', 'i', 'k', '.', 'I', ' ', ' ', 'f', 'r', 'o', ' ', 'A', 't', 'p', 'u', 'r', '.', 'I', ' ', 'c', 'o', 'p', 'l', 't', 'd', ' ', 'd', 'i', 'p', 'l', 'o', ' ', 'f', 'r', 'o', ' ', 'G', 'o', 'v', 't', ' ', 'P', 'o', 'l', 'y', 't', 'c', 'h', 'i', 'c', ' ', 'c', 'o', 'l', 'l', 'g', '.', 'R', 'c', 't', 'l', 'y', ' ', 'I', ' ', 'h', 'v', ' ', 'c', 'o', 'p', 'l', 't', 'd', ' ', 'y', ' ', 'G', 'r', 'd', 'u', 't', 'i', 'o', ' ', 'f', 'r', 'o', ' ', 'S', 'r', ' ', 'V', 'i', 'd', 'y', 'i', 'k', 't', 'h', ' ', 'E', 'g', 'i', 'r', 'i', 'g', ' ', 'C', 'o', 'l', 'l', 'g', '.', ' ', 'B', 's', 'i', 'c', 'l', 'l', 'y', ',', ' ', 'I', ' ', ' ', 's', 'l', 'f', ' ', 'o', 't', 'i', 'v', 't', 'd', ' ', 'd', ' ', 'w', 'o', 'r', 'k', 'h', 'o', 'l', 'i', 'c', '.', ' ', 'M', 'y', ' ', 'H', 'o', 'b', 'b', 'i', 's', ' ', 'r', ' ', 'l', 'i', 's', 't', 'i', 'g', ' ', 't', 'o', ' ', 'u', 's', 'i', 'c', ',', 'd', 'v', 'l', 'o', 'p', 'i', 'g', ' ', 'w', ' ', 's', 'k', 'i', 'l', 'l', 's', '.', 'M', 'y', ' ', 'g', ' ', 'i', 's', ' ', '2', '2', '.']\n"
     ]
    }
   ],
   "source": [
    "y = re.findall(\"[^name]\",str)\n",
    "print(y)"
   ]
  },
  {
   "cell_type": "code",
   "execution_count": 53,
   "id": "4992b94e",
   "metadata": {},
   "outputs": [
    {
     "name": "stdout",
     "output_type": "stream",
     "text": [
      "['Iam']\n"
     ]
    }
   ],
   "source": [
    "y = re.findall(\"Iam\",str)\n",
    "print(y)"
   ]
  },
  {
   "cell_type": "code",
   "execution_count": 54,
   "id": "1517dd9e",
   "metadata": {},
   "outputs": [
    {
     "name": "stdout",
     "output_type": "stream",
     "text": [
      "['I am']\n"
     ]
    }
   ],
   "source": [
    "y = re.findall(\"I am\",str)\n",
    "print(y)"
   ]
  },
  {
   "cell_type": "code",
   "execution_count": 55,
   "id": "cedfcb38",
   "metadata": {},
   "outputs": [
    {
     "name": "stdout",
     "output_type": "stream",
     "text": [
      "[]\n"
     ]
    }
   ],
   "source": [
    "y = re.findall(\"I am$\",str)\n",
    "print(y)"
   ]
  },
  {
   "cell_type": "code",
   "execution_count": 60,
   "id": "48979c13",
   "metadata": {},
   "outputs": [
    {
     "name": "stdout",
     "output_type": "stream",
     "text": [
      "[]\n"
     ]
    }
   ],
   "source": [
    "y = re.findall(\"22.$\",str)\n",
    "print(y)"
   ]
  },
  {
   "cell_type": "code",
   "execution_count": 61,
   "id": "ede45eff",
   "metadata": {},
   "outputs": [
    {
     "name": "stdout",
     "output_type": "stream",
     "text": [
      "['22']\n"
     ]
    }
   ],
   "source": [
    "y = re.findall(\"22$\",str)\n",
    "print(y)"
   ]
  },
  {
   "cell_type": "code",
   "execution_count": 62,
   "id": "187d98da",
   "metadata": {},
   "outputs": [
    {
     "name": "stdout",
     "output_type": "stream",
     "text": [
      "['2']\n"
     ]
    }
   ],
   "source": [
    "y = re.findall(\"2$\",str)\n",
    "print(y)"
   ]
  },
  {
   "cell_type": "code",
   "execution_count": 63,
   "id": "c1d834c6",
   "metadata": {},
   "outputs": [
    {
     "name": "stdout",
     "output_type": "stream",
     "text": [
      "['name', 'nant']\n"
     ]
    }
   ],
   "source": [
    "y = re.findall(\"na..\",str)\n",
    "print(y)"
   ]
  },
  {
   "cell_type": "code",
   "execution_count": 65,
   "id": "cbfcf039",
   "metadata": {},
   "outputs": [
    {
     "name": "stdout",
     "output_type": "stream",
     "text": [
      "['Mouni']\n"
     ]
    }
   ],
   "source": [
    "y = re.findall(\"Mou..\",str)\n",
    "print(y)"
   ]
  },
  {
   "cell_type": "code",
   "execution_count": 66,
   "id": "aae3b6ca",
   "metadata": {},
   "outputs": [
    {
     "name": "stdout",
     "output_type": "stream",
     "text": [
      "['ame', 'ade', 'a.I', 'am ', 'ant', 'apu', 'a f', 'ave', 'adu', 'ati', 'ani', 'an ', 'asi', 'all', 'am ', 'a s', 'ate', 'and', 'are', 'age']\n"
     ]
    }
   ],
   "source": [
    "y = re.findall(\"a..\",str)\n",
    "print(y)"
   ]
  },
  {
   "cell_type": "code",
   "execution_count": 67,
   "id": "753a7f53",
   "metadata": {},
   "outputs": [
    {
     "name": "stdout",
     "output_type": "stream",
     "text": [
      "['My', 'Mo', 'My', 'My']\n"
     ]
    }
   ],
   "source": [
    "y = re.findall(\"M.\",str)\n",
    "print(y)"
   ]
  },
  {
   "cell_type": "code",
   "execution_count": 68,
   "id": "4705fd9e",
   "metadata": {},
   "outputs": [
    {
     "name": "stdout",
     "output_type": "stream",
     "text": [
      "['ame', 'ade', 'ple', 'yte', 'lle', '.Re', 'ave', 'ple', 'Sre', 'ike', 'ine', 'lle', ' se', 'ate', 'bie', 'are', 'ste', ',de', ' ne', 'age']\n"
     ]
    }
   ],
   "source": [
    "y = re.findall(\"..e\",str)\n",
    "print(y)"
   ]
  },
  {
   "cell_type": "code",
   "execution_count": 69,
   "id": "347e9dab",
   "metadata": {},
   "outputs": [
    {
     "name": "stdout",
     "output_type": "stream",
     "text": [
      "['name', 'Gade', 'mple', 'lyte', 'olle', 'e.Re', 'have', 'mple', ' Sre', 'nike', 'gine', 'olle', 'a se', 'vate', 'bbie', ' are', 'iste', 'c,de', 'g ne', ' age']\n"
     ]
    }
   ],
   "source": [
    "y = re.findall(\"...e\",str)\n",
    "print(y)"
   ]
  },
  {
   "cell_type": "code",
   "execution_count": 70,
   "id": "c85f330f",
   "metadata": {},
   "outputs": [
    {
     "name": "stdout",
     "output_type": "stream",
     "text": [
      "['nam', ' am', 'rom', 'com', 'lom', 'rom', 'com', 'd m', 'rom', 'Iam', 'f m', 'o m']\n"
     ]
    }
   ],
   "source": [
    "y = re.findall(\"..m\",str)\n",
    "print(y)"
   ]
  },
  {
   "cell_type": "code",
   "execution_count": 71,
   "id": "5e1e75f2",
   "metadata": {},
   "outputs": [
    {
     "name": "stdout",
     "output_type": "stream",
     "text": [
      "['My', 'ly', 'ly', 'my', 'dy', 'ly', 'My', 'My']\n"
     ]
    }
   ],
   "source": [
    "y = re.findall(\".y\",str)\n",
    "print(y)"
   ]
  },
  {
   "cell_type": "code",
   "execution_count": 72,
   "id": "a5ba4d70",
   "metadata": {},
   "outputs": [
    {
     "name": "stdout",
     "output_type": "stream",
     "text": [
      "['', '', '', '', 'a', '', '', '', '', '', '', '', 'a', '', '', '', '', '', '', '', '', '', 'a', '', '', '', 'a', '', '', '', '', '', '', '', '', '', 'a', '', '', 'a', '', '', '', '', '', '', '', '', '', '', '', '', '', '', '', '', '', '', '', '', '', '', 'a', '', '', '', '', '', '', '', '', '', '', '', '', '', '', '', '', '', '', '', '', '', '', '', '', '', '', '', '', '', '', '', '', '', '', '', '', '', '', '', '', '', '', '', 'a', '', '', '', '', '', '', '', '', '', '', '', '', '', '', '', '', '', '', 'a', '', '', 'a', '', '', '', '', '', '', '', '', '', '', '', '', '', '', '', '', '', '', '', 'a', '', '', '', '', '', '', 'a', '', '', '', '', '', '', '', '', '', '', '', '', '', '', '', '', '', '', '', '', '', '', '', '', 'a', '', '', '', 'a', '', '', '', '', '', '', 'a', '', '', 'a', '', '', '', '', '', '', '', '', '', '', '', 'a', '', '', '', '', 'a', '', '', '', '', '', '', '', '', '', '', '', '', '', '', '', '', '', '', '', '', '', '', '', '', '', 'a', '', '', '', '', '', '', '', '', '', '', '', '', '', '', '', '', '', '', '', '', '', '', '', '', '', '', '', '', '', '', '', '', '', '', '', '', '', '', '', '', '', '', '', '', '', '', '', 'a', '', '', '', '', '', '', '', '', '']\n"
     ]
    }
   ],
   "source": [
    "y = re.findall(\"a*\",str)\n",
    "print(y)"
   ]
  },
  {
   "cell_type": "code",
   "execution_count": 73,
   "id": "dd6e1df8",
   "metadata": {},
   "outputs": [
    {
     "name": "stdout",
     "output_type": "stream",
     "text": [
      "['', '', '', '', '', '', '', '', '', '', '', '', '', '', '', '', '', '', 'u', '', '', '', '', '', '', '', '', '', '', '', '', '', '', '', '', '', '', '', '', '', '', 'u', '', '', '', '', '', '', '', '', '', '', '', '', '', '', '', '', '', '', '', '', '', '', '', '', '', '', '', '', '', '', '', '', '', '', '', '', '', '', '', '', '', '', '', '', '', '', '', '', '', '', '', '', '', '', '', '', '', '', '', '', '', '', '', '', '', '', '', '', '', '', '', '', '', '', '', '', '', '', '', '', '', '', '', '', '', 'u', '', '', '', '', '', '', '', '', '', '', '', '', '', '', '', '', '', '', '', '', '', '', '', '', '', '', '', '', '', '', '', '', '', '', '', '', '', '', '', '', '', '', '', '', '', '', '', '', '', '', '', '', '', '', '', '', '', '', '', '', '', '', '', '', '', '', '', '', '', '', '', '', '', '', '', '', '', '', '', '', '', '', '', '', '', '', '', '', '', '', '', '', '', '', '', '', '', '', '', '', '', '', '', '', '', '', '', '', '', '', '', '', '', '', '', '', '', '', '', '', '', '', '', '', '', '', '', 'u', '', '', '', '', '', '', '', '', '', '', '', '', '', '', '', '', '', '', '', '', '', '', '', '', '', '', '', '', '', '', '', '', '', '', '', '', '', '', '']\n"
     ]
    }
   ],
   "source": [
    "y = re.findall(\"u*\",str)\n",
    "print(y)"
   ]
  },
  {
   "cell_type": "code",
   "execution_count": 74,
   "id": "842ddfb3",
   "metadata": {},
   "outputs": [
    {
     "name": "stdout",
     "output_type": "stream",
     "text": [
      "['', '', '', '', '', '', '', '', '', '', '', 'G', '', '', '', '', '', '', '', '', '', '', '', '', '', '', '', '', '', '', '', '', '', '', '', '', '', '', '', '', '', '', '', '', '', '', '', '', '', '', '', '', '', '', '', '', '', '', '', '', '', '', '', '', '', '', '', '', '', 'G', '', '', '', '', '', '', '', '', '', '', '', '', '', '', '', '', '', '', '', '', '', '', '', '', '', '', '', '', '', '', '', '', '', '', '', '', '', '', '', '', '', '', '', '', '', '', '', '', '', '', '', '', '', 'G', '', '', '', '', '', '', '', '', '', '', '', '', '', '', '', '', '', '', '', '', '', '', '', '', '', '', '', '', '', '', '', '', '', '', '', '', '', '', '', '', '', '', '', '', '', '', '', '', '', '', '', '', '', '', '', '', '', '', '', '', '', '', '', '', '', '', '', '', '', '', '', '', '', '', '', '', '', '', '', '', '', '', '', '', '', '', '', '', '', '', '', '', '', '', '', '', '', '', '', '', '', '', '', '', '', '', '', '', '', '', '', '', '', '', '', '', '', '', '', '', '', '', '', '', '', '', '', '', '', '', '', '', '', '', '', '', '', '', '', '', '', '', '', '', '', '', '', '', '', '', '', '', '', '', '', '', '', '', '', '', '', '', '', '', '', '', '', '', '', '', '']\n"
     ]
    }
   ],
   "source": [
    "y = re.findall(\"G*\",str)\n",
    "print(y)"
   ]
  },
  {
   "cell_type": "code",
   "execution_count": 75,
   "id": "7354155c",
   "metadata": {},
   "outputs": [
    {
     "name": "stdout",
     "output_type": "stream",
     "text": [
      "['My', 'M', 'My', 'My']\n"
     ]
    }
   ],
   "source": [
    "y = re.findall(\"My*\",str)\n",
    "print(y)"
   ]
  },
  {
   "cell_type": "code",
   "execution_count": 76,
   "id": "34baaf3e",
   "metadata": {},
   "outputs": [
    {
     "name": "stdout",
     "output_type": "stream",
     "text": [
      "['name']\n"
     ]
    }
   ],
   "source": [
    "y = re.findall(\"name*\",str)\n",
    "print(y)"
   ]
  },
  {
   "cell_type": "code",
   "execution_count": 77,
   "id": "ced78f7e",
   "metadata": {},
   "outputs": [
    {
     "name": "stdout",
     "output_type": "stream",
     "text": [
      "['nam', 'na']\n"
     ]
    }
   ],
   "source": [
    "y = re.findall(\"nam*\",str)\n",
    "print(y)"
   ]
  },
  {
   "cell_type": "code",
   "execution_count": 79,
   "id": "c56180e4",
   "metadata": {},
   "outputs": [
    {
     "name": "stdout",
     "output_type": "stream",
     "text": [
      "['age']\n"
     ]
    }
   ],
   "source": [
    "y = re.findall(\"age*\",str)\n",
    "print(y)"
   ]
  },
  {
   "cell_type": "code",
   "execution_count": 80,
   "id": "58706852",
   "metadata": {},
   "outputs": [
    {
     "name": "stdout",
     "output_type": "stream",
     "text": [
      "['a', 'a', 'a', 'a', 'a', 'a', 'a', 'a', 'a', 'a', 'a', 'a', 'a', 'a', 'a', 'a', 'a', 'a', 'a', 'ag']\n"
     ]
    }
   ],
   "source": [
    "y = re.findall(\"ag*\",str)\n",
    "print(y)"
   ]
  },
  {
   "cell_type": "code",
   "execution_count": 81,
   "id": "77334620",
   "metadata": {},
   "outputs": [
    {
     "name": "stdout",
     "output_type": "stream",
     "text": [
      "['ag']\n"
     ]
    }
   ],
   "source": [
    "y = re.findall(\"ag+\",str)\n",
    "print(y)"
   ]
  },
  {
   "cell_type": "code",
   "execution_count": 82,
   "id": "30af0db8",
   "metadata": {},
   "outputs": [
    {
     "name": "stdout",
     "output_type": "stream",
     "text": [
      "['age']\n"
     ]
    }
   ],
   "source": [
    "y = re.findall(\"age+\",str)\n",
    "print(y)"
   ]
  },
  {
   "cell_type": "code",
   "execution_count": 83,
   "id": "30faf394",
   "metadata": {},
   "outputs": [
    {
     "name": "stdout",
     "output_type": "stream",
     "text": [
      "['a', 'a', 'a', 'a', 'a', 'a', 'a', 'a', 'a', 'a', 'a', 'a', 'a', 'a', 'a', 'a', 'a', 'a', 'a', 'a']\n"
     ]
    }
   ],
   "source": [
    "y = re.findall(\"a+\",str)\n",
    "print(y)"
   ]
  },
  {
   "cell_type": "code",
   "execution_count": 84,
   "id": "fe09e116",
   "metadata": {},
   "outputs": [
    {
     "name": "stdout",
     "output_type": "stream",
     "text": [
      "['g', 'g', 'g', 'g', 'g', 'g', 'g']\n"
     ]
    }
   ],
   "source": [
    "y = re.findall(\"g+\",str)\n",
    "print(y)"
   ]
  },
  {
   "cell_type": "code",
   "execution_count": 85,
   "id": "8b3e3627",
   "metadata": {},
   "outputs": [
    {
     "name": "stdout",
     "output_type": "stream",
     "text": [
      "['G', 'G', 'G']\n"
     ]
    }
   ],
   "source": [
    "y = re.findall(\"G+\",str)\n",
    "print(y)"
   ]
  },
  {
   "cell_type": "code",
   "execution_count": 86,
   "id": "9c776e94",
   "metadata": {},
   "outputs": [
    {
     "name": "stdout",
     "output_type": "stream",
     "text": [
      "['My', 'My', 'My']\n"
     ]
    }
   ],
   "source": [
    "y = re.findall(\"My+\",str)\n",
    "print(y)"
   ]
  },
  {
   "cell_type": "code",
   "execution_count": 87,
   "id": "1b72b27d",
   "metadata": {},
   "outputs": [
    {
     "name": "stdout",
     "output_type": "stream",
     "text": [
      "[]\n"
     ]
    }
   ],
   "source": [
    "y = re.findall(\"iam+\",str)\n",
    "print(y)"
   ]
  },
  {
   "cell_type": "code",
   "execution_count": 91,
   "id": "72172c39",
   "metadata": {},
   "outputs": [
    {
     "name": "stdout",
     "output_type": "stream",
     "text": [
      "['Mounika']\n"
     ]
    }
   ],
   "source": [
    "y = re.findall(\"Mounika+\",str)\n",
    "print(y)"
   ]
  },
  {
   "cell_type": "code",
   "execution_count": 92,
   "id": "debcc684",
   "metadata": {},
   "outputs": [
    {
     "name": "stdout",
     "output_type": "stream",
     "text": [
      "['am', 'a', 'a', 'am', 'a', 'a', 'a', 'a', 'a', 'a', 'a', 'a', 'a', 'a', 'am', 'a', 'a', 'a', 'a', 'a']\n"
     ]
    }
   ],
   "source": [
    "y = re.findall(\"am*\",str)\n",
    "print(y)"
   ]
  },
  {
   "cell_type": "code",
   "execution_count": 98,
   "id": "9766c110",
   "metadata": {},
   "outputs": [
    {
     "name": "stdout",
     "output_type": "stream",
     "text": [
      "['am', 'am', 'am']\n"
     ]
    }
   ],
   "source": [
    "y = re.findall(\"am+\",str)\n",
    "print(y)"
   ]
  },
  {
   "cell_type": "code",
   "execution_count": 93,
   "id": "fbbcd3c3",
   "metadata": {},
   "outputs": [
    {
     "name": "stdout",
     "output_type": "stream",
     "text": [
      "['me', 'm', 'm', 'm', 'm', 'm', 'm', 'm', 'm', 'm', 'm', 'm']\n"
     ]
    }
   ],
   "source": [
    "y = re.findall(\"me*\",str)\n",
    "print(y)"
   ]
  },
  {
   "cell_type": "code",
   "execution_count": 97,
   "id": "7c7ab142",
   "metadata": {},
   "outputs": [
    {
     "name": "stdout",
     "output_type": "stream",
     "text": [
      "['me']\n"
     ]
    }
   ],
   "source": [
    "y = re.findall(\"me+\",str)\n",
    "print(y)"
   ]
  },
  {
   "cell_type": "code",
   "execution_count": 94,
   "id": "0c9124bb",
   "metadata": {},
   "outputs": [
    {
     "name": "stdout",
     "output_type": "stream",
     "text": [
      "['am', 'a', 'a', 'am', 'a', 'a', 'a', 'a', 'a', 'a', 'a', 'a', 'a', 'a', 'am', 'a', 'a', 'a', 'a', 'a']\n"
     ]
    }
   ],
   "source": [
    "y = re.findall(\"am*\",str)\n",
    "print(y)"
   ]
  },
  {
   "cell_type": "code",
   "execution_count": 95,
   "id": "3b4b16f6",
   "metadata": {},
   "outputs": [
    {
     "name": "stdout",
     "output_type": "stream",
     "text": [
      "['am', 'am', 'am']\n"
     ]
    }
   ],
   "source": [
    "y = re.findall(\"am+\",str)\n",
    "print(y)"
   ]
  },
  {
   "cell_type": "code",
   "execution_count": 99,
   "id": "35488300",
   "metadata": {},
   "outputs": [
    {
     "name": "stdout",
     "output_type": "stream",
     "text": [
      "['am', 'am', 'am']\n"
     ]
    }
   ],
   "source": [
    "y = re.findall(\"am\",str)\n",
    "print(y)"
   ]
  },
  {
   "cell_type": "code",
   "execution_count": 103,
   "id": "a80fe9c1",
   "metadata": {},
   "outputs": [
    {
     "name": "stdout",
     "output_type": "stream",
     "text": [
      "['a', 'a', 'a', 'a', 'a', 'a', 'a', 'a', 'a', 'a', 'a', 'a', 'a', 'a', 'a', 'a', 'a', 'a', 'a', 'a']\n"
     ]
    }
   ],
   "source": [
    "y = re.findall(\"a\",str)\n",
    "print(y)"
   ]
  },
  {
   "cell_type": "code",
   "execution_count": 105,
   "id": "3c286c65",
   "metadata": {},
   "outputs": [
    {
     "name": "stdout",
     "output_type": "stream",
     "text": [
      "['a', 'a', 'a', 'a', 'a', 'a', 'a', 'a', 'a', 'a', 'a', 'a', 'a', 'a', 'a', 'a', 'a', 'a', 'a', 'a']\n"
     ]
    }
   ],
   "source": [
    "y = re.findall(\"a{1}\",str)\n",
    "print(y)"
   ]
  },
  {
   "cell_type": "code",
   "execution_count": 106,
   "id": "a566cc58",
   "metadata": {},
   "outputs": [
    {
     "name": "stdout",
     "output_type": "stream",
     "text": [
      "['bb']\n"
     ]
    }
   ],
   "source": [
    "y = re.findall(\"bb\",str)\n",
    "print(y)"
   ]
  },
  {
   "cell_type": "code",
   "execution_count": 107,
   "id": "9f5d6e86",
   "metadata": {},
   "outputs": [
    {
     "name": "stdout",
     "output_type": "stream",
     "text": [
      "['b', 'b']\n"
     ]
    }
   ],
   "source": [
    "y = re.findall(\"b{1}\",str)\n",
    "print(y)"
   ]
  },
  {
   "cell_type": "code",
   "execution_count": 108,
   "id": "f94a320a",
   "metadata": {},
   "outputs": [
    {
     "name": "stdout",
     "output_type": "stream",
     "text": [
      "['bb']\n"
     ]
    }
   ],
   "source": [
    "y = re.findall(\"b{2}\",str)\n",
    "print(y)"
   ]
  },
  {
   "cell_type": "code",
   "execution_count": 109,
   "id": "fa834f53",
   "metadata": {},
   "outputs": [
    {
     "name": "stdout",
     "output_type": "stream",
     "text": [
      "['bb']\n"
     ]
    }
   ],
   "source": [
    "y = re.findall(\"bb*\",str)\n",
    "print(y)"
   ]
  },
  {
   "cell_type": "code",
   "execution_count": 110,
   "id": "abef4737",
   "metadata": {},
   "outputs": [
    {
     "name": "stdout",
     "output_type": "stream",
     "text": [
      "['bb']\n"
     ]
    }
   ],
   "source": [
    "y = re.findall(\"bb+\",str)\n",
    "print(y)"
   ]
  },
  {
   "cell_type": "markdown",
   "id": "d277d506",
   "metadata": {},
   "source": [
    "# Special Sequences:"
   ]
  },
  {
   "cell_type": "markdown",
   "id": "0df48721",
   "metadata": {},
   "source": [
    "--> Special sequences do not match for the actual character in the string instead it tells the specific location in the search string where the match must occur.\n",
    "\n",
    "--> It makes it easier to write commonly used patterns.\n",
    "\n",
    "1. \\d --> If given string having digits(0-9) (or) Matches any decimal digit,this is equivalent to the set class[0-9].\n",
    "\n",
    "2. \\D --> If given string does not have digits (or) Matches any non-digit character, this is equivalent to the set class[^0-9].\n",
    "\n",
    "3. \\w --> If given string having word characters(a-zA-Z,0-9) (or) Matches any alphanumeric character,this is equivalent to the class[a-zA-Z0-9]\n",
    "\n",
    "4. \\W --> If given string does not have word characters (or) Matches any non - alphanumeric character.\n",
    "\n",
    "5. \\s --> If given string having spaces (or) Matches any whitespace character.\n",
    "\n",
    "6. \\S --> If given string does not have spaces (or) Matches any non-whitespace character.\n",
    "\n",
    "7. \\z --> If given string ends with specified characters (or) Matches if the string ends with the given regex.\n",
    "\n",
    "8. \\A --> Matches if the string begins with the given character.\n",
    "\n",
    "9. \\b --> Matches if the word begins or ends with the given character.\\b(string) will check for the beginning of the word and (string)\\b will check for the ending of the word.\n",
    "\n",
    "10. \\B --> It is the opposite of the \\b i.e., the string should not start or end with the given regex."
   ]
  },
  {
   "cell_type": "code",
   "execution_count": 111,
   "id": "da728bdf",
   "metadata": {},
   "outputs": [
    {
     "name": "stdout",
     "output_type": "stream",
     "text": [
      "[' ', ' ', ' ', ' ', ' ', ' ', ' ', ' ', ' ', ' ', ' ', ' ', ' ', ' ', ' ', ' ', ' ', ' ', ' ', ' ', ' ', ' ', ' ', ' ', ' ', ' ', ' ', ' ', ' ', ' ', ' ', ' ', ' ', ' ', ' ', ' ', ' ', ' ', ' ', ' ', ' ']\n"
     ]
    }
   ],
   "source": [
    "y = re.findall(\"\\s\",str)\n",
    "print(y)"
   ]
  },
  {
   "cell_type": "code",
   "execution_count": 112,
   "id": "1c4d84f2",
   "metadata": {},
   "outputs": [
    {
     "name": "stdout",
     "output_type": "stream",
     "text": [
      "['M', 'y', 'n', 'a', 'm', 'e', 'i', 's', 'G', 'a', 'd', 'e', 'M', 'o', 'u', 'n', 'i', 'k', 'a', '.', 'I', 'a', 'm', 'f', 'r', 'o', 'm', 'A', 'n', 'a', 'n', 't', 'a', 'p', 'u', 'r', '.', 'I', 'c', 'o', 'm', 'p', 'l', 'e', 't', 'e', 'd', 'd', 'i', 'p', 'l', 'o', 'm', 'a', 'f', 'r', 'o', 'm', 'G', 'o', 'v', 't', 'P', 'o', 'l', 'y', 't', 'e', 'c', 'h', 'n', 'i', 'c', 'c', 'o', 'l', 'l', 'e', 'g', 'e', '.', 'R', 'e', 'c', 'e', 'n', 't', 'l', 'y', 'I', 'h', 'a', 'v', 'e', 'c', 'o', 'm', 'p', 'l', 'e', 't', 'e', 'd', 'm', 'y', 'G', 'r', 'a', 'd', 'u', 'a', 't', 'i', 'o', 'n', 'f', 'r', 'o', 'm', 'S', 'r', 'e', 'e', 'V', 'i', 'd', 'y', 'a', 'n', 'i', 'k', 'e', 't', 'h', 'a', 'n', 'E', 'n', 'g', 'i', 'n', 'e', 'e', 'r', 'i', 'n', 'g', 'C', 'o', 'l', 'l', 'e', 'g', 'e', '.', 'B', 'a', 's', 'i', 'c', 'a', 'l', 'l', 'y', ',', 'I', 'a', 'm', 'a', 's', 'e', 'l', 'f', 'm', 'o', 't', 'i', 'v', 'a', 't', 'e', 'd', 'a', 'n', 'd', 'w', 'o', 'r', 'k', 'h', 'o', 'l', 'i', 'c', '.', 'M', 'y', 'H', 'o', 'b', 'b', 'i', 'e', 's', 'a', 'r', 'e', 'l', 'i', 's', 't', 'e', 'n', 'i', 'n', 'g', 't', 'o', 'm', 'u', 's', 'i', 'c', ',', 'd', 'e', 'v', 'e', 'l', 'o', 'p', 'i', 'n', 'g', 'n', 'e', 'w', 's', 'k', 'i', 'l', 'l', 's', '.', 'M', 'y', 'a', 'g', 'e', 'i', 's', '2', '2']\n"
     ]
    }
   ],
   "source": [
    "y = re.findall(\"\\S\",str)\n",
    "print(y)"
   ]
  },
  {
   "cell_type": "code",
   "execution_count": 114,
   "id": "6b99d785",
   "metadata": {},
   "outputs": [
    {
     "name": "stdout",
     "output_type": "stream",
     "text": [
      "['1', '2', '2', '2', '7', '6', '1', '9', '8', '3', '5', '4', '2', '9']\n"
     ]
    }
   ],
   "source": [
    "str1 = \"1. My age is 22. 2. My mobile number is : 7619835429\"\n",
    "x = re.findall(\"\\d\",str1)\n",
    "print(x)"
   ]
  },
  {
   "cell_type": "code",
   "execution_count": 116,
   "id": "96122d73",
   "metadata": {},
   "outputs": [
    {
     "name": "stdout",
     "output_type": "stream",
     "text": [
      "['.', ' ', 'M', 'y', ' ', 'a', 'g', 'e', ' ', 'i', 's', ' ', '.', ' ', '.', ' ', 'M', 'y', ' ', 'm', 'o', 'b', 'i', 'l', 'e', ' ', 'n', 'u', 'm', 'b', 'e', 'r', ' ', 'i', 's', ' ', ':', ' ']\n"
     ]
    }
   ],
   "source": [
    "str1 = \"1. My age is 22. 2. My mobile number is : 7619835429\"\n",
    "x = re.findall(\"\\D\",str1)\n",
    "print(x)"
   ]
  },
  {
   "cell_type": "code",
   "execution_count": 117,
   "id": "49b37507",
   "metadata": {},
   "outputs": [
    {
     "name": "stdout",
     "output_type": "stream",
     "text": [
      "['1', 'M', 'y', 'a', 'g', 'e', 'i', 's', '2', '2', '2', 'M', 'y', 'm', 'o', 'b', 'i', 'l', 'e', 'n', 'u', 'm', 'b', 'e', 'r', 'i', 's', '7', '6', '1', '9', '8', '3', '5', '4', '2', '9']\n"
     ]
    }
   ],
   "source": [
    "str1 = \"1. My age is 22. 2. My mobile number is : 7619835429\"\n",
    "x = re.findall(\"\\w\",str1)\n",
    "print(x)"
   ]
  },
  {
   "cell_type": "code",
   "execution_count": 118,
   "id": "340ba908",
   "metadata": {},
   "outputs": [
    {
     "name": "stdout",
     "output_type": "stream",
     "text": [
      "['.', ' ', ' ', ' ', ' ', '.', ' ', '.', ' ', ' ', ' ', ' ', ' ', ':', ' ']\n"
     ]
    }
   ],
   "source": [
    "str1 = \"1. My age is 22. 2. My mobile number is : 7619835429\"\n",
    "x = re.findall(\"\\W\",str1)\n",
    "print(x)"
   ]
  },
  {
   "cell_type": "markdown",
   "id": "c1bef925",
   "metadata": {},
   "source": [
    "# Sets:"
   ]
  },
  {
   "cell_type": "markdown",
   "id": "5aeed4c7",
   "metadata": {},
   "source": [
    "--> A set is a set of characters inside a pair of square brackets[] with a special meaning.\n",
    "\n",
    "1. [abc] --> If string contains any one of specified characters.\n",
    "\n",
    "2. [a-z] --> If string contains any character in between specified range.\n",
    "\n",
    "3. [^abc] --> If string contains characters except specified.\n",
    "\n",
    "4. [5678] --> If string contains any number among specified.\n",
    "\n",
    "5. [1-9] --> If string contains any number in between specified range.\n",
    "\n",
    "6. [0-9][0-9] --> If string contains two digit numbers from 00 to 99.\n",
    "\n",
    "1. [atx] - Returns a match where one of the specified characters(a,t, or x) are present.\n",
    "\n",
    "2. [a-h] - Returns a match for any lower case character,alphabetically between a and h.\n",
    "\n",
    "3. [^atx] - Returns a match for any character except a,t, and x.\n",
    "\n",
    "4. [0123] - Returns a match where any of the specified digits(0, 1,2, or 3) are present.\n",
    "\n",
    "5. [0-9] - Returns a match for any digit between 0 and 9.\n",
    "\n",
    "6. [0-7][0-9] - Returns a match for any two-digit numbers from 00 and 79.\n",
    "\n",
    "7. [a-zA-Z] - Returns a match for any character alphabetically between a and z,lowercase and uppercase.\n",
    "\n",
    "8. [+] - In sets,+,*,.,,(),$,{} has no special meaning, so[+] means:\n",
    "\n",
    "                any + characters in the string."
   ]
  },
  {
   "cell_type": "code",
   "execution_count": 119,
   "id": "67c86309",
   "metadata": {},
   "outputs": [
    {
     "name": "stdout",
     "output_type": "stream",
     "text": [
      "['6', '9', '3', '9']\n"
     ]
    }
   ],
   "source": [
    "str1 = \"1. My age is 22. 2. My mobile number is : 7619835429\"\n",
    "x = re.findall(\"[369]\",str1)\n",
    "print(x)"
   ]
  },
  {
   "cell_type": "code",
   "execution_count": 120,
   "id": "8442f5ad",
   "metadata": {},
   "outputs": [
    {
     "name": "stdout",
     "output_type": "stream",
     "text": [
      "['1', '.', ' ', 'M', 'y', ' ', 'a', 'g', 'e', ' ', 'i', 's', ' ', '2', '2', '.', ' ', '2', '.', ' ', 'M', 'y', ' ', 'm', 'o', 'b', 'i', 'l', 'e', ' ', 'n', 'u', 'm', 'b', 'e', 'r', ' ', 'i', 's', ' ', ':', ' ', '7', '1', '8', '5', '4', '2']\n"
     ]
    }
   ],
   "source": [
    "str1 = \"1. My age is 22. 2. My mobile number is : 7619835429\"\n",
    "x = re.findall(\"[^369]\",str1)\n",
    "print(x)"
   ]
  },
  {
   "cell_type": "code",
   "execution_count": 121,
   "id": "f55cab4e",
   "metadata": {},
   "outputs": [
    {
     "name": "stdout",
     "output_type": "stream",
     "text": [
      "['.', ' ', 'M', 'y', ' ', 'a', 'g', 'e', ' ', 'i', 's', ' ', '.', ' ', '.', ' ', 'M', 'y', ' ', 'm', 'o', 'b', 'i', 'l', 'e', ' ', 'n', 'u', 'm', 'b', 'e', 'r', ' ', 'i', 's', ' ', ':', ' ']\n"
     ]
    }
   ],
   "source": [
    "str1 = \"1. My age is 22. 2. My mobile number is : 7619835429\"\n",
    "x = re.findall(\"[^\\d]\",str1)\n",
    "print(x)"
   ]
  },
  {
   "cell_type": "code",
   "execution_count": 122,
   "id": "65ed7208",
   "metadata": {},
   "outputs": [
    {
     "name": "stdout",
     "output_type": "stream",
     "text": [
      "['1', '2', '2', '2', '7', '6', '1', '9', '8', '3', '5', '4', '2', '9']\n"
     ]
    }
   ],
   "source": [
    "str1 = \"1. My age is 22. 2. My mobile number is : 7619835429\"\n",
    "x = re.findall(\"[^\\D]\",str1)\n",
    "print(x)"
   ]
  },
  {
   "cell_type": "code",
   "execution_count": 123,
   "id": "8c8f65b4",
   "metadata": {},
   "outputs": [
    {
     "name": "stdout",
     "output_type": "stream",
     "text": [
      "['1', '2', '2', '2', '7', '6', '1', '9', '8', '3', '5', '4', '2', '9']\n"
     ]
    }
   ],
   "source": [
    "str1 = \"1. My age is 22. 2. My mobile number is : 7619835429\"\n",
    "x = re.findall(\"[0-9]\",str1)\n",
    "print(x)"
   ]
  },
  {
   "cell_type": "code",
   "execution_count": 124,
   "id": "1b5cddd0",
   "metadata": {},
   "outputs": [
    {
     "name": "stdout",
     "output_type": "stream",
     "text": [
      "['1', '2', '2', '2', '6', '1', '3', '5', '4', '2']\n"
     ]
    }
   ],
   "source": [
    "str1 = \"1. My age is 22. 2. My mobile number is : 7619835429\"\n",
    "x = re.findall(\"[0-6]\",str1)\n",
    "print(x)"
   ]
  },
  {
   "cell_type": "code",
   "execution_count": 125,
   "id": "c28d500c",
   "metadata": {},
   "outputs": [
    {
     "name": "stdout",
     "output_type": "stream",
     "text": [
      "['619', '354']\n"
     ]
    }
   ],
   "source": [
    "str1 = \"1. My age is 22. 2. My mobile number is : 7619835429\"\n",
    "x = re.findall(\"[0-6][0-5][0-9]\",str1)\n",
    "print(x)"
   ]
  },
  {
   "cell_type": "code",
   "execution_count": 126,
   "id": "f41c6364",
   "metadata": {},
   "outputs": [
    {
     "name": "stdout",
     "output_type": "stream",
     "text": [
      "['761', '983', '542']\n"
     ]
    }
   ],
   "source": [
    "str1 = \"1. My age is 22. 2. My mobile number is : 7619835429\"\n",
    "x = re.findall(\"[0-9][0-9][0-9]\",str1)\n",
    "print(x)"
   ]
  },
  {
   "cell_type": "code",
   "execution_count": 127,
   "id": "ee196ac8",
   "metadata": {},
   "outputs": [
    {
     "name": "stdout",
     "output_type": "stream",
     "text": [
      "['22', '19', '35', '29']\n"
     ]
    }
   ],
   "source": [
    "str1 = \"1. My age is 22. 2. My mobile number is : 7619835429\"\n",
    "x = re.findall(\"[0-3][0-9]\",str1)\n",
    "print(x)"
   ]
  }
 ],
 "metadata": {
  "kernelspec": {
   "display_name": "Python 3 (ipykernel)",
   "language": "python",
   "name": "python3"
  },
  "language_info": {
   "codemirror_mode": {
    "name": "ipython",
    "version": 3
   },
   "file_extension": ".py",
   "mimetype": "text/x-python",
   "name": "python",
   "nbconvert_exporter": "python",
   "pygments_lexer": "ipython3",
   "version": "3.9.13"
  }
 },
 "nbformat": 4,
 "nbformat_minor": 5
}
