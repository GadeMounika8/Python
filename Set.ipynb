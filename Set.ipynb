{
 "cells": [
  {
   "cell_type": "markdown",
   "id": "0adeaedf",
   "metadata": {},
   "source": [
    "# Set:"
   ]
  },
  {
   "cell_type": "markdown",
   "id": "2186b028",
   "metadata": {},
   "source": [
    "--> set is a Built-In-Datatype in Python.\n",
    "\n",
    "--> set avoids the duplicates (i.e., duplicates will be removed and Only unique elements are Present).\n",
    "\n",
    "--> sets are Unordered datatype (i.e., No Indexing & No Slicing & reassignment).\n",
    "\n",
    "--> sets are mutable.\n",
    "\n",
    "--> We can say, Set is a collection of unique elements which are mutable and unordered."
   ]
  },
  {
   "cell_type": "markdown",
   "id": "f420fb22",
   "metadata": {},
   "source": [
    "# Creating a set:"
   ]
  },
  {
   "cell_type": "code",
   "execution_count": 1,
   "id": "a20b2fdc",
   "metadata": {},
   "outputs": [
    {
     "name": "stdout",
     "output_type": "stream",
     "text": [
      "set()\n"
     ]
    }
   ],
   "source": [
    "s = set()\n",
    "print(s)"
   ]
  },
  {
   "cell_type": "code",
   "execution_count": 2,
   "id": "ae0fb97e",
   "metadata": {},
   "outputs": [
    {
     "name": "stdout",
     "output_type": "stream",
     "text": [
      "{98, 99, 68, 10, 50, 20, 55, 30}\n"
     ]
    }
   ],
   "source": [
    "s1 = {10,20,30,20,10,50,55,68,98,99,55} \n",
    "print(s1)"
   ]
  },
  {
   "cell_type": "markdown",
   "id": "04cb8117",
   "metadata": {},
   "source": [
    "# Basic Operations:\n",
    "    \n",
    "    len, min, max, sum, Membership Operator."
   ]
  },
  {
   "cell_type": "code",
   "execution_count": 3,
   "id": "430fc440",
   "metadata": {},
   "outputs": [
    {
     "name": "stdout",
     "output_type": "stream",
     "text": [
      "{98, 99, 68, 10, 50, 20, 55, 30}\n"
     ]
    }
   ],
   "source": [
    "s1 = {10,20,30,20,10,50,55,68,98,99,55} \n",
    "print(s1)"
   ]
  },
  {
   "cell_type": "markdown",
   "id": "4d2471e8",
   "metadata": {},
   "source": [
    "# len:"
   ]
  },
  {
   "cell_type": "code",
   "execution_count": 5,
   "id": "b635d893",
   "metadata": {},
   "outputs": [
    {
     "name": "stdout",
     "output_type": "stream",
     "text": [
      "8\n"
     ]
    }
   ],
   "source": [
    "s1 = {10,20,30,20,10,50,55,68,98,99,55} \n",
    "print(len(s1))"
   ]
  },
  {
   "cell_type": "markdown",
   "id": "315a068a",
   "metadata": {},
   "source": [
    "# min:"
   ]
  },
  {
   "cell_type": "code",
   "execution_count": 6,
   "id": "1e62afc3",
   "metadata": {},
   "outputs": [
    {
     "name": "stdout",
     "output_type": "stream",
     "text": [
      "10\n"
     ]
    }
   ],
   "source": [
    "s1 = {10,20,30,20,10,50,55,68,98,99,55} \n",
    "print(min(s1))"
   ]
  },
  {
   "cell_type": "markdown",
   "id": "6fdd764f",
   "metadata": {},
   "source": [
    "# max:"
   ]
  },
  {
   "cell_type": "code",
   "execution_count": 7,
   "id": "05e399bf",
   "metadata": {},
   "outputs": [
    {
     "name": "stdout",
     "output_type": "stream",
     "text": [
      "99\n"
     ]
    }
   ],
   "source": [
    "s1 = {10,20,30,20,10,50,55,68,98,99,55} \n",
    "print(max(s1))"
   ]
  },
  {
   "cell_type": "markdown",
   "id": "0433dbc2",
   "metadata": {},
   "source": [
    "# sum:"
   ]
  },
  {
   "cell_type": "code",
   "execution_count": 12,
   "id": "6c6cea4c",
   "metadata": {},
   "outputs": [
    {
     "name": "stdout",
     "output_type": "stream",
     "text": [
      "430\n"
     ]
    }
   ],
   "source": [
    "s1 = {10,20,30,20,10,50,55,68,98,99,55} \n",
    "print(sum(s1))"
   ]
  },
  {
   "cell_type": "markdown",
   "id": "b87766c2",
   "metadata": {},
   "source": [
    "# Membership Operator:"
   ]
  },
  {
   "cell_type": "code",
   "execution_count": 10,
   "id": "c68dbed3",
   "metadata": {},
   "outputs": [
    {
     "name": "stdout",
     "output_type": "stream",
     "text": [
      "True\n"
     ]
    }
   ],
   "source": [
    "s1 = {10,20,30,20,10,50,55,68,98,99,55} \n",
    "print(10 in s1)"
   ]
  },
  {
   "cell_type": "code",
   "execution_count": 11,
   "id": "829e0847",
   "metadata": {},
   "outputs": [
    {
     "name": "stdout",
     "output_type": "stream",
     "text": [
      "False\n"
     ]
    }
   ],
   "source": [
    "s1 = {10,20,30,20,10,50,55,68,98,99,55} \n",
    "print(15 in s1)"
   ]
  },
  {
   "cell_type": "code",
   "execution_count": 13,
   "id": "58a46039",
   "metadata": {},
   "outputs": [
    {
     "name": "stdout",
     "output_type": "stream",
     "text": [
      "98\n",
      "99\n",
      "68\n",
      "10\n",
      "50\n",
      "20\n",
      "55\n",
      "30\n"
     ]
    }
   ],
   "source": [
    "for ele in s1:\n",
    "    print(ele)"
   ]
  },
  {
   "cell_type": "markdown",
   "id": "21ea81a7",
   "metadata": {},
   "source": [
    "# del:"
   ]
  },
  {
   "cell_type": "code",
   "execution_count": 16,
   "id": "5b5eb1c9",
   "metadata": {},
   "outputs": [],
   "source": [
    "s1 = {1,2,3,2,4,3,5,6,8,9}\n",
    "del s1"
   ]
  },
  {
   "cell_type": "code",
   "execution_count": 17,
   "id": "8d0077f7",
   "metadata": {},
   "outputs": [
    {
     "ename": "NameError",
     "evalue": "name 's1' is not defined",
     "output_type": "error",
     "traceback": [
      "\u001b[1;31m---------------------------------------------------------------------------\u001b[0m",
      "\u001b[1;31mNameError\u001b[0m                                 Traceback (most recent call last)",
      "\u001b[1;32m~\\AppData\\Local\\Temp\\ipykernel_29196\\3593114190.py\u001b[0m in \u001b[0;36m<module>\u001b[1;34m\u001b[0m\n\u001b[1;32m----> 1\u001b[1;33m \u001b[0mprint\u001b[0m\u001b[1;33m(\u001b[0m\u001b[0ms1\u001b[0m\u001b[1;33m)\u001b[0m\u001b[1;33m\u001b[0m\u001b[1;33m\u001b[0m\u001b[0m\n\u001b[0m",
      "\u001b[1;31mNameError\u001b[0m: name 's1' is not defined"
     ]
    }
   ],
   "source": [
    "print(s1)"
   ]
  },
  {
   "cell_type": "markdown",
   "id": "55fee0b4",
   "metadata": {},
   "source": [
    "# Built-In-Methods:"
   ]
  },
  {
   "cell_type": "markdown",
   "id": "3d8f7e84",
   "metadata": {},
   "source": [
    "1. add() - It adds the element to the Set\n",
    "\n",
    "2. remove() - It removes the element from the set. If we mention the element that is not in the set in remove(), it throws an error.\n",
    "\n",
    "3. discard() - It removes the element from the set. If we mention the element that is not in the set in discord(), it does not throw an error.\n",
    "\n",
    "4. pop() - It returns and removes random element from the set\n",
    "\n",
    "5. clear() - It removes all the elements from the set\n"
   ]
  },
  {
   "cell_type": "markdown",
   "id": "96e00952",
   "metadata": {},
   "source": [
    "6. issubset() \n",
    "\n",
    "7. issuperset()\n",
    "\n",
    "8. union()\n",
    "\n",
    "9. intersection()\n",
    "\n",
    "10. difference()\n",
    "\n",
    "11. copy()\n",
    "\n",
    "12. symmetric_difference()\n",
    "\n",
    "13. update()\n",
    "\n",
    "14. intersection_update()\n",
    "\n",
    "15. difference_update()\n",
    "\n",
    "16. symmetric_difference_update()\n"
   ]
  },
  {
   "cell_type": "markdown",
   "id": "c3cd3027",
   "metadata": {},
   "source": [
    "# add():"
   ]
  },
  {
   "cell_type": "code",
   "execution_count": 1,
   "id": "2e282fb1",
   "metadata": {},
   "outputs": [
    {
     "name": "stdout",
     "output_type": "stream",
     "text": [
      "{2, 4, 5, 6, 7, 8, 9}\n",
      "<class 'set'>\n"
     ]
    }
   ],
   "source": [
    "s = {2,4,2,5,6,7,6,5,8,9}\n",
    "print(s)\n",
    "print(type(s))"
   ]
  },
  {
   "cell_type": "code",
   "execution_count": 2,
   "id": "6acbc833",
   "metadata": {},
   "outputs": [],
   "source": [
    " s.add(15)"
   ]
  },
  {
   "cell_type": "code",
   "execution_count": 3,
   "id": "9485dfd7",
   "metadata": {},
   "outputs": [
    {
     "name": "stdout",
     "output_type": "stream",
     "text": [
      "{2, 4, 5, 6, 7, 8, 9, 15}\n"
     ]
    }
   ],
   "source": [
    "print(s)"
   ]
  },
  {
   "cell_type": "markdown",
   "id": "56af62a0",
   "metadata": {},
   "source": [
    "# remove():"
   ]
  },
  {
   "cell_type": "code",
   "execution_count": 4,
   "id": "4c96753f",
   "metadata": {},
   "outputs": [],
   "source": [
    "s.remove(8)"
   ]
  },
  {
   "cell_type": "code",
   "execution_count": 5,
   "id": "02ae5e63",
   "metadata": {},
   "outputs": [
    {
     "name": "stdout",
     "output_type": "stream",
     "text": [
      "{2, 4, 5, 6, 7, 9, 15}\n"
     ]
    }
   ],
   "source": [
    "print(s)"
   ]
  },
  {
   "cell_type": "markdown",
   "id": "4f442fd7",
   "metadata": {},
   "source": [
    "# discard():"
   ]
  },
  {
   "cell_type": "code",
   "execution_count": 6,
   "id": "66a534e1",
   "metadata": {},
   "outputs": [],
   "source": [
    "s.discard(20)"
   ]
  },
  {
   "cell_type": "code",
   "execution_count": 7,
   "id": "304d0111",
   "metadata": {},
   "outputs": [
    {
     "name": "stdout",
     "output_type": "stream",
     "text": [
      "{2, 4, 5, 6, 7, 9, 15}\n"
     ]
    }
   ],
   "source": [
    "print(s)"
   ]
  },
  {
   "cell_type": "markdown",
   "id": "f1656aee",
   "metadata": {},
   "source": [
    "# remove():"
   ]
  },
  {
   "cell_type": "code",
   "execution_count": 8,
   "id": "74cb36bc",
   "metadata": {},
   "outputs": [
    {
     "ename": "KeyError",
     "evalue": "20",
     "output_type": "error",
     "traceback": [
      "\u001b[1;31m---------------------------------------------------------------------------\u001b[0m",
      "\u001b[1;31mKeyError\u001b[0m                                  Traceback (most recent call last)",
      "\u001b[1;32m~\\AppData\\Local\\Temp\\ipykernel_29196\\936093911.py\u001b[0m in \u001b[0;36m<module>\u001b[1;34m\u001b[0m\n\u001b[1;32m----> 1\u001b[1;33m \u001b[0ms\u001b[0m\u001b[1;33m.\u001b[0m\u001b[0mremove\u001b[0m\u001b[1;33m(\u001b[0m\u001b[1;36m20\u001b[0m\u001b[1;33m)\u001b[0m\u001b[1;33m\u001b[0m\u001b[1;33m\u001b[0m\u001b[0m\n\u001b[0m",
      "\u001b[1;31mKeyError\u001b[0m: 20"
     ]
    }
   ],
   "source": [
    "s.remove(20)"
   ]
  },
  {
   "cell_type": "code",
   "execution_count": 9,
   "id": "2c061f31",
   "metadata": {},
   "outputs": [
    {
     "name": "stdout",
     "output_type": "stream",
     "text": [
      "{2, 4, 5, 6, 7, 9, 15}\n"
     ]
    }
   ],
   "source": [
    "print(s)"
   ]
  },
  {
   "cell_type": "markdown",
   "id": "fa444004",
   "metadata": {},
   "source": [
    "# pop():"
   ]
  },
  {
   "cell_type": "code",
   "execution_count": 10,
   "id": "a49c24f4",
   "metadata": {},
   "outputs": [
    {
     "data": {
      "text/plain": [
       "2"
      ]
     },
     "execution_count": 10,
     "metadata": {},
     "output_type": "execute_result"
    }
   ],
   "source": [
    "s.pop()"
   ]
  },
  {
   "cell_type": "code",
   "execution_count": 11,
   "id": "c350ecde",
   "metadata": {},
   "outputs": [
    {
     "name": "stdout",
     "output_type": "stream",
     "text": [
      "{4, 5, 6, 7, 9, 15}\n"
     ]
    }
   ],
   "source": [
    "print(s)"
   ]
  },
  {
   "cell_type": "markdown",
   "id": "8fdce3ed",
   "metadata": {},
   "source": [
    "# clear():"
   ]
  },
  {
   "cell_type": "code",
   "execution_count": 12,
   "id": "c48351e1",
   "metadata": {},
   "outputs": [],
   "source": [
    "s.clear()"
   ]
  },
  {
   "cell_type": "code",
   "execution_count": 13,
   "id": "ac39e001",
   "metadata": {},
   "outputs": [
    {
     "name": "stdout",
     "output_type": "stream",
     "text": [
      "set()\n"
     ]
    }
   ],
   "source": [
    "print(s)"
   ]
  },
  {
   "cell_type": "markdown",
   "id": "41798ae8",
   "metadata": {},
   "source": [
    "# issubset():"
   ]
  },
  {
   "cell_type": "code",
   "execution_count": 1,
   "id": "78fd4a8a",
   "metadata": {},
   "outputs": [],
   "source": [
    "S = {20,40,30,60}\n",
    "T = {10,30,90,80,40,20,50,60}"
   ]
  },
  {
   "cell_type": "code",
   "execution_count": 4,
   "id": "33e82ef9",
   "metadata": {},
   "outputs": [
    {
     "data": {
      "text/plain": [
       "True"
      ]
     },
     "execution_count": 4,
     "metadata": {},
     "output_type": "execute_result"
    }
   ],
   "source": [
    "S.issubset(T)"
   ]
  },
  {
   "cell_type": "markdown",
   "id": "bb0407ac",
   "metadata": {},
   "source": [
    "# issuperset():"
   ]
  },
  {
   "cell_type": "code",
   "execution_count": 5,
   "id": "8f22eb73",
   "metadata": {},
   "outputs": [
    {
     "data": {
      "text/plain": [
       "False"
      ]
     },
     "execution_count": 5,
     "metadata": {},
     "output_type": "execute_result"
    }
   ],
   "source": [
    "S.issuperset(T)"
   ]
  },
  {
   "cell_type": "code",
   "execution_count": 6,
   "id": "44df2041",
   "metadata": {},
   "outputs": [
    {
     "data": {
      "text/plain": [
       "True"
      ]
     },
     "execution_count": 6,
     "metadata": {},
     "output_type": "execute_result"
    }
   ],
   "source": [
    "T.issuperset(S)"
   ]
  },
  {
   "cell_type": "markdown",
   "id": "576c9592",
   "metadata": {},
   "source": [
    "# union:"
   ]
  },
  {
   "cell_type": "code",
   "execution_count": 7,
   "id": "3314dbe8",
   "metadata": {},
   "outputs": [
    {
     "data": {
      "text/plain": [
       "{10, 20, 30, 40, 50, 60, 80, 90}"
      ]
     },
     "execution_count": 7,
     "metadata": {},
     "output_type": "execute_result"
    }
   ],
   "source": [
    "S.union(T)"
   ]
  },
  {
   "cell_type": "markdown",
   "id": "eabd2150",
   "metadata": {},
   "source": [
    "# intersection():"
   ]
  },
  {
   "cell_type": "code",
   "execution_count": 8,
   "id": "91054258",
   "metadata": {},
   "outputs": [
    {
     "data": {
      "text/plain": [
       "{20, 30, 40, 60}"
      ]
     },
     "execution_count": 8,
     "metadata": {},
     "output_type": "execute_result"
    }
   ],
   "source": [
    "S.intersection(T)"
   ]
  },
  {
   "cell_type": "markdown",
   "id": "8e6ffc89",
   "metadata": {},
   "source": [
    "# difference():"
   ]
  },
  {
   "cell_type": "code",
   "execution_count": 9,
   "id": "91ed8948",
   "metadata": {},
   "outputs": [
    {
     "data": {
      "text/plain": [
       "{10, 50, 80, 90}"
      ]
     },
     "execution_count": 9,
     "metadata": {},
     "output_type": "execute_result"
    }
   ],
   "source": [
    "T.difference(S)"
   ]
  },
  {
   "cell_type": "code",
   "execution_count": 10,
   "id": "11ce2474",
   "metadata": {},
   "outputs": [
    {
     "data": {
      "text/plain": [
       "set()"
      ]
     },
     "execution_count": 10,
     "metadata": {},
     "output_type": "execute_result"
    }
   ],
   "source": [
    "S.difference(T)"
   ]
  },
  {
   "cell_type": "markdown",
   "id": "1662e132",
   "metadata": {},
   "source": [
    "# add():"
   ]
  },
  {
   "cell_type": "code",
   "execution_count": 11,
   "id": "aad58179",
   "metadata": {},
   "outputs": [],
   "source": [
    "S.add(90)"
   ]
  },
  {
   "cell_type": "code",
   "execution_count": 12,
   "id": "13b1c3ee",
   "metadata": {},
   "outputs": [
    {
     "name": "stdout",
     "output_type": "stream",
     "text": [
      "{40, 20, 90, 60, 30}\n"
     ]
    }
   ],
   "source": [
    "print(S)"
   ]
  },
  {
   "cell_type": "markdown",
   "id": "f8df5e1f",
   "metadata": {},
   "source": [
    "# symmetric_difference():"
   ]
  },
  {
   "cell_type": "code",
   "execution_count": 14,
   "id": "5947a26e",
   "metadata": {},
   "outputs": [
    {
     "data": {
      "text/plain": [
       "{10, 50, 80}"
      ]
     },
     "execution_count": 14,
     "metadata": {},
     "output_type": "execute_result"
    }
   ],
   "source": [
    "S.symmetric_difference(T)"
   ]
  },
  {
   "cell_type": "code",
   "execution_count": 2,
   "id": "0ce231be",
   "metadata": {},
   "outputs": [
    {
     "data": {
      "text/plain": [
       "{10, 50, 80, 90}"
      ]
     },
     "execution_count": 2,
     "metadata": {},
     "output_type": "execute_result"
    }
   ],
   "source": [
    "T.symmetric_difference(S)"
   ]
  },
  {
   "cell_type": "markdown",
   "id": "3f539e9e",
   "metadata": {},
   "source": [
    "# update():"
   ]
  },
  {
   "cell_type": "code",
   "execution_count": 3,
   "id": "3dd7ee8f",
   "metadata": {},
   "outputs": [],
   "source": [
    "S.update(T)"
   ]
  },
  {
   "cell_type": "code",
   "execution_count": 5,
   "id": "39a3a313",
   "metadata": {},
   "outputs": [
    {
     "name": "stdout",
     "output_type": "stream",
     "text": [
      "{40, 10, 80, 50, 20, 90, 60, 30}\n"
     ]
    }
   ],
   "source": [
    "print(S)"
   ]
  },
  {
   "cell_type": "code",
   "execution_count": 6,
   "id": "38caa9c3",
   "metadata": {},
   "outputs": [],
   "source": [
    "T.update(S)"
   ]
  },
  {
   "cell_type": "code",
   "execution_count": 7,
   "id": "f1530425",
   "metadata": {},
   "outputs": [
    {
     "name": "stdout",
     "output_type": "stream",
     "text": [
      "{40, 10, 80, 50, 20, 90, 60, 30}\n"
     ]
    }
   ],
   "source": [
    "print(T)"
   ]
  },
  {
   "cell_type": "code",
   "execution_count": 8,
   "id": "c7a8787c",
   "metadata": {},
   "outputs": [
    {
     "data": {
      "text/plain": [
       "{10, 20, 30, 40, 50, 60, 80, 90}"
      ]
     },
     "execution_count": 8,
     "metadata": {},
     "output_type": "execute_result"
    }
   ],
   "source": [
    "S"
   ]
  },
  {
   "cell_type": "code",
   "execution_count": 9,
   "id": "4393275c",
   "metadata": {},
   "outputs": [
    {
     "data": {
      "text/plain": [
       "{10, 20, 30, 40, 50, 60, 80, 90}"
      ]
     },
     "execution_count": 9,
     "metadata": {},
     "output_type": "execute_result"
    }
   ],
   "source": [
    "T"
   ]
  },
  {
   "cell_type": "markdown",
   "id": "367837b9",
   "metadata": {},
   "source": [
    "# add():"
   ]
  },
  {
   "cell_type": "code",
   "execution_count": 13,
   "id": "d9ea2982",
   "metadata": {},
   "outputs": [],
   "source": [
    "S.add(150)"
   ]
  },
  {
   "cell_type": "code",
   "execution_count": 14,
   "id": "c402670a",
   "metadata": {},
   "outputs": [
    {
     "data": {
      "text/plain": [
       "{10, 20, 30, 40, 50, 60, 80, 90, 150}"
      ]
     },
     "execution_count": 14,
     "metadata": {},
     "output_type": "execute_result"
    }
   ],
   "source": [
    "S"
   ]
  },
  {
   "cell_type": "code",
   "execution_count": 15,
   "id": "42ce20eb",
   "metadata": {},
   "outputs": [],
   "source": [
    "T.add(160)"
   ]
  },
  {
   "cell_type": "code",
   "execution_count": 16,
   "id": "132c2e3c",
   "metadata": {},
   "outputs": [
    {
     "data": {
      "text/plain": [
       "{10, 20, 30, 40, 50, 60, 80, 90, 160}"
      ]
     },
     "execution_count": 16,
     "metadata": {},
     "output_type": "execute_result"
    }
   ],
   "source": [
    "T"
   ]
  },
  {
   "cell_type": "markdown",
   "id": "34e3d582",
   "metadata": {},
   "source": [
    "# intersection_update():"
   ]
  },
  {
   "cell_type": "code",
   "execution_count": 17,
   "id": "b043839e",
   "metadata": {},
   "outputs": [],
   "source": [
    "S.intersection_update(T)"
   ]
  },
  {
   "cell_type": "code",
   "execution_count": 18,
   "id": "17370843",
   "metadata": {},
   "outputs": [
    {
     "data": {
      "text/plain": [
       "{10, 20, 30, 40, 50, 60, 80, 90}"
      ]
     },
     "execution_count": 18,
     "metadata": {},
     "output_type": "execute_result"
    }
   ],
   "source": [
    "S"
   ]
  },
  {
   "cell_type": "code",
   "execution_count": 19,
   "id": "855b42e0",
   "metadata": {},
   "outputs": [
    {
     "data": {
      "text/plain": [
       "{10, 20, 30, 40, 50, 60, 80, 90, 160}"
      ]
     },
     "execution_count": 19,
     "metadata": {},
     "output_type": "execute_result"
    }
   ],
   "source": [
    "T"
   ]
  },
  {
   "cell_type": "code",
   "execution_count": 20,
   "id": "af256b06",
   "metadata": {},
   "outputs": [],
   "source": [
    "T.intersection_update(S)"
   ]
  },
  {
   "cell_type": "code",
   "execution_count": 21,
   "id": "a2e51b3f",
   "metadata": {},
   "outputs": [
    {
     "data": {
      "text/plain": [
       "{10, 20, 30, 40, 50, 60, 80, 90}"
      ]
     },
     "execution_count": 21,
     "metadata": {},
     "output_type": "execute_result"
    }
   ],
   "source": [
    "T"
   ]
  },
  {
   "cell_type": "code",
   "execution_count": 26,
   "id": "6b471bc9",
   "metadata": {},
   "outputs": [
    {
     "data": {
      "text/plain": [
       "{10, 20, 30, 40, 50, 60, 80, 90}"
      ]
     },
     "execution_count": 26,
     "metadata": {},
     "output_type": "execute_result"
    }
   ],
   "source": [
    "S"
   ]
  },
  {
   "cell_type": "markdown",
   "id": "7957d8b3",
   "metadata": {},
   "source": [
    "# difference_update():"
   ]
  },
  {
   "cell_type": "code",
   "execution_count": 22,
   "id": "262b6723",
   "metadata": {},
   "outputs": [],
   "source": [
    "T.difference_update(S)"
   ]
  },
  {
   "cell_type": "code",
   "execution_count": 23,
   "id": "ff18b557",
   "metadata": {},
   "outputs": [
    {
     "data": {
      "text/plain": [
       "set()"
      ]
     },
     "execution_count": 23,
     "metadata": {},
     "output_type": "execute_result"
    }
   ],
   "source": [
    "T"
   ]
  },
  {
   "cell_type": "code",
   "execution_count": 24,
   "id": "ccefc4da",
   "metadata": {},
   "outputs": [],
   "source": [
    "S.difference_update(T)"
   ]
  },
  {
   "cell_type": "code",
   "execution_count": 25,
   "id": "e854920e",
   "metadata": {},
   "outputs": [
    {
     "data": {
      "text/plain": [
       "{10, 20, 30, 40, 50, 60, 80, 90}"
      ]
     },
     "execution_count": 25,
     "metadata": {},
     "output_type": "execute_result"
    }
   ],
   "source": [
    "S"
   ]
  },
  {
   "cell_type": "code",
   "execution_count": 27,
   "id": "8d6f285b",
   "metadata": {},
   "outputs": [
    {
     "data": {
      "text/plain": [
       "{10, 20, 30, 40, 50, 60, 80, 90}"
      ]
     },
     "execution_count": 27,
     "metadata": {},
     "output_type": "execute_result"
    }
   ],
   "source": [
    "S"
   ]
  },
  {
   "cell_type": "code",
   "execution_count": 28,
   "id": "027effe9",
   "metadata": {},
   "outputs": [
    {
     "data": {
      "text/plain": [
       "set()"
      ]
     },
     "execution_count": 28,
     "metadata": {},
     "output_type": "execute_result"
    }
   ],
   "source": [
    "T"
   ]
  }
 ],
 "metadata": {
  "kernelspec": {
   "display_name": "Python 3 (ipykernel)",
   "language": "python",
   "name": "python3"
  },
  "language_info": {
   "codemirror_mode": {
    "name": "ipython",
    "version": 3
   },
   "file_extension": ".py",
   "mimetype": "text/x-python",
   "name": "python",
   "nbconvert_exporter": "python",
   "pygments_lexer": "ipython3",
   "version": "3.9.13"
  }
 },
 "nbformat": 4,
 "nbformat_minor": 5
}
