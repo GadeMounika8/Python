{
 "cells": [
  {
   "cell_type": "markdown",
   "id": "6b969c83",
   "metadata": {},
   "source": [
    "# Tuple"
   ]
  },
  {
   "cell_type": "markdown",
   "id": "df01425f",
   "metadata": {},
   "source": [
    "--> Tuple means the different datatypes of elements are enclosed within the paranthes is separated by comma.\n",
    "\n",
    "--> Tuple is immutable.\n",
    "\n",
    "--> It is somewhat similar to List."
   ]
  },
  {
   "cell_type": "markdown",
   "id": "3b7974b9",
   "metadata": {},
   "source": [
    "# Creating the Tuple:"
   ]
  },
  {
   "cell_type": "code",
   "execution_count": 1,
   "id": "fcdeccc4",
   "metadata": {},
   "outputs": [
    {
     "name": "stdout",
     "output_type": "stream",
     "text": [
      "()\n",
      "<class 'tuple'>\n"
     ]
    }
   ],
   "source": [
    "t = ()\n",
    "print(t)\n",
    "print(type(t))"
   ]
  },
  {
   "cell_type": "markdown",
   "id": "8c8ceb29",
   "metadata": {},
   "source": [
    "      or"
   ]
  },
  {
   "cell_type": "code",
   "execution_count": 2,
   "id": "d5c3d7fe",
   "metadata": {},
   "outputs": [
    {
     "name": "stdout",
     "output_type": "stream",
     "text": [
      "()\n",
      "<class 'tuple'>\n"
     ]
    }
   ],
   "source": [
    "t = tuple()\n",
    "print(t)\n",
    "print(type(t))"
   ]
  },
  {
   "cell_type": "code",
   "execution_count": 6,
   "id": "5b826dd6",
   "metadata": {},
   "outputs": [
    {
     "name": "stdout",
     "output_type": "stream",
     "text": [
      "(2,)\n",
      "<class 'tuple'>\n"
     ]
    }
   ],
   "source": [
    "t1 = (2,)\n",
    "print(t)\n",
    "print(type(t))"
   ]
  },
  {
   "cell_type": "markdown",
   "id": "85e873d6",
   "metadata": {},
   "source": [
    "--> append() is not applicable in tuples because it is Immutable."
   ]
  },
  {
   "cell_type": "code",
   "execution_count": 8,
   "id": "5b86befb",
   "metadata": {},
   "outputs": [
    {
     "ename": "AttributeError",
     "evalue": "'tuple' object has no attribute 'append'",
     "output_type": "error",
     "traceback": [
      "\u001b[1;31m---------------------------------------------------------------------------\u001b[0m",
      "\u001b[1;31mAttributeError\u001b[0m                            Traceback (most recent call last)",
      "\u001b[1;32m~\\AppData\\Local\\Temp\\ipykernel_21284\\4139404975.py\u001b[0m in \u001b[0;36m<module>\u001b[1;34m\u001b[0m\n\u001b[1;32m----> 1\u001b[1;33m \u001b[0ma\u001b[0m \u001b[1;33m=\u001b[0m \u001b[0mt\u001b[0m\u001b[1;33m.\u001b[0m\u001b[0mappend\u001b[0m\u001b[1;33m(\u001b[0m\u001b[1;36m2\u001b[0m\u001b[1;33m)\u001b[0m\u001b[1;33m\u001b[0m\u001b[1;33m\u001b[0m\u001b[0m\n\u001b[0m\u001b[0;32m      2\u001b[0m \u001b[0mprint\u001b[0m\u001b[1;33m(\u001b[0m\u001b[0ma\u001b[0m\u001b[1;33m)\u001b[0m\u001b[1;33m\u001b[0m\u001b[1;33m\u001b[0m\u001b[0m\n",
      "\u001b[1;31mAttributeError\u001b[0m: 'tuple' object has no attribute 'append'"
     ]
    }
   ],
   "source": [
    "a = t.append(2)\n",
    "print(a)"
   ]
  },
  {
   "cell_type": "code",
   "execution_count": 10,
   "id": "88bbd974",
   "metadata": {},
   "outputs": [
    {
     "name": "stdout",
     "output_type": "stream",
     "text": [
      "(2, 6, 'Tom', 8, 9, [3, 4, 5], {8, 9, 2, 6}, {'name': 'Jenny'})\n"
     ]
    }
   ],
   "source": [
    "t2 = (2,6,'Tom',8,9,[3,4,5], {2,8,9,6,2}, {'name':'Jenny'})\n",
    "print(t2)"
   ]
  },
  {
   "cell_type": "markdown",
   "id": "98b05912",
   "metadata": {},
   "source": [
    "# Accessing the Elements from Tuple:"
   ]
  },
  {
   "cell_type": "markdown",
   "id": "6e267627",
   "metadata": {},
   "source": [
    "# Positive Indexing:"
   ]
  },
  {
   "cell_type": "code",
   "execution_count": 12,
   "id": "80e006f7",
   "metadata": {},
   "outputs": [
    {
     "name": "stdout",
     "output_type": "stream",
     "text": [
      "Tom\n"
     ]
    }
   ],
   "source": [
    "print(t2[2])"
   ]
  },
  {
   "cell_type": "code",
   "execution_count": 18,
   "id": "6535f45e",
   "metadata": {},
   "outputs": [
    {
     "name": "stdout",
     "output_type": "stream",
     "text": [
      "2\n"
     ]
    }
   ],
   "source": [
    "print(t2[0])"
   ]
  },
  {
   "cell_type": "code",
   "execution_count": 19,
   "id": "b4b97b61",
   "metadata": {},
   "outputs": [
    {
     "name": "stdout",
     "output_type": "stream",
     "text": [
      "9\n"
     ]
    }
   ],
   "source": [
    "print(t2[4])"
   ]
  },
  {
   "cell_type": "code",
   "execution_count": 13,
   "id": "d34ae109",
   "metadata": {},
   "outputs": [
    {
     "name": "stdout",
     "output_type": "stream",
     "text": [
      "[3, 4, 5]\n"
     ]
    }
   ],
   "source": [
    "print(t2[5])"
   ]
  },
  {
   "cell_type": "code",
   "execution_count": 14,
   "id": "4000b7ad",
   "metadata": {},
   "outputs": [
    {
     "name": "stdout",
     "output_type": "stream",
     "text": [
      "4\n"
     ]
    }
   ],
   "source": [
    "print(t2[5][1])"
   ]
  },
  {
   "cell_type": "code",
   "execution_count": 16,
   "id": "39c232c5",
   "metadata": {},
   "outputs": [
    {
     "name": "stdout",
     "output_type": "stream",
     "text": [
      "{'name': 'Jenny'}\n"
     ]
    }
   ],
   "source": [
    "print(t2[7])"
   ]
  },
  {
   "cell_type": "code",
   "execution_count": 17,
   "id": "b863f08b",
   "metadata": {},
   "outputs": [
    {
     "name": "stdout",
     "output_type": "stream",
     "text": [
      "Jenny\n"
     ]
    }
   ],
   "source": [
    "print(t2[7]['name'])"
   ]
  },
  {
   "cell_type": "markdown",
   "id": "8e2c4b8a",
   "metadata": {},
   "source": [
    "# Negative Indexing:"
   ]
  },
  {
   "cell_type": "code",
   "execution_count": 1,
   "id": "1a5d275b",
   "metadata": {},
   "outputs": [
    {
     "name": "stdout",
     "output_type": "stream",
     "text": [
      "(2, 6, 'Tom', 8, 9, [3, 4, 5], {8, 9, 2, 6}, {'name': 'Jenny'})\n"
     ]
    }
   ],
   "source": [
    "t2 = (2,6,'Tom',8,9,[3,4,5], {2,8,9,6,2}, {'name':'Jenny'})\n",
    "print(t2)"
   ]
  },
  {
   "cell_type": "code",
   "execution_count": 2,
   "id": "a0cdd4b9",
   "metadata": {},
   "outputs": [
    {
     "name": "stdout",
     "output_type": "stream",
     "text": [
      "{'name': 'Jenny'}\n"
     ]
    }
   ],
   "source": [
    "print(t2[-1])"
   ]
  },
  {
   "cell_type": "code",
   "execution_count": 3,
   "id": "c89e701d",
   "metadata": {},
   "outputs": [
    {
     "name": "stdout",
     "output_type": "stream",
     "text": [
      "[3, 4, 5]\n"
     ]
    }
   ],
   "source": [
    "print(t2[-3])"
   ]
  },
  {
   "cell_type": "code",
   "execution_count": 4,
   "id": "b0ec9d32",
   "metadata": {},
   "outputs": [
    {
     "name": "stdout",
     "output_type": "stream",
     "text": [
      "8\n"
     ]
    }
   ],
   "source": [
    "print(t2[-5])"
   ]
  },
  {
   "cell_type": "code",
   "execution_count": 5,
   "id": "80763107",
   "metadata": {},
   "outputs": [
    {
     "name": "stdout",
     "output_type": "stream",
     "text": [
      "{8, 9, 2, 6}\n"
     ]
    }
   ],
   "source": [
    "print(t2[-2])"
   ]
  },
  {
   "cell_type": "code",
   "execution_count": 6,
   "id": "6155c1c2",
   "metadata": {},
   "outputs": [
    {
     "name": "stdout",
     "output_type": "stream",
     "text": [
      "[3, 4, 5]\n"
     ]
    }
   ],
   "source": [
    "print(t2[-3])"
   ]
  },
  {
   "cell_type": "code",
   "execution_count": 8,
   "id": "845b65bc",
   "metadata": {},
   "outputs": [
    {
     "name": "stdout",
     "output_type": "stream",
     "text": [
      "5\n"
     ]
    }
   ],
   "source": [
    "print(t2[-3][2])"
   ]
  },
  {
   "cell_type": "code",
   "execution_count": 9,
   "id": "b2cfb3bd",
   "metadata": {},
   "outputs": [
    {
     "name": "stdout",
     "output_type": "stream",
     "text": [
      "5\n"
     ]
    }
   ],
   "source": [
    "print(t2[-3][-1])"
   ]
  },
  {
   "cell_type": "code",
   "execution_count": 10,
   "id": "667fc954",
   "metadata": {},
   "outputs": [
    {
     "name": "stdout",
     "output_type": "stream",
     "text": [
      "Tom\n"
     ]
    }
   ],
   "source": [
    "print(t2[-6])"
   ]
  },
  {
   "cell_type": "markdown",
   "id": "fdc1ed70",
   "metadata": {},
   "source": [
    "# Slicing:"
   ]
  },
  {
   "cell_type": "code",
   "execution_count": 25,
   "id": "aa42fe17",
   "metadata": {},
   "outputs": [
    {
     "name": "stdout",
     "output_type": "stream",
     "text": [
      "(2, 6, 'Tom', 8, 9, [3, 4, 5], {8, 9, 2, 6}, {'name': 'Jenny'})\n"
     ]
    }
   ],
   "source": [
    "print(t2)"
   ]
  },
  {
   "cell_type": "markdown",
   "id": "511140e5",
   "metadata": {},
   "source": [
    "              or"
   ]
  },
  {
   "cell_type": "code",
   "execution_count": 30,
   "id": "857e4930",
   "metadata": {},
   "outputs": [
    {
     "name": "stdout",
     "output_type": "stream",
     "text": [
      "(2, 6, 'Tom', 8, 9, [3, 4, 5], {8, 9, 2, 6}, {'name': 'Jenny'})\n"
     ]
    }
   ],
   "source": [
    "print(t2[:])"
   ]
  },
  {
   "cell_type": "markdown",
   "id": "aa057736",
   "metadata": {},
   "source": [
    "             or"
   ]
  },
  {
   "cell_type": "code",
   "execution_count": 27,
   "id": "3170546e",
   "metadata": {},
   "outputs": [
    {
     "name": "stdout",
     "output_type": "stream",
     "text": [
      "(2, 6, 'Tom', 8, 9, [3, 4, 5], {8, 9, 2, 6}, {'name': 'Jenny'})\n"
     ]
    }
   ],
   "source": [
    "print(t2[0:])"
   ]
  },
  {
   "cell_type": "markdown",
   "id": "bb42e685",
   "metadata": {},
   "source": [
    "            or"
   ]
  },
  {
   "cell_type": "code",
   "execution_count": 28,
   "id": "64adece2",
   "metadata": {},
   "outputs": [
    {
     "name": "stdout",
     "output_type": "stream",
     "text": [
      "(2, 6, 'Tom', 8, 9, [3, 4, 5], {8, 9, 2, 6}, {'name': 'Jenny'})\n"
     ]
    }
   ],
   "source": [
    "print(t2[:len(t2)])"
   ]
  },
  {
   "cell_type": "markdown",
   "id": "cff6fb37",
   "metadata": {},
   "source": [
    "           or"
   ]
  },
  {
   "cell_type": "code",
   "execution_count": 29,
   "id": "f27eee51",
   "metadata": {},
   "outputs": [
    {
     "name": "stdout",
     "output_type": "stream",
     "text": [
      "(2, 6, 'Tom', 8, 9, [3, 4, 5], {8, 9, 2, 6}, {'name': 'Jenny'})\n"
     ]
    }
   ],
   "source": [
    "print(t2[0:len(t2)])"
   ]
  },
  {
   "cell_type": "code",
   "execution_count": 32,
   "id": "64f6b91d",
   "metadata": {},
   "outputs": [
    {
     "name": "stdout",
     "output_type": "stream",
     "text": [
      "(6, 'Tom', 8, 9)\n"
     ]
    }
   ],
   "source": [
    "print(t2[1:5])"
   ]
  },
  {
   "cell_type": "code",
   "execution_count": 35,
   "id": "e306eb3a",
   "metadata": {},
   "outputs": [
    {
     "name": "stdout",
     "output_type": "stream",
     "text": [
      "([3, 4, 5], {8, 9, 2, 6}, {'name': 'Jenny'})\n"
     ]
    }
   ],
   "source": [
    "print(t2[5:])"
   ]
  },
  {
   "cell_type": "code",
   "execution_count": 36,
   "id": "67af26e6",
   "metadata": {},
   "outputs": [
    {
     "name": "stdout",
     "output_type": "stream",
     "text": [
      "([3, 4, 5],)\n"
     ]
    }
   ],
   "source": [
    "print(t2[5:6])"
   ]
  },
  {
   "cell_type": "code",
   "execution_count": 39,
   "id": "cc952084",
   "metadata": {},
   "outputs": [
    {
     "name": "stdout",
     "output_type": "stream",
     "text": [
      "({'name': 'Jenny'},)\n"
     ]
    }
   ],
   "source": [
    "print(t2[7:])"
   ]
  },
  {
   "cell_type": "code",
   "execution_count": 41,
   "id": "3e5e81c8",
   "metadata": {},
   "outputs": [
    {
     "name": "stdout",
     "output_type": "stream",
     "text": [
      "({8, 9, 2, 6},)\n"
     ]
    }
   ],
   "source": [
    "print(t2[6:7])"
   ]
  },
  {
   "cell_type": "code",
   "execution_count": 43,
   "id": "ea4f9876",
   "metadata": {},
   "outputs": [
    {
     "name": "stdout",
     "output_type": "stream",
     "text": [
      "(2, 6)\n"
     ]
    }
   ],
   "source": [
    "print(t2[0:2])"
   ]
  },
  {
   "cell_type": "code",
   "execution_count": 44,
   "id": "1c9b0485",
   "metadata": {},
   "outputs": [
    {
     "name": "stdout",
     "output_type": "stream",
     "text": [
      "(8, 9)\n"
     ]
    }
   ],
   "source": [
    "print(t2[3:5])"
   ]
  },
  {
   "cell_type": "code",
   "execution_count": 11,
   "id": "ea18db27",
   "metadata": {},
   "outputs": [
    {
     "name": "stdout",
     "output_type": "stream",
     "text": [
      "(2, 6, 'Tom', 8, 9, [3, 4, 5])\n"
     ]
    }
   ],
   "source": [
    "print(t2[-8:-2])"
   ]
  },
  {
   "cell_type": "code",
   "execution_count": 12,
   "id": "d5cb3e47",
   "metadata": {},
   "outputs": [
    {
     "name": "stdout",
     "output_type": "stream",
     "text": [
      "(8, 9, [3, 4, 5], {8, 9, 2, 6})\n"
     ]
    }
   ],
   "source": [
    "print(t2[-5:-1])"
   ]
  },
  {
   "cell_type": "code",
   "execution_count": 13,
   "id": "2afca119",
   "metadata": {},
   "outputs": [
    {
     "name": "stdout",
     "output_type": "stream",
     "text": [
      "(2, 6, 'Tom', 8)\n"
     ]
    }
   ],
   "source": [
    "print(t2[-9:-4])"
   ]
  },
  {
   "cell_type": "code",
   "execution_count": 18,
   "id": "a2524f54",
   "metadata": {},
   "outputs": [
    {
     "name": "stdout",
     "output_type": "stream",
     "text": [
      "(2, 6, 'Tom', 8, 9, [3, 4, 5])\n"
     ]
    }
   ],
   "source": [
    "print(t2[-8:-2:1])"
   ]
  },
  {
   "cell_type": "code",
   "execution_count": 19,
   "id": "b399b40b",
   "metadata": {},
   "outputs": [
    {
     "name": "stdout",
     "output_type": "stream",
     "text": [
      "(2, 'Tom', 9)\n"
     ]
    }
   ],
   "source": [
    "print(t2[-8:-2:2])"
   ]
  },
  {
   "cell_type": "code",
   "execution_count": 21,
   "id": "e35d41e1",
   "metadata": {},
   "outputs": [
    {
     "name": "stdout",
     "output_type": "stream",
     "text": [
      "('Tom', 6, 2)\n"
     ]
    }
   ],
   "source": [
    "print(t2[-6::-1])"
   ]
  },
  {
   "cell_type": "markdown",
   "id": "3cfa6032",
   "metadata": {},
   "source": [
    "# Reassigning the new values to the existing Tuple:"
   ]
  },
  {
   "cell_type": "markdown",
   "id": "3ec49988",
   "metadata": {},
   "source": [
    "--> reassignment is not Possible in Tuple because it is Immutable."
   ]
  },
  {
   "cell_type": "code",
   "execution_count": 11,
   "id": "3e6f2fdc",
   "metadata": {},
   "outputs": [
    {
     "ename": "TypeError",
     "evalue": "'tuple' object does not support item assignment",
     "output_type": "error",
     "traceback": [
      "\u001b[1;31m---------------------------------------------------------------------------\u001b[0m",
      "\u001b[1;31mTypeError\u001b[0m                                 Traceback (most recent call last)",
      "\u001b[1;32m~\\AppData\\Local\\Temp\\ipykernel_21284\\2059968194.py\u001b[0m in \u001b[0;36m<module>\u001b[1;34m\u001b[0m\n\u001b[1;32m----> 1\u001b[1;33m \u001b[0mt2\u001b[0m\u001b[1;33m[\u001b[0m\u001b[1;36m1\u001b[0m\u001b[1;33m]\u001b[0m \u001b[1;33m=\u001b[0m \u001b[1;36m10\u001b[0m\u001b[1;33m\u001b[0m\u001b[1;33m\u001b[0m\u001b[0m\n\u001b[0m\u001b[0;32m      2\u001b[0m \u001b[0mprint\u001b[0m\u001b[1;33m(\u001b[0m\u001b[0mt2\u001b[0m\u001b[1;33m)\u001b[0m\u001b[1;33m\u001b[0m\u001b[1;33m\u001b[0m\u001b[0m\n",
      "\u001b[1;31mTypeError\u001b[0m: 'tuple' object does not support item assignment"
     ]
    }
   ],
   "source": [
    "t2[1] = 10\n",
    "print(t2)"
   ]
  },
  {
   "cell_type": "markdown",
   "id": "fa2c776d",
   "metadata": {},
   "source": [
    "# Approach to reassign the value to the Tuple:"
   ]
  },
  {
   "cell_type": "code",
   "execution_count": 45,
   "id": "56348bb8",
   "metadata": {},
   "outputs": [
    {
     "data": {
      "text/plain": [
       "(2, 6, 'Tom', 8, 9, [3, 4, 5], {2, 6, 8, 9}, {'name': 'Jenny'})"
      ]
     },
     "execution_count": 45,
     "metadata": {},
     "output_type": "execute_result"
    }
   ],
   "source": [
    "t2"
   ]
  },
  {
   "cell_type": "code",
   "execution_count": 46,
   "id": "8501150b",
   "metadata": {},
   "outputs": [
    {
     "name": "stdout",
     "output_type": "stream",
     "text": [
      "[2, 6, 'Tom', 8, 9, [3, 4, 5], {8, 9, 2, 6}, {'name': 'Jenny'}]\n"
     ]
    }
   ],
   "source": [
    "l = list(t2)\n",
    "print(l)"
   ]
  },
  {
   "cell_type": "code",
   "execution_count": 49,
   "id": "970849af",
   "metadata": {},
   "outputs": [
    {
     "name": "stdout",
     "output_type": "stream",
     "text": [
      "[2, 10, 'Tom', 8, 9, [3, 4, 5], {8, 9, 2, 6}, {'name': 'Jenny'}]\n"
     ]
    }
   ],
   "source": [
    "l[1] = 10\n",
    "print(l)"
   ]
  },
  {
   "cell_type": "code",
   "execution_count": 50,
   "id": "8bd224fd",
   "metadata": {},
   "outputs": [
    {
     "name": "stdout",
     "output_type": "stream",
     "text": [
      "(2, 10, 'Tom', 8, 9, [3, 4, 5], {8, 9, 2, 6}, {'name': 'Jenny'})\n"
     ]
    }
   ],
   "source": [
    "t2 = tuple(l)\n",
    "print(t2)"
   ]
  },
  {
   "cell_type": "markdown",
   "id": "c606e3af",
   "metadata": {},
   "source": [
    "# Deleting Elements from a Tuple:"
   ]
  },
  {
   "cell_type": "code",
   "execution_count": 7,
   "id": "209ebb84",
   "metadata": {},
   "outputs": [
    {
     "name": "stdout",
     "output_type": "stream",
     "text": [
      "(2, 6, 'Tom', 8, 9, [3, 4, 5], {8, 9, 2, 6}, {'name': 'Jenny'})\n"
     ]
    }
   ],
   "source": [
    "t2 = (2,6,'Tom',8,9,[3,4,5], {2,8,9,6,2}, {'name':'Jenny'})\n",
    "print(t2)"
   ]
  },
  {
   "cell_type": "code",
   "execution_count": 8,
   "id": "aa6de606",
   "metadata": {},
   "outputs": [
    {
     "ename": "TypeError",
     "evalue": "'tuple' object doesn't support item deletion",
     "output_type": "error",
     "traceback": [
      "\u001b[1;31m---------------------------------------------------------------------------\u001b[0m",
      "\u001b[1;31mTypeError\u001b[0m                                 Traceback (most recent call last)",
      "\u001b[1;32m~\\AppData\\Local\\Temp\\ipykernel_13216\\421342487.py\u001b[0m in \u001b[0;36m<module>\u001b[1;34m\u001b[0m\n\u001b[1;32m----> 1\u001b[1;33m \u001b[1;32mdel\u001b[0m \u001b[0mt2\u001b[0m\u001b[1;33m[\u001b[0m\u001b[1;36m1\u001b[0m\u001b[1;33m]\u001b[0m\u001b[1;33m\u001b[0m\u001b[1;33m\u001b[0m\u001b[0m\n\u001b[0m",
      "\u001b[1;31mTypeError\u001b[0m: 'tuple' object doesn't support item deletion"
     ]
    }
   ],
   "source": [
    "del t2[1]"
   ]
  },
  {
   "cell_type": "code",
   "execution_count": 9,
   "id": "c2699ff6",
   "metadata": {},
   "outputs": [
    {
     "ename": "TypeError",
     "evalue": "'tuple' object doesn't support item deletion",
     "output_type": "error",
     "traceback": [
      "\u001b[1;31m---------------------------------------------------------------------------\u001b[0m",
      "\u001b[1;31mTypeError\u001b[0m                                 Traceback (most recent call last)",
      "\u001b[1;32m~\\AppData\\Local\\Temp\\ipykernel_13216\\3156199470.py\u001b[0m in \u001b[0;36m<module>\u001b[1;34m\u001b[0m\n\u001b[1;32m----> 1\u001b[1;33m \u001b[1;32mdel\u001b[0m \u001b[0mt2\u001b[0m\u001b[1;33m[\u001b[0m\u001b[1;36m5\u001b[0m\u001b[1;33m]\u001b[0m\u001b[1;33m\u001b[0m\u001b[1;33m\u001b[0m\u001b[0m\n\u001b[0m",
      "\u001b[1;31mTypeError\u001b[0m: 'tuple' object doesn't support item deletion"
     ]
    }
   ],
   "source": [
    "del t2[5]"
   ]
  },
  {
   "cell_type": "code",
   "execution_count": 11,
   "id": "250fad87",
   "metadata": {},
   "outputs": [
    {
     "ename": "NameError",
     "evalue": "name 't2' is not defined",
     "output_type": "error",
     "traceback": [
      "\u001b[1;31m---------------------------------------------------------------------------\u001b[0m",
      "\u001b[1;31mNameError\u001b[0m                                 Traceback (most recent call last)",
      "\u001b[1;32m~\\AppData\\Local\\Temp\\ipykernel_13216\\3466027859.py\u001b[0m in \u001b[0;36m<module>\u001b[1;34m\u001b[0m\n\u001b[1;32m----> 1\u001b[1;33m \u001b[1;32mdel\u001b[0m \u001b[0mt2\u001b[0m\u001b[1;33m\u001b[0m\u001b[1;33m\u001b[0m\u001b[0m\n\u001b[0m",
      "\u001b[1;31mNameError\u001b[0m: name 't2' is not defined"
     ]
    }
   ],
   "source": [
    "del t2"
   ]
  },
  {
   "cell_type": "markdown",
   "id": "dbbf60f3",
   "metadata": {},
   "source": [
    "# Basic Operations:\n",
    "    \n",
    "    +, *, len, min, max, sum, membership operator, iterations."
   ]
  },
  {
   "cell_type": "markdown",
   "id": "f0fe826d",
   "metadata": {},
   "source": [
    "# Concatenation(+):"
   ]
  },
  {
   "cell_type": "code",
   "execution_count": 54,
   "id": "a8808f00",
   "metadata": {},
   "outputs": [
    {
     "name": "stdout",
     "output_type": "stream",
     "text": [
      "(20, 40, 60, 'book', {'Product': 'phone'}, [3, 9, 8], 6, 9, 7, 5, {2, 4, 5, 6, 8})\n"
     ]
    }
   ],
   "source": [
    "t3 = (20,40,60,'book',{'Product':'phone'},[3,9,8])\n",
    "t4 = (6,9,7,5,{2,4,5,4,6,8})\n",
    "t5 = t3 + t4\n",
    "print(t5)"
   ]
  },
  {
   "cell_type": "code",
   "execution_count": 55,
   "id": "e5dd646a",
   "metadata": {},
   "outputs": [
    {
     "name": "stdout",
     "output_type": "stream",
     "text": [
      "(29, 47, 83, 90, 65, 92, 15)\n"
     ]
    }
   ],
   "source": [
    "t6 = (29,47,83,90)\n",
    "t7 = (65,92,15)\n",
    "t8 = t6 + t7\n",
    "print(t8)"
   ]
  },
  {
   "cell_type": "markdown",
   "id": "f3a4bc21",
   "metadata": {},
   "source": [
    "# Repetition:"
   ]
  },
  {
   "cell_type": "code",
   "execution_count": 57,
   "id": "56909f94",
   "metadata": {},
   "outputs": [
    {
     "name": "stdout",
     "output_type": "stream",
     "text": [
      "(29, 47, 83, 90, 29, 47, 83, 90)\n"
     ]
    }
   ],
   "source": [
    "t6 = (29,47,83,90)\n",
    "t7 = 2\n",
    "t8 = t6 * t7\n",
    "print(t8)"
   ]
  },
  {
   "cell_type": "markdown",
   "id": "4c7b77d3",
   "metadata": {},
   "source": [
    "      or"
   ]
  },
  {
   "cell_type": "code",
   "execution_count": 58,
   "id": "9bc602c7",
   "metadata": {},
   "outputs": [
    {
     "name": "stdout",
     "output_type": "stream",
     "text": [
      "(29, 47, 83, 90, 29, 47, 83, 90)\n"
     ]
    }
   ],
   "source": [
    "t6 = (29,47,83,90)\n",
    "t8 = t6 * 2\n",
    "print(t8)"
   ]
  },
  {
   "cell_type": "markdown",
   "id": "90242b3a",
   "metadata": {},
   "source": [
    "# len:"
   ]
  },
  {
   "cell_type": "code",
   "execution_count": 59,
   "id": "2654fd82",
   "metadata": {},
   "outputs": [
    {
     "name": "stdout",
     "output_type": "stream",
     "text": [
      "9\n"
     ]
    }
   ],
   "source": [
    "t9 = (67,98,62,54,23,71,'watch','child',[5,6,7,8,9])\n",
    "print(len(t9))"
   ]
  },
  {
   "cell_type": "markdown",
   "id": "55ba32a9",
   "metadata": {},
   "source": [
    "# min:"
   ]
  },
  {
   "cell_type": "code",
   "execution_count": 62,
   "id": "10c9d109",
   "metadata": {},
   "outputs": [
    {
     "name": "stdout",
     "output_type": "stream",
     "text": [
      "23\n"
     ]
    }
   ],
   "source": [
    "t9 = (67,98,62,54,23,71)\n",
    "print(min(t9))"
   ]
  },
  {
   "cell_type": "markdown",
   "id": "5d3d6087",
   "metadata": {},
   "source": [
    "# max:"
   ]
  },
  {
   "cell_type": "code",
   "execution_count": 63,
   "id": "22ba011a",
   "metadata": {},
   "outputs": [
    {
     "name": "stdout",
     "output_type": "stream",
     "text": [
      "98\n"
     ]
    }
   ],
   "source": [
    "t9 = (67,98,62,54,23,71)\n",
    "print(max(t9))"
   ]
  },
  {
   "cell_type": "markdown",
   "id": "3cccb3d5",
   "metadata": {},
   "source": [
    "# Sum:"
   ]
  },
  {
   "cell_type": "code",
   "execution_count": 19,
   "id": "4c99d15a",
   "metadata": {},
   "outputs": [
    {
     "name": "stdout",
     "output_type": "stream",
     "text": [
      "375\n"
     ]
    }
   ],
   "source": [
    "t9 = (67,98,62,54,23,71)\n",
    "print(sum(t9))"
   ]
  },
  {
   "cell_type": "markdown",
   "id": "7097ba52",
   "metadata": {},
   "source": [
    "# Membership Operator:"
   ]
  },
  {
   "cell_type": "code",
   "execution_count": 64,
   "id": "7ededb02",
   "metadata": {},
   "outputs": [
    {
     "name": "stdout",
     "output_type": "stream",
     "text": [
      "True\n"
     ]
    }
   ],
   "source": [
    "t9 = (67,98,62,54,23,71)\n",
    "a = 62 in t9\n",
    "print(a)"
   ]
  },
  {
   "cell_type": "code",
   "execution_count": 65,
   "id": "a65c67aa",
   "metadata": {},
   "outputs": [
    {
     "name": "stdout",
     "output_type": "stream",
     "text": [
      "False\n"
     ]
    }
   ],
   "source": [
    "t9 = (67,98,62,54,23,71)\n",
    "a = 50 in t9\n",
    "print(a)"
   ]
  },
  {
   "cell_type": "code",
   "execution_count": 3,
   "id": "f6d3d220",
   "metadata": {},
   "outputs": [
    {
     "name": "stdout",
     "output_type": "stream",
     "text": [
      "False\n"
     ]
    }
   ],
   "source": [
    "t10 = (67,98,62,54,23,71, 'book')\n",
    "a = 'b' in t10\n",
    "print(a)"
   ]
  },
  {
   "cell_type": "code",
   "execution_count": 4,
   "id": "b48e6d8a",
   "metadata": {},
   "outputs": [
    {
     "name": "stdout",
     "output_type": "stream",
     "text": [
      "True\n"
     ]
    }
   ],
   "source": [
    "t10 = (67,98,62,54,23,71, 'book')\n",
    "a = 'book' in t10\n",
    "print(a)"
   ]
  },
  {
   "cell_type": "markdown",
   "id": "b6561a5e",
   "metadata": {},
   "source": [
    "# Iterative statement:"
   ]
  },
  {
   "cell_type": "code",
   "execution_count": 5,
   "id": "2dd75fad",
   "metadata": {},
   "outputs": [
    {
     "name": "stdout",
     "output_type": "stream",
     "text": [
      "67\n",
      "98\n",
      "62\n",
      "54\n",
      "23\n",
      "71\n",
      "book\n"
     ]
    }
   ],
   "source": [
    "for i in t10:\n",
    "    print(i)"
   ]
  },
  {
   "cell_type": "markdown",
   "id": "02c4145e",
   "metadata": {},
   "source": [
    "          or"
   ]
  },
  {
   "cell_type": "code",
   "execution_count": 6,
   "id": "971ba53a",
   "metadata": {},
   "outputs": [
    {
     "name": "stdout",
     "output_type": "stream",
     "text": [
      "67\n",
      "98\n",
      "62\n",
      "54\n",
      "23\n",
      "71\n",
      "book\n"
     ]
    }
   ],
   "source": [
    "for i in range(len(t10)):\n",
    "    print(t10[i])"
   ]
  },
  {
   "cell_type": "markdown",
   "id": "28c6ea4e",
   "metadata": {},
   "source": [
    "# Built-In-Methods:"
   ]
  },
  {
   "cell_type": "markdown",
   "id": "024055f9",
   "metadata": {},
   "source": [
    "1. count()\n",
    "\n",
    "2. index()"
   ]
  },
  {
   "cell_type": "markdown",
   "id": "b668faba",
   "metadata": {},
   "source": [
    "--> As like list, append(), extend(), insert(), remove(), pop(), sort() these methods are not applicable in tuple because Tuple is Immutable."
   ]
  },
  {
   "cell_type": "markdown",
   "id": "82e592b0",
   "metadata": {},
   "source": [
    "# count():"
   ]
  },
  {
   "cell_type": "code",
   "execution_count": 12,
   "id": "66a9f304",
   "metadata": {},
   "outputs": [
    {
     "name": "stdout",
     "output_type": "stream",
     "text": [
      "3\n"
     ]
    }
   ],
   "source": [
    "t11 = (24,56,87,93,29,17,24,56,24)\n",
    "print(t11.count(24))"
   ]
  },
  {
   "cell_type": "code",
   "execution_count": 14,
   "id": "a5867ede",
   "metadata": {},
   "outputs": [
    {
     "name": "stdout",
     "output_type": "stream",
     "text": [
      "1\n"
     ]
    }
   ],
   "source": [
    "t12 = (24,56,87,93,29,17,24,56,24)\n",
    "print(t12.count(87))"
   ]
  },
  {
   "cell_type": "code",
   "execution_count": 15,
   "id": "a0593ab5",
   "metadata": {},
   "outputs": [
    {
     "name": "stdout",
     "output_type": "stream",
     "text": [
      "2\n"
     ]
    }
   ],
   "source": [
    "t12 = (24,56,87,93,29,17,24,56,24,93)\n",
    "print(t12.count(93))"
   ]
  },
  {
   "cell_type": "markdown",
   "id": "b2d70f30",
   "metadata": {},
   "source": [
    "# index():"
   ]
  },
  {
   "cell_type": "code",
   "execution_count": 13,
   "id": "26aa4e64",
   "metadata": {},
   "outputs": [
    {
     "name": "stdout",
     "output_type": "stream",
     "text": [
      "0\n"
     ]
    }
   ],
   "source": [
    "t11 = (24,56,87,93,29,17,24,56,24)\n",
    "print(t11.index(24))"
   ]
  },
  {
   "cell_type": "code",
   "execution_count": 17,
   "id": "c57299e7",
   "metadata": {},
   "outputs": [
    {
     "name": "stdout",
     "output_type": "stream",
     "text": [
      "5\n"
     ]
    }
   ],
   "source": [
    "t11 = (24,56,87,93,29,17,24,56,24,93)\n",
    "print(t11.index(17))"
   ]
  }
 ],
 "metadata": {
  "kernelspec": {
   "display_name": "Python 3 (ipykernel)",
   "language": "python",
   "name": "python3"
  },
  "language_info": {
   "codemirror_mode": {
    "name": "ipython",
    "version": 3
   },
   "file_extension": ".py",
   "mimetype": "text/x-python",
   "name": "python",
   "nbconvert_exporter": "python",
   "pygments_lexer": "ipython3",
   "version": "3.9.13"
  }
 },
 "nbformat": 4,
 "nbformat_minor": 5
}
